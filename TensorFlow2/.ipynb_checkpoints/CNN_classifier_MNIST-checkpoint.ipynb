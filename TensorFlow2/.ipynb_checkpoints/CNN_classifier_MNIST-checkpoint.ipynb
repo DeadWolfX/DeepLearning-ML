{
  "cells": [
    {
      "cell_type": "markdown",
      "metadata": {
        "id": "Urx1zE8E4Pvy"
      },
      "source": [
        "# Practice\n"
      ]
    },
    {
      "cell_type": "markdown",
      "metadata": {
        "id": "vUH3ZloN4Pv2"
      },
      "source": [
        "## CNN classifier for the MNIST dataset"
      ]
    },
    {
      "cell_type": "code",
      "execution_count": null,
      "metadata": {
        "id": "VmLTeWwK4Pv6"
      },
      "outputs": [],
      "source": [
        "#### PACKAGE IMPORTS ####\n",
        "\n",
        "\n",
        "import tensorflow as tf\n",
        "import pandas as pd\n",
        "import numpy as np\n",
        "import matplotlib.pyplot as plt\n",
        "%matplotlib inline\n",
        "\n",
        "\n",
        "from tensorflow.keras.models import Sequential\n",
        "from tensorflow.keras.layers import Conv2D, MaxPool2D,Dense,Flatten\n"
      ]
    },
    {
      "cell_type": "markdown",
      "metadata": {
        "id": "p_pJvXmC4Pv9"
      },
      "source": [
        "![MNIST overview image](data/mnist.png)\n",
        "\n",
        "#### The MNIST dataset\n",
        "\n",
        "Use the [MNIST dataset](http://yann.lecun.com/exdb/mnist/). It consists of a training set of 60,000 handwritten digits with corresponding labels, and a test set of 10,000 images. The images have been normalised and centred. The dataset is frequently used in machine learning research, and has become a standard benchmark for image classification models. \n",
        "\n",
        "- Y. LeCun, L. Bottou, Y. Bengio, and P. Haffner. \"Gradient-based learning applied to document recognition.\" Proceedings of the IEEE, 86(11):2278-2324, November 1998.\n",
        "\n",
        "Your goal is to construct a neural network that classifies images of handwritten digits into one of 10 classes."
      ]
    },
    {
      "cell_type": "markdown",
      "metadata": {
        "id": "RYJNVoXx4Pv-"
      },
      "source": [
        "#### Load and preprocess the data"
      ]
    },
    {
      "cell_type": "code",
      "execution_count": null,
      "metadata": {
        "id": "08Dy360l4PwA"
      },
      "outputs": [],
      "source": [
        "# Run this cell to load the MNIST data\n",
        "\n",
        "mnist_data = tf.keras.datasets.mnist\n",
        "(train_images, train_labels), (test_images, test_labels) = mnist_data.load_data()"
      ]
    },
    {
      "cell_type": "markdown",
      "metadata": {
        "id": "gVEZWDOA4PwB"
      },
      "source": [
        "preprocess the data by scaling the training and test images so their values lie in the range from 0 to 1."
      ]
    },
    {
      "cell_type": "code",
      "execution_count": null,
      "metadata": {
        "id": "KOl9BCz84PwD"
      },
      "outputs": [],
      "source": [
        "def scale_mnist_data(train_images, test_images):\n",
        "\n",
        "    scaled_train_image=train_images/255\n",
        "    scaled_test_images=test_images/255\n",
        "    return scaled_train_image,scaled_test_images        "
      ]
    },
    {
      "cell_type": "code",
      "execution_count": null,
      "metadata": {
        "id": "5Cl9ZMmG4PwF"
      },
      "outputs": [],
      "source": [
        "# Run function on the input data\n",
        "\n",
        "scaled_train_images, scaled_test_images = scale_mnist_data(train_images, test_images)"
      ]
    },
    {
      "cell_type": "code",
      "execution_count": null,
      "metadata": {
        "id": "JaoByWuh4PwH"
      },
      "outputs": [],
      "source": [
        "# Add a dummy channel dimension\n",
        "\n",
        "scaled_train_images = scaled_train_images[..., np.newaxis]\n",
        "scaled_test_images = scaled_test_images[..., np.newaxis]"
      ]
    },
    {
      "cell_type": "markdown",
      "metadata": {
        "id": "swvVLQCz4PwI"
      },
      "source": [
        "#### Build the convolutional neural network model"
      ]
    },
    {
      "cell_type": "code",
      "execution_count": null,
      "metadata": {
        "id": "EqpqnoKT4PwK"
      },
      "outputs": [],
      "source": [
        "def get_model(input_shape):\n",
        "    model=Sequential([\n",
        "        Conv2D(8 ,(3,3) , padding='same',activation='relu', input_shape=input_shape),\n",
        "        MaxPool2D((2,2)),\n",
        "        Flatten(),\n",
        "        Dense(64,activation='relu'),\n",
        "        Dense(64,activation='relu'),\n",
        "        Dense(10, activation='softmax')\n",
        "    ])\n",
        "    return model    "
      ]
    },
    {
      "cell_type": "code",
      "execution_count": null,
      "metadata": {
        "id": "N1eFTSuP4PwM"
      },
      "outputs": [],
      "source": [
        "# Run  function to get the model\n",
        "\n",
        "model = get_model(scaled_train_images[0].shape)"
      ]
    },
    {
      "cell_type": "markdown",
      "metadata": {
        "id": "WUJ_zZWM4PwM"
      },
      "source": [
        "#### Compile the model\n",
        "\n"
      ]
    },
    {
      "cell_type": "code",
      "execution_count": null,
      "metadata": {
        "id": "QJIk85kW4PwN"
      },
      "outputs": [],
      "source": [
        "def compile_model(model):\n",
        "    model.compile(tf.keras.optimizers.Adam(), tf.keras.losses.SparseCategoricalCrossentropy(),\n",
        "                 metrics=['accuracy'])\n",
        "    return None     "
      ]
    },
    {
      "cell_type": "code",
      "execution_count": null,
      "metadata": {
        "id": "foxNsaju4PwN"
      },
      "outputs": [],
      "source": [
        "# Run function to compile the model\n",
        "\n",
        "compile_model(model)"
      ]
    },
    {
      "cell_type": "markdown",
      "metadata": {
        "id": "J86_zuNK4PwN"
      },
      "source": [
        "#### Fit the model to the training data\n",
        "\n"
      ]
    },
    {
      "cell_type": "code",
      "execution_count": null,
      "metadata": {
        "id": "-bSMA6ln4PwP"
      },
      "outputs": [],
      "source": [
        "\n",
        "def train_model(model, scaled_train_images, train_labels):\n",
        "    history=model.fit(scaled_train_images,train_labels,epochs=5)\n",
        "    return history   "
      ]
    },
    {
      "cell_type": "code",
      "execution_count": null,
      "metadata": {
        "id": "br68k5Zr4PwP",
        "outputId": "8f6aa7fd-a716-40fa-bd62-53dbab54389f"
      },
      "outputs": [
        {
          "name": "stdout",
          "output_type": "stream",
          "text": [
            "Train on 60000 samples\n",
            "Epoch 1/5\n",
            "60000/60000 [==============================] - 77s 1ms/sample - loss: 0.2272 - accuracy: 0.9326\n",
            "Epoch 2/5\n",
            "60000/60000 [==============================] - 88s 1ms/sample - loss: 0.0811 - accuracy: 0.9756\n",
            "Epoch 3/5\n",
            "60000/60000 [==============================] - 91s 2ms/sample - loss: 0.0546 - accuracy: 0.9828\n",
            "Epoch 4/5\n",
            "60000/60000 [==============================] - 91s 2ms/sample - loss: 0.0416 - accuracy: 0.9868\n",
            "Epoch 5/5\n",
            "60000/60000 [==============================] - 78s 1ms/sample - loss: 0.0318 - accuracy: 0.9901\n"
          ]
        }
      ],
      "source": [
        "# Run  function to train the model\n",
        "\n",
        "history = train_model(model, scaled_train_images, train_labels)"
      ]
    },
    {
      "cell_type": "markdown",
      "metadata": {
        "id": "NrCmR9ts4PwQ"
      },
      "source": [
        "#### Plot the learning curves\n",
        "\n"
      ]
    },
    {
      "cell_type": "code",
      "execution_count": null,
      "metadata": {
        "id": "ecEGqeh54PwR"
      },
      "outputs": [],
      "source": [
        "# Run this cell to load the model history into a pandas DataFrame\n",
        "\n",
        "frame = pd.DataFrame(history.history)"
      ]
    },
    {
      "cell_type": "code",
      "execution_count": null,
      "metadata": {
        "id": "9X61RW1o4PwR",
        "outputId": "f29b40c1-d3f2-45f7-bef9-319605277e8c"
      },
      "outputs": [
        {
          "data": {
            "text/plain": [
              "[Text(0, 0.5, 'Accuracy'), Text(0.5, 0, 'Epochs')]"
            ]
          },
          "execution_count": 20,
          "metadata": {},
          "output_type": "execute_result"
        },
        {
          "data": {
            "image/png": "[encoded data removed]",
            "text/plain": [
              "<Figure size 432x288 with 1 Axes>"
            ]
          },
          "metadata": {
            "needs_background": "light"
          },
          "output_type": "display_data"
        }
      ],
      "source": [
        "# make the Accuracy vs Epochs plot\n",
        "\n",
        "acc_plot = frame.plot(y=\"accuracy\", title=\"Accuracy vs Epochs\", legend=False)\n",
        "acc_plot.set(xlabel=\"Epochs\", ylabel=\"Accuracy\")"
      ]
    },
    {
      "cell_type": "code",
      "execution_count": null,
      "metadata": {
        "id": "-Sy4q5Uf4PwS",
        "outputId": "7fb6c814-11bf-4638-8211-c8a14ba6d3c7"
      },
      "outputs": [
        {
          "data": {
            "text/plain": [
              "[Text(0, 0.5, 'Loss'), Text(0.5, 0, 'Epochs')]"
            ]
          },
          "execution_count": 21,
          "metadata": {},
          "output_type": "execute_result"
        },
        {
          "data": {
            "image/png": "[encoded data removed]",
            "text/plain": [
              "<Figure size 432x288 with 1 Axes>"
            ]
          },
          "metadata": {
            "needs_background": "light"
          },
          "output_type": "display_data"
        }
      ],
      "source": [
        "# make the Loss vs Epochs plot\n",
        "\n",
        "acc_plot = frame.plot(y=\"loss\", title = \"Loss vs Epochs\",legend=False)\n",
        "acc_plot.set(xlabel=\"Epochs\", ylabel=\"Loss\")"
      ]
    },
    {
      "cell_type": "markdown",
      "metadata": {
        "id": "JpCR8vTR4PwS"
      },
      "source": [
        "#### Evaluate the model\n"
      ]
    },
    {
      "cell_type": "code",
      "execution_count": null,
      "metadata": {
        "id": "uUTfCro-4PwT"
      },
      "outputs": [],
      "source": [
        "\n",
        "def evaluate_model(model, scaled_test_images, test_labels):\n",
        "  \n",
        "    test_loss,test_accuracy=model.evaluate(scaled_test_images,test_labels,verbose=2)\n",
        "    return (test_loss,test_accuracy)    \n",
        "    "
      ]
    },
    {
      "cell_type": "code",
      "execution_count": null,
      "metadata": {
        "id": "DMgsaPY74PwT",
        "outputId": "341fbf0d-854b-410e-a9ae-bd6b9385394f"
      },
      "outputs": [
        {
          "name": "stdout",
          "output_type": "stream",
          "text": [
            "10000/1 - 4s - loss: 0.0301 - accuracy: 0.9809\n",
            "Test loss: 0.060094505001755893\n",
            "Test accuracy: 0.98089998960495\n"
          ]
        }
      ],
      "source": [
        "# Run  function to evaluate the model\n",
        "\n",
        "test_loss, test_accuracy = evaluate_model(model, scaled_test_images, test_labels)\n",
        "print(f\"Test loss: {test_loss}\")\n",
        "print(f\"Test accuracy: {test_accuracy}\")"
      ]
    },
    {
      "cell_type": "markdown",
      "metadata": {
        "id": "7Dm3Al2J4PwT"
      },
      "source": [
        "#### Model predictions\n",
        "\n"
      ]
    },
    {
      "cell_type": "code",
      "execution_count": null,
      "metadata": {
        "id": "GfSsPydG4PwU",
        "outputId": "d6bdab4f-ce26-4d09-b84e-42f3722c0315"
      },
      "outputs": [
        {
          "data": {
            "image/png": "[encoded data removed]",
            "text/plain": [
              "<Figure size 1152x864 with 8 Axes>"
            ]
          },
          "metadata": {
            "needs_background": "light"
          },
          "output_type": "display_data"
        }
      ],
      "source": [
        "# get model predictions on randomly selected test images\n",
        "\n",
        "num_test_images = scaled_test_images.shape[0]\n",
        "\n",
        "random_inx = np.random.choice(num_test_images, 4)\n",
        "random_test_images = scaled_test_images[random_inx, ...]\n",
        "random_test_labels = test_labels[random_inx, ...]\n",
        "\n",
        "predictions = model.predict(random_test_images)\n",
        "\n",
        "fig, axes = plt.subplots(4, 2, figsize=(16, 12))\n",
        "fig.subplots_adjust(hspace=0.4, wspace=-0.2)\n",
        "\n",
        "for i, (prediction, image, label) in enumerate(zip(predictions, random_test_images, random_test_labels)):\n",
        "    axes[i, 0].imshow(np.squeeze(image))\n",
        "    axes[i, 0].get_xaxis().set_visible(False)\n",
        "    axes[i, 0].get_yaxis().set_visible(False)\n",
        "    axes[i, 0].text(10., -1.5, f'Digit {label}')\n",
        "    axes[i, 1].bar(np.arange(len(prediction)), prediction)\n",
        "    axes[i, 1].set_xticks(np.arange(len(prediction)))\n",
        "    axes[i, 1].set_title(f\"Categorical distribution. Model prediction: {np.argmax(prediction)}\")\n",
        "    \n",
        "plt.show()"
      ]
    }
  ],
  "metadata": {
    "coursera": {
      "course_slug": "tensor-flow-2-1",
      "graded_item_id": "g0YqY",
      "launcher_item_id": "N6gmY"
    },
    "kernelspec": {
      "display_name": "Python 3",
      "language": "python",
      "name": "python3"
    },
    "language_info": {
      "codemirror_mode": {
        "name": "ipython",
        "version": 3
      },
      "file_extension": ".py",
      "mimetype": "text/x-python",
      "name": "python",
      "nbconvert_exporter": "python",
      "pygments_lexer": "ipython3",
      "version": "3.7.1"
    },
    "colab": {
      "provenance": []
    }
  },
  "nbformat": 4,
  "nbformat_minor": 0
}