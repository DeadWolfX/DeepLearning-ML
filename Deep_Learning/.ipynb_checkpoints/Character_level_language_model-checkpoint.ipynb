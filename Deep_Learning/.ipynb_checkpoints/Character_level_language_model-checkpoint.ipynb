{
  "cells": [
    {
      "cell_type": "markdown",
      "metadata": {
        "id": "qo4gVJ_D01SH"
      },
      "source": [
        "# Character level language model - Dinosaurus Island\n",
        "\n",
        "Welcome to Dinosaurus Island! 65 million years ago, dinosaurs existed, and in this assignment, they have returned. \n",
        "\n",
        "You are in charge of a special task: Leading biology researchers are creating new breeds of dinosaurs and bringing them to life on earth, and your job is to give names to these dinosaurs. If a dinosaur does not like its name, it might go berserk, so choose wisely! \n",
        "\n",
        "\n",
        "\n",
        "Luckily you're equipped with some deep learning now, and you will use it to save the day! Your assistant has collected a list of all the dinosaur names they could find, and compiled them into this [dataset](dinos.txt). (Feel free to take a look by clicking the previous link.) To create new dinosaur names, you will build a character-level language model to generate new names. Your algorithm will learn the different name patterns, and randomly generate new names. Hopefully this algorithm will keep you and your team safe from the dinosaurs' wrath! \n"
      ]
    },
    {
      "cell_type": "code",
      "execution_count": null,
      "metadata": {
        "id": "r0Nj4psY01SJ"
      },
      "outputs": [],
      "source": [
        "import numpy as np\n",
        "from utils import *\n",
        "import random\n",
        "import pprint\n",
        "import copy"
      ]
    },
    {
      "cell_type": "code",
      "execution_count": null,
      "metadata": {
        "id": "qB2XWVg_01SO",
        "outputId": "801688bb-f7b2-441a-f8fe-b7b81f82b3d6"
      },
      "outputs": [
        {
          "name": "stdout",
          "output_type": "stream",
          "text": [
            "There are 19909 total characters and 27 unique characters in your data.\n"
          ]
        }
      ],
      "source": [
        "data = open('dinos.txt', 'r').read()\n",
        "data= data.lower()\n",
        "chars = list(set(data))\n",
        "data_size, vocab_size = len(data), len(chars)\n",
        "print('There are %d total characters and %d unique characters in your data.' % (data_size, vocab_size))"
      ]
    },
    {
      "cell_type": "markdown",
      "metadata": {
        "id": "CfmL668r01SQ"
      },
      "source": [
        "\n",
        "* The characters are a-z (26 characters) plus the \"\\n\" (or newline character).\n",
        "* In this assignment, the newline character \"\\n\" plays a role similar to the `<EOS>` (or \"End of sentence\") token discussed in lecture.  \n",
        "    - Here, \"\\n\" indicates the end of the dinosaur name rather than the end of a sentence. \n",
        "* `char_to_ix`: In the cell below, you'll create a Python dictionary (i.e., a hash table) to map each character to an index from 0-26.\n",
        "* `ix_to_char`: Then, you'll create a second Python dictionary that maps each index back to the corresponding character. \n",
        "    -  This will help you figure out which index corresponds to which character in the probability distribution output of the softmax layer. "
      ]
    },
    {
      "cell_type": "code",
      "execution_count": null,
      "metadata": {
        "id": "bh3QcYpr01SQ",
        "outputId": "84433aa5-eaa0-48e7-dc40-6271d0e42d12"
      },
      "outputs": [
        {
          "name": "stdout",
          "output_type": "stream",
          "text": [
            "['\\n', 'a', 'b', 'c', 'd', 'e', 'f', 'g', 'h', 'i', 'j', 'k', 'l', 'm', 'n', 'o', 'p', 'q', 'r', 's', 't', 'u', 'v', 'w', 'x', 'y', 'z']\n"
          ]
        }
      ],
      "source": [
        "chars = sorted(chars)\n",
        "print(chars)"
      ]
    },
    {
      "cell_type": "code",
      "execution_count": null,
      "metadata": {
        "id": "2YltsxeZ01SU",
        "outputId": "c1c4093b-bfbb-4048-dd14-bc686acd5048"
      },
      "outputs": [
        {
          "name": "stdout",
          "output_type": "stream",
          "text": [
            "{   0: '\\n',\n",
            "    1: 'a',\n",
            "    2: 'b',\n",
            "    3: 'c',\n",
            "    4: 'd',\n",
            "    5: 'e',\n",
            "    6: 'f',\n",
            "    7: 'g',\n",
            "    8: 'h',\n",
            "    9: 'i',\n",
            "    10: 'j',\n",
            "    11: 'k',\n",
            "    12: 'l',\n",
            "    13: 'm',\n",
            "    14: 'n',\n",
            "    15: 'o',\n",
            "    16: 'p',\n",
            "    17: 'q',\n",
            "    18: 'r',\n",
            "    19: 's',\n",
            "    20: 't',\n",
            "    21: 'u',\n",
            "    22: 'v',\n",
            "    23: 'w',\n",
            "    24: 'x',\n",
            "    25: 'y',\n",
            "    26: 'z'}\n"
          ]
        }
      ],
      "source": [
        "char_to_ix = { ch:i for i,ch in enumerate(chars) }\n",
        "ix_to_char = { i:ch for i,ch in enumerate(chars) }\n",
        "pp = pprint.PrettyPrinter(indent=4)\n",
        "pp.pprint(ix_to_char)"
      ]
    },
    {
      "cell_type": "markdown",
      "metadata": {
        "id": "OuDQfApB01SW"
      },
      "source": [
        "<a name='1-2'></a>\n",
        "### 1.2 - Overview of the Model\n",
        "\n",
        "\n",
        "\n",
        "- Initialize parameters \n",
        "- Run the optimization loop\n",
        "    - Forward propagation to compute the loss function\n",
        "    - Backward propagation to compute the gradients with respect to the loss function\n",
        "    - Clip the gradients to avoid exploding gradients\n",
        "    - Using the gradients, update your parameters with the gradient descent update rule.\n",
        "- Return the learned parameters \n",
        "    \n",
        "\n",
        "* At each time-step, the RNN tries to predict what the next character is, given the previous characters. \n",
        "* $\\mathbf{X} = (x^{\\langle 1 \\rangle}, x^{\\langle 2 \\rangle}, ..., x^{\\langle T_x \\rangle})$ is a list of characters from the training set.\n",
        "* $\\mathbf{Y} = (y^{\\langle 1 \\rangle}, y^{\\langle 2 \\rangle}, ..., y^{\\langle T_x \\rangle})$ is the same list of characters but shifted one character forward. \n",
        "* At every time-step $t$, $y^{\\langle t \\rangle} = x^{\\langle t+1 \\rangle}$.  The prediction at time $t$ is the same as the input at time $t + 1$."
      ]
    },
    {
      "cell_type": "markdown",
      "metadata": {
        "id": "tuVLtQaM01SX"
      },
      "source": [
        "<a name='2-1'></a>\n",
        "### 2.1 - Clipping the Gradients in the Optimization Loop\n",
        "\n",
        "In this section you will implement the `clip` function that you will call inside of your optimization loop. \n",
        "\n",
        "#### Exploding gradients\n",
        "* When gradients are very large, they're called \"exploding gradients.\"  \n",
        "* Exploding gradients make the training process more difficult, because the updates may be so large that they \"overshoot\" the optimal values during back propagation.\n",
        "\n",
        "Recall that your overall loop structure usually consists of:\n",
        "* forward pass, \n",
        "* cost computation, \n",
        "* backward pass, \n",
        "* parameter update. \n",
        "\n",
        "Before updating the parameters, you will perform gradient clipping to make sure that your gradients are not \"exploding.\"\n",
        "\n",
        "#### Gradient clipping\n",
        "In the exercise below, you will implement a function `clip` that takes in a dictionary of gradients and returns a clipped version of gradients, if needed. \n",
        "\n",
        "* There are different ways to clip gradients.\n",
        "* You will use a simple element-wise clipping procedure, in which every element of the gradient vector is clipped to fall between some range [-N, N]. \n",
        "* For example, if the N=10\n",
        "    - The range is [-10, 10]\n",
        "    - If any component of the gradient vector is greater than 10, it is set to 10.\n",
        "    - If any component of the gradient vector is less than -10, it is set to -10. \n",
        "    - If any components are between -10 and 10, they keep their original values.\n"
      ]
    },
    {
      "cell_type": "code",
      "execution_count": null,
      "metadata": {
        "id": "2yYvYeI501SX"
      },
      "outputs": [],
      "source": [
        "\n",
        "def clip(gradients, maxValue):\n",
        "    '''\n",
        "    Clips the gradients' values between minimum and maximum.\n",
        "    \n",
        "    Arguments:\n",
        "    gradients -- a dictionary containing the gradients \"dWaa\", \"dWax\", \"dWya\", \"db\", \"dby\"\n",
        "    maxValue -- everything above this number is set to this number, and everything less than -maxValue is set to -maxValue\n",
        "    \n",
        "    Returns: \n",
        "    gradients -- a dictionary with the clipped gradients.\n",
        "    '''\n",
        "    gradients = copy.deepcopy(gradients)\n",
        "    \n",
        "    dWaa, dWax, dWya, db, dby = gradients['dWaa'], gradients['dWax'], gradients['dWya'], gradients['db'], gradients['dby']\n",
        "   \n",
        "    \n",
        "    # Clip to mitigate exploding gradients, loop over [dWax, dWaa, dWya, db, dby]. \n",
        "    for gradient in gradients:\n",
        "        np.clip(gradients[gradient], -maxValue, maxValue, out = gradients[gradient])\n",
        "  \n",
        "    \n",
        "    gradients = {\"dWaa\": dWaa, \"dWax\": dWax, \"dWya\": dWya, \"db\": db, \"dby\": dby}\n",
        "    \n",
        "    return gradients"
      ]
    },
    {
      "cell_type": "markdown",
      "metadata": {
        "id": "2l1SKw3301Sg"
      },
      "source": [
        "\n",
        "\n",
        "Implementing the `sample` function below to sample characters. \n",
        "\n",
        "You need to carry out 4 steps:\n",
        "\n",
        "- **Step 1**: Input the \"dummy\" vector of zeros $x^{\\langle 1 \\rangle} = \\vec{0}$. \n",
        "    - This is the default input before you've generated any characters. \n",
        "    You also set $a^{\\langle 0 \\rangle} = \\vec{0}$"
      ]
    },
    {
      "cell_type": "markdown",
      "metadata": {
        "id": "eNYuYo3PBES4"
      },
      "source": [
        "- **Step 2**: Run one step of forward propagation to get $a^{\\langle 1 \\rangle}$ and $\\hat{y}^{\\langle 1 \\rangle}$. Here are the equations:\n",
        "\n",
        "*hidden state:*  \n",
        "$$ a^{\\langle t+1 \\rangle} = \\tanh(W_{ax}  x^{\\langle t+1 \\rangle } + W_{aa} a^{\\langle t \\rangle } + b)\\tag{1}$$\n",
        "\n",
        "*activation:*\n",
        "$$ z^{\\langle t + 1 \\rangle } = W_{ya}  a^{\\langle t + 1 \\rangle } + b_y \\tag{2}$$\n",
        "\n",
        "*prediction:*\n",
        "$$ \\hat{y}^{\\langle t+1 \\rangle } = softmax(z^{\\langle t + 1 \\rangle })\\tag{3}$$\n",
        "\n",
        "- Details about $\\hat{y}^{\\langle t+1 \\rangle }$:\n",
        "   - Note that $\\hat{y}^{\\langle t+1 \\rangle }$ is a (softmax) probability vector (its entries are between 0 and 1 and sum to 1). \n",
        "   - $\\hat{y}^{\\langle t+1 \\rangle}_i$ represents the probability that the character indexed by \"i\" is the next character.  \n",
        "   - A `softmax()` function is provided for you to use."
      ]
    },
    {
      "cell_type": "code",
      "execution_count": null,
      "metadata": {
        "id": "UIkYdtBx01Su"
      },
      "outputs": [],
      "source": [
        "\n",
        "def sample(parameters, char_to_ix, seed):\n",
        "    \"\"\"\n",
        "    Sample a sequence of characters according to a sequence of probability distributions output of the RNN\n",
        "\n",
        "    Arguments:\n",
        "    parameters -- Python dictionary containing the parameters Waa, Wax, Wya, by, and b. \n",
        "    char_to_ix -- Python dictionary mapping each character to an index.\n",
        "    seed -- Used for grading purposes. Do not worry about it.\n",
        "\n",
        "    Returns:\n",
        "    indices -- A list of length n containing the indices of the sampled characters.\n",
        "    \"\"\"\n",
        "    \n",
        "    # Retrieve parameters and relevant shapes from \"parameters\" dictionary\n",
        "    Waa, Wax, Wya, by, b = parameters['Waa'], parameters['Wax'], parameters['Wya'], parameters['by'], parameters['b']\n",
        "    vocab_size = by.shape[0]\n",
        "    n_a = Waa.shape[1]\n",
        "    \n",
        " \n",
        "    # Step 1: Create the a zero vector x that can be used as the one-hot vector \n",
        "    # Representing the first character (initializing the sequence generation). \n",
        "    x = np.zeros((vocab_size,1))\n",
        "    # Step 1': Initialize a_prev as zeros \n",
        "    a_prev = np.zeros((n_a ,1))\n",
        "\n",
        "    # Create an empty list of indices. This is the list which will contain the list of indices of the characters to generate \n",
        "    indices = []\n",
        "\n",
        "    # idx is the index of the one-hot vector x that is set to 1\n",
        "    # All other positions in x are zero.\n",
        "    # Initialize idx to -1\n",
        "    idx = -1\n",
        "    \n",
        "    # Loop over time-steps t. At each time-step:\n",
        "    # Sample a character from a probability distribution \n",
        "    # And append its index (`idx`) to the list \"indices\". \n",
        "    # You'll stop if you reach 50 characters \n",
        "    # (which should be very unlikely with a well-trained model).\n",
        "    # Setting the maximum number of characters helps with debugging and prevents infinite loops. \n",
        "    counter = 0\n",
        "    newline_character = char_to_ix['\\n']\n",
        "    \n",
        "    while (idx != newline_character and counter != 50):\n",
        "        \n",
        "        # Step 2: Forward propagate x using the equations (1), (2) and (3)\n",
        "        a = np.tanh(np.dot(Wax,x) + np.dot(Waa,a_prev) + b)\n",
        "        z = np.dot(Wya,a) + by\n",
        "        y = softmax(z)\n",
        "\n",
        "        # For grading purposes\n",
        "        np.random.seed(counter + seed) \n",
        "\n",
        "        # Step 3: Sample the index of a character within the vocabulary from the probability distribution y\n",
        "        # (see additional hints above)\n",
        "        idx = np.random.choice(range(len(y)), p = np.squeeze(y) )\n",
        "\n",
        "        # Append the index to \"indices\"\n",
        "        indices.append(idx)\n",
        "\n",
        "        # Step 4: Overwrite the input x with one that corresponds to the sampled index `idx`.\n",
        "        # (see additional hints above)\n",
        "        x = np.zeros((vocab_size,1))\n",
        "        x[idx] = 1\n",
        "\n",
        "        # Update \"a_prev\" to be \"a\"\n",
        "        a_prev = a\n",
        "        \n",
        "        # for grading purposes\n",
        "        seed += 1\n",
        "        counter +=1\n",
        "        \n",
        "   \n",
        "\n",
        "    if (counter == 50):\n",
        "        indices.append(char_to_ix['\\n'])\n",
        "    \n",
        "    return indices"
      ]
    },
    {
      "cell_type": "markdown",
      "metadata": {
        "id": "qdeVJ9xT01S2"
      },
      "source": [
        "<a name='3'></a>\n",
        "## 3 - Building the Language Model \n",
        "\n",
        "It's time to build the character-level language model for text generation! \n",
        "\n",
        "\n",
        "<a name='3-1'></a>\n",
        "### 3.1 - Gradient Descent \n",
        "\n",
        "In this section you will implement a function performing one step of stochastic gradient descent (with clipped gradients). You'll go through the training examples one at a time, so the optimization algorithm will be stochastic gradient descent. \n",
        "\n",
        "As a reminder, here are the steps of a common optimization loop for an RNN:\n",
        "\n",
        "- Forward propagate through the RNN to compute the loss\n",
        "- Backward propagate through time to compute the gradients of the loss with respect to the parameters\n",
        "- Clip the gradients\n",
        "- Update the parameters using gradient descent \n"
      ]
    },
    {
      "cell_type": "markdown",
      "metadata": {
        "id": "YsaPkvUq01S3"
      },
      "source": [
        "#### Parameters\n",
        "\n",
        "* Note that the weights and biases inside the `parameters` dictionary are being updated by the optimization, even though `parameters` is not one of the returned values of the `optimize` function. The `parameters` dictionary is passed by reference into the function, so changes to this dictionary are making changes to the `parameters` dictionary even when accessed outside of the function.\n",
        "* Python dictionaries and lists are \"pass by reference\", which means that if you pass a dictionary into a function and modify the dictionary within the function, this changes that same dictionary (it's not a copy of the dictionary)."
      ]
    },
    {
      "cell_type": "code",
      "execution_count": null,
      "metadata": {
        "id": "_BbEdIgY01S3"
      },
      "outputs": [],
      "source": [
        "\n",
        "\n",
        "def optimize(X, Y, a_prev, parameters, learning_rate = 0.01):\n",
        "    \"\"\"\n",
        "    Execute one step of the optimization to train the model.\n",
        "    \n",
        "    Arguments:\n",
        "    X -- list of integers, where each integer is a number that maps to a character in the vocabulary.\n",
        "    Y -- list of integers, exactly the same as X but shifted one index to the left.\n",
        "    a_prev -- previous hidden state.\n",
        "    parameters -- python dictionary containing:\n",
        "                        Wax -- Weight matrix multiplying the input, numpy array of shape (n_a, n_x)\n",
        "                        Waa -- Weight matrix multiplying the hidden state, numpy array of shape (n_a, n_a)\n",
        "                        Wya -- Weight matrix relating the hidden-state to the output, numpy array of shape (n_y, n_a)\n",
        "                        b --  Bias, numpy array of shape (n_a, 1)\n",
        "                        by -- Bias relating the hidden-state to the output, numpy array of shape (n_y, 1)\n",
        "    learning_rate -- learning rate for the model.\n",
        "    \n",
        "    Returns:\n",
        "    loss -- value of the loss function (cross-entropy)\n",
        "    gradients -- python dictionary containing:\n",
        "                        dWax -- Gradients of input-to-hidden weights, of shape (n_a, n_x)\n",
        "                        dWaa -- Gradients of hidden-to-hidden weights, of shape (n_a, n_a)\n",
        "                        dWya -- Gradients of hidden-to-output weights, of shape (n_y, n_a)\n",
        "                        db -- Gradients of bias vector, of shape (n_a, 1)\n",
        "                        dby -- Gradients of output bias vector, of shape (n_y, 1)\n",
        "    a[len(X)-1] -- the last hidden state, of shape (n_a, 1)\n",
        "    \"\"\"\n",
        "    \n",
        "  \n",
        "    \n",
        "    # Forward propagate through time \n",
        "    loss, cache = rnn_forward(X, Y, a_prev, parameters)\n",
        "    \n",
        "    # Backpropagate through time \n",
        "    gradients, a = rnn_backward(X, Y, parameters, cache)\n",
        "    \n",
        "    # Clip your gradients between -5 (min) and 5 (max) \n",
        "    gradients = clip(gradients, 5)\n",
        "    \n",
        "    # Update parameters \n",
        "    parameters = update_parameters(parameters, gradients, learning_rate)\n",
        "    \n",
        "   \n",
        "    \n",
        "    return loss, gradients, a[len(X)-1]"
      ]
    },
    {
      "cell_type": "markdown",
      "metadata": {
        "id": "m-4cL3oZ01S9"
      },
      "source": [
        "<a name='3-2'></a>\n",
        "### 3.2 - Training the Model "
      ]
    },
    {
      "cell_type": "markdown",
      "metadata": {
        "id": "qZ63mN5-01S9"
      },
      "source": [
        "* Given the dataset of dinosaur names, you'll use each line of the dataset (one name) as one training example. \n",
        "* Every 2000 steps of stochastic gradient descent, you will sample several randomly chosen names to see how the algorithm is doing. \n",
        " "
      ]
    },
    {
      "cell_type": "markdown",
      "metadata": {
        "id": "RNDsHeoQ01S9"
      },
      "source": [
        "##### Convert a string into a list of characters: `single_example_chars`\n",
        "* `single_example_chars`: A string is a list of characters.\n",
        "* You can use a list comprehension (recommended over for-loops) to generate a list of characters.\n",
        "```Python\n",
        "str = 'I love learning'\n",
        "list_of_chars = [c for c in str]\n",
        "print(list_of_chars)\n",
        "```\n",
        "\n",
        "```\n",
        "['I', ' ', 'l', 'o', 'v', 'e', ' ', 'l', 'e', 'a', 'r', 'n', 'i', 'n', 'g']\n",
        "```\n",
        "\n",
        "* For more on [list comprehensions](https://docs.python.org/3/tutorial/datastructures.html#list-comprehensions):"
      ]
    },
    {
      "cell_type": "markdown",
      "metadata": {
        "id": "jzSvzjde01S-"
      },
      "source": [
        "##### Convert list of characters to a list of integers: `single_example_ix`\n",
        "* Create a list that contains the index numbers associated with each character.\n",
        "* Use the dictionary `char_to_ix`\n",
        "* You can combine this with the list comprehension that is used to get a list of characters from a string."
      ]
    },
    {
      "cell_type": "markdown",
      "metadata": {
        "id": "lL05MmsV01S-"
      },
      "source": [
        "##### Create the list of input characters: `X`\n",
        "* `rnn_forward` uses the **`None`** value as a flag to set the input vector as a zero-vector.\n",
        "* Prepend the list [**`None`**] in front of the list of input characters.\n",
        "* There is more than one way to prepend a value to a list.  One way is to add two lists together: `['a'] + ['b']`"
      ]
    },
    {
      "cell_type": "markdown",
      "metadata": {
        "id": "2D8OXGv901S-"
      },
      "source": [
        "##### Get the integer representation of the newline character `ix_newline`\n",
        "* `ix_newline`: The newline character signals the end of the dinosaur name.\n",
        "    - Get the integer representation of the newline character `'\\n'`.\n",
        "    - Use `char_to_ix`"
      ]
    },
    {
      "cell_type": "markdown",
      "metadata": {
        "id": "KGnawmFe01S_"
      },
      "source": [
        "##### Set the list of labels (integer representation of the characters): `Y`\n",
        "* The goal is to train the RNN to predict the next letter in the name, so the labels are the list of characters that are one time-step ahead of the characters in the input `X`.\n",
        "    - For example, `Y[0]` contains the same value as `X[1]`  \n",
        "* The RNN should predict a newline at the last letter, so add `ix_newline` to the end of the labels. \n",
        "    - Append the integer representation of the newline character to the end of `Y`.\n",
        "    - Note that `append` is an in-place operation.\n",
        "    - It might be easier for you to add two lists together."
      ]
    },
    {
      "cell_type": "code",
      "execution_count": null,
      "metadata": {
        "id": "l214uNun01S_"
      },
      "outputs": [],
      "source": [
        "\n",
        "\n",
        "def model(data_x, ix_to_char, char_to_ix, num_iterations = 35000, n_a = 50, dino_names = 7, vocab_size = 27, verbose = False):\n",
        "    \"\"\"\n",
        "    Trains the model and generates dinosaur names. \n",
        "    \n",
        "    Arguments:\n",
        "    data_x -- text corpus, divided in words\n",
        "    ix_to_char -- dictionary that maps the index to a character\n",
        "    char_to_ix -- dictionary that maps a character to an index\n",
        "    num_iterations -- number of iterations to train the model for\n",
        "    n_a -- number of units of the RNN cell\n",
        "    dino_names -- number of dinosaur names you want to sample at each iteration. \n",
        "    vocab_size -- number of unique characters found in the text (size of the vocabulary)\n",
        "    \n",
        "    Returns:\n",
        "    parameters -- learned parameters\n",
        "    \"\"\"\n",
        "    \n",
        "    # Retrieve n_x and n_y from vocab_size\n",
        "    n_x, n_y = vocab_size, vocab_size\n",
        "    \n",
        "    # Initialize parameters\n",
        "    parameters = initialize_parameters(n_a, n_x, n_y)\n",
        "    \n",
        "    # Initialize loss (this is required because we want to smooth our loss)\n",
        "    loss = get_initial_loss(vocab_size, dino_names)\n",
        "    \n",
        "    # Build list of all dinosaur names (training examples).\n",
        "    examples = [x.strip() for x in data_x]\n",
        "    \n",
        "    # Shuffle list of all dinosaur names\n",
        "    np.random.seed(0)\n",
        "    np.random.shuffle(examples)\n",
        "    \n",
        "    # Initialize the hidden state of your LSTM\n",
        "    a_prev = np.zeros((n_a, 1))\n",
        "    \n",
        "    # for grading purposes\n",
        "    last_dino_name = \"abc\"\n",
        "    \n",
        "    # Optimization loop\n",
        "    for j in range(num_iterations):\n",
        "        \n",
        "       \n",
        "        \n",
        "        # Set the index `idx` (see instructions above)\n",
        "        idx = j % len(examples)\n",
        "         \n",
        "        # Set the input X (see instructions above)\n",
        "        single_example = [None]\n",
        "        single_example_chars = char_to_ix\n",
        "        single_example_ix = idx\n",
        "        X = single_example + [single_example_chars[ch] for ch in examples[single_example_ix]] \n",
        "         \n",
        "        # Set the labels Y (see instructions above)\n",
        "        ix_newline = single_example_chars[\"\\n\"]\n",
        "        Y = X[1:]+[ix_newline]\n",
        "\n",
        "        # Perform one optimization step: Forward-prop -> Backward-prop -> Clip -> Update parameters\n",
        "        # Choose a learning rate of 0.01\n",
        "        curr_loss, gradients, a_prev = optimize(X, Y, a_prev, parameters, learning_rate = 0.01)\n",
        "        \n",
        "        \n",
        "        \n",
        "        # debug statements to aid in correctly forming X, Y\n",
        "        if verbose and j in [0, len(examples) -1, len(examples)]:\n",
        "            print(\"j = \" , j, \"idx = \", idx,) \n",
        "        if verbose and j in [0]:\n",
        "            print(\"single_example =\", single_example)\n",
        "            print(\"single_example_chars\", single_example_chars)\n",
        "            print(\"single_example_ix\", single_example_ix)\n",
        "            print(\" X = \", X, \"\\n\", \"Y =       \", Y, \"\\n\")\n",
        "        \n",
        "        # to keep the loss smooth.\n",
        "        loss = smooth(loss, curr_loss)\n",
        "\n",
        "        # Every 2000 Iteration, generate \"n\" characters thanks to sample() to check if the model is learning properly\n",
        "        if j % 2000 == 0:\n",
        "            \n",
        "            print('Iteration: %d, Loss: %f' % (j, loss) + '\\n')\n",
        "            \n",
        "            # The number of dinosaur names to print\n",
        "            seed = 0\n",
        "            for name in range(dino_names):\n",
        "                \n",
        "                # Sample indices and print them\n",
        "                sampled_indices = sample(parameters, char_to_ix, seed)\n",
        "                last_dino_name = get_sample(sampled_indices, ix_to_char)\n",
        "                print(last_dino_name.replace('\\n', ''))\n",
        "                \n",
        "                seed += 1  # To get the same result (for grading purposes), increment the seed by one. \n",
        "      \n",
        "            print('\\n')\n",
        "        \n",
        "    return parameters, last_dino_name"
      ]
    },
    {
      "cell_type": "markdown",
      "metadata": {
        "id": "-HvBlAnS01TB"
      },
      "source": [
        "When you run the following cell, you should observe your model outputting random-looking characters at the first iteration. After a few thousand iterations, your model should learn to generate reasonable-looking names. "
      ]
    },
    {
      "cell_type": "markdown",
      "metadata": {
        "id": "2u55TY-W01TG"
      },
      "source": [
        "<a name='4'></a>\n",
        "## 4 - Writing like Shakespeare \n",
        "\n",
        "\n",
        "\n",
        "A similar task to character-level text generation (but more complicated) is generating Shakespearean poems. Instead of learning from a dataset of dinosaur names, you can use a collection of Shakespearean poems. Using LSTM cells, you can learn longer-term dependencies that span many characters in the text--e.g., where a character appearing somewhere a sequence can influence what should be a different character, much later in the sequence. These long-term dependencies were less important with dinosaur names, since the names were quite short. \n",
        "\n",
        "\n",
        "\n",
        "\n",
        "Below, you can implement a Shakespeare poem generator with Keras. Run the following cell to load the required packages and models. This may take a few minutes. "
      ]
    },
    {
      "cell_type": "code",
      "execution_count": null,
      "metadata": {
        "id": "dgPMYCZl01TH",
        "outputId": "6e4db408-8043-4969-f94e-5c69a3a22c9c"
      },
      "outputs": [
        {
          "name": "stdout",
          "output_type": "stream",
          "text": [
            "Loading text data...\n",
            "Creating training set...\n",
            "number of training examples: 31412\n",
            "Vectorizing training set...\n",
            "Loading model...\n"
          ]
        }
      ],
      "source": [
        "from __future__ import print_function\n",
        "from tensorflow.keras.callbacks import LambdaCallback\n",
        "from tensorflow.keras.models import Model, load_model, Sequential\n",
        "from tensorflow.keras.layers import Dense, Activation, Dropout, Input, Masking\n",
        "from tensorflow.keras.layers import LSTM\n",
        "from tensorflow.keras.utils import get_file\n",
        "from tensorflow.keras.preprocessing.sequence import pad_sequences\n",
        "from shakespeare_utils import *\n",
        "import sys\n",
        "import io"
      ]
    },
    {
      "cell_type": "markdown",
      "metadata": {
        "id": "jRaDcXrU01TJ"
      },
      "source": [
        "To save you some time, a model has already been trained for ~1000 epochs on a collection of Shakespearean poems called \"<i>[The Sonnets](shakespeare.txt)</i>.\""
      ]
    },
    {
      "cell_type": "markdown",
      "metadata": {
        "id": "XGG0VdGv01TJ"
      },
      "source": [
        "Let's train the model for one more epoch. When it finishes training for an epoch (this will also take a few minutes), you can run `generate_output`, which will prompt you for an input (`<`40 characters). The poem will start with your sentence, and your RNN Shakespeare will complete the rest of the poem for you! For example, try, \"Forsooth this maketh no sense\" (without the quotation marks!). Depending on whether you include the space at the end, your results might also differ, so try it both ways, and try other inputs as well. "
      ]
    },
    {
      "cell_type": "code",
      "execution_count": null,
      "metadata": {
        "id": "Y4DBjTlz01TK",
        "scrolled": true,
        "outputId": "51a7bd28-3537-495f-9db3-ced40a18e49a"
      },
      "outputs": [
        {
          "name": "stdout",
          "output_type": "stream",
          "text": [
            "246/246 [==============================] - 113s 458ms/step - loss: 2.5462\n"
          ]
        },
        {
          "data": {
            "text/plain": [
              "<tensorflow.python.keras.callbacks.History at 0x7ff410576250>"
            ]
          },
          "execution_count": 18,
          "metadata": {},
          "output_type": "execute_result"
        }
      ],
      "source": [
        "print_callback = LambdaCallback(on_epoch_end=on_epoch_end)\n",
        "\n",
        "model.fit(x, y, batch_size=128, epochs=1, callbacks=[print_callback])"
      ]
    },
    {
      "cell_type": "code",
      "execution_count": null,
      "metadata": {
        "id": "wDoriy4Z01TM",
        "outputId": "ae264bc7-c867-4063-843b-4902199462a7"
      },
      "outputs": [
        {
          "name": "stdout",
          "output_type": "stream",
          "text": [
            "Write the beginning of your poem, the Shakespeare machine will complete it. Your input is: fuck you\n",
            "\n",
            "\n",
            "Here is your poem: \n",
            "\n",
            "fuck your ow be,\n",
            "hin who to grach and a hardret hath' dif fordired.\n",
            "\n",
            "hapus des so winsen might certbat wercwed,\n",
            "be forted the of on my forture dechanded.\n",
            " \n",
            "\n",
            "by fifk this sanf to behert, deau her stronge,\n",
            "if i is be ablided not i main mere douth,\n",
            "hos prow each onred would all thou to se.\n",
            "\n",
            "whon mick thou staste even i of o wrore morsed,\n",
            "for which shang is now to perpeebtet,\n",
            "rie i toty i till yot proaked,\n",
            "fo"
          ]
        }
      ],
      "source": [
        "# Run this cell to try with different inputs without having to re-train the model \n",
        "generate_output()"
      ]
    }
  ],
  "metadata": {
    "colab": {
      "provenance": []
    },
    "coursera": {
      "schema_names": [
        "DLSC5W1-A2"
      ]
    },
    "kernelspec": {
      "display_name": "Python 3",
      "language": "python",
      "name": "python3"
    },
    "language_info": {
      "codemirror_mode": {
        "name": "ipython",
        "version": 3
      },
      "file_extension": ".py",
      "mimetype": "text/x-python",
      "name": "python",
      "nbconvert_exporter": "python",
      "pygments_lexer": "ipython3",
      "version": "3.7.6"
    }
  },
  "nbformat": 4,
  "nbformat_minor": 0
}