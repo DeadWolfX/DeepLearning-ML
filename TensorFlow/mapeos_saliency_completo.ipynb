{
  "nbformat": 4,
  "nbformat_minor": 0,
  "metadata": {
    "accelerator": "GPU",
    "colab": {
      "private_outputs": true,
      "provenance": []
    },
    "kernelspec": {
      "display_name": "Python 3",
      "language": "python",
      "name": "python3"
    },
    "language_info": {
      "codemirror_mode": {
        "name": "ipython",
        "version": 3
      },
      "file_extension": ".py",
      "mimetype": "text/x-python",
      "name": "python",
      "nbconvert_exporter": "python",
      "pygments_lexer": "ipython3",
      "version": "3.7.4"
    }
  },
  "cells": [
    {
      "cell_type": "markdown",
      "metadata": {
        "id": "vNQiSujBfjWj"
      },
      "source": [
        "## Saliency Maps\n",
        "\n",
        "\n",
        "\n"
      ]
    },
    {
      "cell_type": "code",
      "metadata": {
        "id": "Laatr1c6lr1w"
      },
      "source": [
        "# Download the same test files from the Cats vs Dogs ungraded lab\n",
        "!wget -O cat1.jpg https://storage.googleapis.com/tensorflow-1-public/tensorflow-3-temp/MLColabImages/cat1.jpeg\n",
        "!wget -O cat2.jpg https://storage.googleapis.com/tensorflow-1-public/tensorflow-3-temp/MLColabImages/cat2.jpeg\n",
        "!wget -O catanddog.jpg https://storage.googleapis.com/tensorflow-1-public/tensorflow-3-temp/MLColabImages/catanddog.jpeg\n",
        "!wget -O dog1.jpg https://storage.googleapis.com/tensorflow-1-public/tensorflow-3-temp/MLColabImages/dog1.jpeg\n",
        "!wget -O dog2.jpg https://storage.googleapis.com/tensorflow-1-public/tensorflow-3-temp/MLColabImages/dog2.jpeg\n",
        "\n",
        "# Download prepared weights\n",
        "!wget --no-check-certificate 'https://docs.google.com/uc?export=download&id=1kipXTxesGJKGY1B8uSPRvxROgOH90fih' -O 0_epochs.h5\n",
        "!wget --no-check-certificate 'https://docs.google.com/uc?export=download&id=1oiV6tjy5k7h9OHGTQaf0Ohn3FmF-uOs1' -O 15_epochs.h5\n"
      ],
      "execution_count": null,
      "outputs": []
    },
    {
      "cell_type": "code",
      "metadata": {
        "id": "X86LKLvpBO2S"
      },
      "source": [
        "\n",
        "import tensorflow as tf\n",
        "import tensorflow_datasets as tfds\n",
        "import numpy as np\n",
        "import matplotlib.pyplot as plt\n",
        "from tensorflow.keras.models import Model\n",
        "from tensorflow.keras import layers\n",
        "from tensorflow.keras.optimizers import SGD, Adam, RMSprop\n",
        "import cv2"
      ],
      "execution_count": null,
      "outputs": []
    },
    {
      "cell_type": "code",
      "metadata": {
        "id": "7w5HNdoHBQv_"
      },
      "source": [
        "# Load the data and create the train set (optional: val and test sets)\n",
        "\n",
        "\n",
        "tfds.disable_progress_bar()\n",
        "\n",
        "splits = [\"train[:80%]\", \"train[80%:90%]\", \"train[90%:]\"]\n",
        "\n",
        "splits, info = tfds.load(name=\"cats_vs_dogs\", with_info=True, as_supervised=True, split=splits)\n",
        "\n",
        "(train_examples, validation_examples, test_examples) = splits\n",
        "\n",
        "num_examples = info.splits[\"train\"].num_examples\n",
        "num_classes = info.features[\"label\"].num_classes\n",
        "\n",
        "num_examples, num_classes"
      ],
      "execution_count": null,
      "outputs": []
    },
    {
      "cell_type": "code",
      "metadata": {
        "id": "pRkrL2aK2_UZ"
      },
      "source": [
        "IMG_SIZE = (300, 300)\n",
        "def augmentimages(image, label):\n",
        " \n",
        "  image = tf.cast(image, dtype=tf.float32)\n",
        "  image /= 255.0\n",
        "  image = tf.image.resize(image, IMG_SIZE)\n",
        "  return image, label\n",
        "\n"
      ],
      "execution_count": null,
      "outputs": []
    },
    {
      "cell_type": "code",
      "metadata": {
        "id": "vpNEfDKM353a"
      },
      "source": [
        "augmented_training_data = train_examples.map(augmentimages)"
      ],
      "execution_count": null,
      "outputs": []
    },
    {
      "cell_type": "code",
      "metadata": {
        "id": "POhDDPBY3vnL"
      },
      "source": [
        "train_batches = augmented_training_data.batch(32)"
      ],
      "execution_count": null,
      "outputs": []
    },
    {
      "cell_type": "code",
      "metadata": {
        "id": "IoyCA80GBSlG"
      },
      "source": [
        "\n",
        "model = tf.keras.Sequential()\n",
        "model.add(layers.Conv2D(filters=16, kernel_size=(3, 3), \n",
        "                        input_shape=(IMG_SIZE+(3,)),activation=\"relu\", padding=\"same\"))\n",
        "model.add(layers.MaxPooling2D(pool_size=(2, 2)))\n",
        "\n",
        "model.add(layers.Conv2D(32, kernel_size=(3, 3), activation=\"relu\", padding=\"same\"))\n",
        "model.add(layers.MaxPooling2D(pool_size=(2, 2)))\n",
        "\n",
        "model.add(layers.Conv2D(64, kernel_size=(3, 3), activation=\"relu\", padding=\"same\"))\n",
        "model.add(layers.MaxPooling2D(pool_size=(2, 2)))\n",
        "\n",
        "model.add(layers.Conv2D(128, kernel_size=(3, 3), activation=\"relu\", padding=\"same\"))\n",
        "model.add(layers.GlobalAveragePooling2D())\n",
        "\n",
        "model.add(layers.Dense(2, activation=\"softmax\"))\n",
        "\n",
        "model.summary()"
      ],
      "execution_count": null,
      "outputs": []
    },
    {
      "cell_type": "code",
      "metadata": {
        "id": "sKbvh3bl9vnG"
      },
      "source": [
        "from tensorflow.python.framework.importer import import_graph_def\n",
        "def do_salience(image, model, label, prefix):\n",
        "  '''\n",
        "  Generates the saliency map of a given image.\n",
        "\n",
        "  Args:\n",
        "    image (file) -- picture that the model will classify\n",
        "    model (keras Model) -- your cats and dogs classifier\n",
        "    label (int) -- ground truth label of the image\n",
        "    prefix (string) -- prefix to add to the filename of the saliency map\n",
        "  '''\n",
        "\n",
        "  # Read the image and convert channel order from BGR to RGB\n",
        "  \n",
        "  img = cv2.imread(image) \n",
        "  img = cv2.cvtColor(img, cv2.COLOR_BGR2RGB) \n",
        "\n",
        "  # Resize the image to 300 x 300 and normalize pixel values to the range [0, 1]\n",
        "  \n",
        "  img = cv2.resize(img, IMG_SIZE) / 255.0\n",
        "\n",
        "  # Add an additional dimension (for the batch), and save this in a new variable\n",
        "  \n",
        "  tensor_image = np.expand_dims(img, axis=0)\n",
        "\n",
        "  # Declare the number of classes\n",
        "  \n",
        "  number_of_classes = num_classes # already defined in load dataset step\n",
        "\n",
        "  # Define the expected output array by one-hot encoding the label\n",
        "  # The length of the array is equal to the number of classes\n",
        "  \n",
        "  one_hot_label = tf.one_hot([label] * tensor_image.shape[0], num_classes)\n",
        "\n",
        "  # Witin the GradientTape block:\n",
        "  # Cast the image as a tf.float32\n",
        "  # Use the tape to watch the float32 image\n",
        "  # Get the model's prediction by passing in the float32 image\n",
        "  # Compute an appropriate loss\n",
        "  # between the expected output and model predictions.\n",
        "  # you may want to print the predictions to see if the probabilities adds up to 1\n",
        "  \n",
        "  with tf.GradientTape() as tape:\n",
        "    inputs = tf.cast(tensor_image, dtype=tf.float32)\n",
        "\n",
        "    # watch the input pixels\n",
        "    tape.watch(inputs)\n",
        "\n",
        "    predictions = model(inputs)\n",
        "    loss = tf.keras.losses.categorical_crossentropy(one_hot_label, predictions)\n",
        "\n",
        "\n",
        "  # get the gradients of the loss with respect to the model's input image\n",
        " \n",
        "  gradients = tape.gradient(loss, inputs)\n",
        "    \n",
        "  # generate the grayscale tensor\n",
        "  \n",
        "  grayscale_tensor = tf.reduce_sum(tf.abs(gradients), axis=-1) \n",
        "\n",
        "  # normalize the pixel values to be in the range [0, 255].\n",
        "  # the max value in the grayscale tensor will be pushed to 255.\n",
        "  # the min value will be pushed to 0.\n",
        "  # Use the formula: 255 * (x - min) / (max - min)\n",
        "  # Use tf.reduce_max, tf.reduce_min\n",
        "  # Cast the tensor as a tf.uint8\n",
        "\n",
        "  normalized_tensor = 255 * (grayscale_tensor - tf.reduce_min(grayscale_tensor)) / (tf.reduce_max(grayscale_tensor) - tf.reduce_min(grayscale_tensor))\n",
        "  normalized_tensor = tf.cast(normalized_tensor, dtype=tf.uint8)  \n",
        "  # Remove dimensions that are size 1\n",
        "\n",
        "  normalized_tensor = tf.squeeze(normalized_tensor)\n",
        "\n",
        "    \n",
        "  # plot the normalized tensor\n",
        "  # Set the figure size to 8 by 8\n",
        "  # do not display the axis\n",
        "  # use the 'gray' colormap\n",
        "  plt.figure(figsize=(8, 8))\n",
        "  plt.axis('off')\n",
        "  plt.imshow(normalized_tensor, cmap='gray')\n",
        "  plt.show()\n",
        "\n",
        "\n",
        "\n",
        "\n",
        "  # save the normalized tensor image to a file. this is already provided for you.\n",
        "  salient_image_name = prefix + image\n",
        "  normalized_tensor = tf.expand_dims(normalized_tensor, -1)\n",
        "  normalized_tensor = tf.io.encode_jpeg(normalized_tensor, quality=100, format='grayscale')\n",
        "  writer = tf.io.write_file(salient_image_name, normalized_tensor)"
      ],
      "execution_count": null,
      "outputs": []
    },
    {
      "cell_type": "code",
      "metadata": {
        "id": "k39fF4n8fgG0"
      },
      "source": [
        "# load initial weights\n",
        "model.load_weights('0_epochs.h5')\n",
        "\n",
        "# generate the saliency maps for the 5 test images\n",
        "\n",
        "do_salience('cat1.jpg', model, 0, 'epoch0_salient') \n",
        "do_salience('cat2.jpg', model, 0, 'epoch0_salient') \n",
        "do_salience('catanddog.jpg', model, 0, 'epoch0_salient')  \n",
        "do_salience('dog1.jpg', model, 1, 'epoch0_salient')  \n",
        "do_salience('dog2.jpg', model, 1, 'epoch0_salient')"
      ],
      "execution_count": null,
      "outputs": []
    },
    {
      "cell_type": "markdown",
      "metadata": {
        "id": "8kcdyut5E2Tk"
      },
      "source": [
        "With untrained weights, you will see something like this in the output. \n",
        "- You will see strong pixels outside the cat that the model uses that when classifying the image. \n",
        "- After training that these will slowly start to localize to features inside the pet.\n",
        "\n",
        "<img src='https://drive.google.com/uc?export=view&id=1h5wP52lwbBUMVLlsgyb-tQl_I9eu42X7' alt='saliency'>\n"
      ]
    },
    {
      "cell_type": "code",
      "metadata": {
        "id": "DkyWZ5KdBo-z"
      },
      "source": [
        "\n",
        "rmsprop = RMSprop(learning_rate=0.001)\n",
        "model.compile(\n",
        "    loss=tf.keras.losses.SparseCategoricalCrossentropy(),\n",
        "    optimizer = rmsprop,\n",
        "    metrics=[\"accuracy\"]\n",
        ")"
      ],
      "execution_count": null,
      "outputs": []
    },
    {
      "cell_type": "code",
      "metadata": {
        "id": "5YSNp7k7BqfL"
      },
      "source": [
        "# load pre-trained weights\n",
        "model.load_weights('15_epochs.h5')\n",
        "\n",
        "# train the model for just 3 epochs\n",
        "\n",
        "model.fit(train_batches,\n",
        "          epochs=3)"
      ],
      "execution_count": null,
      "outputs": []
    },
    {
      "cell_type": "code",
      "metadata": {
        "id": "bXFtabyVhIKN"
      },
      "source": [
        "# YOUR CODE HERE\n",
        "do_salience('cat1.jpg', model, 0, 'salient') \n",
        "do_salience('cat2.jpg', model, 0, 'salient') \n",
        "do_salience('catanddog.jpg', model, 0, 'salient')  \n",
        "do_salience('dog1.jpg', model, 1, 'salient')  \n",
        "do_salience('dog2.jpg', model, 1, 'salient')"
      ],
      "execution_count": null,
      "outputs": []
    },
    {
      "cell_type": "code",
      "metadata": {
        "id": "b-MhcA8Uh8H_"
      },
      "source": [
        "from zipfile import ZipFile\n",
        "\n",
        "!rm images.zip\n",
        "\n",
        "filenames = ['cat1.jpg', 'cat2.jpg', 'catanddog.jpg', 'dog1.jpg', 'dog2.jpg']\n",
        "\n",
        "# writing files to a zipfile \n",
        "with ZipFile('images.zip','w') as zip:\n",
        "  for file in filenames:\n",
        "    zip.write('salient' + file)\n",
        "\n",
        "print(\"images.zip generated!\")"
      ],
      "execution_count": null,
      "outputs": []
    },
    {
      "cell_type": "code",
      "metadata": {
        "id": "elUfhSmMvJZh"
      },
      "source": [
        "!wget --no-check-certificate 'https://docs.google.com/uc?export=download&id=14vFpBJsL_TNQeugX8vUTv8dYZxn__fQY' -O 95_epochs.h5\n",
        "\n",
        "model.load_weights('95_epochs.h5')\n",
        "\n",
        "do_salience('cat1.jpg', model, 0, \"epoch95_salient\")\n",
        "do_salience('cat2.jpg', model, 0, \"epoch95_salient\")\n",
        "do_salience('catanddog.jpg', model, 0, \"epoch95_salient\")\n",
        "do_salience('dog1.jpg', model, 1, \"epoch95_salient\")\n",
        "do_salience('dog2.jpg', model, 1, \"epoch95_salient\")"
      ],
      "execution_count": null,
      "outputs": []
    }
  ]
}