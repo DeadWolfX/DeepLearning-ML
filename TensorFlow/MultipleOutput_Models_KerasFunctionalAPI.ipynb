{
 "cells": [
  {
   "cell_type": "markdown",
   "metadata": {
    "id": "ZL_6GK8qX35J"
   },
   "source": [
    "\n",
    "\n",
    "## Multiple Output Models using the Keras Functional API\n",
    "\n"
   ]
  },
  {
   "cell_type": "code",
   "execution_count": null,
   "metadata": {
    "id": "t8N3pcTQ5oQI"
   },
   "outputs": [],
   "source": [
    "import tensorflow as tf\n",
    "from tensorflow.keras.models import Model\n",
    "from tensorflow.keras.layers import Dense, Input\n",
    "\n",
    "import numpy as np\n",
    "import matplotlib.pyplot as plt\n",
    "import pandas as pd\n",
    "from sklearn.model_selection import train_test_split\n",
    "from sklearn.metrics import confusion_matrix\n",
    "import itertools\n",
    "\n",
    "import utils"
   ]
  },
  {
   "cell_type": "code",
   "execution_count": null,
   "metadata": {
    "deletable": false,
    "id": "2qYAjKXCd4RH",
    "nbgrader": {
     "cell_type": "code",
     "checksum": "325ea195519b7035934c95bb529a062c",
     "grade": false,
     "grade_id": "cell-e5bfa0f152d9a21f",
     "locked": false,
     "schema_version": 3,
     "solution": true,
     "task": false
    }
   },
   "outputs": [],
   "source": [
    "\n",
    "\n",
    "# # URL of the white wine dataset\n",
    "URI = './winequality-white.csv'\n",
    "\n",
    "# # load the dataset from the URL\n",
    "white_df = pd.read_csv(URI, sep=\";\")\n",
    "\n",
    "# # fill the `is_red` column with zeros.\n",
    "white_df[\"is_red\"] = 0\n",
    "\n",
    "# # keep only the first of duplicate items\n",
    "white_df = white_df.drop_duplicates(keep='first')\n"
   ]
  },
  {
   "cell_type": "code",
   "execution_count": null,
   "metadata": {
    "id": "OQHK0ohBQRCk",
    "outputId": "b2e13b52-19cb-4fe3-e1be-88640256948a"
   },
   "outputs": [
    {
     "name": "stdout",
     "output_type": "stream",
     "text": [
      "8.8\n",
      "9.1\n"
     ]
    }
   ],
   "source": [
    "print(white_df.alcohol[0])\n",
    "print(white_df.alcohol[100])\n",
    "\n"
   ]
  },
  {
   "cell_type": "code",
   "execution_count": null,
   "metadata": {
    "deletable": false,
    "id": "8y3QxKwBed8v",
    "nbgrader": {
     "cell_type": "code",
     "checksum": "12e0963d15be33b01b4e6ebc8945e51e",
     "grade": false,
     "grade_id": "cell-e47a40f306593274",
     "locked": false,
     "schema_version": 3,
     "solution": true,
     "task": false
    }
   },
   "outputs": [],
   "source": [
    "\n",
    "\n",
    "# URL of the red wine dataset\n",
    "URI = './winequality-red.csv'\n",
    "\n",
    "# load the dataset from the URL\n",
    "red_df = pd.read_csv(URI, sep=\";\")\n",
    "\n",
    "# fill the `is_red` column with ones.\n",
    "red_df[\"is_red\"] = 1\n",
    "\n",
    "# keep only the first of duplicate items\n",
    "red_df = red_df.drop_duplicates(keep='first')\n"
   ]
  },
  {
   "cell_type": "code",
   "execution_count": null,
   "metadata": {
    "id": "zsB3LUzNQpo_",
    "outputId": "ebd2db8e-8492-40f1-d8a0-c09ada1ee2bb"
   },
   "outputs": [
    {
     "name": "stdout",
     "output_type": "stream",
     "text": [
      "9.4\n",
      "10.2\n"
     ]
    }
   ],
   "source": [
    "print(red_df.alcohol[0])\n",
    "print(red_df.alcohol[100])\n",
    "\n"
   ]
  },
  {
   "cell_type": "code",
   "execution_count": null,
   "metadata": {
    "id": "YpQrOjJbfN3m"
   },
   "outputs": [],
   "source": [
    "df = pd.concat([red_df, white_df], ignore_index=True)"
   ]
  },
  {
   "cell_type": "code",
   "execution_count": null,
   "metadata": {
    "id": "Se2dTmThQyjb",
    "outputId": "873810de-045d-4e68-d1b6-c11b05457335"
   },
   "outputs": [
    {
     "name": "stdout",
     "output_type": "stream",
     "text": [
      "9.4\n",
      "9.5\n"
     ]
    }
   ],
   "source": [
    "print(df.alcohol[0])\n",
    "print(df.alcohol[100])\n",
    "\n"
   ]
  },
  {
   "cell_type": "code",
   "execution_count": null,
   "metadata": {
    "id": "wx6y3rPpQv4k"
   },
   "outputs": [],
   "source": [
    "df = df.iloc[np.random.permutation(len(df))]"
   ]
  },
  {
   "cell_type": "markdown",
   "metadata": {
    "id": "-EqIcbg5M_n1"
   },
   "source": [
    "This will chart the quality of the wines."
   ]
  },
  {
   "cell_type": "code",
   "execution_count": null,
   "metadata": {
    "id": "IsvK0-Sgy17C",
    "outputId": "1d52b550-868b-4550-c42b-5e4e5becc09f"
   },
   "outputs": [
    {
     "data": {
      "image/png": "[encoded data removed]",
      "text/plain": [
       "<Figure size 432x288 with 1 Axes>"
      ]
     },
     "metadata": {
      "needs_background": "light"
     },
     "output_type": "display_data"
    }
   ],
   "source": [
    "df['quality'].hist(bins=20);"
   ]
  },
  {
   "cell_type": "code",
   "execution_count": null,
   "metadata": {
    "deletable": false,
    "id": "doH9_-gnf3sz",
    "nbgrader": {
     "cell_type": "code",
     "checksum": "d9ba9fc3a3ca02ccc567be33652b80fe",
     "grade": false,
     "grade_id": "cell-6a3e9db696f6827b",
     "locked": false,
     "schema_version": 3,
     "solution": true,
     "task": false
    }
   },
   "outputs": [],
   "source": [
    "\n",
    "# get data with wine quality greater than 4 and less than 8\n",
    "df = df[(df['quality'] > 4) & (df['quality'] < 8)]\n",
    "\n",
    "# reset index and drop the old one\n",
    "df = df.reset_index(drop=True)"
   ]
  },
  {
   "cell_type": "code",
   "execution_count": null,
   "metadata": {
    "id": "xNR1iAlMRPXO",
    "outputId": "76358a02-139c-4300-b819-ea86b62cfc4a"
   },
   "outputs": [
    {
     "name": "stdout",
     "output_type": "stream",
     "text": [
      "9.4\n",
      "10.9\n"
     ]
    }
   ],
   "source": [
    "print(df.alcohol[0])\n",
    "print(df.alcohol[100])\n",
    "\n"
   ]
  },
  {
   "cell_type": "markdown",
   "metadata": {
    "id": "cwhuRpnVRTzG"
   },
   "source": [
    "You can plot again to see the new range of data and quality"
   ]
  },
  {
   "cell_type": "code",
   "execution_count": null,
   "metadata": {
    "id": "857ygzZiLgGg",
    "outputId": "c5e4c101-fb01-4e55-e086-45d87abbc978"
   },
   "outputs": [
    {
     "data": {
      "image/png": "[encoded data removed]",
      "text/plain": [
       "<Figure size 432x288 with 1 Axes>"
      ]
     },
     "metadata": {
      "needs_background": "light"
     },
     "output_type": "display_data"
    }
   ],
   "source": [
    "df['quality'].hist(bins=20);"
   ]
  },
  {
   "cell_type": "code",
   "execution_count": null,
   "metadata": {
    "deletable": false,
    "id": "PAVIf2-fgRVY",
    "nbgrader": {
     "cell_type": "code",
     "checksum": "7f5738f4fb51d65adc9a8acbdf2b9970",
     "grade": false,
     "grade_id": "cell-91946cadf745206b",
     "locked": false,
     "schema_version": 3,
     "solution": true,
     "task": false
    }
   },
   "outputs": [],
   "source": [
    "\n",
    "# split df into 80:20 train and test sets\n",
    "train, test = train_test_split(df, test_size=0.2, random_state = 1)\n",
    "                               \n",
    "# split train into 80:20 train and val sets\n",
    "train, val = train_test_split(train, test_size=0.2, random_state = 1)"
   ]
  },
  {
   "cell_type": "code",
   "execution_count": null,
   "metadata": {
    "id": "Y_afyhhHM6WQ"
   },
   "outputs": [],
   "source": [
    "train_stats = train.describe()\n",
    "train_stats.pop('is_red')\n",
    "train_stats.pop('quality')\n",
    "train_stats = train_stats.transpose()"
   ]
  },
  {
   "cell_type": "code",
   "execution_count": null,
   "metadata": {
    "id": "n_gAtPjZ0otF",
    "outputId": "d0db5836-d793-455f-ff41-b85d389e0dce"
   },
   "outputs": [
    {
     "data": {
      "text/html": [
       "<div>\n",
       "<style scoped>\n",
       "    .dataframe tbody tr th:only-of-type {\n",
       "        vertical-align: middle;\n",
       "    }\n",
       "\n",
       "    .dataframe tbody tr th {\n",
       "        vertical-align: top;\n",
       "    }\n",
       "\n",
       "    .dataframe thead th {\n",
       "        text-align: right;\n",
       "    }\n",
       "</style>\n",
       "<table border=\"1\" class=\"dataframe\">\n",
       "  <thead>\n",
       "    <tr style=\"text-align: right;\">\n",
       "      <th></th>\n",
       "      <th>count</th>\n",
       "      <th>mean</th>\n",
       "      <th>std</th>\n",
       "      <th>min</th>\n",
       "      <th>25%</th>\n",
       "      <th>50%</th>\n",
       "      <th>75%</th>\n",
       "      <th>max</th>\n",
       "    </tr>\n",
       "  </thead>\n",
       "  <tbody>\n",
       "    <tr>\n",
       "      <th>fixed acidity</th>\n",
       "      <td>3155.0</td>\n",
       "      <td>7.221616</td>\n",
       "      <td>1.325297</td>\n",
       "      <td>3.80000</td>\n",
       "      <td>6.40000</td>\n",
       "      <td>7.00000</td>\n",
       "      <td>7.7000</td>\n",
       "      <td>15.60000</td>\n",
       "    </tr>\n",
       "    <tr>\n",
       "      <th>volatile acidity</th>\n",
       "      <td>3155.0</td>\n",
       "      <td>0.338929</td>\n",
       "      <td>0.162476</td>\n",
       "      <td>0.08000</td>\n",
       "      <td>0.23000</td>\n",
       "      <td>0.29000</td>\n",
       "      <td>0.4000</td>\n",
       "      <td>1.24000</td>\n",
       "    </tr>\n",
       "    <tr>\n",
       "      <th>citric acid</th>\n",
       "      <td>3155.0</td>\n",
       "      <td>0.321569</td>\n",
       "      <td>0.147970</td>\n",
       "      <td>0.00000</td>\n",
       "      <td>0.25000</td>\n",
       "      <td>0.31000</td>\n",
       "      <td>0.4000</td>\n",
       "      <td>1.66000</td>\n",
       "    </tr>\n",
       "    <tr>\n",
       "      <th>residual sugar</th>\n",
       "      <td>3155.0</td>\n",
       "      <td>5.155911</td>\n",
       "      <td>4.639632</td>\n",
       "      <td>0.60000</td>\n",
       "      <td>1.80000</td>\n",
       "      <td>2.80000</td>\n",
       "      <td>7.6500</td>\n",
       "      <td>65.80000</td>\n",
       "    </tr>\n",
       "    <tr>\n",
       "      <th>chlorides</th>\n",
       "      <td>3155.0</td>\n",
       "      <td>0.056976</td>\n",
       "      <td>0.036802</td>\n",
       "      <td>0.01200</td>\n",
       "      <td>0.03800</td>\n",
       "      <td>0.04700</td>\n",
       "      <td>0.0660</td>\n",
       "      <td>0.61100</td>\n",
       "    </tr>\n",
       "    <tr>\n",
       "      <th>free sulfur dioxide</th>\n",
       "      <td>3155.0</td>\n",
       "      <td>30.388590</td>\n",
       "      <td>17.236784</td>\n",
       "      <td>1.00000</td>\n",
       "      <td>17.00000</td>\n",
       "      <td>28.00000</td>\n",
       "      <td>41.0000</td>\n",
       "      <td>131.00000</td>\n",
       "    </tr>\n",
       "    <tr>\n",
       "      <th>total sulfur dioxide</th>\n",
       "      <td>3155.0</td>\n",
       "      <td>115.062282</td>\n",
       "      <td>56.706617</td>\n",
       "      <td>6.00000</td>\n",
       "      <td>75.00000</td>\n",
       "      <td>117.00000</td>\n",
       "      <td>156.0000</td>\n",
       "      <td>344.00000</td>\n",
       "    </tr>\n",
       "    <tr>\n",
       "      <th>density</th>\n",
       "      <td>3155.0</td>\n",
       "      <td>0.994633</td>\n",
       "      <td>0.003005</td>\n",
       "      <td>0.98711</td>\n",
       "      <td>0.99232</td>\n",
       "      <td>0.99481</td>\n",
       "      <td>0.9968</td>\n",
       "      <td>1.03898</td>\n",
       "    </tr>\n",
       "    <tr>\n",
       "      <th>pH</th>\n",
       "      <td>3155.0</td>\n",
       "      <td>3.223201</td>\n",
       "      <td>0.161272</td>\n",
       "      <td>2.72000</td>\n",
       "      <td>3.11000</td>\n",
       "      <td>3.21000</td>\n",
       "      <td>3.3300</td>\n",
       "      <td>4.01000</td>\n",
       "    </tr>\n",
       "    <tr>\n",
       "      <th>sulphates</th>\n",
       "      <td>3155.0</td>\n",
       "      <td>0.534051</td>\n",
       "      <td>0.149149</td>\n",
       "      <td>0.22000</td>\n",
       "      <td>0.43000</td>\n",
       "      <td>0.51000</td>\n",
       "      <td>0.6000</td>\n",
       "      <td>1.95000</td>\n",
       "    </tr>\n",
       "    <tr>\n",
       "      <th>alcohol</th>\n",
       "      <td>3155.0</td>\n",
       "      <td>10.504466</td>\n",
       "      <td>1.154654</td>\n",
       "      <td>8.50000</td>\n",
       "      <td>9.50000</td>\n",
       "      <td>10.30000</td>\n",
       "      <td>11.3000</td>\n",
       "      <td>14.00000</td>\n",
       "    </tr>\n",
       "  </tbody>\n",
       "</table>\n",
       "</div>"
      ],
      "text/plain": [
       "                       count        mean        std      min       25%  \\\n",
       "fixed acidity         3155.0    7.221616   1.325297  3.80000   6.40000   \n",
       "volatile acidity      3155.0    0.338929   0.162476  0.08000   0.23000   \n",
       "citric acid           3155.0    0.321569   0.147970  0.00000   0.25000   \n",
       "residual sugar        3155.0    5.155911   4.639632  0.60000   1.80000   \n",
       "chlorides             3155.0    0.056976   0.036802  0.01200   0.03800   \n",
       "free sulfur dioxide   3155.0   30.388590  17.236784  1.00000  17.00000   \n",
       "total sulfur dioxide  3155.0  115.062282  56.706617  6.00000  75.00000   \n",
       "density               3155.0    0.994633   0.003005  0.98711   0.99232   \n",
       "pH                    3155.0    3.223201   0.161272  2.72000   3.11000   \n",
       "sulphates             3155.0    0.534051   0.149149  0.22000   0.43000   \n",
       "alcohol               3155.0   10.504466   1.154654  8.50000   9.50000   \n",
       "\n",
       "                            50%       75%        max  \n",
       "fixed acidity           7.00000    7.7000   15.60000  \n",
       "volatile acidity        0.29000    0.4000    1.24000  \n",
       "citric acid             0.31000    0.4000    1.66000  \n",
       "residual sugar          2.80000    7.6500   65.80000  \n",
       "chlorides               0.04700    0.0660    0.61100  \n",
       "free sulfur dioxide    28.00000   41.0000  131.00000  \n",
       "total sulfur dioxide  117.00000  156.0000  344.00000  \n",
       "density                 0.99481    0.9968    1.03898  \n",
       "pH                      3.21000    3.3300    4.01000  \n",
       "sulphates               0.51000    0.6000    1.95000  \n",
       "alcohol                10.30000   11.3000   14.00000  "
      ]
     },
     "execution_count": 18,
     "metadata": {},
     "output_type": "execute_result"
    }
   ],
   "source": [
    "train_stats"
   ]
  },
  {
   "cell_type": "code",
   "execution_count": null,
   "metadata": {
    "id": "Z_fs14XQqZVP"
   },
   "outputs": [],
   "source": [
    "def format_output(data):\n",
    "    is_red = data.pop('is_red')\n",
    "    is_red = np.array(is_red)\n",
    "    quality = data.pop('quality')\n",
    "    quality = np.array(quality)\n",
    "    return (quality, is_red)"
   ]
  },
  {
   "cell_type": "code",
   "execution_count": null,
   "metadata": {
    "deletable": false,
    "id": "8L3ZZe1fQicm",
    "nbgrader": {
     "cell_type": "code",
     "checksum": "7a86809e54895a816434c48dc903f55d",
     "grade": false,
     "grade_id": "cell-5c30fa2c2a354b0f",
     "locked": false,
     "schema_version": 3,
     "solution": true,
     "task": false
    }
   },
   "outputs": [],
   "source": [
    "\n",
    "\n",
    "# format the output of the train set\n",
    "train_Y = format_output(train)\n",
    "\n",
    "# format the output of the val set\n",
    "val_Y = format_output(val)\n",
    "    \n",
    "# format the output of the test set\n",
    "test_Y = format_output(test)"
   ]
  },
  {
   "cell_type": "code",
   "execution_count": null,
   "metadata": {
    "id": "rpcNJ4tyQNXD",
    "outputId": "348aa808-3035-4a99-883a-72349e2a38c9"
   },
   "outputs": [
    {
     "data": {
      "text/html": [
       "<div>\n",
       "<style scoped>\n",
       "    .dataframe tbody tr th:only-of-type {\n",
       "        vertical-align: middle;\n",
       "    }\n",
       "\n",
       "    .dataframe tbody tr th {\n",
       "        vertical-align: top;\n",
       "    }\n",
       "\n",
       "    .dataframe thead th {\n",
       "        text-align: right;\n",
       "    }\n",
       "</style>\n",
       "<table border=\"1\" class=\"dataframe\">\n",
       "  <thead>\n",
       "    <tr style=\"text-align: right;\">\n",
       "      <th></th>\n",
       "      <th>fixed acidity</th>\n",
       "      <th>volatile acidity</th>\n",
       "      <th>citric acid</th>\n",
       "      <th>residual sugar</th>\n",
       "      <th>chlorides</th>\n",
       "      <th>free sulfur dioxide</th>\n",
       "      <th>total sulfur dioxide</th>\n",
       "      <th>density</th>\n",
       "      <th>pH</th>\n",
       "      <th>sulphates</th>\n",
       "      <th>alcohol</th>\n",
       "    </tr>\n",
       "  </thead>\n",
       "  <tbody>\n",
       "    <tr>\n",
       "      <th>225</th>\n",
       "      <td>7.5</td>\n",
       "      <td>0.65</td>\n",
       "      <td>0.18</td>\n",
       "      <td>7.0</td>\n",
       "      <td>0.088</td>\n",
       "      <td>27.0</td>\n",
       "      <td>94.0</td>\n",
       "      <td>0.99915</td>\n",
       "      <td>3.38</td>\n",
       "      <td>0.77</td>\n",
       "      <td>9.4</td>\n",
       "    </tr>\n",
       "    <tr>\n",
       "      <th>3557</th>\n",
       "      <td>6.3</td>\n",
       "      <td>0.27</td>\n",
       "      <td>0.29</td>\n",
       "      <td>12.2</td>\n",
       "      <td>0.044</td>\n",
       "      <td>59.0</td>\n",
       "      <td>196.0</td>\n",
       "      <td>0.99782</td>\n",
       "      <td>3.14</td>\n",
       "      <td>0.40</td>\n",
       "      <td>8.8</td>\n",
       "    </tr>\n",
       "    <tr>\n",
       "      <th>3825</th>\n",
       "      <td>8.8</td>\n",
       "      <td>0.27</td>\n",
       "      <td>0.25</td>\n",
       "      <td>5.0</td>\n",
       "      <td>0.024</td>\n",
       "      <td>52.0</td>\n",
       "      <td>99.0</td>\n",
       "      <td>0.99250</td>\n",
       "      <td>2.87</td>\n",
       "      <td>0.49</td>\n",
       "      <td>11.4</td>\n",
       "    </tr>\n",
       "    <tr>\n",
       "      <th>1740</th>\n",
       "      <td>6.4</td>\n",
       "      <td>0.45</td>\n",
       "      <td>0.07</td>\n",
       "      <td>1.1</td>\n",
       "      <td>0.030</td>\n",
       "      <td>10.0</td>\n",
       "      <td>131.0</td>\n",
       "      <td>0.99050</td>\n",
       "      <td>2.97</td>\n",
       "      <td>0.28</td>\n",
       "      <td>10.8</td>\n",
       "    </tr>\n",
       "    <tr>\n",
       "      <th>1221</th>\n",
       "      <td>7.2</td>\n",
       "      <td>0.53</td>\n",
       "      <td>0.13</td>\n",
       "      <td>2.0</td>\n",
       "      <td>0.058</td>\n",
       "      <td>18.0</td>\n",
       "      <td>22.0</td>\n",
       "      <td>0.99573</td>\n",
       "      <td>3.21</td>\n",
       "      <td>0.68</td>\n",
       "      <td>9.9</td>\n",
       "    </tr>\n",
       "  </tbody>\n",
       "</table>\n",
       "</div>"
      ],
      "text/plain": [
       "      fixed acidity  volatile acidity  citric acid  residual sugar  chlorides  \\\n",
       "225             7.5              0.65         0.18             7.0      0.088   \n",
       "3557            6.3              0.27         0.29            12.2      0.044   \n",
       "3825            8.8              0.27         0.25             5.0      0.024   \n",
       "1740            6.4              0.45         0.07             1.1      0.030   \n",
       "1221            7.2              0.53         0.13             2.0      0.058   \n",
       "\n",
       "      free sulfur dioxide  total sulfur dioxide  density    pH  sulphates  \\\n",
       "225                  27.0                  94.0  0.99915  3.38       0.77   \n",
       "3557                 59.0                 196.0  0.99782  3.14       0.40   \n",
       "3825                 52.0                  99.0  0.99250  2.87       0.49   \n",
       "1740                 10.0                 131.0  0.99050  2.97       0.28   \n",
       "1221                 18.0                  22.0  0.99573  3.21       0.68   \n",
       "\n",
       "      alcohol  \n",
       "225       9.4  \n",
       "3557      8.8  \n",
       "3825     11.4  \n",
       "1740     10.8  \n",
       "1221      9.9  "
      ]
     },
     "execution_count": 22,
     "metadata": {},
     "output_type": "execute_result"
    }
   ],
   "source": [
    "train.head()"
   ]
  },
  {
   "cell_type": "markdown",
   "metadata": {
    "id": "hEdbrruAsN1D"
   },
   "source": [
    "### Normalize \n",
    "$$x_{norm} = \\frac{x - \\mu}{\\sigma}$$\n"
   ]
  },
  {
   "cell_type": "code",
   "execution_count": null,
   "metadata": {
    "id": "WWiZPAHCLjUs"
   },
   "outputs": [],
   "source": [
    "def norm(x):\n",
    "    return (x - train_stats['mean']) / train_stats['std']"
   ]
  },
  {
   "cell_type": "code",
   "execution_count": null,
   "metadata": {
    "deletable": false,
    "id": "JEaOi2I2Lk69",
    "nbgrader": {
     "cell_type": "code",
     "checksum": "6bc0cdcb563d192f271067aa3373ff32",
     "grade": false,
     "grade_id": "cell-d8416d975c371095",
     "locked": false,
     "schema_version": 3,
     "solution": true,
     "task": false
    }
   },
   "outputs": [],
   "source": [
    "\n",
    "# normalize the train set\n",
    "norm_train_X = norm(train)\n",
    "    \n",
    "# normalize the val set\n",
    "norm_val_X = norm(val)\n",
    "    \n",
    "# normalize the test set\n",
    "norm_test_X = norm(test)"
   ]
  },
  {
   "cell_type": "code",
   "execution_count": null,
   "metadata": {
    "deletable": false,
    "id": "Rhcns3oTFkM6",
    "nbgrader": {
     "cell_type": "code",
     "checksum": "74b031247e569526552bf13a034a1c07",
     "grade": false,
     "grade_id": "cell-73fceedad1fe351c",
     "locked": false,
     "schema_version": 3,
     "solution": true,
     "task": false
    }
   },
   "outputs": [],
   "source": [
    "\n",
    "\n",
    "def base_model(inputs):\n",
    "    \n",
    "    # connect a Dense layer with 128 neurons and a relu activation\n",
    "    x = tf.keras.layers.Dense(128, activation='relu', name='base_dense_1')(inputs)\n",
    "    \n",
    "    # connect another Dense layer with 128 neurons and a relu activation\n",
    "    x = tf.keras.layers.Dense(128, activation='relu', name='base_dense_2')(x)\n",
    "    return x\n",
    "  "
   ]
  },
  {
   "cell_type": "code",
   "execution_count": null,
   "metadata": {
    "deletable": false,
    "id": "n5UGF8PMVLPt",
    "nbgrader": {
     "cell_type": "code",
     "checksum": "76d35b90d20cdcbb22986cd8211057de",
     "grade": false,
     "grade_id": "cell-19e285f482f021fb",
     "locked": false,
     "schema_version": 3,
     "solution": true,
     "task": false
    }
   },
   "outputs": [],
   "source": [
    "\n",
    "def final_model(inputs):\n",
    "    \n",
    "    # get the base model\n",
    "    x = base_model(inputs)\n",
    "\n",
    "    # connect the output Dense layer for regression\n",
    "    wine_quality = Dense(units='1', name='wine_quality')(x)\n",
    "\n",
    "    # connect the output Dense layer for classification. this will use a sigmoid activation.\n",
    "    wine_type = Dense(units='1', activation='sigmoid', name='wine_type')(x)\n",
    "\n",
    "    # define the model using the input and output layers\n",
    "    model = Model(inputs=inputs, outputs=[wine_quality, wine_type])\n",
    "\n",
    "    return model"
   ]
  },
  {
   "cell_type": "code",
   "execution_count": null,
   "metadata": {
    "deletable": false,
    "id": "LK11duUbUjmh",
    "nbgrader": {
     "cell_type": "code",
     "checksum": "22f45067ca69eb2ccadb43874dbcc27b",
     "grade": false,
     "grade_id": "cell-81afdc4dcca51d5e",
     "locked": false,
     "schema_version": 3,
     "solution": true,
     "task": false
    }
   },
   "outputs": [],
   "source": [
    "\n",
    "inputs = tf.keras.layers.Input(shape=(11,))\n",
    "rms = tf.keras.optimizers.RMSprop(lr=0.0001)\n",
    "model = final_model(inputs)\n",
    "\n",
    "model.compile(optimizer=rms, \n",
    "              loss = {'wine_type' : 'binary_crossentropy',\n",
    "                      'wine_quality' : 'mean_squared_error'\n",
    "                     },\n",
    "              metrics = {'wine_type' : 'accuracy',\n",
    "                         'wine_quality': tf.keras.metrics.RootMeanSquaredError()\n",
    "                       }\n",
    "             )"
   ]
  },
  {
   "cell_type": "code",
   "execution_count": null,
   "metadata": {
    "deletable": false,
    "id": "_eiZkle4XwiY",
    "nbgrader": {
     "cell_type": "code",
     "checksum": "d1a4565296017a0611c6f2de675f96cf",
     "grade": false,
     "grade_id": "cell-0bb56262896f6680",
     "locked": false,
     "schema_version": 3,
     "solution": true,
     "task": false
    },
    "outputId": "2be1a048-1b08-4861-84f1-7ff277a77294"
   },
   "outputs": [
    {
     "name": "stdout",
     "output_type": "stream",
     "text": [
      "Train on 3155 samples, validate on 789 samples\n",
      "Epoch 1/40\n",
      "3155/3155 [==============================] - 1s 419us/sample - loss: 26.7004 - wine_quality_loss: 25.9323 - wine_type_loss: 0.7453 - wine_quality_root_mean_squared_error: 5.0946 - wine_type_accuracy: 0.3911 - val_loss: 19.1116 - val_wine_quality_loss: 18.4061 - val_wine_type_loss: 0.7079 - val_wine_quality_root_mean_squared_error: 4.2899 - val_wine_type_accuracy: 0.4816\n",
      "Epoch 2/40\n",
      "3155/3155 [==============================] - 0s 128us/sample - loss: 13.0178 - wine_quality_loss: 12.3255 - wine_type_loss: 0.6696 - wine_quality_root_mean_squared_error: 3.5140 - wine_type_accuracy: 0.5667 - val_loss: 7.5593 - val_wine_quality_loss: 6.9558 - val_wine_type_loss: 0.6222 - val_wine_quality_root_mean_squared_error: 2.6337 - val_wine_type_accuracy: 0.7098\n",
      "Epoch 3/40\n",
      "3155/3155 [==============================] - 0s 127us/sample - loss: 4.6399 - wine_quality_loss: 4.0639 - wine_type_loss: 0.5667 - wine_quality_root_mean_squared_error: 2.0182 - wine_type_accuracy: 0.7534 - val_loss: 2.9598 - val_wine_quality_loss: 2.4901 - val_wine_type_loss: 0.4992 - val_wine_quality_root_mean_squared_error: 1.5685 - val_wine_type_accuracy: 0.8150\n",
      "Epoch 4/40\n",
      "3155/3155 [==============================] - 0s 122us/sample - loss: 2.6672 - wine_quality_loss: 2.2425 - wine_type_loss: 0.4257 - wine_quality_root_mean_squared_error: 1.4970 - wine_type_accuracy: 0.8475 - val_loss: 2.4049 - val_wine_quality_loss: 2.0582 - val_wine_type_loss: 0.3672 - val_wine_quality_root_mean_squared_error: 1.4273 - val_wine_type_accuracy: 0.8872\n",
      "Epoch 5/40\n",
      "3155/3155 [==============================] - 0s 104us/sample - loss: 2.2428 - wine_quality_loss: 1.9289 - wine_type_loss: 0.3169 - wine_quality_root_mean_squared_error: 1.3878 - wine_type_accuracy: 0.9198 - val_loss: 2.0790 - val_wine_quality_loss: 1.8186 - val_wine_type_loss: 0.2763 - val_wine_quality_root_mean_squared_error: 1.3425 - val_wine_type_accuracy: 0.9531\n",
      "Epoch 6/40\n",
      "3155/3155 [==============================] - 0s 125us/sample - loss: 1.9716 - wine_quality_loss: 1.7365 - wine_type_loss: 0.2394 - wine_quality_root_mean_squared_error: 1.3161 - wine_type_accuracy: 0.9616 - val_loss: 1.8479 - val_wine_quality_loss: 1.6486 - val_wine_type_loss: 0.2105 - val_wine_quality_root_mean_squared_error: 1.2795 - val_wine_type_accuracy: 0.9785\n",
      "Epoch 7/40\n",
      "3155/3155 [==============================] - 0s 120us/sample - loss: 1.7677 - wine_quality_loss: 1.5808 - wine_type_loss: 0.1841 - wine_quality_root_mean_squared_error: 1.2583 - wine_type_accuracy: 0.9778 - val_loss: 1.6779 - val_wine_quality_loss: 1.5226 - val_wine_type_loss: 0.1628 - val_wine_quality_root_mean_squared_error: 1.2308 - val_wine_type_accuracy: 0.9835\n",
      "Epoch 8/40\n",
      "3155/3155 [==============================] - 0s 104us/sample - loss: 1.6134 - wine_quality_loss: 1.4651 - wine_type_loss: 0.1456 - wine_quality_root_mean_squared_error: 1.2115 - wine_type_accuracy: 0.9848 - val_loss: 1.5323 - val_wine_quality_loss: 1.4086 - val_wine_type_loss: 0.1295 - val_wine_quality_root_mean_squared_error: 1.1843 - val_wine_type_accuracy: 0.9873\n",
      "Epoch 9/40\n",
      "3155/3155 [==============================] - 0s 120us/sample - loss: 1.4914 - wine_quality_loss: 1.3740 - wine_type_loss: 0.1185 - wine_quality_root_mean_squared_error: 1.1717 - wine_type_accuracy: 0.9851 - val_loss: 1.4147 - val_wine_quality_loss: 1.3131 - val_wine_type_loss: 0.1061 - val_wine_quality_root_mean_squared_error: 1.1439 - val_wine_type_accuracy: 0.9899\n",
      "Epoch 10/40\n",
      "3155/3155 [==============================] - 0s 120us/sample - loss: 1.3858 - wine_quality_loss: 1.2845 - wine_type_loss: 0.1001 - wine_quality_root_mean_squared_error: 1.1340 - wine_type_accuracy: 0.9873 - val_loss: 1.3243 - val_wine_quality_loss: 1.2373 - val_wine_type_loss: 0.0895 - val_wine_quality_root_mean_squared_error: 1.1111 - val_wine_type_accuracy: 0.9899\n",
      "Epoch 11/40\n",
      "3155/3155 [==============================] - 0s 105us/sample - loss: 1.2884 - wine_quality_loss: 1.2024 - wine_type_loss: 0.0856 - wine_quality_root_mean_squared_error: 1.0966 - wine_type_accuracy: 0.9883 - val_loss: 1.2366 - val_wine_quality_loss: 1.1612 - val_wine_type_loss: 0.0770 - val_wine_quality_root_mean_squared_error: 1.0768 - val_wine_type_accuracy: 0.9911\n",
      "Epoch 12/40\n",
      "3155/3155 [==============================] - 0s 120us/sample - loss: 1.2046 - wine_quality_loss: 1.1293 - wine_type_loss: 0.0753 - wine_quality_root_mean_squared_error: 1.0627 - wine_type_accuracy: 0.9889 - val_loss: 1.1598 - val_wine_quality_loss: 1.0927 - val_wine_type_loss: 0.0680 - val_wine_quality_root_mean_squared_error: 1.0448 - val_wine_type_accuracy: 0.9911\n",
      "Epoch 13/40\n",
      "3155/3155 [==============================] - 0s 103us/sample - loss: 1.1331 - wine_quality_loss: 1.0651 - wine_type_loss: 0.0675 - wine_quality_root_mean_squared_error: 1.0322 - wine_type_accuracy: 0.9895 - val_loss: 1.0958 - val_wine_quality_loss: 1.0350 - val_wine_type_loss: 0.0612 - val_wine_quality_root_mean_squared_error: 1.0170 - val_wine_type_accuracy: 0.9924\n",
      "Epoch 14/40\n",
      "3155/3155 [==============================] - 0s 122us/sample - loss: 1.0662 - wine_quality_loss: 1.0039 - wine_type_loss: 0.0616 - wine_quality_root_mean_squared_error: 1.0022 - wine_type_accuracy: 0.9892 - val_loss: 1.0283 - val_wine_quality_loss: 0.9728 - val_wine_type_loss: 0.0556 - val_wine_quality_root_mean_squared_error: 0.9861 - val_wine_type_accuracy: 0.9924\n",
      "Epoch 15/40\n",
      "3155/3155 [==============================] - 0s 120us/sample - loss: 1.0035 - wine_quality_loss: 0.9451 - wine_type_loss: 0.0570 - wine_quality_root_mean_squared_error: 0.9728 - wine_type_accuracy: 0.9895 - val_loss: 0.9740 - val_wine_quality_loss: 0.9219 - val_wine_type_loss: 0.0515 - val_wine_quality_root_mean_squared_error: 0.9603 - val_wine_type_accuracy: 0.9924\n",
      "Epoch 16/40\n",
      "3155/3155 [==============================] - 0s 103us/sample - loss: 0.9456 - wine_quality_loss: 0.8912 - wine_type_loss: 0.0532 - wine_quality_root_mean_squared_error: 0.9446 - wine_type_accuracy: 0.9902 - val_loss: 0.9095 - val_wine_quality_loss: 0.8606 - val_wine_type_loss: 0.0484 - val_wine_quality_root_mean_squared_error: 0.9278 - val_wine_type_accuracy: 0.9924\n",
      "Epoch 17/40\n",
      "3155/3155 [==============================] - 0s 101us/sample - loss: 0.8881 - wine_quality_loss: 0.8364 - wine_type_loss: 0.0503 - wine_quality_root_mean_squared_error: 0.9152 - wine_type_accuracy: 0.9902 - val_loss: 0.8720 - val_wine_quality_loss: 0.8255 - val_wine_type_loss: 0.0456 - val_wine_quality_root_mean_squared_error: 0.9089 - val_wine_type_accuracy: 0.9924\n",
      "Epoch 18/40\n",
      "3155/3155 [==============================] - 0s 124us/sample - loss: 0.8438 - wine_quality_loss: 0.7955 - wine_type_loss: 0.0480 - wine_quality_root_mean_squared_error: 0.8921 - wine_type_accuracy: 0.9902 - val_loss: 0.8342 - val_wine_quality_loss: 0.7895 - val_wine_type_loss: 0.0437 - val_wine_quality_root_mean_squared_error: 0.8890 - val_wine_type_accuracy: 0.9937\n",
      "Epoch 19/40\n",
      "3155/3155 [==============================] - 0s 123us/sample - loss: 0.7991 - wine_quality_loss: 0.7529 - wine_type_loss: 0.0459 - wine_quality_root_mean_squared_error: 0.8678 - wine_type_accuracy: 0.9908 - val_loss: 0.7813 - val_wine_quality_loss: 0.7378 - val_wine_type_loss: 0.0420 - val_wine_quality_root_mean_squared_error: 0.8596 - val_wine_type_accuracy: 0.9937\n",
      "Epoch 20/40\n",
      "3155/3155 [==============================] - 0s 119us/sample - loss: 0.7581 - wine_quality_loss: 0.7139 - wine_type_loss: 0.0446 - wine_quality_root_mean_squared_error: 0.8449 - wine_type_accuracy: 0.9908 - val_loss: 0.7407 - val_wine_quality_loss: 0.6991 - val_wine_type_loss: 0.0405 - val_wine_quality_root_mean_squared_error: 0.8366 - val_wine_type_accuracy: 0.9937\n",
      "Epoch 21/40\n",
      "3155/3155 [==============================] - 0s 106us/sample - loss: 0.7204 - wine_quality_loss: 0.6772 - wine_type_loss: 0.0436 - wine_quality_root_mean_squared_error: 0.8232 - wine_type_accuracy: 0.9911 - val_loss: 0.7006 - val_wine_quality_loss: 0.6602 - val_wine_type_loss: 0.0392 - val_wine_quality_root_mean_squared_error: 0.8131 - val_wine_type_accuracy: 0.9949\n",
      "Epoch 22/40\n",
      "3155/3155 [==============================] - 0s 121us/sample - loss: 0.6875 - wine_quality_loss: 0.6467 - wine_type_loss: 0.0413 - wine_quality_root_mean_squared_error: 0.8037 - wine_type_accuracy: 0.9914 - val_loss: 0.6667 - val_wine_quality_loss: 0.6273 - val_wine_type_loss: 0.0381 - val_wine_quality_root_mean_squared_error: 0.7926 - val_wine_type_accuracy: 0.9949\n",
      "Epoch 23/40\n",
      "3155/3155 [==============================] - 0s 119us/sample - loss: 0.6560 - wine_quality_loss: 0.6170 - wine_type_loss: 0.0404 - wine_quality_root_mean_squared_error: 0.7846 - wine_type_accuracy: 0.9911 - val_loss: 0.6507 - val_wine_quality_loss: 0.6114 - val_wine_type_loss: 0.0374 - val_wine_quality_root_mean_squared_error: 0.7829 - val_wine_type_accuracy: 0.9949\n",
      "Epoch 24/40\n",
      "3155/3155 [==============================] - 0s 104us/sample - loss: 0.6273 - wine_quality_loss: 0.5890 - wine_type_loss: 0.0393 - wine_quality_root_mean_squared_error: 0.7668 - wine_type_accuracy: 0.9911 - val_loss: 0.6181 - val_wine_quality_loss: 0.5802 - val_wine_type_loss: 0.0365 - val_wine_quality_root_mean_squared_error: 0.7624 - val_wine_type_accuracy: 0.9949\n",
      "Epoch 25/40\n",
      "3155/3155 [==============================] - 0s 116us/sample - loss: 0.6000 - wine_quality_loss: 0.5620 - wine_type_loss: 0.0388 - wine_quality_root_mean_squared_error: 0.7493 - wine_type_accuracy: 0.9918 - val_loss: 0.5925 - val_wine_quality_loss: 0.5548 - val_wine_type_loss: 0.0357 - val_wine_quality_root_mean_squared_error: 0.7460 - val_wine_type_accuracy: 0.9937\n",
      "Epoch 26/40\n",
      "3155/3155 [==============================] - 0s 103us/sample - loss: 0.5737 - wine_quality_loss: 0.5358 - wine_type_loss: 0.0376 - wine_quality_root_mean_squared_error: 0.7322 - wine_type_accuracy: 0.9918 - val_loss: 0.5686 - val_wine_quality_loss: 0.5312 - val_wine_type_loss: 0.0353 - val_wine_quality_root_mean_squared_error: 0.7300 - val_wine_type_accuracy: 0.9937\n",
      "Epoch 27/40\n",
      "3155/3155 [==============================] - 0s 122us/sample - loss: 0.5521 - wine_quality_loss: 0.5151 - wine_type_loss: 0.0368 - wine_quality_root_mean_squared_error: 0.7178 - wine_type_accuracy: 0.9918 - val_loss: 0.5405 - val_wine_quality_loss: 0.5038 - val_wine_type_loss: 0.0351 - val_wine_quality_root_mean_squared_error: 0.7107 - val_wine_type_accuracy: 0.9949\n",
      "Epoch 28/40\n",
      "3155/3155 [==============================] - 0s 104us/sample - loss: 0.5317 - wine_quality_loss: 0.4951 - wine_type_loss: 0.0362 - wine_quality_root_mean_squared_error: 0.7038 - wine_type_accuracy: 0.9918 - val_loss: 0.5171 - val_wine_quality_loss: 0.4812 - val_wine_type_loss: 0.0343 - val_wine_quality_root_mean_squared_error: 0.6946 - val_wine_type_accuracy: 0.9949\n",
      "Epoch 29/40\n",
      "3155/3155 [==============================] - 0s 121us/sample - loss: 0.5122 - wine_quality_loss: 0.4771 - wine_type_loss: 0.0356 - wine_quality_root_mean_squared_error: 0.6903 - wine_type_accuracy: 0.9921 - val_loss: 0.5036 - val_wine_quality_loss: 0.4683 - val_wine_type_loss: 0.0339 - val_wine_quality_root_mean_squared_error: 0.6851 - val_wine_type_accuracy: 0.9949\n",
      "Epoch 30/40\n",
      "3155/3155 [==============================] - 0s 121us/sample - loss: 0.4956 - wine_quality_loss: 0.4601 - wine_type_loss: 0.0351 - wine_quality_root_mean_squared_error: 0.6785 - wine_type_accuracy: 0.9924 - val_loss: 0.4834 - val_wine_quality_loss: 0.4484 - val_wine_type_loss: 0.0336 - val_wine_quality_root_mean_squared_error: 0.6704 - val_wine_type_accuracy: 0.9949\n",
      "Epoch 31/40\n",
      "3155/3155 [==============================] - 0s 104us/sample - loss: 0.4802 - wine_quality_loss: 0.4448 - wine_type_loss: 0.0346 - wine_quality_root_mean_squared_error: 0.6675 - wine_type_accuracy: 0.9924 - val_loss: 0.4703 - val_wine_quality_loss: 0.4356 - val_wine_type_loss: 0.0332 - val_wine_quality_root_mean_squared_error: 0.6609 - val_wine_type_accuracy: 0.9949\n",
      "Epoch 32/40\n",
      "3155/3155 [==============================] - 0s 120us/sample - loss: 0.4635 - wine_quality_loss: 0.4292 - wine_type_loss: 0.0341 - wine_quality_root_mean_squared_error: 0.6552 - wine_type_accuracy: 0.9924 - val_loss: 0.4578 - val_wine_quality_loss: 0.4235 - val_wine_type_loss: 0.0329 - val_wine_quality_root_mean_squared_error: 0.6515 - val_wine_type_accuracy: 0.9949\n",
      "Epoch 33/40\n",
      "3155/3155 [==============================] - 0s 120us/sample - loss: 0.4514 - wine_quality_loss: 0.4177 - wine_type_loss: 0.0337 - wine_quality_root_mean_squared_error: 0.6462 - wine_type_accuracy: 0.9927 - val_loss: 0.4409 - val_wine_quality_loss: 0.4070 - val_wine_type_loss: 0.0327 - val_wine_quality_root_mean_squared_error: 0.6386 - val_wine_type_accuracy: 0.9949\n",
      "Epoch 34/40\n",
      "3155/3155 [==============================] - 0s 104us/sample - loss: 0.4402 - wine_quality_loss: 0.4064 - wine_type_loss: 0.0332 - wine_quality_root_mean_squared_error: 0.6379 - wine_type_accuracy: 0.9930 - val_loss: 0.4383 - val_wine_quality_loss: 0.4044 - val_wine_type_loss: 0.0325 - val_wine_quality_root_mean_squared_error: 0.6368 - val_wine_type_accuracy: 0.9949\n",
      "Epoch 35/40\n",
      "3155/3155 [==============================] - 0s 119us/sample - loss: 0.4280 - wine_quality_loss: 0.3950 - wine_type_loss: 0.0328 - wine_quality_root_mean_squared_error: 0.6285 - wine_type_accuracy: 0.9937 - val_loss: 0.4208 - val_wine_quality_loss: 0.3875 - val_wine_type_loss: 0.0322 - val_wine_quality_root_mean_squared_error: 0.6231 - val_wine_type_accuracy: 0.9949\n",
      "Epoch 36/40\n",
      "3155/3155 [==============================] - 0s 106us/sample - loss: 0.4207 - wine_quality_loss: 0.3886 - wine_type_loss: 0.0324 - wine_quality_root_mean_squared_error: 0.6231 - wine_type_accuracy: 0.9933 - val_loss: 0.4129 - val_wine_quality_loss: 0.3795 - val_wine_type_loss: 0.0320 - val_wine_quality_root_mean_squared_error: 0.6169 - val_wine_type_accuracy: 0.9949\n",
      "Epoch 37/40\n",
      "3155/3155 [==============================] - 0s 122us/sample - loss: 0.4123 - wine_quality_loss: 0.3805 - wine_type_loss: 0.0321 - wine_quality_root_mean_squared_error: 0.6166 - wine_type_accuracy: 0.9937 - val_loss: 0.4058 - val_wine_quality_loss: 0.3728 - val_wine_type_loss: 0.0319 - val_wine_quality_root_mean_squared_error: 0.6112 - val_wine_type_accuracy: 0.9949\n",
      "Epoch 38/40\n",
      "3155/3155 [==============================] - 0s 119us/sample - loss: 0.4031 - wine_quality_loss: 0.3716 - wine_type_loss: 0.0316 - wine_quality_root_mean_squared_error: 0.6095 - wine_type_accuracy: 0.9937 - val_loss: 0.4036 - val_wine_quality_loss: 0.3703 - val_wine_type_loss: 0.0319 - val_wine_quality_root_mean_squared_error: 0.6094 - val_wine_type_accuracy: 0.9949\n",
      "Epoch 39/40\n",
      "3155/3155 [==============================] - 0s 105us/sample - loss: 0.3984 - wine_quality_loss: 0.3674 - wine_type_loss: 0.0312 - wine_quality_root_mean_squared_error: 0.6058 - wine_type_accuracy: 0.9937 - val_loss: 0.3925 - val_wine_quality_loss: 0.3596 - val_wine_type_loss: 0.0317 - val_wine_quality_root_mean_squared_error: 0.6003 - val_wine_type_accuracy: 0.9949\n",
      "Epoch 40/40\n",
      "3155/3155 [==============================] - 0s 119us/sample - loss: 0.3913 - wine_quality_loss: 0.3594 - wine_type_loss: 0.0309 - wine_quality_root_mean_squared_error: 0.6002 - wine_type_accuracy: 0.9937 - val_loss: 0.3936 - val_wine_quality_loss: 0.3608 - val_wine_type_loss: 0.0316 - val_wine_quality_root_mean_squared_error: 0.6014 - val_wine_type_accuracy: 0.9949\n"
     ]
    }
   ],
   "source": [
    "\n",
    "history = model.fit(norm_train_X, train_Y,\n",
    "                    epochs = 40, validation_data=(norm_val_X, val_Y))"
   ]
  },
  {
   "cell_type": "code",
   "execution_count": null,
   "metadata": {
    "id": "CubF2J2gSf6q",
    "outputId": "dc853389-df64-4443-8a8c-f97ff88e36ff"
   },
   "outputs": [
    {
     "name": "stdout",
     "output_type": "stream",
     "text": [
      "789/789 [==============================] - 0s 27us/sample - loss: 0.3936 - wine_quality_loss: 0.3608 - wine_type_loss: 0.0316 - wine_quality_root_mean_squared_error: 0.6014 - wine_type_accuracy: 0.9949\n",
      "\n",
      "loss: 0.3936284417133065\n",
      "wine_quality_loss: 0.36082684993743896\n",
      "wine_type_loss: 0.03158601373434067\n",
      "wine_quality_rmse: 0.6013866662979126\n",
      "wine_type_accuracy: 0.9949302673339844\n"
     ]
    }
   ],
   "source": [
    "# Gather the training metrics\n",
    "loss, wine_quality_loss, wine_type_loss, wine_quality_rmse, wine_type_accuracy = model.evaluate(x=norm_val_X, y=val_Y)\n",
    "\n",
    "print()\n",
    "print(f'loss: {loss}')\n",
    "print(f'wine_quality_loss: {wine_quality_loss}')\n",
    "print(f'wine_type_loss: {wine_type_loss}')\n",
    "print(f'wine_quality_rmse: {wine_quality_rmse}')\n",
    "print(f'wine_type_accuracy: {wine_type_accuracy}')\n",
    "\n"
   ]
  },
  {
   "cell_type": "code",
   "execution_count": null,
   "metadata": {
    "id": "tBq9PEeAaW-Y"
   },
   "outputs": [],
   "source": [
    "predictions = model.predict(norm_test_X)\n",
    "quality_pred = predictions[0]\n",
    "type_pred = predictions[1]"
   ]
  },
  {
   "cell_type": "code",
   "execution_count": null,
   "metadata": {
    "id": "YLhgTR4xTIxj",
    "outputId": "1e86689f-4a54-461f-f687-5e4d767a44a7"
   },
   "outputs": [
    {
     "name": "stdout",
     "output_type": "stream",
     "text": [
      "[5.465995]\n"
     ]
    }
   ],
   "source": [
    "print(quality_pred[0])\n",
    "\n"
   ]
  },
  {
   "cell_type": "code",
   "execution_count": null,
   "metadata": {
    "id": "MPi-eYfGTUXi",
    "outputId": "38b3c007-6a7a-4223-80e0-d6423c6de81a"
   },
   "outputs": [
    {
     "name": "stdout",
     "output_type": "stream",
     "text": [
      "[0.00727621]\n",
      "[0.9996642]\n"
     ]
    }
   ],
   "source": [
    "print(type_pred[0])\n",
    "print(type_pred[944])\n",
    "\n",
    "\n"
   ]
  },
  {
   "cell_type": "code",
   "execution_count": null,
   "metadata": {
    "id": "62gEOFUhn6aQ"
   },
   "outputs": [],
   "source": [
    "def plot_metrics(metric_name, title, ylim=5):\n",
    "    plt.title(title)\n",
    "    plt.ylim(0,ylim)\n",
    "    plt.plot(history.history[metric_name],color='blue',label=metric_name)\n",
    "    plt.plot(history.history['val_' + metric_name],color='green',label='val_' + metric_name)\n"
   ]
  },
  {
   "cell_type": "code",
   "execution_count": null,
   "metadata": {
    "id": "6rfgSx7uz5dj"
   },
   "outputs": [],
   "source": [
    "def plot_confusion_matrix(y_true, y_pred, title='', labels=[0,1]):\n",
    "    cm = confusion_matrix(y_true, y_pred)\n",
    "    fig = plt.figure()\n",
    "    ax = fig.add_subplot(111)\n",
    "    cax = ax.matshow(cm)\n",
    "    plt.title('Confusion matrix of the classifier')\n",
    "    fig.colorbar(cax)\n",
    "    ax.set_xticklabels([''] + labels)\n",
    "    ax.set_yticklabels([''] + labels)\n",
    "    plt.xlabel('Predicted')\n",
    "    plt.ylabel('True')\n",
    "    fmt = 'd'\n",
    "    thresh = cm.max() / 2.\n",
    "    for i, j in itertools.product(range(cm.shape[0]), range(cm.shape[1])):\n",
    "          plt.text(j, i, format(cm[i, j], fmt),\n",
    "                  horizontalalignment=\"center\",\n",
    "                  color=\"black\" if cm[i, j] > thresh else \"white\")\n",
    "    plt.show()"
   ]
  },
  {
   "cell_type": "code",
   "execution_count": null,
   "metadata": {
    "id": "dfVLIqi017Vf"
   },
   "outputs": [],
   "source": [
    "def plot_diff(y_true, y_pred, title = '' ):\n",
    "    plt.scatter(y_true, y_pred)\n",
    "    plt.title(title)\n",
    "    plt.xlabel('True Values')\n",
    "    plt.ylabel('Predictions')\n",
    "    plt.axis('equal')\n",
    "    plt.axis('square')\n",
    "    plt.plot([-100, 100], [-100, 100])\n",
    "    return plt"
   ]
  },
  {
   "cell_type": "markdown",
   "metadata": {
    "id": "8sd1jdFbwE0I"
   },
   "source": [
    "### Plots for Metrics"
   ]
  },
  {
   "cell_type": "code",
   "execution_count": null,
   "metadata": {
    "id": "f3MwZ5J1pOfj",
    "outputId": "3d800556-1012-400a-9073-3e8ee4aaf611"
   },
   "outputs": [
    {
     "data": {
      "image/png": "[encoded data removed]",
      "text/plain": [
       "<Figure size 432x288 with 1 Axes>"
      ]
     },
     "metadata": {
      "needs_background": "light"
     },
     "output_type": "display_data"
    }
   ],
   "source": [
    "plot_metrics('wine_quality_root_mean_squared_error', 'RMSE', ylim=2)"
   ]
  },
  {
   "cell_type": "code",
   "execution_count": null,
   "metadata": {
    "id": "QIAxEezCppnd",
    "outputId": "93b1e8d9-f49a-4f93-a7bd-6c2ae4476131"
   },
   "outputs": [
    {
     "data": {
      "image/png": "[encoded data removed]",
      "text/plain": [
       "<Figure size 432x288 with 1 Axes>"
      ]
     },
     "metadata": {
      "needs_background": "light"
     },
     "output_type": "display_data"
    }
   ],
   "source": [
    "plot_metrics('wine_type_loss', 'Wine Type Loss', ylim=0.2)"
   ]
  },
  {
   "cell_type": "markdown",
   "metadata": {
    "id": "uYV9AOAMwI9p"
   },
   "source": [
    "### Plots for Confusion Matrix\n",
    "\n"
   ]
  },
  {
   "cell_type": "code",
   "execution_count": null,
   "metadata": {
    "id": "C3hvTYxIaf3n",
    "outputId": "8fe15dfc-7705-4cf1-dbad-33f77a131148"
   },
   "outputs": [
    {
     "data": {
      "image/png": "[encoded data removed]",
      "text/plain": [
       "<Figure size 432x288 with 2 Axes>"
      ]
     },
     "metadata": {
      "needs_background": "light"
     },
     "output_type": "display_data"
    }
   ],
   "source": [
    "plot_confusion_matrix(test_Y[1], np.round(type_pred), title='Wine Type', labels = [0, 1])"
   ]
  },
  {
   "cell_type": "code",
   "execution_count": null,
   "metadata": {
    "id": "GW91ym8P2I5y",
    "outputId": "37932d46-4ff1-48d0-f3f9-b55f2904a7be"
   },
   "outputs": [
    {
     "data": {
      "image/png": "[encoded data removed]",
      "text/plain": [
       "<Figure size 432x288 with 1 Axes>"
      ]
     },
     "metadata": {
      "needs_background": "light"
     },
     "output_type": "display_data"
    }
   ],
   "source": [
    "scatter_plot = plot_diff(test_Y[0], quality_pred, title='Type')"
   ]
  }
 ],
 "metadata": {
  "colab": {
   "provenance": []
  },
  "kernelspec": {
   "display_name": "Python 3 (ipykernel)",
   "language": "python",
   "name": "python3"
  },
  "language_info": {
   "codemirror_mode": {
    "name": "ipython",
    "version": 3
   },
   "file_extension": ".py",
   "mimetype": "text/x-python",
   "name": "python",
   "nbconvert_exporter": "python",
   "pygments_lexer": "ipython3",
   "version": "3.11.4"
  }
 },
 "nbformat": 4,
 "nbformat_minor": 4
}
