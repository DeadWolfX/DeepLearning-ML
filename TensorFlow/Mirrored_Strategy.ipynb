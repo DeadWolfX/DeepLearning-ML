{
 "cells": [
  {
   "cell_type": "markdown",
   "metadata": {
    "id": "H4-Fdy-K9GsK"
   },
   "source": [
    "# Mirrored Strategy: Basic\n",
    "\n",
    "[Mirrored Strategy](https://www.tensorflow.org/api_docs/python/tf/distribute/MirroredStrategy)."
   ]
  },
  {
   "cell_type": "markdown",
   "metadata": {
    "id": "ht4VmjZH9GsM"
   },
   "source": [
    "## Imports"
   ]
  },
  {
   "cell_type": "code",
   "execution_count": null,
   "metadata": {
    "id": "TkUjfmKkflCd"
   },
   "outputs": [],
   "source": [
    "# Import TensorFlow and TensorFlow Datasets\n",
    "\n",
    "import tensorflow_datasets as tfds\n",
    "import tensorflow as tf\n",
    "tfds.disable_progress_bar()\n",
    "\n",
    "import os"
   ]
  },
  {
   "cell_type": "markdown",
   "metadata": {
    "id": "drOa5XTw9GsR"
   },
   "source": [
    "Load the MNIST dataset and split it into training and test chunks."
   ]
  },
  {
   "cell_type": "code",
   "execution_count": null,
   "metadata": {
    "id": "eQN-PtIGgFtH"
   },
   "outputs": [],
   "source": [
    "# Load the dataset we'll use for this lab\n",
    "datasets, info = tfds.load(name='mnist', with_info=True, as_supervised=True, data_dir='./data')\n",
    "\n",
    "mnist_train, mnist_test = datasets['train'], datasets['test']"
   ]
  },
  {
   "cell_type": "markdown",
   "metadata": {
    "id": "Ty-qx4Nk9GsU"
   },
   "source": [
    "Next,define `strategy` using the `MirroredStrategy()` class. Print to see the number of devices available.\n",
    "\n"
   ]
  },
  {
   "cell_type": "code",
   "execution_count": null,
   "metadata": {
    "id": "eCsDqWnDgNHr",
    "outputId": "7c7f45d2-10c3-48d5-ce65-1bcb7c0e7aaa"
   },
   "outputs": [
    {
     "name": "stdout",
     "output_type": "stream",
     "text": [
      "WARNING:tensorflow:There are non-GPU devices in `tf.distribute.Strategy`, not using nccl allreduce.\n"
     ]
    },
    {
     "name": "stderr",
     "output_type": "stream",
     "text": [
      "WARNING:tensorflow:There are non-GPU devices in `tf.distribute.Strategy`, not using nccl allreduce.\n"
     ]
    },
    {
     "name": "stdout",
     "output_type": "stream",
     "text": [
      "INFO:tensorflow:Using MirroredStrategy with devices ('/job:localhost/replica:0/task:0/device:CPU:0',)\n"
     ]
    },
    {
     "name": "stderr",
     "output_type": "stream",
     "text": [
      "INFO:tensorflow:Using MirroredStrategy with devices ('/job:localhost/replica:0/task:0/device:CPU:0',)\n"
     ]
    },
    {
     "name": "stdout",
     "output_type": "stream",
     "text": [
      "Number of devices: 1\n"
     ]
    }
   ],
   "source": [
    "# Define the strategy to use and print the number of devices found\n",
    "#solo imprime un dispositivo porque solo hay un gpu\n",
    "strategy = tf.distribute.MirroredStrategy()\n",
    "print('Number of devices: {}'.format(strategy.num_replicas_in_sync))"
   ]
  },
  {
   "cell_type": "markdown",
   "metadata": {
    "id": "hVIaWj139GsZ"
   },
   "source": [
    "create the training and test examples, define the batch size and also define `BATCH_SIZE_PER_REPLICA` which is the distribution you are making for each available device."
   ]
  },
  {
   "cell_type": "code",
   "execution_count": null,
   "metadata": {
    "id": "p1xWxKcnhar9"
   },
   "outputs": [],
   "source": [
    "# Get the number of examples in the train and test sets\n",
    "num_train_examples = info.splits['train'].num_examples\n",
    "num_test_examples = info.splits['test'].num_examples\n",
    "\n",
    "BUFFER_SIZE = 10000\n",
    "\n",
    "BATCH_SIZE_PER_REPLICA = 64\n",
    "# Use for Mirrored Strategy\n",
    "BATCH_SIZE = BATCH_SIZE_PER_REPLICA * strategy.num_replicas_in_sync\n",
    "# Use for No Strategy\n",
    "# BATCH_SIZE = BATCH_SIZE_PER_REPLICA * 1"
   ]
  },
  {
   "cell_type": "markdown",
   "metadata": {
    "id": "7-2vB1B09Gse"
   },
   "source": [
    "A mapping function which normalizes your images:"
   ]
  },
  {
   "cell_type": "code",
   "execution_count": null,
   "metadata": {
    "id": "aPIU8E7BhyYq"
   },
   "outputs": [],
   "source": [
    "# Function for normalizing the image\n",
    "def scale(image, label):\n",
    "    image = tf.cast(image, tf.float32)\n",
    "    image /= 255\n",
    "\n",
    "    return image, label"
   ]
  },
  {
   "cell_type": "markdown",
   "metadata": {
    "id": "umg84SP_9Gsi"
   },
   "source": [
    "Next, you create your training and evaluation datesets in the batch size you want by shuffling through your buffer size."
   ]
  },
  {
   "cell_type": "code",
   "execution_count": null,
   "metadata": {
    "id": "ByTZB2AYh0nA"
   },
   "outputs": [],
   "source": [
    "# Set up the train and eval data set\n",
    "train_dataset = mnist_train.map(scale).cache().shuffle(BUFFER_SIZE).batch(BATCH_SIZE)\n",
    "eval_dataset = mnist_test.map(scale).batch(BATCH_SIZE)"
   ]
  },
  {
   "cell_type": "code",
   "execution_count": null,
   "metadata": {
    "id": "7rRzY5ojh51B"
   },
   "outputs": [],
   "source": [
    "# Use for Mirrored Strategy -- comment out `with strategy.scope():` and deindent for no strategy\n",
    "with strategy.scope():\n",
    "    model = tf.keras.Sequential([\n",
    "      tf.keras.layers.Conv2D(32, 3, activation='relu', input_shape=(28, 28, 1)),\n",
    "      tf.keras.layers.MaxPooling2D(),\n",
    "      tf.keras.layers.Flatten(),\n",
    "      tf.keras.layers.Dense(64, activation='relu'),\n",
    "      tf.keras.layers.Dense(10)\n",
    "    ])"
   ]
  },
  {
   "cell_type": "code",
   "execution_count": null,
   "metadata": {
    "id": "NWOJWLENphod"
   },
   "outputs": [],
   "source": [
    "model.compile(loss=tf.keras.losses.SparseCategoricalCrossentropy(from_logits=True),\n",
    "                optimizer=tf.keras.optimizers.Adam(),\n",
    "                metrics=['accuracy'])"
   ]
  },
  {
   "cell_type": "code",
   "execution_count": null,
   "metadata": {
    "id": "-8voqkush_Bx",
    "outputId": "a38be190-5a68-4018-93ce-e0008c41fb05"
   },
   "outputs": [
    {
     "name": "stdout",
     "output_type": "stream",
     "text": [
      "Epoch 1/12\n",
      "WARNING:tensorflow:From /opt/conda/lib/python3.7/site-packages/tensorflow/python/data/ops/multi_device_iterator_ops.py:601: get_next_as_optional (from tensorflow.python.data.ops.iterator_ops) is deprecated and will be removed in a future version.\n",
      "Instructions for updating:\n",
      "Use `tf.data.Iterator.get_next_as_optional()` instead.\n"
     ]
    },
    {
     "name": "stderr",
     "output_type": "stream",
     "text": [
      "WARNING:tensorflow:From /opt/conda/lib/python3.7/site-packages/tensorflow/python/data/ops/multi_device_iterator_ops.py:601: get_next_as_optional (from tensorflow.python.data.ops.iterator_ops) is deprecated and will be removed in a future version.\n",
      "Instructions for updating:\n",
      "Use `tf.data.Iterator.get_next_as_optional()` instead.\n"
     ]
    },
    {
     "name": "stdout",
     "output_type": "stream",
     "text": [
      "938/938 [==============================] - 35s 37ms/step - loss: 0.1950 - accuracy: 0.9431\n",
      "Epoch 2/12\n",
      "938/938 [==============================] - 23s 25ms/step - loss: 0.0660 - accuracy: 0.9807\n",
      "Epoch 3/12\n",
      "938/938 [==============================] - 24s 25ms/step - loss: 0.0467 - accuracy: 0.9858\n",
      "Epoch 4/12\n",
      "938/938 [==============================] - 23s 25ms/step - loss: 0.0347 - accuracy: 0.9894\n",
      "Epoch 5/12\n",
      "938/938 [==============================] - 24s 25ms/step - loss: 0.0269 - accuracy: 0.9916\n",
      "Epoch 6/12\n",
      "938/938 [==============================] - 24s 25ms/step - loss: 0.0211 - accuracy: 0.9936\n",
      "Epoch 7/12\n",
      "938/938 [==============================] - 24s 25ms/step - loss: 0.0166 - accuracy: 0.9949\n",
      "Epoch 8/12\n",
      "938/938 [==============================] - 23s 25ms/step - loss: 0.0131 - accuracy: 0.9958\n",
      "Epoch 9/12\n",
      "938/938 [==============================] - 23s 25ms/step - loss: 0.0102 - accuracy: 0.9967\n",
      "Epoch 10/12\n",
      "938/938 [==============================] - 23s 25ms/step - loss: 0.0078 - accuracy: 0.9976\n",
      "Epoch 11/12\n",
      "938/938 [==============================] - 23s 25ms/step - loss: 0.0069 - accuracy: 0.9979\n",
      "Epoch 12/12\n",
      "938/938 [==============================] - 23s 25ms/step - loss: 0.0055 - accuracy: 0.9982\n"
     ]
    },
    {
     "data": {
      "text/plain": [
       "<tensorflow.python.keras.callbacks.History at 0x7fd1e337c850>"
      ]
     },
     "execution_count": 9,
     "metadata": {},
     "output_type": "execute_result"
    }
   ],
   "source": [
    "model.fit(train_dataset, epochs=12)"
   ]
  }
 ],
 "metadata": {
  "accelerator": "GPU",
  "colab": {
   "provenance": []
  },
  "kernelspec": {
   "display_name": "Python 3 (ipykernel)",
   "language": "python",
   "name": "python3"
  },
  "language_info": {
   "codemirror_mode": {
    "name": "ipython",
    "version": 3
   },
   "file_extension": ".py",
   "mimetype": "text/x-python",
   "name": "python",
   "nbconvert_exporter": "python",
   "pygments_lexer": "ipython3",
   "version": "3.11.4"
  }
 },
 "nbformat": 4,
 "nbformat_minor": 4
}
