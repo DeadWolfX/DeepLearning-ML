{
  "cells": [
    {
      "cell_type": "markdown",
      "metadata": {
        "id": "7EHuiYGTKmdq"
      },
      "source": [
        "# Creating a Custom Loss Function"
      ]
    },
    {
      "cell_type": "code",
      "execution_count": null,
      "metadata": {
        "id": "0pajvrhrInPa"
      },
      "outputs": [],
      "source": [
        "import tensorflow as tf\n",
        "import numpy as np\n",
        "from tensorflow import keras\n",
        "from tensorflow.keras import backend as K\n",
        "\n",
        "import utils"
      ]
    },
    {
      "cell_type": "code",
      "execution_count": null,
      "metadata": {
        "id": "jVl6gVoWKmd3"
      },
      "outputs": [],
      "source": [
        "# inputs\n",
        "xs = np.array([-1.0,  0.0, 1.0, 2.0, 3.0, 4.0], dtype=float)\n",
        "\n",
        "# labels. relationship with the inputs above is y=2x-1.\n",
        "ys = np.array([-3.0, -1.0, 1.0, 3.0, 5.0, 7.0], dtype=float)"
      ]
    },
    {
      "cell_type": "markdown",
      "metadata": {
        "id": "5cRPCoYsKmd6"
      },
      "source": [
        "### Define the custom loss function "
      ]
    },
    {
      "cell_type": "code",
      "execution_count": null,
      "metadata": {
        "deletable": false,
        "id": "bXNGIkq2Azmf",
        "nbgrader": {
          "cell_type": "code",
          "checksum": "8301324615aba1e02e1f756b4bf1b092",
          "grade": false,
          "grade_id": "cell-31648b482908e493",
          "locked": false,
          "schema_version": 3,
          "solution": true,
          "task": false
        }
      },
      "outputs": [],
      "source": [
        "def my_rmse(y_true, y_pred):\n",
        "    error = y_true - y_pred\n",
        "    sqr_error = tf.math.square(error)\n",
        "    mean_sqr_error = tf.reduce_mean(sqr_error)\n",
        "    sqrt_mean_sqr_error = tf.math.sqrt(mean_sqr_error)\n",
        "    return sqrt_mean_sqr_error"
      ]
    },
    {
      "cell_type": "markdown",
      "metadata": {
        "id": "qd9ESBRRKmeC"
      },
      "source": [
        "### Define a model using the custom loss function"
      ]
    },
    {
      "cell_type": "code",
      "execution_count": null,
      "metadata": {
        "colab": {
          "base_uri": "https://localhost:8080/",
          "height": 34
        },
        "deletable": false,
        "id": "2eY7fw0EHwda",
        "nbgrader": {
          "cell_type": "code",
          "checksum": "8af71f8408d04ff7abaf41eb3414c8f6",
          "grade": false,
          "grade_id": "cell-5a29bb71c93124fc",
          "locked": false,
          "schema_version": 3,
          "solution": true,
          "task": false
        },
        "outputId": "a3ea92e4-050e-463d-82c9-9b149554ae41"
      },
      "outputs": [
        {
          "name": "stdout",
          "output_type": "stream",
          "text": [
            "[[19.048876]]\n"
          ]
        }
      ],
      "source": [
        "# Please uncomment all lines in this cell and replace those marked with `# YOUR CODE HERE`.\n",
        "# You can select all lines in this code cell with Ctrl+A (Windows/Linux) or Cmd+A (Mac), then press Ctrl+/ (Windows/Linux) or Cmd+/ (Mac) to uncomment.\n",
        "\n",
        "\n",
        "\n",
        "# define the model architecture\n",
        "model = tf.keras.Sequential([keras.layers.Dense(units=1, input_shape=[1])])\n",
        "\n",
        "# use the function you just coded as the loss\n",
        "model.compile(optimizer='sgd', loss=my_rmse)\n",
        "              \n",
        "# train the model \n",
        "model.fit(xs, ys, epochs=500,verbose=0)\n",
        "              \n",
        "# test with a sample input\n",
        "print(model.predict([10.0]))"
      ]
    }
  ],
  "metadata": {
    "colab": {
      "provenance": []
    },
    "kernelspec": {
      "display_name": "Python 3",
      "language": "python",
      "name": "python3"
    },
    "language_info": {
      "codemirror_mode": {
        "name": "ipython",
        "version": 3
      },
      "file_extension": ".py",
      "mimetype": "text/x-python",
      "name": "python",
      "nbconvert_exporter": "python",
      "pygments_lexer": "ipython3",
      "version": "3.7.6"
    }
  },
  "nbformat": 4,
  "nbformat_minor": 0
}