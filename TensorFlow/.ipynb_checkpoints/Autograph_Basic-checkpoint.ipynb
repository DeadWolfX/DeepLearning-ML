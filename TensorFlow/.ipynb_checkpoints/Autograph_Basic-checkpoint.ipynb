{
  "cells": [
    {
      "cell_type": "markdown",
      "metadata": {
        "id": "hrXv0rU9sIma"
      },
      "source": [
        "# Autograph: Basic\n"
      ]
    },
    {
      "cell_type": "markdown",
      "metadata": {
        "id": "TYGOuhKHJOvy"
      },
      "source": [
        "## Imports"
      ]
    },
    {
      "cell_type": "code",
      "execution_count": null,
      "metadata": {
        "id": "NiolgWMPgpwI"
      },
      "outputs": [],
      "source": [
        "import tensorflow as tf"
      ]
    },
    {
      "cell_type": "markdown",
      "metadata": {
        "id": "M63RvqxqJOv4"
      },
      "source": [
        "## Addition in autograph\n"
      ]
    },
    {
      "cell_type": "code",
      "execution_count": null,
      "metadata": {
        "tags": [],
        "id": "g9WEVWEEJOv7"
      },
      "outputs": [],
      "source": [
        "#agregar este decorador hace que la funcion se interprete como grafica automaticamente \n",
        "@tf.function\n",
        "def add(a, b):\n",
        "    return a + b\n",
        "\n",
        "\n",
        "a = tf.Variable([[1.,2.],[3.,4.]])\n",
        "b = tf.Variable([[4.,0.],[1.,5.]])\n",
        "print(add(a, b))\n",
        "\n",
        "# See what the generated code looks like\n",
        "#muestra el codigo en grafica\n",
        "print(tf.autograph.to_code(add.python_function))"
      ]
    },
    {
      "cell_type": "markdown",
      "metadata": {
        "id": "nmCtPClJJOv9"
      },
      "source": [
        "## if-statements in autograph\n"
      ]
    },
    {
      "cell_type": "code",
      "execution_count": null,
      "metadata": {
        "tags": [],
        "id": "NqHyPjihJOwA"
      },
      "outputs": [],
      "source": [
        "# simple function that returns the square if the input is greater than zero\n",
        "@tf.function\n",
        "def f(x):\n",
        "    if x>0:\n",
        "        x = x * x\n",
        "    return x\n",
        "\n",
        "print(tf.autograph.to_code(f.python_function))"
      ]
    },
    {
      "cell_type": "markdown",
      "metadata": {
        "id": "a8LYbsigJOwC"
      },
      "source": [
        "## Fizzbuzz in autograph\n",
        "\n",
        "[fizzbuzz](http://wiki.c2.com/?FizzBuzzTest) "
      ]
    },
    {
      "cell_type": "code",
      "execution_count": null,
      "metadata": {
        "tags": [],
        "id": "U1t7PHnDJOwE"
      },
      "outputs": [],
      "source": [
        "@tf.function\n",
        "def fizzbuzz(max_num):\n",
        "    counter = 0\n",
        "    for num in range(max_num):\n",
        "        if num % 3 == 0 and num % 5 == 0:\n",
        "            print('FizzBuzz')\n",
        "        elif num % 3 == 0:\n",
        "            print('Fizz')\n",
        "        elif num % 5 == 0:\n",
        "            print('Buzz')\n",
        "        else:\n",
        "            print(num)\n",
        "        counter += 1\n",
        "    return counter\n",
        "\n",
        "print(tf.autograph.to_code(fizzbuzz.python_function))"
      ]
    }
  ],
  "metadata": {
    "colab": {
      "private_outputs": true,
      "provenance": []
    },
    "kernelspec": {
      "display_name": "Python 3",
      "language": "python",
      "name": "python3"
    },
    "language_info": {
      "codemirror_mode": {
        "name": "ipython",
        "version": 3
      },
      "file_extension": ".py",
      "mimetype": "text/x-python",
      "name": "python",
      "nbconvert_exporter": "python",
      "pygments_lexer": "ipython3",
      "version": "3.7.6"
    }
  },
  "nbformat": 4,
  "nbformat_minor": 0
}