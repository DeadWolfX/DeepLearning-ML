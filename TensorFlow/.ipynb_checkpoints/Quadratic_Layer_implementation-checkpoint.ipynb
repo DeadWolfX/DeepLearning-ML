{
  "cells": [
    {
      "cell_type": "markdown",
      "metadata": {
        "id": "7As1KA2G6R2c"
      },
      "source": [
        "#Implement a Quadratic Layer"
      ]
    },
    {
      "cell_type": "markdown",
      "metadata": {
        "id": "rDIIFMt16R2l"
      },
      "source": [
        "Building a custom quadratic layer which computes $y = ax^2 + bx + c$. "
      ]
    },
    {
      "cell_type": "markdown",
      "metadata": {
        "id": "o8QuP_456R2p"
      },
      "source": [
        "### Imports"
      ]
    },
    {
      "cell_type": "code",
      "execution_count": null,
      "metadata": {
        "id": "hUeZFB-h6R2u"
      },
      "outputs": [],
      "source": [
        "import tensorflow as tf\n",
        "from tensorflow.keras.layers import Layer\n",
        "\n",
        "import utils"
      ]
    },
    {
      "cell_type": "markdown",
      "metadata": {
        "id": "EV9dX5hT6R2x"
      },
      "source": [
        "### Define the quadratic layer \n",
        "\n",
        "\n"
      ]
    },
    {
      "cell_type": "code",
      "execution_count": null,
      "metadata": {
        "deletable": false,
        "id": "Ga20PttZFXm4",
        "nbgrader": {
          "cell_type": "code",
          "checksum": "687a4c4733c3c581631c2b476104b829",
          "grade": false,
          "grade_id": "cell-c302ddc177c098f8",
          "locked": false,
          "schema_version": 3,
          "solution": true,
          "task": false
        }
      },
      "outputs": [],
      "source": [
        "\n",
        "class SimpleQuadratic(Layer):\n",
        "\n",
        "    def __init__(self, units=32, activation=None):\n",
        "        '''Initializes the class and sets up the internal variables'''\n",
        "        super(SimpleQuadratic, self).__init__()\n",
        "        self.units = units\n",
        "        self.activation = tf.keras.activations.get(activation)\n",
        "        \n",
        "    def build(self, input_shape):\n",
        "        '''Create the state of the layer (weights)'''\n",
        "        # a and b should be initialized with random normal, c (or the bias) with zeros.\n",
        "        # remember to set these as trainable.\n",
        "        a_init = tf.random_normal_initializer()\n",
        "        self.a = tf.Variable(a_init(shape=(input_shape[-1], self.units),\n",
        "                                   dtype=\"float32\"),\n",
        "                            trainable=True)\n",
        "        \n",
        "        b_init = tf.random_normal_initializer()\n",
        "        self.b = tf.Variable(a_init(shape=(input_shape[-1], self.units),\n",
        "                                   dtype=\"float32\"),\n",
        "                            trainable=True)\n",
        "        \n",
        "        c_init = tf.zeros_initializer()\n",
        "        self.c = tf.Variable(c_init(shape=(self.units),\n",
        "                                   dtype=\"float32\"),\n",
        "                            trainable=True)\n",
        "        super().build(input_shape)\n",
        "        \n",
        "    def call(self, inputs):\n",
        "        '''Defines the computation from inputs to outputs'''\n",
        "        # Remember to use self.activation() to get the final output\n",
        "        x_squared = tf.math.square(inputs)\n",
        "        x_squared_times_a = tf.matmul(x_squared, self.a)\n",
        "        \n",
        "        x_times_b = tf.matmul(inputs, self.b)\n",
        "        return self.activation(x_squared_times_a + x_times_b + self.c)"
      ]
    },
    {
      "cell_type": "code",
      "execution_count": null,
      "metadata": {
        "id": "14tl1CluExjJ",
        "outputId": "75759aad-721d-49e2-87cf-c5afc9c4d36e"
      },
      "outputs": [
        {
          "name": "stdout",
          "output_type": "stream",
          "text": [
            "Downloading data from https://storage.googleapis.com/tensorflow/tf-keras-datasets/mnist.npz\n",
            "11493376/11490434 [==============================] - 0s 0us/step\n",
            "Train on 60000 samples\n",
            "Epoch 1/5\n",
            "60000/60000 [==============================] - 14s 233us/sample - loss: 0.2709 - accuracy: 0.9209\n",
            "Epoch 2/5\n",
            "60000/60000 [==============================] - 13s 217us/sample - loss: 0.1362 - accuracy: 0.9593\n",
            "Epoch 3/5\n",
            "60000/60000 [==============================] - 13s 215us/sample - loss: 0.1008 - accuracy: 0.9699\n",
            "Epoch 4/5\n",
            "60000/60000 [==============================] - 13s 217us/sample - loss: 0.0831 - accuracy: 0.9739\n",
            "Epoch 5/5\n",
            "60000/60000 [==============================] - 13s 215us/sample - loss: 0.0717 - accuracy: 0.9768\n",
            "10000/10000 [==============================] - 1s 98us/sample - loss: 0.0808 - accuracy: 0.9756\n"
          ]
        },
        {
          "data": {
            "text/plain": [
              "[0.08084097238963005, 0.9756]"
            ]
          },
          "execution_count": 4,
          "metadata": {},
          "output_type": "execute_result"
        }
      ],
      "source": [
        "\n",
        "mnist = tf.keras.datasets.mnist\n",
        "\n",
        "(x_train, y_train),(x_test, y_test) = mnist.load_data()\n",
        "x_train, x_test = x_train / 255.0, x_test / 255.0\n",
        "\n",
        "model = tf.keras.models.Sequential([\n",
        "  tf.keras.layers.Flatten(input_shape=(28, 28)),\n",
        "  SimpleQuadratic(128, activation='relu'),\n",
        "  tf.keras.layers.Dropout(0.2),\n",
        "  tf.keras.layers.Dense(10, activation='softmax')\n",
        "])\n",
        "\n",
        "model.compile(optimizer='adam',\n",
        "              loss='sparse_categorical_crossentropy',\n",
        "              metrics=['accuracy'])\n",
        "\n",
        "model.fit(x_train, y_train, epochs=5)\n",
        "model.evaluate(x_test, y_test)"
      ]
    }
  ],
  "metadata": {
    "colab": {
      "provenance": []
    },
    "kernelspec": {
      "display_name": "Python 3",
      "language": "python",
      "name": "python3"
    },
    "language_info": {
      "codemirror_mode": {
        "name": "ipython",
        "version": 3
      },
      "file_extension": ".py",
      "mimetype": "text/x-python",
      "name": "python",
      "nbconvert_exporter": "python",
      "pygments_lexer": "ipython3",
      "version": "3.7.6"
    }
  },
  "nbformat": 4,
  "nbformat_minor": 0
}