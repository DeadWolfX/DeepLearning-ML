{
 "cells": [
  {
   "cell_type": "markdown",
   "metadata": {},
   "source": [
    "# Tensorflow probabilistico\n",
    "Es una libreria disponible de TenforFlow  para modelos probabilisticos de aprendizaje profundo podemos checar documentacion [aquí](https://tensorflow.org/probability)"
   ]
  },
  {
   "cell_type": "code",
   "execution_count": 1,
   "metadata": {},
   "outputs": [
    {
     "name": "stdout",
     "output_type": "stream",
     "text": [
      "TF version: 2.1.0\n",
      "TFP version: 0.9.0\n"
     ]
    }
   ],
   "source": [
    "import tensorflow as tf\n",
    "import tensorflow_probability as tfp\n",
    "tfd = tfp.distributions\n",
    "\n",
    "print(\"TF version:\", tf.__version__)\n",
    "print(\"TFP version:\", tfp.__version__)"
   ]
  },
  {
   "cell_type": "code",
   "execution_count": 5,
   "metadata": {},
   "outputs": [],
   "source": [
    "# Additional imports and setting fixed random seed to have reproducibility\n",
    "\n",
    "import matplotlib.pyplot as plt\n",
    "import numpy as np\n",
    "tf.random.set_seed(123)"
   ]
  },
  {
   "cell_type": "markdown",
   "metadata": {},
   "source": [
    "# Tensorflow Distributions\n",
    "Son los objetos de distribución son los bloques básicos para construir modelos probabilisticos capturan las operaciones escenciales "
   ]
  },
  {
   "cell_type": "markdown",
   "metadata": {},
   "source": [
    "## Coding Tutorials\n",
    "#### 1. [Univariate Distributions](#univariate_distributions)\n",
    "#### 2. [Multivariate Distributions](#multivariate_distributions)\n",
    "#### 3. [The Independent Distribution](#the_independent_distribution)\n",
    "#### 4. [Sampling and log probs](#sampling_and_log_probs)\n",
    "#### 5. [Trainable Distributions](#trainable_distributions)"
   ]
  },
  {
   "cell_type": "markdown",
   "metadata": {},
   "source": [
    "***\n",
    "## Univariate distributions\n",
    "<a id='univariate_distributions'></a>\n",
    "\n",
    "Son las distribuciones de una variable aleatoria \n",
    "\n",
    "Una variable aleatoria se caracteriza por su distribución, es decir, por el reparto de las probabilidades entre todos los valores que tome. Esta distribución se puede representar mediante dos funciones que asignan probabilidad (de diferente forma) a los valores que toma la variable:\n",
    "\n",
    "$\\textbf{Función de distribución}$\n",
    "\n",
    "Se define la función de distribución de una variable $X$ en un punto $x$ como:\n",
    "$$F_X(x)=p(X\\leqslant x)$$\n",
    "Esta función en el punto x acumula toda la probabilidad asignada a todos los valores de la variable que se encuentran dentro del intervalo $(-\\infty,x)$\n",
    "\n",
    "$\\textbf{Función de probabilidad}$\n",
    "\n",
    "Si $X$ es una variable aleatoria discreta se define su función de probabilidad en un punto $x$ como:\n",
    "\n",
    "$$f_X(x)=(X=x)$$\n",
    "Esta función en el punto $x$ toma la probabilidad del valor $x$. "
   ]
  },
  {
   "cell_type": "code",
   "execution_count": 4,
   "metadata": {
    "scrolled": false
   },
   "outputs": [
    {
     "name": "stdout",
     "output_type": "stream",
     "text": [
      "tfp.distributions.Normal(\"Normal\", batch_shape=[], event_shape=[], dtype=float32)\n",
      "\n",
      "tf.Tensor(-0.8980837, shape=(), dtype=float32)\n",
      "\n",
      "tf.Tensor([ 0.33875433  0.3449861  -0.6605785  -0.2854994 ], shape=(4,), dtype=float32)\n",
      "\n",
      "tf.Tensor(0.35206532, shape=(), dtype=float32)\n",
      "\n",
      "tf.Tensor(-1.0439385, shape=(), dtype=float32)\n",
      "\n",
      "tfp.distributions.Bernoulli(\"Bernoulli\", batch_shape=[4], event_shape=[], dtype=int32)\n",
      "\n",
      "(4,)\n",
      "\n",
      "tf.Tensor(\n",
      "[[1 1 1 1]\n",
      " [1 1 1 1]], shape=(2, 4), dtype=int32)\n",
      "\n",
      "tf.Tensor([1. 2. 3. 4.], shape=(4,), dtype=float32)\n",
      "\n",
      "tf.Tensor([0.        0.6931472 1.0986123 1.3862944], shape=(4,), dtype=float32)\n",
      "\n"
     ]
    }
   ],
   "source": [
    "#importamos tensorflow como siempre\n",
    "import tensorflow as tf\n",
    "#importamos tensorflow probability\n",
    "import tensorflow_probability as tfp\n",
    "#llamamos al modulo de distribuciones por\n",
    "tfd=tfp.distributions\n",
    "\n",
    "#definimos la distribucion normal como la instancia de un objeto distribucion\n",
    "#obviamente no es la unica distribucion disponible hay muchas\n",
    "normal=tfd.Normal(loc=0.,scale=1.)\n",
    "\n",
    "#note que es un objeto event_shape[] denota la dimension de la variable aleatoria como es unidimensional esta vacio\n",
    "print(normal)\n",
    "print()\n",
    "\n",
    "#podemos tomar un elemento muestra de esta distribucion\n",
    "print(normal.sample())\n",
    "print()\n",
    "#podemos tomar varios elemento muestra de esta distribucion\n",
    "muestras=4\n",
    "print(normal.sample(muestras))\n",
    "print()\n",
    "#Si la distribucion es continua podemos evaluar la densidad en un punto \n",
    "punto=0.5\n",
    "print(normal.prob(punto))\n",
    "print()\n",
    "\n",
    "#podemos obtener el logaritmo natural de la probabilidad dada \n",
    "#note que es ln(normal.prob(punto))\n",
    "punto=0.5\n",
    "print(normal.log_prob(punto))\n",
    "print()\n",
    "\n",
    "#podemos generar un lote de distribuciones en un solo objeto\n",
    "lote_bernoulli=tfd.Bernoulli(probs=[1,2,3,4])\n",
    "print(lote_bernoulli)\n",
    "print()\n",
    "\n",
    "#podemos ver la forma del lote\n",
    "print(lote_bernoulli.batch_shape)\n",
    "print()\n",
    "\n",
    "#si tomamos distintas muestras las toma independientemente 1 por cada lote\n",
    "#toma 2 muestras en cada una hay 1 muestra de cada lote\n",
    "print(lote_bernoulli.sample(2))\n",
    "print()\n",
    "#podemos calcular probabilidades\n",
    "print(lote_bernoulli.prob([1,1,1,1]))\n",
    "print()\n",
    "#podemos calcular log de probabilidades\n",
    "print(lote_bernoulli.log_prob([1,1,1,1]))\n",
    "print()\n",
    "\n",
    "#note que al hacer muestreo siempre tenemo la froma (muestreo_shape,lote_shape,evento_shape)"
   ]
  },
  {
   "cell_type": "markdown",
   "metadata": {},
   "source": [
    "# Algunas distribuciones\n",
    "\n",
    "## Binomial\n",
    "\n",
    "Si ${\\displaystyle X\\sim \\operatorname {Bin} (n,p)}$ entonces su función de probabilidad está dada por\n",
    "\n",
    " ${\\displaystyle \\operatorname {P} [X=x]={n \\choose x}p^{x}(1-p)^{n-x}}$\n",
    "\n",
    "para ${\\displaystyle x=0,1,2,\\dots ,n}$, siendo\n",
    "\n",
    "${\\displaystyle \\!{n \\choose x}={\\frac {n!}{x!(n-x)!}}\\,\\!}$\n",
    "\n",
    "Cada uno de los experimentos es independiente de los restantes (la probabilidad del resultado de un experimento no depende del resultado del resto). El resultado de cada experimento ha de admitir sólo dos categorías (a las que se denomina éxito y fracaso). El valor de ambas posibilidades ha de ser constante en todos los experimentos, y se denotan como $p$ y $q$ respectivamente o como $p$ y ${\\displaystyle 1-p}$ de forma alternativa.\n",
    "\n",
    "Se designa por $X$  a la variable que mide el número de éxitos que se han producido en los $n$ experimentos.\n",
    "\n",
    "Cuando se dan estas circunstancias, se dice que la variable $X$ sigue una distribución de probabilidad binomial. "
   ]
  },
  {
   "cell_type": "code",
   "execution_count": 5,
   "metadata": {},
   "outputs": [
    {
     "data": {
      "image/png": "[encoded data removed]",
      "text/plain": [
       "<Figure size 432x288 with 1 Axes>"
      ]
     },
     "metadata": {
      "needs_background": "light"
     },
     "output_type": "display_data"
    }
   ],
   "source": [
    "#graficando binomial en python\n",
    "import matplotlib.pyplot as plt\n",
    "import scipy.stats as stats\n",
    "\n",
    "# Definir los parámetros de la distribución binomial\n",
    "n = 20  # número de ensayos\n",
    "p = 0.5  # probabilidad de éxito\n",
    "\n",
    "# Calcular la distribución binomial\n",
    "dist = stats.binom(n, p)\n",
    "\n",
    "# Crear una lista de valores de k para graficar\n",
    "k = range(n+1)\n",
    "\n",
    "# Obtener la probabilidad de cada valor de k\n",
    "prob = [dist.pmf(i) for i in k]\n",
    "\n",
    "# Crear un gráfico de barras para mostrar la distribución binomial\n",
    "plt.bar(k, prob)\n",
    "plt.xlabel('k')\n",
    "plt.ylabel('P(X=k)')\n",
    "plt.title('Distribución Binomial para n=20, p=0.5')\n",
    "plt.show()"
   ]
  },
  {
   "cell_type": "markdown",
   "metadata": {},
   "source": [
    "## Distribucion bernoulli\n",
    "\n",
    "Es una generalizacion de la binomial\n",
    "Si $X$ es una variable aleatoria discreta que mide el \"número de éxitos\" y se realiza un único experimento con dos posibles resultados denominados éxito y fracaso, se dice que la variable aleatoria ${\\displaystyle X\\,}$ se distribuye como una Bernoulli de parámetro ${\\displaystyle p\\,}$ con ${\\displaystyle 0<p<1}$ y escribimos X ∼ ${\\displaystyle X\\sim \\operatorname {Bernoulli} (p)}$.\n",
    "\n",
    "Su función de probabilidad es\n",
    "\n",
    "${\\displaystyle \\operatorname {P} [X=x]=p^{x}(1-p)^{1-x}\\qquad x=0,1}$"
   ]
  },
  {
   "cell_type": "code",
   "execution_count": 6,
   "metadata": {},
   "outputs": [
    {
     "data": {
      "image/png": "[encoded data removed]",
      "text/plain": [
       "<Figure size 432x288 with 1 Axes>"
      ]
     },
     "metadata": {
      "needs_background": "light"
     },
     "output_type": "display_data"
    }
   ],
   "source": [
    "#graficando bernoulli en python\n",
    "import matplotlib.pyplot as plt\n",
    "import scipy.stats as stats\n",
    "\n",
    "# Definir los parámetros de la distribución de Bernoulli\n",
    "p = 0.5  # probabilidad de éxito\n",
    "\n",
    "# Crear un objeto de la distribución de Bernoulli\n",
    "dist = stats.bernoulli(p)\n",
    "\n",
    "# Crear una lista de valores de k para graficar\n",
    "k = [0, 1]\n",
    "\n",
    "# Obtener la probabilidad de cada valor de k\n",
    "prob = [dist.pmf(i) for i in k]\n",
    "\n",
    "# Crear un gráfico de barras para mostrar la distribución de Bernoulli\n",
    "plt.bar(k, prob)\n",
    "plt.xticks(k, ['Fracaso', 'Éxito'])\n",
    "plt.xlabel('k')\n",
    "plt.ylabel('P(X=k)')\n",
    "plt.title('Distribución de Bernoulli para p=0.5')\n",
    "plt.show()\n"
   ]
  },
  {
   "cell_type": "markdown",
   "metadata": {},
   "source": [
    "## Distribucion Poisson\n",
    "\n",
    "Sea ${\\displaystyle \\lambda >0}$ y $X$ una variable aleatoria discreta, si la variable aleatoria $X$ tiene una distribución de Poisson con parámetro $\\lambda$ entonces escribiremos ${\\displaystyle X\\sim \\operatorname {Poisson} (\\lambda )}$ ${\\displaystyle X\\sim \\operatorname {Poi} (\\lambda )}$. \n",
    "\n",
    "Si ${\\displaystyle X\\sim \\operatorname {Poisson} (\\lambda )}$ entonces la función de probabilidad es\n",
    "\n",
    "${\\displaystyle \\operatorname {P} [X=k]={\\frac {e^{-\\lambda }\\lambda ^{k}}{k!}}}$\n",
    "\n",
    "donde ${\\displaystyle k=0,1,2,\\dots }$ es el número de ocurrencias del evento o fenómeno. "
   ]
  },
  {
   "cell_type": "code",
   "execution_count": 7,
   "metadata": {},
   "outputs": [
    {
     "data": {
      "image/png": "[encoded data removed]",
      "text/plain": [
       "<Figure size 432x288 with 1 Axes>"
      ]
     },
     "metadata": {
      "needs_background": "light"
     },
     "output_type": "display_data"
    }
   ],
   "source": [
    "#graficando poisson en python\n",
    "import matplotlib.pyplot as plt\n",
    "import scipy.stats as stats\n",
    "\n",
    "# Definir el parámetro lambda de la distribución de Poisson\n",
    "lambd = 5\n",
    "\n",
    "# Crear un objeto de la distribución de Poisson\n",
    "dist = stats.poisson(lambd)\n",
    "\n",
    "# Crear una lista de valores de k para graficar\n",
    "k = range(15)\n",
    "\n",
    "# Obtener la probabilidad de cada valor de k\n",
    "prob = [dist.pmf(i) for i in k]\n",
    "\n",
    "# Crear un gráfico de barras para mostrar la distribución de Poisson\n",
    "plt.bar(k, prob)\n",
    "plt.xlabel('k')\n",
    "plt.ylabel('P(X=k)')\n",
    "plt.title('Distribución de Poisson para lambda=5')\n",
    "plt.show()"
   ]
  },
  {
   "cell_type": "markdown",
   "metadata": {},
   "source": [
    "## Distribucion Normal\n",
    "\n",
    "La función de distribución de la distribución normal está definida como sigue: \n",
    "\n",
    "${\\displaystyle {\\begin{aligned}\\Phi _{\\mu ,\\sigma ^{2}}(x)&{}=\\int _{-\\infty }^{x}\\varphi _{\\mu ,\\sigma ^{2}}(u)\\,du\\\\&{}={\\frac {1}{\\sigma {\\sqrt {2\\pi }}}}\\int _{-\\infty }^{x}e^{-{\\frac {(u-\\mu )^{2}}{2\\sigma ^{2}}}}\\,du,\\quad x\\in \\mathbb {R} .\\\\\\end{aligned}}}$\n",
    "\n",
    "donde:\n",
    "\n",
    "$\\mu$ es la media (también puede ser la mediana, la moda o el valor esperado, según aplique)\n",
    "    \n",
    "$\\sigma$ es la desviación típica\n",
    "    \n",
    "$\\sigma^2$ es la varianza\n",
    "    \n",
    "$\\varphi$ representa la función de densidad de probabilidad"
   ]
  },
  {
   "cell_type": "code",
   "execution_count": 8,
   "metadata": {},
   "outputs": [
    {
     "data": {
      "image/png": "[encoded data removed]",
      "text/plain": [
       "<Figure size 432x288 with 1 Axes>"
      ]
     },
     "metadata": {
      "needs_background": "light"
     },
     "output_type": "display_data"
    }
   ],
   "source": [
    "#graficando distribucion normal en python\n",
    "import numpy as np\n",
    "import matplotlib.pyplot as plt\n",
    "\n",
    "# Generate some data\n",
    "mu, sigma = 0, 0.1 # mean and standard deviation\n",
    "data = np.random.normal(mu, sigma, 1000)\n",
    "\n",
    "# Plot the histogram\n",
    "count, bins, ignored = plt.hist(data, 30, density=True)\n",
    "\n",
    "# Plot the normal distribution curve\n",
    "plt.plot(bins, 1/(sigma * np.sqrt(2 * np.pi)) * np.exp( - (bins - mu)**2 / (2 * sigma**2) ), linewidth=2, color='r')\n",
    "\n",
    "# Add labels and title\n",
    "plt.xlabel('Value')\n",
    "plt.ylabel('Frequency')\n",
    "plt.title('Normal distribution')\n",
    "\n",
    "# Show the plot\n",
    "plt.show()"
   ]
  },
  {
   "cell_type": "code",
   "execution_count": 9,
   "metadata": {},
   "outputs": [
    {
     "data": {
      "text/plain": [
       "<tfp.distributions.Normal 'Normal' batch_shape=[] event_shape=[] dtype=float32>"
      ]
     },
     "execution_count": 9,
     "metadata": {},
     "output_type": "execute_result"
    }
   ],
   "source": [
    "# Create a normal distribution from Tensorflow Distributions\n",
    "normal=tfd.Normal(loc=0,scale=1)\n",
    "normal"
   ]
  },
  {
   "cell_type": "code",
   "execution_count": 10,
   "metadata": {},
   "outputs": [
    {
     "data": {
      "text/plain": [
       "<tf.Tensor: shape=(), dtype=float32, numpy=-0.6383433>"
      ]
     },
     "execution_count": 10,
     "metadata": {},
     "output_type": "execute_result"
    }
   ],
   "source": [
    "# Sample from the chosen distribution...\n",
    "normal.sample()"
   ]
  },
  {
   "cell_type": "code",
   "execution_count": 11,
   "metadata": {},
   "outputs": [
    {
     "data": {
      "text/plain": [
       "<tf.Tensor: shape=(100,), dtype=float32, numpy=\n",
       "array([-0.25055045, -0.08064709,  0.69627273,  1.601835  ,  1.6900092 ,\n",
       "        0.43828106, -0.02178756, -0.80817044,  0.31876314,  0.7157107 ,\n",
       "        1.4445796 , -0.15089487, -1.0427645 , -1.1174989 ,  1.0929604 ,\n",
       "       -0.39272586, -0.5531866 ,  0.95992935, -1.836093  ,  1.4887183 ,\n",
       "        1.8107936 ,  1.8437709 , -0.3327268 ,  1.477067  , -0.8985954 ,\n",
       "        0.96841604,  0.36593893, -1.8755535 , -0.7125852 ,  1.5729628 ,\n",
       "        1.8036427 ,  0.57912344, -1.1122915 ,  0.9566904 ,  0.3747682 ,\n",
       "        0.37367332, -0.31089664, -1.3574171 , -1.5137705 , -0.24935898,\n",
       "        0.8982056 , -0.5717587 ,  0.43727708, -0.37945703,  1.4337502 ,\n",
       "        1.2216357 , -2.0776887 , -1.4201943 ,  0.24380013, -1.1093296 ,\n",
       "        0.08061728,  0.14302143,  0.05074061,  0.9794749 ,  0.8256295 ,\n",
       "        0.43609565, -0.67405427,  0.43498704,  1.2463142 ,  0.79786944,\n",
       "       -0.14009738, -0.17249063, -1.1507598 , -2.444427  , -0.667763  ,\n",
       "        1.647966  ,  1.0265874 ,  0.7159905 ,  0.03913173, -0.43187365,\n",
       "        0.44465584,  1.585905  , -1.7110149 , -0.32027325, -1.2654642 ,\n",
       "       -0.01218523, -2.2701845 , -2.4076633 , -0.08111519,  0.6670608 ,\n",
       "        2.0638022 , -0.5800611 , -0.6995762 , -0.31637663,  0.80193186,\n",
       "        0.84373814,  1.8750888 , -1.1524936 ,  0.1046528 , -0.01337022,\n",
       "       -0.805315  , -0.23501754,  0.28188476,  1.4441619 , -0.39388925,\n",
       "       -0.84044474,  0.97051984, -0.38802955, -0.27802002,  0.12965576],\n",
       "      dtype=float32)>"
      ]
     },
     "execution_count": 11,
     "metadata": {},
     "output_type": "execute_result"
    }
   ],
   "source": [
    "# ... or sample multiple times\n",
    "normal.sample(100)"
   ]
  },
  {
   "cell_type": "code",
   "execution_count": 12,
   "metadata": {},
   "outputs": [
    {
     "data": {
      "text/plain": [
       "<tf.Tensor: shape=(), dtype=float32, numpy=0.3989423>"
      ]
     },
     "execution_count": 12,
     "metadata": {},
     "output_type": "execute_result"
    }
   ],
   "source": [
    "# Obtain value of probability's density\n",
    "normal.prob(0)"
   ]
  },
  {
   "cell_type": "code",
   "execution_count": 13,
   "metadata": {},
   "outputs": [
    {
     "data": {
      "text/plain": [
       "<tf.Tensor: shape=(), dtype=float32, numpy=-0.9189385>"
      ]
     },
     "execution_count": 13,
     "metadata": {},
     "output_type": "execute_result"
    }
   ],
   "source": [
    "# Obtain value of logprobability\n",
    "normal.log_prob(0)"
   ]
  },
  {
   "cell_type": "code",
   "execution_count": 14,
   "metadata": {},
   "outputs": [
    {
     "name": "stdout",
     "output_type": "stream",
     "text": [
      "son iguales\n"
     ]
    }
   ],
   "source": [
    "# Verify that this really is the log of the probability\n",
    "if np.log(normal.prob(0)) == normal.log_prob(0):\n",
    "    print(\"son iguales\")"
   ]
  },
  {
   "cell_type": "code",
   "execution_count": 15,
   "metadata": {},
   "outputs": [
    {
     "data": {
      "image/png": "[encoded data removed]",
      "text/plain": [
       "<Figure size 432x288 with 1 Axes>"
      ]
     },
     "metadata": {
      "needs_background": "light"
     },
     "output_type": "display_data"
    }
   ],
   "source": [
    "# Plot a histogram, approximating the density\n",
    "\n",
    "plt.hist(normal.sample(10000), bins=50, density=True)\n",
    "plt.show()"
   ]
  },
  {
   "cell_type": "code",
   "execution_count": 16,
   "metadata": {},
   "outputs": [
    {
     "data": {
      "image/png": "[encoded data removed]",
      "text/plain": [
       "<Figure size 432x288 with 1 Axes>"
      ]
     },
     "metadata": {
      "needs_background": "light"
     },
     "output_type": "display_data"
    }
   ],
   "source": [
    "# Do the same for the exponential distribution\n",
    "exp=tfd.Exponential(rate=1)\n",
    "plt.hist(exp.sample(10000), bins=50, density=True)\n",
    "plt.show()"
   ]
  },
  {
   "cell_type": "code",
   "execution_count": 17,
   "metadata": {},
   "outputs": [
    {
     "data": {
      "text/plain": [
       "<tf.Tensor: shape=(11,), dtype=float32, numpy=\n",
       "array([0.49917367, 2.7285445 , 0.5229746 , 2.1884427 , 2.019749  ,\n",
       "       0.7911491 , 1.878965  , 0.6141575 , 0.29444578, 0.45559305,\n",
       "       0.60145825], dtype=float32)>"
      ]
     },
     "execution_count": 17,
     "metadata": {},
     "output_type": "execute_result"
    }
   ],
   "source": [
    "# Sample as before\n",
    "exp.sample(11)"
   ]
  },
  {
   "cell_type": "code",
   "execution_count": 24,
   "metadata": {},
   "outputs": [
    {
     "data": {
      "image/png": "[encoded data removed]",
      "text/plain": [
       "<Figure size 432x288 with 1 Axes>"
      ]
     },
     "metadata": {
      "needs_background": "light"
     },
     "output_type": "display_data"
    }
   ],
   "source": [
    "# Create a Bernoulli distribution (discrete)\n",
    "#bernoulli le pasas una proba y es la proba de elegir un 1 \n",
    "#por ejemplo aqui del total el 50% son 1 y 50% son 0 \n",
    "bernoulli=tfd.Bernoulli(probs=0.5)\n",
    "plt.hist(bernoulli.sample(10000), bins=50, density=True)\n",
    "plt.show()"
   ]
  },
  {
   "cell_type": "code",
   "execution_count": 21,
   "metadata": {},
   "outputs": [
    {
     "data": {
      "text/plain": [
       "<tf.Tensor: shape=(10,), dtype=int32, numpy=array([0, 0, 1, 0, 0, 1, 0, 0, 1, 1], dtype=int32)>"
      ]
     },
     "execution_count": 21,
     "metadata": {},
     "output_type": "execute_result"
    }
   ],
   "source": [
    "bernoulli.sample(10)"
   ]
  },
  {
   "cell_type": "markdown",
   "metadata": {},
   "source": [
    "#### A word of caution on discrete distributions"
   ]
  },
  {
   "cell_type": "code",
   "execution_count": 27,
   "metadata": {},
   "outputs": [
    {
     "name": "stdout",
     "output_type": "stream",
     "text": [
      "prob result 0.19999998807907104 for k = 0 \n",
      "prob result 0.3999999761581421 for k = 0.5 \n",
      "prob result 0.800000011920929 for k = 1 \n",
      "prob result 0.04999999701976776 for k = -1 \n"
     ]
    }
   ],
   "source": [
    "# Calculate Bernoulli prob and see that 0.5 and -1 do not give the correct probability!\n",
    "#la funcion de proba bernoulli solo prodria ser evaluada en 1 o 0 (proba de obtener 1 o 0)\n",
    "#pero resulta que calcula probabilidades para otros parametros hay que tener cuidado con esto\n",
    "\n",
    "bernoulli=tfd.Bernoulli(probs=0.8)\n",
    "\n",
    "for k in [0,0.5,1,-1]:\n",
    "    print('prob result {} for k = {} '.format(bernoulli.prob(k),k))"
   ]
  },
  {
   "cell_type": "code",
   "execution_count": 28,
   "metadata": {},
   "outputs": [],
   "source": [
    "# Replicate the scores to see what is occurring under the hood\n",
    "#para ver por que arroja estos valores en puntos distintos de 0 y 1 veamos como se evalua\n",
    "#definamos nuestra propia funcion bernoulli\n",
    "def my_bernoulli(p_success, k):\n",
    "    return np.power(p_success,k)*np.power((1-p_success),(1-k))"
   ]
  },
  {
   "cell_type": "code",
   "execution_count": 29,
   "metadata": {},
   "outputs": [
    {
     "name": "stdout",
     "output_type": "stream",
     "text": [
      "prob result 0.19999999999999996 for k = 0 \n",
      "prob result 0.3999999999999999 for k = 0.5 \n",
      "prob result 0.8 for k = 1 \n",
      "prob result 0.049999999999999975 for k = -1 \n"
     ]
    }
   ],
   "source": [
    "# Evaluate it as before\n",
    "#evaluemos en los mismos valores y vemos el mismo resultado\n",
    "\n",
    "for k in [0,0.5,1,-1]:\n",
    "    print('prob result {} for k = {} '.format(my_bernoulli(p_success=0.8, k=k),k))"
   ]
  },
  {
   "cell_type": "markdown",
   "metadata": {},
   "source": [
    "#### Work with batch distributions"
   ]
  },
  {
   "cell_type": "code",
   "execution_count": 35,
   "metadata": {},
   "outputs": [
    {
     "data": {
      "text/plain": [
       "<tfp.distributions.Bernoulli 'Bernoulli' batch_shape=[5] event_shape=[] dtype=int32>"
      ]
     },
     "execution_count": 35,
     "metadata": {},
     "output_type": "execute_result"
    }
   ],
   "source": [
    "# Create a batched Bernoulli distribution\n",
    "\n",
    "#notemos que ahora  batch_shape=[5] pues tiene un lote\n",
    "#podemos crear lotes a partir de pasar vectores o matrices\n",
    "bernoulli_batch = tfd.Bernoulli(probs=[1, 0.25, 0.5, 0.75, 0])\n",
    "bernoulli_batch"
   ]
  },
  {
   "cell_type": "code",
   "execution_count": 36,
   "metadata": {},
   "outputs": [
    {
     "data": {
      "text/plain": [
       "<tf.Tensor: shape=(5, 5), dtype=int32, numpy=\n",
       "array([[1, 0, 1, 1, 0],\n",
       "       [1, 0, 1, 0, 0],\n",
       "       [1, 0, 0, 1, 0],\n",
       "       [1, 0, 1, 0, 0],\n",
       "       [1, 1, 1, 1, 0]], dtype=int32)>"
      ]
     },
     "execution_count": 36,
     "metadata": {},
     "output_type": "execute_result"
    }
   ],
   "source": [
    "# Sample from it, noting the shape\n",
    "#toma 5 vectores donde para cada vector sus elementos se eligen por cada uno de los parametros en el lote\n",
    "#note que la primera entrada de cada vector es un 1 con 100% de certeza y el ultimo elemento es 1 con 0% de certeza\n",
    "#por eso todos tienen en la primera entrada un 1 y en la ultima es 0 pues el lote se genero con \n",
    "#probs=[1, 0.25, 0.5, 0.75, 0] que en la primera entrada paso pobra=100 y en la ultima proba =0\n",
    "bernoulli_batch.sample(5)"
   ]
  },
  {
   "cell_type": "code",
   "execution_count": 53,
   "metadata": {},
   "outputs": [
    {
     "data": {
      "text/plain": [
       "<tfp.distributions.Bernoulli 'Bernoulli' batch_shape=[1, 3, 2] event_shape=[] dtype=int32>"
      ]
     },
     "execution_count": 53,
     "metadata": {},
     "output_type": "execute_result"
    }
   ],
   "source": [
    "# Use a batch shape with higher rank\n",
    "#podemos definir distribuciones de dimensiones mas altas como en este caso generamos un lote de  3 distribuciones\n",
    "#bidimensionales\n",
    "\n",
    "probs = [[[0, 0], \n",
    "          [0.8, 0.3], \n",
    "          [1, 1]]]\n",
    "bernoulli_batch_2D = tfd.Bernoulli(probs=probs)\n",
    "bernoulli_batch_2D"
   ]
  },
  {
   "cell_type": "code",
   "execution_count": 54,
   "metadata": {},
   "outputs": [
    {
     "data": {
      "text/plain": [
       "<tf.Tensor: shape=(3, 1, 3, 2), dtype=int32, numpy=\n",
       "array([[[[0, 0],\n",
       "         [1, 1],\n",
       "         [1, 1]]],\n",
       "\n",
       "\n",
       "       [[[0, 0],\n",
       "         [1, 1],\n",
       "         [1, 1]]],\n",
       "\n",
       "\n",
       "       [[[0, 0],\n",
       "         [1, 1],\n",
       "         [1, 1]]]], dtype=int32)>"
      ]
     },
     "execution_count": 54,
     "metadata": {},
     "output_type": "execute_result"
    }
   ],
   "source": [
    "# Sample from this batch of distributions\n",
    "#toma 3 muestras de la misma froma que el lote donde cada par se calcula con la probabilidad dada\n",
    "#note que en todas las muestras los primeros son 1 con 0% de probabilidad ie 0 pues e generaron con  las\n",
    "#probabilidades [0, 0]\n",
    "#y note que los ultimos pares en todas las muestras son 1 con 100% de probabilidad pues se generaron con las\n",
    "#probabilidades [1, 1] pasadas por el lote\n",
    "\n",
    "bernoulli_batch_2D.sample(3)"
   ]
  },
  {
   "cell_type": "code",
   "execution_count": 55,
   "metadata": {},
   "outputs": [
    {
     "data": {
      "text/plain": [
       "<tf.Tensor: shape=(1, 3, 2), dtype=float32, numpy=\n",
       "array([[[0.        , 1.        ],\n",
       "        [0.19999999, 0.7       ],\n",
       "        [1.        , 1.        ]]], dtype=float32)>"
      ]
     },
     "execution_count": 55,
     "metadata": {},
     "output_type": "execute_result"
    }
   ],
   "source": [
    "# Determine probabilities from this batch distribution\n",
    "\n",
    "bernoulli_batch_2D.prob([[[1, 0], \n",
    "                         [0, 0], \n",
    "                         [1, 1]]])"
   ]
  },
  {
   "cell_type": "markdown",
   "metadata": {},
   "source": [
    "***\n",
    "<a id='multivariate_distributions'></a>\n",
    "## Multivariate Distributions\n",
    "\n",
    "Note que los lotes no son multivariadas si tengo densidad de probabilidad $d(x)$ un lote se refiere a formar\n",
    "$[d(x_1),d(x_2),...,d(x_n)]$ o $[[d(x_1),d(x_2)],[d(x_3),d(x_4)],...,[d(x_{n-1}),d(x_n)]]$ donde las $x_i$ pueden ser todas distintas, todas iguales o variadas, tener distribuciones multivariables significa tener distribuciones de la forma $d(x_1,..,x_n)$ de las que tambien se pueden formar lotes de forma  $[d(x_1,..,x_n),d(x_1,..,x_n),...,d(x_1,..,x_n)]$ o $[[d(x_1,..,x_n),d(x_1,..,x_n)],[d(x_1,..,x_n),d(x_1,..,x_n)],...,[d(x_1,..,x_n),d(x_1,..,x_n)]]$ \n",
    "\n",
    "Las funciones de una variable aleatoria tenian $\\text{event_shape=} [ ]$ pero las de varias variables aleatorias no "
   ]
  },
  {
   "cell_type": "code",
   "execution_count": 58,
   "metadata": {},
   "outputs": [
    {
     "name": "stdout",
     "output_type": "stream",
     "text": [
      "tfp.distributions.MultivariateNormalDiag(\"MultivariateNormalDiag\", batch_shape=[], event_shape=[2], dtype=float32)\n",
      "\n",
      "(2,)\n"
     ]
    }
   ],
   "source": [
    "#definamos distribucion normal de 2 variables\n",
    "mv_normal=tfd.MultivariateNormalDiag(loc=[-1,0.5],scale_diag=[1.,1.5])\n",
    "print(mv_normal)\n",
    "print()\n",
    "\n",
    "#note que su event_shape=[2] pues tiene 2 variabes\n",
    "print(mv_normal.event_shape)"
   ]
  },
  {
   "cell_type": "code",
   "execution_count": 70,
   "metadata": {},
   "outputs": [
    {
     "name": "stdout",
     "output_type": "stream",
     "text": [
      "tfp.distributions.MultivariateNormalDiag(\"MultivariateNormalDiag\", batch_shape=[], event_shape=[2], dtype=float32)\n",
      "\n",
      "tf.Tensor(\n",
      "[[-0.01006514 -0.01662219]\n",
      " [-1.9879004   1.1989071 ]\n",
      " [-2.040532    1.0975325 ]], shape=(3, 2), dtype=float32)\n",
      "\n",
      "(3, 2)\n",
      "\n",
      "tfp.distributions.Normal(\"Normal\", batch_shape=[2], event_shape=[], dtype=float32)\n",
      "\n",
      "tf.Tensor(\n",
      "[[-1.568731   -0.30880523]\n",
      " [ 0.00496817  3.853023  ]\n",
      " [ 0.17084765  1.6488059 ]], shape=(3, 2), dtype=float32)\n",
      "\n",
      "(3, 2)\n",
      "\n",
      "tf.Tensor(-2.9388978, shape=(), dtype=float32)\n",
      "\n",
      "tf.Tensor([-1.2389386 -1.699959 ], shape=(2,), dtype=float32)\n",
      "\n",
      "tfp.distributions.MultivariateNormalDiag(\"MultivariateNormalDiag\", batch_shape=[3], event_shape=[2], dtype=float32)\n",
      "\n",
      "tf.Tensor(\n",
      "[[[-1.0068641  -0.5231354 ]\n",
      "  [ 0.7184218   0.05949617]\n",
      "  [-1.6471995   1.942647  ]]\n",
      "\n",
      " [[ 0.11087871  0.68736273]\n",
      "  [ 1.6820512  -0.33454445]\n",
      "  [ 1.3806053   2.4203508 ]]], shape=(2, 3, 2), dtype=float32)\n",
      "\n"
     ]
    }
   ],
   "source": [
    "#como podemos formar lotes de univariables notemos algo:\n",
    "\n",
    "#definiendo normal de 2 variables\n",
    "mv_normal=tfd.MultivariateNormalDiag(loc=[-1,0.5],scale_diag=[1.,1.5])\n",
    "#note que batch_shape=[] pues no es un lote y event_shape=[2] pues tiene 2 variables\n",
    "print(mv_normal)\n",
    "print()\n",
    "#tomando una muestra de 3 normales de 2 variables\n",
    "print(mv_normal.sample(3))\n",
    "print()\n",
    "#note que la forma de un lote de 3 distribuciones de 2 variables es (3,2)\n",
    "print(mv_normal.sample(3).shape)\n",
    "print()\n",
    "\n",
    "#si fromamos un lote de normal univariable\n",
    "batch_normal=tfd.Normal(loc=[-1,0.5],scale=[1.,1.5])\n",
    "#note que batch_shape=[2] pues es un lote y event_shape=[] pues tiene 1 sola variables\n",
    "print(batch_normal)\n",
    "print()\n",
    "\n",
    "#tomando una muestra de 3 lotes de normales de 1 variables\n",
    "print(batch_normal.sample(3))\n",
    "print()\n",
    "#note que la forma de una muestra de un lote de distribuciones de 1 variables es (3,2)\n",
    "print(batch_normal.sample(3).shape)\n",
    "print()\n",
    "\n",
    "#pareciera que los resultados son muy similares por su forma pero debemos tener en cuenta en que\n",
    "#el primero es una distribucion de dos variables d(x,y) y por eso event_shape=[2] \n",
    "#se tomo muestra [d(x,y),d(x,y),d(x,y)]\n",
    "#el segundo viene de un lote de una distribucion de una variable [d(x),d(x)] y por eso batch_shape=[2]\n",
    "# al tomar muestra queda [(d(x),d(x)),(d(x),d(x)),(d(x),d(x))] por eso se ven similares\n",
    "\n",
    "#al parecer fuera de esta aclaracion no hay diferencia entre las salidas obtenida pero la diferencia se \n",
    "#hace clara al calcular los logaritmos de las probabilidades\n",
    "\n",
    "#logaritmo de las probabilidades para multivariable\n",
    "#devueleve un solo valor\n",
    "print(mv_normal.log_prob([-0.2,1.8]))\n",
    "print()\n",
    "\n",
    "#logaritmo de las probabilidades para lote de univariable\n",
    "#devuelve 2 valores \n",
    "print(batch_normal.log_prob([-0.2,1.8]))\n",
    "print()\n",
    "\n",
    "#formando lote de multivariable\n",
    "# note que batch_shape=[3], event_shape=[2] lote de 3 distribuciones de 2 variables \n",
    "batch_mv_normal=tfd.MultivariateNormalDiag(loc=[[-1,0.5],[2,0],[-0.5,1.5]],\n",
    "                                           scale_diag=[[1.,1.5],[2.,0.5],[1.,1.]])\n",
    "print(batch_mv_normal)\n",
    "print()\n",
    "\n",
    "#tomemos 2 muestras\n",
    "print(batch_mv_normal.sample(2))\n",
    "print()"
   ]
  },
  {
   "cell_type": "markdown",
   "metadata": {},
   "source": [
    "#### Basic multivariate distributions"
   ]
  },
  {
   "cell_type": "code",
   "execution_count": 74,
   "metadata": {},
   "outputs": [
    {
     "name": "stdout",
     "output_type": "stream",
     "text": [
      "tfp.distributions.MultivariateNormalDiag(\"MultivariateNormalDiag\", batch_shape=[], event_shape=[2], dtype=float32)\n"
     ]
    }
   ],
   "source": [
    "# Define 2D multivariate Gaussian with diagonal covariance matrix\n",
    "mv_normal=tfd.MultivariateNormalDiag(loc=[0,1],scale_diag=[1,20])\n",
    "print(mv_normal)"
   ]
  },
  {
   "cell_type": "code",
   "execution_count": 75,
   "metadata": {},
   "outputs": [
    {
     "name": "stdout",
     "output_type": "stream",
     "text": [
      "tf.Tensor(\n",
      "[[ -1.1036117   -0.84957135]\n",
      " [  0.11429915 -16.222656  ]\n",
      " [  1.8086982   -4.8331156 ]\n",
      " [ -0.05304217   3.3823059 ]\n",
      " [ -0.09071641   9.89209   ]\n",
      " [  0.8508635    8.467824  ]\n",
      " [ -0.8383965   18.23705   ]\n",
      " [  1.7177683   -7.143317  ]\n",
      " [ -0.7794515   27.612053  ]\n",
      " [  0.70160615   6.296257  ]], shape=(10, 2), dtype=float32)\n"
     ]
    }
   ],
   "source": [
    "# Sample from it\n",
    "print(mv_normal.sample(10))"
   ]
  },
  {
   "cell_type": "code",
   "execution_count": 76,
   "metadata": {},
   "outputs": [
    {
     "data": {
      "image/png": "[encoded data removed]",
      "text/plain": [
       "<Figure size 432x288 with 1 Axes>"
      ]
     },
     "metadata": {
      "needs_background": "light"
     },
     "output_type": "display_data"
    }
   ],
   "source": [
    "# Make a plot\n",
    "\n",
    "plt_sample = mv_normal.sample(10000)\n",
    "plt.scatter(plt_sample[:, 0], plt_sample[:, 1], marker='.', alpha=0.05)\n",
    "plt.axis('equal')\n",
    "plt.show()"
   ]
  },
  {
   "cell_type": "markdown",
   "metadata": {},
   "source": [
    "#### Batches of multivariate distributions"
   ]
  },
  {
   "cell_type": "code",
   "execution_count": 77,
   "metadata": {},
   "outputs": [
    {
     "name": "stdout",
     "output_type": "stream",
     "text": [
      "tfp.distributions.MultivariateNormalDiag(\"MultivariateNormalDiag\", batch_shape=[3], event_shape=[2], dtype=float32)\n"
     ]
    }
   ],
   "source": [
    "# Create three \"batches\" of multivariate normals \n",
    "#scale_diag=[[1,2],[2,1],[2,2]] corresponde a valores en la diaginal de matrix de covarianza\n",
    "#cov[x,y]\n",
    "batch_mv_normal=tfd.MultivariateNormalDiag(loc=[[0,0],[0,0],[0,0]],scale_diag=[[1,2],[2,1],[2,2]])\n",
    "print(batch_mv_normal)"
   ]
  },
  {
   "cell_type": "code",
   "execution_count": 78,
   "metadata": {},
   "outputs": [
    {
     "name": "stdout",
     "output_type": "stream",
     "text": [
      "tf.Tensor(\n",
      "[[[-0.94565284  0.819566  ]\n",
      "  [ 0.03853304  0.5514057 ]\n",
      "  [ 1.7180313  -2.8263128 ]]\n",
      "\n",
      " [[-1.5741836   0.42347184]\n",
      "  [ 3.992094   -1.2332556 ]\n",
      "  [ 2.1400907  -4.1518416 ]]\n",
      "\n",
      " [[ 0.32172462 -1.9466182 ]\n",
      "  [ 2.8355572  -0.24831234]\n",
      "  [-1.5446435  -5.267481  ]]\n",
      "\n",
      " [[ 0.5506131   1.8870534 ]\n",
      "  [ 2.7252142  -0.5228341 ]\n",
      "  [ 3.325838   -0.49502715]]\n",
      "\n",
      " [[ 0.33315244  1.4359127 ]\n",
      "  [-1.9689782   0.25765008]\n",
      "  [-0.04513794  1.249907  ]]], shape=(5, 3, 2), dtype=float32)\n"
     ]
    }
   ],
   "source": [
    "# Sample from it\n",
    "sample=batch_mv_normal.sample(5)\n",
    "print(sample)"
   ]
  },
  {
   "cell_type": "code",
   "execution_count": 82,
   "metadata": {},
   "outputs": [
    {
     "data": {
      "text/plain": [
       "<tf.Tensor: shape=(5, 3), dtype=float32, numpy=\n",
       "array([[-3.0621147, -2.683234 , -4.591631 ],\n",
       "       [-3.7924674, -5.283586 , -5.9513936],\n",
       "       [-3.056443 , -3.5669017, -6.990706 ],\n",
       "       [-3.1277328, -3.5960512, -4.637453 ],\n",
       "       [-2.8442502, -3.0488253, -3.4197094]], dtype=float32)>"
      ]
     },
     "execution_count": 82,
     "metadata": {},
     "output_type": "execute_result"
    }
   ],
   "source": [
    "# Compute log probs\n",
    "batch_mv_normal.log_prob(sample)"
   ]
  },
  {
   "cell_type": "code",
   "execution_count": 83,
   "metadata": {},
   "outputs": [
    {
     "data": {
      "text/plain": [
       "TensorShape([10000, 3, 2])"
      ]
     },
     "execution_count": 83,
     "metadata": {},
     "output_type": "execute_result"
    }
   ],
   "source": [
    "# Create a sample for a plot -- notice the shape\n",
    "plt_sample_batch=batch_mv_normal.sample(10000)\n",
    "plt_sample_batch.shape"
   ]
  },
  {
   "cell_type": "code",
   "execution_count": 84,
   "metadata": {},
   "outputs": [
    {
     "data": {
      "image/png": "[encoded data removed]",
      "text/plain": [
       "<Figure size 720x216 with 3 Axes>"
      ]
     },
     "metadata": {
      "needs_background": "light"
     },
     "output_type": "display_data"
    }
   ],
   "source": [
    "# Plot samples from the batched multivariate Gaussian\n",
    "\n",
    "fig, axs = (plt.subplots(1, 3, sharex=True, sharey=True, figsize=(10, 3)))\n",
    "titles = ['cov_diag=[1, 2]','cov_diag=[2, 1]', 'cov_diag=[2, 2]']\n",
    "\n",
    "for i, (ax, title) in enumerate(zip(axs,titles)):\n",
    "    samples = plt_sample_batch[:,i,:] #take the ith batch [samples x event_shape]\n",
    "    ax.scatter(samples[:, 0], samples[:, 1], marker='.', alpha=0.05)\n",
    "    ax.set_title(title)\n",
    "plt.show()"
   ]
  },
  {
   "cell_type": "markdown",
   "metadata": {},
   "source": [
    "\n",
    "\n",
    "***\n",
    "<a id='the_independent_distribution'></a>\n",
    "## The Independent Distribution\n",
    "Nos ayuda a reinterpretar lotes de distribuciones, permitiendo que dimensiones de los lotes sean pasadas al espacio de eventos, es decir mover dimensiones $\\text{batch_shape=}[]$ a $\\text{event_shape=}[]$ interpretando lotes de distribuciones como multivariables"
   ]
  },
  {
   "cell_type": "code",
   "execution_count": 91,
   "metadata": {},
   "outputs": [
    {
     "name": "stdout",
     "output_type": "stream",
     "text": [
      "tfp.distributions.MultivariateNormalDiag(\"MultivariateNormalDiag\", batch_shape=[], event_shape=[2], dtype=float32)\n",
      "\n",
      "tf.Tensor(-2.9388978, shape=(), dtype=float32)\n",
      "\n",
      "tfp.distributions.Normal(\"Normal\", batch_shape=[2], event_shape=[], dtype=float32)\n",
      "\n",
      "tf.Tensor([-1.2389386 -1.699959 ], shape=(2,), dtype=float32)\n",
      "\n"
     ]
    }
   ],
   "source": [
    "#regresemos al ejemplo donde producimos dos resultado similares uno usando lotes de distribuciones de una variable\n",
    "#y otro usando muestreo de distribuciones multivariables\n",
    "\n",
    "#1 distribucion de 2 variables\n",
    "mv_normal=tfd.MultivariateNormalDiag(loc=[-1,0.5],scale_diag=[1.,1.5])\n",
    "print(mv_normal)\n",
    "print()\n",
    "#la log_prob da 1 numero\n",
    "print(mv_normal.log_prob([-0.2,1.8]))\n",
    "print()\n",
    "\n",
    "\n",
    "#lote de 2 distribuciones de una variable 1 que conjunta la de las 2 variables\n",
    "batch_normal=tfd.Normal(loc=[-1,0.5],scale=[1.,1.5])\n",
    "print(batch_normal)\n",
    "print()\n",
    "#la log_prob da 2 numeros (1 para cada lote)\n",
    "print(batch_normal.log_prob([-0.2,1.8]))\n",
    "print()"
   ]
  },
  {
   "cell_type": "code",
   "execution_count": 95,
   "metadata": {},
   "outputs": [
    {
     "name": "stdout",
     "output_type": "stream",
     "text": [
      "tf.Tensor(-2.9388976, shape=(), dtype=float32)\n",
      "\n"
     ]
    }
   ],
   "source": [
    "#la distribucion independiente permite reinterpretar el lote de univariables\n",
    "\n",
    "#le pasamos el lote de 2 distribuciones de 1 variable y le en reinterpreted_batch_ndims el numero de dimensiones del lote\n",
    "#que seran absorbidas por el even_shape=[] (espacio de eventos) note que event_shape=[2]\n",
    "#asi a partir de un lote de 2 distribuciones univariable se obtiene una multivariable\n",
    "#pasamos reinterpreted_batch_ndims=1 pues solo hay una dimension de lote que vale 2\n",
    "independent_normal=tfd.Independent(batch_normal,reinterpreted_batch_ndims=1)\n",
    "independent_normal\n",
    "\n",
    "#si calculamos log_prob\n",
    "print(independent_normal.log_prob([-0.2,1.8]))\n",
    "print()\n"
   ]
  },
  {
   "cell_type": "code",
   "execution_count": 104,
   "metadata": {},
   "outputs": [
    {
     "name": "stdout",
     "output_type": "stream",
     "text": [
      "tfp.distributions.Normal(\"Normal\", batch_shape=[3, 2], event_shape=[], dtype=float32)\n",
      "\n",
      "tf.Tensor(\n",
      "[[[-1.4897028   2.0508084 ]\n",
      "  [-0.1017995   1.4615598 ]\n",
      "  [-0.01030499  0.65517116]]], shape=(1, 3, 2), dtype=float32)\n",
      "\n",
      "log prob:\n",
      "tf.Tensor(\n",
      "[[ -2.9189386  -1.3799592]\n",
      " [-11.809501   -0.695795 ]\n",
      " [ -1.6733357  -1.5239385]], shape=(3, 2), dtype=float32)\n",
      "\n",
      "tfp.distributions.Independent(\"IndependentNormal\", batch_shape=[3], event_shape=[2], dtype=float32)\n",
      "\n",
      "tf.Tensor(\n",
      "[[[-0.5427593   5.3365526 ]\n",
      "  [ 0.18259586  1.6772817 ]\n",
      "  [-1.2081323  -1.0808856 ]]], shape=(1, 3, 2), dtype=float32)\n",
      "\n",
      "log prob:\n",
      "tf.Tensor([ -4.2988977 -12.505296   -3.1972742], shape=(3,), dtype=float32)\n",
      "\n"
     ]
    }
   ],
   "source": [
    "#veamos que sucede si la dimension de lote es distinta\n",
    "#note el cambio en batch_shape=[] y event_shape=[]\n",
    "\n",
    "#es un lote de 3 distribuciones de froma [d(x_1),d(x_2)]\n",
    "batch_normal=tfd.Normal(loc=[[-1,0.5],[0.,1.],[0.3,-0.1]],scale=[[1.,1.5],[0.2,0.8],[2.,1.]])\n",
    "#notemos que ahora batch_shape=[3, 2] ya no es un solo numero\n",
    "print(batch_normal)\n",
    "print()\n",
    "print(batch_normal.sample(1))\n",
    "print()\n",
    "print('log prob:')\n",
    "print(batch_normal.log_prob([1,1]))\n",
    "print()\n",
    "\n",
    "#ahora obtenemo 3 lotes de distribuciones multivariables [d(x,y)]\n",
    "independent_normal=tfd.Independent(batch_normal,reinterpreted_batch_ndims=1)\n",
    "print(independent_normal)\n",
    "print()\n",
    "print(independent_normal.sample(1))\n",
    "print()\n",
    "print('log prob:')\n",
    "print(independent_normal.log_prob([1,1]))\n",
    "print()"
   ]
  },
  {
   "cell_type": "code",
   "execution_count": 107,
   "metadata": {},
   "outputs": [],
   "source": [
    "# Start by defining a batch of two univariate Gaussians, then\n",
    "# combine them into a bivariate Gaussian with independent components\n",
    "\n",
    "#lote de dos distribuciones univaluadas\n",
    "locs=[-1.,1.]\n",
    "scales=[0.5,1.]\n",
    "batch_of_normals=tfd.Normal(loc=locs,scale=scales)"
   ]
  },
  {
   "cell_type": "code",
   "execution_count": 108,
   "metadata": {},
   "outputs": [
    {
     "data": {
      "image/png": "[encoded data removed]",
      "text/plain": [
       "<Figure size 432x288 with 1 Axes>"
      ]
     },
     "metadata": {
      "needs_background": "light"
     },
     "output_type": "display_data"
    }
   ],
   "source": [
    "# Univariate density functions\n",
    "#visualizando cada distribucion\n",
    "import seaborn as sns\n",
    "\n",
    "t = np.linspace(-4, 4, 10000)\n",
    "densities = batch_of_normals.prob(np.repeat(t[:, np.newaxis], 2, axis=1)) # each column is a vector of densities for one distn\n",
    "\n",
    "sns.lineplot(t, densities[:, 0], label='loc={}, scale={}'.format(locs[0], scales[0]))\n",
    "sns.lineplot(t, densities[:, 1], label='loc={}, scale={}'.format(locs[1], scales[1]))\n",
    "plt.ylabel('Probability density')\n",
    "plt.xlabel('Value')\n",
    "plt.legend()\n",
    "plt.show()"
   ]
  },
  {
   "cell_type": "code",
   "execution_count": 109,
   "metadata": {},
   "outputs": [
    {
     "data": {
      "text/plain": [
       "<tfp.distributions.Normal 'Normal' batch_shape=[2] event_shape=[] dtype=float32>"
      ]
     },
     "execution_count": 109,
     "metadata": {},
     "output_type": "execute_result"
    }
   ],
   "source": [
    "# Check their batch_shape and event_shape\n",
    "batch_of_normals"
   ]
  },
  {
   "cell_type": "code",
   "execution_count": 111,
   "metadata": {},
   "outputs": [],
   "source": [
    "# Use Independent to convert the batch shape to the event shape\n",
    "#convertimos el lote en multivariable\n",
    "bivariate_normal_from_Independent=tfd.Independent(batch_of_normals,reinterpreted_batch_ndims=1)"
   ]
  },
  {
   "cell_type": "code",
   "execution_count": 113,
   "metadata": {},
   "outputs": [
    {
     "data": {
      "text/plain": [
       "<tfp.distributions.Independent 'IndependentNormal' batch_shape=[] event_shape=[2] dtype=float32>"
      ]
     },
     "execution_count": 113,
     "metadata": {},
     "output_type": "execute_result"
    }
   ],
   "source": [
    "# Note that dimension from batch_shape has shifted to event_shape\n",
    "bivariate_normal_from_Independent"
   ]
  },
  {
   "cell_type": "code",
   "execution_count": 114,
   "metadata": {},
   "outputs": [
    {
     "data": {
      "text/plain": [
       "<seaborn.axisgrid.JointGrid at 0x7ff438704a20>"
      ]
     },
     "execution_count": 114,
     "metadata": {},
     "output_type": "execute_result"
    },
    {
     "data": {
      "image/png": "[encoded data removed]",
      "text/plain": [
       "<Figure size 432x432 with 3 Axes>"
      ]
     },
     "metadata": {
      "needs_background": "light"
     },
     "output_type": "display_data"
    }
   ],
   "source": [
    "# Create a plot showing joint density contours and marginal density functions\n",
    "#visualizando multivariable\n",
    "\n",
    "samples = bivariate_normal_from_Independent.sample(10000)\n",
    "x1 = samples[:, 0]\n",
    "x2 = samples[:, 1]\n",
    "sns.jointplot(x1, x2, kind=\"kde\", space=0, color='b', xlim=[-4, 4], ylim=[-4, 4])"
   ]
  },
  {
   "cell_type": "code",
   "execution_count": 116,
   "metadata": {},
   "outputs": [
    {
     "data": {
      "text/plain": [
       "<tfp.distributions.MultivariateNormalDiag 'MultivariateNormalDiag' batch_shape=[] event_shape=[2] dtype=float32>"
      ]
     },
     "execution_count": 116,
     "metadata": {},
     "output_type": "execute_result"
    }
   ],
   "source": [
    "# Use MultivariateNormalDiag to create the equivalent distribution\n",
    "# Note that diagonal covariance matrix => no correlation => independence (for the multivariate normal distribution)\n",
    "bivariate_normal_from_Multivariate=tfd.MultivariateNormalDiag(loc=locs,scale_diag=scales)\n",
    "bivariate_normal_from_Multivariate"
   ]
  },
  {
   "cell_type": "code",
   "execution_count": 117,
   "metadata": {},
   "outputs": [
    {
     "data": {
      "text/plain": [
       "<seaborn.axisgrid.JointGrid at 0x7ff43857b860>"
      ]
     },
     "execution_count": 117,
     "metadata": {},
     "output_type": "execute_result"
    },
    {
     "data": {
      "image/png": "[encoded data removed]",
      "text/plain": [
       "<Figure size 432x432 with 3 Axes>"
      ]
     },
     "metadata": {
      "needs_background": "light"
     },
     "output_type": "display_data"
    }
   ],
   "source": [
    "# Plot the joint density function of bivariate_normal_from_Independent\n",
    "# Refer back to bivariate_normal_from_Independent to show that the plot is the same\n",
    "# Summarise how Independent has been used\n",
    "\n",
    "samples = bivariate_normal_from_Multivariate.sample(10000)\n",
    "x1 = samples[:, 0]\n",
    "x2 = samples[:, 1]\n",
    "sns.jointplot(x1, x2, kind=\"kde\", space=0, color='b', xlim=[-4, 4], ylim=[-4, 4])"
   ]
  },
  {
   "cell_type": "markdown",
   "metadata": {},
   "source": [
    "#### Shifting batch dimensions to event dimensions using \n",
    "`reinterpreted_batch_ndims`"
   ]
  },
  {
   "cell_type": "code",
   "execution_count": 118,
   "metadata": {},
   "outputs": [],
   "source": [
    "# Demonstrate use of reinterpreted_batch_ndims\n",
    "# By default all batch dims except the first are transferred to event dims\n",
    "\n",
    "loc_grid = [[-100., -100.],\n",
    "            [100., 100.],\n",
    "            [0., 0.]]\n",
    "scale_grid = [[1., 10.],\n",
    "              [1., 10.],\n",
    "              [1., 1.]]\n",
    "\n",
    "normals_batch_3by2_event_1 = tfd.Normal(loc=loc_grid, scale=scale_grid)"
   ]
  },
  {
   "cell_type": "code",
   "execution_count": 119,
   "metadata": {},
   "outputs": [
    {
     "data": {
      "text/plain": [
       "<tfp.distributions.Normal 'Normal' batch_shape=[3, 2] event_shape=[] dtype=float32>"
      ]
     },
     "execution_count": 119,
     "metadata": {},
     "output_type": "execute_result"
    }
   ],
   "source": [
    "# Highlight batch_shape\n",
    "\n",
    "normals_batch_3by2_event_1"
   ]
  },
  {
   "cell_type": "code",
   "execution_count": 120,
   "metadata": {},
   "outputs": [
    {
     "data": {
      "text/plain": [
       "<tfp.distributions.Independent 'IndependentNormal' batch_shape=[3] event_shape=[2] dtype=float32>"
      ]
     },
     "execution_count": 120,
     "metadata": {},
     "output_type": "execute_result"
    }
   ],
   "source": [
    "# We now have a batch of 3 bivariate normal distributions,\n",
    "# each parametrised by a column of our original parameter grid\n",
    "\n",
    "#si no le pasamos reinterpreted_batch_ndims toma la ultima de derecha a izq ->\n",
    "normals_batch_3_event_2=tfd.Independent(normals_batch_3by2_event_1)\n",
    "normals_batch_3_event_2"
   ]
  },
  {
   "cell_type": "code",
   "execution_count": 121,
   "metadata": {},
   "outputs": [
    {
     "data": {
      "text/plain": [
       "<tf.Tensor: shape=(3,), dtype=float32, numpy=array([-4.1146406e+03, -4.1404624e+00, -2.8378770e+00], dtype=float32)>"
      ]
     },
     "execution_count": 121,
     "metadata": {},
     "output_type": "execute_result"
    }
   ],
   "source": [
    "# Evaluate log_prob\n",
    "normals_batch_3_event_2.log_prob([[-10,10],[100,100],[1,1]])"
   ]
  },
  {
   "cell_type": "code",
   "execution_count": 122,
   "metadata": {},
   "outputs": [
    {
     "data": {
      "text/plain": [
       "<tfp.distributions.Independent 'IndependentNormal' batch_shape=[] event_shape=[3, 2] dtype=float32>"
      ]
     },
     "execution_count": 122,
     "metadata": {},
     "output_type": "execute_result"
    }
   ],
   "source": [
    "# Can reinterpret _all_ batch dimensions as event dimensions\n",
    "normals_batch_1_event_3by2=tfd.Independent(normals_batch_3by2_event_1,reinterpreted_batch_ndims=2)\n",
    "normals_batch_1_event_3by2"
   ]
  },
  {
   "cell_type": "code",
   "execution_count": 123,
   "metadata": {},
   "outputs": [
    {
     "data": {
      "text/plain": [
       "<tf.Tensor: shape=(), dtype=float32, numpy=-4121.619>"
      ]
     },
     "execution_count": 123,
     "metadata": {},
     "output_type": "execute_result"
    }
   ],
   "source": [
    "# Take log_probs \n",
    "normals_batch_1_event_3by2.log_prob([[-10,10],[100,100],[1,1]])"
   ]
  },
  {
   "cell_type": "markdown",
   "metadata": {},
   "source": [
    "#### Using `Independent` to build a Naive Bayes classifier"
   ]
  },
  {
   "cell_type": "markdown",
   "metadata": {},
   "source": [
    "#### Introduction to `newsgroups` data set"
   ]
  },
  {
   "cell_type": "markdown",
   "metadata": {},
   "source": [
    "In this tutorial, just load the dataset, fetch train/test splits, probably choose a subset of the data.\n",
    "\n",
    "Construct the class conditional feature distribution (with Independent, using the Naive Bayes assumption) and sample from it.\n",
    "\n",
    "We can just use the ML estimates for parameters, this topic are described later."
   ]
  },
  {
   "cell_type": "code",
   "execution_count": 135,
   "metadata": {},
   "outputs": [],
   "source": [
    "# Convenience function for retrieving the 20 newsgroups data set\n",
    "\n",
    "# Usenet was a forerunner to modern internet forums\n",
    "# Users could post and read articles\n",
    "# Newsgroup corresponded to a topic\n",
    "# Example topics in this data set: IBM computer hardware, baseball\n",
    "# Our objective is to use an article's contents to predict its newsgroup,\n",
    "# a 20-class classification problem.\n",
    "\n",
    "# 18000 newsgroups, posts on 20 topics\n",
    "from sklearn.datasets import fetch_20newsgroups\n",
    "from sklearn.feature_extraction.text import CountVectorizer\n"
   ]
  },
  {
   "cell_type": "code",
   "execution_count": 136,
   "metadata": {},
   "outputs": [],
   "source": [
    "# Get the train data\n",
    "#contiene articulos clasificados por temas\n",
    "newsgroups_data=fetch_20newsgroups(data_home='20_Newsgroup_Data/',subset='train')"
   ]
  },
  {
   "cell_type": "code",
   "execution_count": 137,
   "metadata": {},
   "outputs": [
    {
     "name": "stdout",
     "output_type": "stream",
     "text": [
      ".. _20newsgroups_dataset:\n",
      "\n",
      "The 20 newsgroups text dataset\n",
      "------------------------------\n",
      "\n",
      "The 20 newsgroups dataset comprises around 18000 newsgroups posts on\n",
      "20 topics split in two subsets: one for training (or development)\n",
      "and the other one for testing (or for performance evaluation). The split\n",
      "between the train and test set is based upon a messages posted before\n",
      "and after a specific date.\n",
      "\n",
      "This module contains two loaders. The first one,\n",
      ":func:`sklearn.datasets.fetch_20newsgroups`,\n",
      "returns a list of the raw texts that can be fed to text feature\n",
      "extractors such as :class:`sklearn.feature_extraction.text.CountVectorizer`\n",
      "with custom parameters so as to extract feature vectors.\n",
      "The second one, :func:`sklearn.datasets.fetch_20newsgroups_vectorized`,\n",
      "returns ready-to-use features, i.e., it is not necessary to use a feature\n",
      "extractor.\n",
      "\n",
      "**Data Set Characteristics:**\n",
      "\n",
      "    =================   ==========\n",
      "    Classes                     20\n",
      "    Samples total            18846\n",
      "    Dimensionality               1\n",
      "    Features                  text\n",
      "    =================   ==========\n",
      "\n",
      "Usage\n",
      "~~~~~\n",
      "\n",
      "The :func:`sklearn.datasets.fetch_20newsgroups` function is a data\n",
      "fetching / caching functions that downloads the data archive from\n",
      "the original `20 newsgroups website`_, extracts the archive contents\n",
      "in the ``~/scikit_learn_data/20news_home`` folder and calls the\n",
      ":func:`sklearn.datasets.load_files` on either the training or\n",
      "testing set folder, or both of them::\n",
      "\n",
      "  >>> from sklearn.datasets import fetch_20newsgroups\n",
      "  >>> newsgroups_train = fetch_20newsgroups(subset='train')\n",
      "\n",
      "  >>> from pprint import pprint\n",
      "  >>> pprint(list(newsgroups_train.target_names))\n",
      "  ['alt.atheism',\n",
      "   'comp.graphics',\n",
      "   'comp.os.ms-windows.misc',\n",
      "   'comp.sys.ibm.pc.hardware',\n",
      "   'comp.sys.mac.hardware',\n",
      "   'comp.windows.x',\n",
      "   'misc.forsale',\n",
      "   'rec.autos',\n",
      "   'rec.motorcycles',\n",
      "   'rec.sport.baseball',\n",
      "   'rec.sport.hockey',\n",
      "   'sci.crypt',\n",
      "   'sci.electronics',\n",
      "   'sci.med',\n",
      "   'sci.space',\n",
      "   'soc.religion.christian',\n",
      "   'talk.politics.guns',\n",
      "   'talk.politics.mideast',\n",
      "   'talk.politics.misc',\n",
      "   'talk.religion.misc']\n",
      "\n",
      "The real data lies in the ``filenames`` and ``target`` attributes. The target\n",
      "attribute is the integer index of the category::\n",
      "\n",
      "  >>> newsgroups_train.filenames.shape\n",
      "  (11314,)\n",
      "  >>> newsgroups_train.target.shape\n",
      "  (11314,)\n",
      "  >>> newsgroups_train.target[:10]\n",
      "  array([ 7,  4,  4,  1, 14, 16, 13,  3,  2,  4])\n",
      "\n",
      "It is possible to load only a sub-selection of the categories by passing the\n",
      "list of the categories to load to the\n",
      ":func:`sklearn.datasets.fetch_20newsgroups` function::\n",
      "\n",
      "  >>> cats = ['alt.atheism', 'sci.space']\n",
      "  >>> newsgroups_train = fetch_20newsgroups(subset='train', categories=cats)\n",
      "\n",
      "  >>> list(newsgroups_train.target_names)\n",
      "  ['alt.atheism', 'sci.space']\n",
      "  >>> newsgroups_train.filenames.shape\n",
      "  (1073,)\n",
      "  >>> newsgroups_train.target.shape\n",
      "  (1073,)\n",
      "  >>> newsgroups_train.target[:10]\n",
      "  array([0, 1, 1, 1, 0, 1, 1, 0, 0, 0])\n",
      "\n",
      "Converting text to vectors\n",
      "~~~~~~~~~~~~~~~~~~~~~~~~~~\n",
      "\n",
      "In order to feed predictive or clustering models with the text data,\n",
      "one first need to turn the text into vectors of numerical values suitable\n",
      "for statistical analysis. This can be achieved with the utilities of the\n",
      "``sklearn.feature_extraction.text`` as demonstrated in the following\n",
      "example that extract `TF-IDF`_ vectors of unigram tokens\n",
      "from a subset of 20news::\n",
      "\n",
      "  >>> from sklearn.feature_extraction.text import TfidfVectorizer\n",
      "  >>> categories = ['alt.atheism', 'talk.religion.misc',\n",
      "  ...               'comp.graphics', 'sci.space']\n",
      "  >>> newsgroups_train = fetch_20newsgroups(subset='train',\n",
      "  ...                                       categories=categories)\n",
      "  >>> vectorizer = TfidfVectorizer()\n",
      "  >>> vectors = vectorizer.fit_transform(newsgroups_train.data)\n",
      "  >>> vectors.shape\n",
      "  (2034, 34118)\n",
      "\n",
      "The extracted TF-IDF vectors are very sparse, with an average of 159 non-zero\n",
      "components by sample in a more than 30000-dimensional space\n",
      "(less than .5% non-zero features)::\n",
      "\n",
      "  >>> vectors.nnz / float(vectors.shape[0])       # doctest: +ELLIPSIS\n",
      "  159.01327...\n",
      "\n",
      ":func:`sklearn.datasets.fetch_20newsgroups_vectorized` is a function which \n",
      "returns ready-to-use token counts features instead of file names.\n",
      "\n",
      ".. _`20 newsgroups website`: http://people.csail.mit.edu/jrennie/20Newsgroups/\n",
      ".. _`TF-IDF`: https://en.wikipedia.org/wiki/Tf-idf\n",
      "\n",
      "\n",
      "Filtering text for more realistic training\n",
      "~~~~~~~~~~~~~~~~~~~~~~~~~~~~~~~~~~~~~~~~~~\n",
      "\n",
      "It is easy for a classifier to overfit on particular things that appear in the\n",
      "20 Newsgroups data, such as newsgroup headers. Many classifiers achieve very\n",
      "high F-scores, but their results would not generalize to other documents that\n",
      "aren't from this window of time.\n",
      "\n",
      "For example, let's look at the results of a multinomial Naive Bayes classifier,\n",
      "which is fast to train and achieves a decent F-score::\n",
      "\n",
      "  >>> from sklearn.naive_bayes import MultinomialNB\n",
      "  >>> from sklearn import metrics\n",
      "  >>> newsgroups_test = fetch_20newsgroups(subset='test',\n",
      "  ...                                      categories=categories)\n",
      "  >>> vectors_test = vectorizer.transform(newsgroups_test.data)\n",
      "  >>> clf = MultinomialNB(alpha=.01)\n",
      "  >>> clf.fit(vectors, newsgroups_train.target)\n",
      "  MultinomialNB(alpha=0.01, class_prior=None, fit_prior=True)\n",
      "\n",
      "  >>> pred = clf.predict(vectors_test)\n",
      "  >>> metrics.f1_score(newsgroups_test.target, pred, average='macro')  # doctest: +ELLIPSIS\n",
      "  0.88213...\n",
      "\n",
      "(The example :ref:`sphx_glr_auto_examples_text_plot_document_classification_20newsgroups.py` shuffles\n",
      "the training and test data, instead of segmenting by time, and in that case\n",
      "multinomial Naive Bayes gets a much higher F-score of 0.88. Are you suspicious\n",
      "yet of what's going on inside this classifier?)\n",
      "\n",
      "Let's take a look at what the most informative features are:\n",
      "\n",
      "  >>> import numpy as np\n",
      "  >>> def show_top10(classifier, vectorizer, categories):\n",
      "  ...     feature_names = np.asarray(vectorizer.get_feature_names())\n",
      "  ...     for i, category in enumerate(categories):\n",
      "  ...         top10 = np.argsort(classifier.coef_[i])[-10:]\n",
      "  ...         print(\"%s: %s\" % (category, \" \".join(feature_names[top10])))\n",
      "  ...\n",
      "  >>> show_top10(clf, vectorizer, newsgroups_train.target_names)\n",
      "  alt.atheism: edu it and in you that is of to the\n",
      "  comp.graphics: edu in graphics it is for and of to the\n",
      "  sci.space: edu it that is in and space to of the\n",
      "  talk.religion.misc: not it you in is that and to of the\n",
      "\n",
      "\n",
      "You can now see many things that these features have overfit to:\n",
      "\n",
      "- Almost every group is distinguished by whether headers such as\n",
      "  ``NNTP-Posting-Host:`` and ``Distribution:`` appear more or less often.\n",
      "- Another significant feature involves whether the sender is affiliated with\n",
      "  a university, as indicated either by their headers or their signature.\n",
      "- The word \"article\" is a significant feature, based on how often people quote\n",
      "  previous posts like this: \"In article [article ID], [name] <[e-mail address]>\n",
      "  wrote:\"\n",
      "- Other features match the names and e-mail addresses of particular people who\n",
      "  were posting at the time.\n",
      "\n",
      "With such an abundance of clues that distinguish newsgroups, the classifiers\n",
      "barely have to identify topics from text at all, and they all perform at the\n",
      "same high level.\n",
      "\n",
      "For this reason, the functions that load 20 Newsgroups data provide a\n",
      "parameter called **remove**, telling it what kinds of information to strip out\n",
      "of each file. **remove** should be a tuple containing any subset of\n",
      "``('headers', 'footers', 'quotes')``, telling it to remove headers, signature\n",
      "blocks, and quotation blocks respectively.\n",
      "\n",
      "  >>> newsgroups_test = fetch_20newsgroups(subset='test',\n",
      "  ...                                      remove=('headers', 'footers', 'quotes'),\n",
      "  ...                                      categories=categories)\n",
      "  >>> vectors_test = vectorizer.transform(newsgroups_test.data)\n",
      "  >>> pred = clf.predict(vectors_test)\n",
      "  >>> metrics.f1_score(pred, newsgroups_test.target, average='macro')  # doctest: +ELLIPSIS\n",
      "  0.77310...\n",
      "\n",
      "This classifier lost over a lot of its F-score, just because we removed\n",
      "metadata that has little to do with topic classification.\n",
      "It loses even more if we also strip this metadata from the training data:\n",
      "\n",
      "  >>> newsgroups_train = fetch_20newsgroups(subset='train',\n",
      "  ...                                       remove=('headers', 'footers', 'quotes'),\n",
      "  ...                                       categories=categories)\n",
      "  >>> vectors = vectorizer.fit_transform(newsgroups_train.data)\n",
      "  >>> clf = MultinomialNB(alpha=.01)\n",
      "  >>> clf.fit(vectors, newsgroups_train.target)\n",
      "  MultinomialNB(alpha=0.01, class_prior=None, fit_prior=True)\n",
      "\n",
      "  >>> vectors_test = vectorizer.transform(newsgroups_test.data)\n",
      "  >>> pred = clf.predict(vectors_test)\n",
      "  >>> metrics.f1_score(newsgroups_test.target, pred, average='macro')  # doctest: +ELLIPSIS\n",
      "  0.76995...\n",
      "\n",
      "Some other classifiers cope better with this harder version of the task. Try\n",
      "running :ref:`sphx_glr_auto_examples_model_selection_grid_search_text_feature_extraction.py` with and without\n",
      "the ``--filter`` option to compare the results.\n",
      "\n",
      ".. topic:: Recommendation\n",
      "\n",
      "  When evaluating text classifiers on the 20 Newsgroups data, you\n",
      "  should strip newsgroup-related metadata. In scikit-learn, you can do this by\n",
      "  setting ``remove=('headers', 'footers', 'quotes')``. The F-score will be\n",
      "  lower because it is more realistic.\n",
      "\n",
      ".. topic:: Examples\n",
      "\n",
      "   * :ref:`sphx_glr_auto_examples_model_selection_grid_search_text_feature_extraction.py`\n",
      "\n",
      "   * :ref:`sphx_glr_auto_examples_text_plot_document_classification_20newsgroups.py`\n",
      "\n"
     ]
    }
   ],
   "source": [
    "# More information about the data set\n",
    "print(newsgroups_data['DESCR'])"
   ]
  },
  {
   "cell_type": "code",
   "execution_count": 138,
   "metadata": {},
   "outputs": [
    {
     "name": "stdout",
     "output_type": "stream",
     "text": [
      "From: lerxst@wam.umd.edu (where's my thing)\n",
      "Subject: WHAT car is this!?\n",
      "Nntp-Posting-Host: rac3.wam.umd.edu\n",
      "Organization: University of Maryland, College Park\n",
      "Lines: 15\n",
      "\n",
      " I was wondering if anyone out there could enlighten me on this car I saw\n",
      "the other day. It was a 2-door sports car, looked to be from the late 60s/\n",
      "early 70s. It was called a Bricklin. The doors were really small. In addition,\n",
      "the front bumper was separate from the rest of the body. This is \n",
      "all I know. If anyone can tellme a model name, engine specs, years\n",
      "of production, where this car is made, history, or whatever info you\n",
      "have on this funky looking car, please e-mail.\n",
      "\n",
      "Thanks,\n",
      "- IL\n",
      "   ---- brought to you by your neighborhood Lerxst ----\n",
      "\n",
      "\n",
      "\n",
      "\n",
      "\n"
     ]
    }
   ],
   "source": [
    "# Example article\n",
    "print(newsgroups_data['data'][0])"
   ]
  },
  {
   "cell_type": "code",
   "execution_count": 139,
   "metadata": {},
   "outputs": [
    {
     "name": "stdout",
     "output_type": "stream",
     "text": [
      "7\n"
     ]
    }
   ],
   "source": [
    "# Associated label\n",
    "print(newsgroups_data['target'][0])\n"
   ]
  },
  {
   "cell_type": "code",
   "execution_count": 140,
   "metadata": {},
   "outputs": [
    {
     "name": "stdout",
     "output_type": "stream",
     "text": [
      "rec.autos\n"
     ]
    }
   ],
   "source": [
    "# Name of label\n",
    "print(newsgroups_data['target_names'][7])"
   ]
  },
  {
   "cell_type": "code",
   "execution_count": 141,
   "metadata": {},
   "outputs": [],
   "source": [
    "# Preprocessing boilerplate\n",
    "\n",
    "n_documents = len(newsgroups_data['data'])\n",
    "\n",
    "count_vectorizer = CountVectorizer(input='content', binary=True,\n",
    "                                   max_df=0.25, min_df=1.01/n_documents) # ignore common words, words that appear once\n",
    "binary_bag_of_words = count_vectorizer.fit_transform(newsgroups_data['data']) # input is a list of strings\n"
   ]
  },
  {
   "cell_type": "code",
   "execution_count": 142,
   "metadata": {},
   "outputs": [
    {
     "data": {
      "text/plain": [
       "(11314, 56365)"
      ]
     },
     "execution_count": 142,
     "metadata": {},
     "output_type": "execute_result"
    }
   ],
   "source": [
    "# Check shape\n",
    "binary_bag_of_words.shape"
   ]
  },
  {
   "cell_type": "code",
   "execution_count": 143,
   "metadata": {},
   "outputs": [
    {
     "data": {
      "text/plain": [
       "[array(['lerxst', 'wam', 'umd', 'where', 'thing', 'car', 'rac3',\n",
       "        'maryland', 'college', 'park', '15', 'wondering', 'anyone',\n",
       "        'could', 'enlighten', 'saw', 'day', 'door', 'sports', 'looked',\n",
       "        'late', '60s', 'early', '70s', 'called', 'bricklin', 'doors',\n",
       "        'were', 'really', 'small', 'addition', 'front', 'bumper',\n",
       "        'separate', 'rest', 'body', 'tellme', 'model', 'name', 'engine',\n",
       "        'specs', 'years', 'production', 'made', 'history', 'whatever',\n",
       "        'info', 'funky', 'looking', 'please', 'mail', 'thanks', 'il',\n",
       "        'brought', 'neighborhood'], dtype='<U80')]"
      ]
     },
     "execution_count": 143,
     "metadata": {},
     "output_type": "execute_result"
    }
   ],
   "source": [
    "# Check that the fit has been successful\n",
    "count_vectorizer.inverse_transform(binary_bag_of_words[0,:])"
   ]
  },
  {
   "cell_type": "code",
   "execution_count": 144,
   "metadata": {},
   "outputs": [],
   "source": [
    "# Dict that will be useful later \n",
    "\n",
    "inv_vocabulary = {value:key for key, value in count_vectorizer.vocabulary_.items()}"
   ]
  },
  {
   "cell_type": "markdown",
   "metadata": {},
   "source": [
    "#### A Naive Bayes classifier for `newsgroup`"
   ]
  },
  {
   "cell_type": "markdown",
   "metadata": {},
   "source": [
    "Each feature vector $x$ is a list of indicators for whether a word appears in the article. $x_i$ is 1 if the $i$th word appears, and 0 otherwise. `inv_vocabulary` matches word indices $i$ to words.\n",
    "\n",
    "Each label $y$ is a value in $0, 1, \\ldots, 19$.\n",
    "\n",
    "The parts of a naive Bayes classifier for this problem can be summarised as:  \n",
    "\n",
    "\n",
    "- A probability distribution for the feature vector by class, $p(x|y = j)$ for each $j = 0, 1, \\ldots, 19$. These probability distributions are assumed to have independent components: we can factorize the joint probability as a product of marginal probabilities\n",
    "\\begin{equation}\n",
    "    p(x|y = j) = \\prod_{i=1}^d p(x_i|y = j)\n",
    "\\end{equation}\n",
    "These marginal probability distributions are Bernoulli distributions, each of which has a single parameter $\\theta_{ji} := p(x_i = 1|y = j)$. This parameter is the probability of observing word $i$ in an article of class $j$. \n",
    "\n",
    "- We will use the Laplace smoothed maximum likelihood estimate to compute these parameters. Laplace smoothing involves adding small counts to every feature for each class. Else, if a feature did not appear in the training set of a class, but then we observed it in our test data the log probability would be undefined.\n",
    "\n",
    "- A collection of class prior probabilities $p(y = j)$. These will be set by computing the class base rates in the training set.  \n",
    "\n",
    "\n",
    "- A function for computing the probability of class membership via Bayes' theorem:  \n",
    "\n",
    "\\begin{equation}\n",
    "    p(y = j|x) = \\frac{p(x|y = j)p(y = j)}{p(x)}\n",
    "\\end{equation}"
   ]
  },
  {
   "cell_type": "code",
   "execution_count": 157,
   "metadata": {},
   "outputs": [],
   "source": [
    "# Compute the parameter estimates (adjusted fraction of documents in class that contain word)\n",
    "\n",
    "n_classes = newsgroups_data['target'].max() + 1\n",
    "y = newsgroups_data['target']\n",
    "n_words = binary_bag_of_words.shape[1]\n",
    "\n",
    "\n",
    "alpha =1e-6 # parameters for Laplace smoothing\n",
    "\n",
    "theta = np.zeros([n_classes, n_words]) # stores parameter values - prob. word given class\n",
    "for c_k in range(n_classes): # 0, 1, ..., 19\n",
    "    class_mask = (y == c_k)\n",
    "    N = class_mask.sum() # number of articles in class\n",
    "    theta[c_k, :] = (binary_bag_of_words[class_mask, :].sum(axis=0) + alpha)/(N + alpha*2)"
   ]
  },
  {
   "cell_type": "code",
   "execution_count": 158,
   "metadata": {},
   "outputs": [
    {
     "name": "stdout",
     "output_type": "stream",
     "text": [
      "Most probable word in class alt.atheism is \"people\".\n",
      "Most probable word in class comp.graphics is \"graphics\".\n",
      "Most probable word in class comp.os.ms-windows.misc is \"windows\".\n",
      "Most probable word in class comp.sys.ibm.pc.hardware is \"thanks\".\n",
      "Most probable word in class comp.sys.mac.hardware is \"mac\".\n",
      "Most probable word in class comp.windows.x is \"window\".\n",
      "Most probable word in class misc.forsale is \"sale\".\n",
      "Most probable word in class rec.autos is \"car\".\n",
      "Most probable word in class rec.motorcycles is \"dod\".\n",
      "Most probable word in class rec.sport.baseball is \"he\".\n",
      "Most probable word in class rec.sport.hockey is \"ca\".\n",
      "Most probable word in class sci.crypt is \"clipper\".\n",
      "Most probable word in class sci.electronics is \"use\".\n",
      "Most probable word in class sci.med is \"reply\".\n",
      "Most probable word in class sci.space is \"space\".\n",
      "Most probable word in class soc.religion.christian is \"god\".\n",
      "Most probable word in class talk.politics.guns is \"people\".\n",
      "Most probable word in class talk.politics.mideast is \"people\".\n",
      "Most probable word in class talk.politics.misc is \"people\".\n",
      "Most probable word in class talk.religion.misc is \"he\".\n"
     ]
    }
   ],
   "source": [
    "# Check whether the most probable word in each class is reasonable\n",
    "\n",
    "most_probable_word_ix = theta.argmax(axis=1) # most probable word for each class\n",
    "\n",
    "for j, ix in enumerate(most_probable_word_ix):\n",
    "    print('Most probable word in class {} is \"{}\".'.format(newsgroups_data['target_names'][j],\n",
    "                                                           inv_vocabulary[ix]))"
   ]
  },
  {
   "cell_type": "code",
   "execution_count": 159,
   "metadata": {},
   "outputs": [
    {
     "data": {
      "text/plain": [
       "<tfp.distributions.Independent 'IndependentBernoulli' batch_shape=[20] event_shape=[56365] dtype=int32>"
      ]
     },
     "execution_count": 159,
     "metadata": {},
     "output_type": "execute_result"
    }
   ],
   "source": [
    "# Define a distribution for each class\n",
    "batch_of_bernoullis=tfd.Bernoulli(probs=theta)\n",
    "p_x_given_y=tfd.Independent(batch_of_bernoullis,reinterpreted_batch_ndims=1)\n",
    "p_x_given_y"
   ]
  },
  {
   "cell_type": "code",
   "execution_count": 160,
   "metadata": {},
   "outputs": [
    {
     "data": {
      "text/plain": [
       "TensorShape([10, 20, 56365])"
      ]
     },
     "execution_count": 160,
     "metadata": {},
     "output_type": "execute_result"
    }
   ],
   "source": [
    "# Take a sample of words from each class\n",
    "\n",
    "n_samples = 10\n",
    "sample=p_x_given_y.sample(n_samples)\n",
    "sample.shape"
   ]
  },
  {
   "cell_type": "code",
   "execution_count": 161,
   "metadata": {},
   "outputs": [
    {
     "data": {
      "text/plain": [
       "'soc.religion.christian'"
      ]
     },
     "execution_count": 161,
     "metadata": {},
     "output_type": "execute_result"
    }
   ],
   "source": [
    "# Choose a class\n",
    "\n",
    "#clase que tiene que ver con la religuom\n",
    "chosen_class = 15\n",
    "newsgroups_data['target_names'][chosen_class]"
   ]
  },
  {
   "cell_type": "code",
   "execution_count": 162,
   "metadata": {},
   "outputs": [
    {
     "data": {
      "text/plain": [
       "<tf.Tensor: shape=(10, 56365), dtype=int32, numpy=\n",
       "array([[0, 0, 0, ..., 0, 0, 0],\n",
       "       [0, 0, 0, ..., 0, 0, 0],\n",
       "       [0, 0, 0, ..., 0, 0, 0],\n",
       "       ...,\n",
       "       [0, 0, 0, ..., 0, 0, 0],\n",
       "       [1, 0, 0, ..., 0, 0, 0],\n",
       "       [0, 0, 0, ..., 0, 0, 0]], dtype=int32)>"
      ]
     },
     "execution_count": 162,
     "metadata": {},
     "output_type": "execute_result"
    }
   ],
   "source": [
    "# Indicators for words that appear in the sample\n",
    "#vemos su codifcicaion para esa clase\n",
    "class_sample = sample[:, chosen_class, :]\n",
    "class_sample"
   ]
  },
  {
   "cell_type": "code",
   "execution_count": 165,
   "metadata": {},
   "outputs": [
    {
     "data": {
      "text/plain": [
       "[array(['01', '1993', '7th', '99', 'absolutist', 'accepted', 'acknowledge',\n",
       "        'acs', 'acts', 'again', 'arguments', 'assumptions', 'bc', 'become',\n",
       "        'behaviour', 'being', 'bible', 'big', 'biting', 'brother', 'bunny',\n",
       "        'called', 'case', 'cases', 'changed', 'children', 'close',\n",
       "        'coming', 'common', 'confirmation', 'conflict', 'considering',\n",
       "        'correctly', 'cs89mcd', 'different', 'distruction', 'dmn', 'does',\n",
       "        'doing', 'drove', 'emphasis', 'empty', 'events', 'ever', 'every',\n",
       "        'evidence', 'evil', 'facie', 'fact', 'fasting', 'figures',\n",
       "        'finished', 'follow', 'follows', 'fro', 'fruits', 'gender', 'god',\n",
       "        'going', 'got', 'gradual', 'graduate', 'ground', 'group', 'harold',\n",
       "        'her', 'human', 'imposing', 'inappropriate', 'internet', 'into',\n",
       "        'irresponsible', 'jesus', 'joe', 'kellett', 'lead', 'left', 'let',\n",
       "        'limitations', 'll', 'looking', 'love', 'made', 'many', 'math',\n",
       "        'message', 'michael', 'mike', 'moral', 'mother', 'name', 'netters',\n",
       "        'obviously', 'occasions', 'ok', 'opl', 'option', 'org', 'our',\n",
       "        'people', 'performed', 'phil', 'plausible', 'post', 'preached',\n",
       "        'presbyterian', 'prosper', 'race', 'rather', 'realize',\n",
       "        'recognize', 'recorded', 'refer', 'released', 'right', 'routinely',\n",
       "        'rutgers', 'searching', 'something', 'spanish', 'specific',\n",
       "        'stephen', 'suggest', 'taught', 'teachings', 'those', 'thus',\n",
       "        'tree', 'turned', 'uga', 'uses', 'wait', 'want', 'wants', 'way',\n",
       "        'whether', 'whuzzat', 'why', 'without', 'works', 'worship'],\n",
       "       dtype='<U80'),\n",
       " array(['1993', '1cor', '22', 'above', 'affect', 'after', 'animals',\n",
       "        'answered', 'anyone', 'anything', 'arrogant', 'assumptions',\n",
       "        'awareness', 'back', 'become', 'believe', 'believes', 'big',\n",
       "        'blasphemy', 'blindly', 'blood', 'both', 'business', 'chapter',\n",
       "        'christian', 'christianity', 'church', 'coerced', 'collection',\n",
       "        'cs', 'darius_lecointe', 'depends', 'dg', 'different',\n",
       "        'disciplines', 'distinguish', 'dogmatism', 'dr', 'emotional',\n",
       "        'eyes', 'faith', 'false', 'first', 'focus', 'founding', 'given',\n",
       "        'glean', 'glorious', 'god', 'goes', 'good', 'got', 'great', 'hand',\n",
       "        'he', 'here', 'his', 'inherit', 'interfered', 'intolerant',\n",
       "        'james', 'jesus', 'knows', 'lake', 'lands', 'let', 'literal',\n",
       "        'long', 'lot', 'man', 'mass', 'mental', 'michael', 'occurances',\n",
       "        'offered', 'old', 'our', 'packed', 'parents', 'perfect', 'perhaps',\n",
       "        'point', 'possibilities', 'possible', 'prevents', 'problem',\n",
       "        'question', 'rate', 'reference', 'referred', 'refusal', 'rested',\n",
       "        'rope', 'salvation', 'saved', 'saying', 'sea', 'situation',\n",
       "        'someone', 'something', 'spirit', 'spiritual', 'ssd', 'stuff',\n",
       "        'style', 'substance', 'sucess', 'than', 'their', 'them',\n",
       "        'therefore', 'these', 'thesis', 'thinking', 'thrust', 'treated',\n",
       "        'truth', 'two', 'typically', 'uiuc', 'unambiguous', 'unbaptized',\n",
       "        'velasco', 'volume', 'were', 'words', 'yourselves'], dtype='<U80'),\n",
       " array(['14', '15', '1993', '23', '40', '8153', 'across', 'actually',\n",
       "        'age', 'allow', 'allows', 'alps', 'analyst', 'answers', 'appears',\n",
       "        'appease', 'athos', 'att', 'attempted', 'back', 'being', 'believe',\n",
       "        'between', 'big', 'bind', 'body', 'boston', 'careful', 'catholic',\n",
       "        'certain', 'chance', 'changed', 'chris', 'college', 'confers',\n",
       "        'contradictory', 'correct', 'cult', 'db7n', 'death', 'decided',\n",
       "        'deforestation', 'determined', 'didn', 'diminished', 'displayed',\n",
       "        'eggert', 'empty', 'entirely', 'espouse', 'even', 'fact', 'felt',\n",
       "        'feminine', 'find', 'frank', 'given', 'guilt', 'harris', 'he',\n",
       "        'heal', 'heard', 'her', 'here', 'heres', 'hold', 'hole',\n",
       "        'immediate', 'important', 'indeed', 'intent', 'jeesus', 'jesus',\n",
       "        'john', 'justify', 'k2b', 'least', 'led', 'lesson', 'live', 'ma',\n",
       "        'marry', 'matter', 'may', 'mistake', 'moderator', 'murder',\n",
       "        'mutual', 'necessary', 'never', 'next', 'non', 'now', 'offenders',\n",
       "        'once', 'our', 'over', 'people', 'perish', 'portugal', 'power',\n",
       "        'powers', 'prevented', 'reformers', 'relax', 'research',\n",
       "        'resentful', 'revealed', 'rules', 'rutgers', 'said', 'sas',\n",
       "        'sense', 'sermon', 'sex', 'shintoism', 'simple', 'single',\n",
       "        'situation', 'sorry', 'spirituality', 'st', 'star', 'sucking',\n",
       "        'suddenly', 'swept', 'teach', 'technology', 'than', 'them',\n",
       "        'theological', 'these', 'things', 'though', 'thus', 'time',\n",
       "        'truth', 'universal', 'upenn', 'use', 'way', 'westminster',\n",
       "        'where', 'within', 'wondering', 'works', 'worth', 'wrong', 'years'],\n",
       "       dtype='<U80'),\n",
       " array(['11', '12', '13', '145', '22', '244', '25', '45', 'ability', 'act',\n",
       "        'actually', 'announce', 'answer', 'anything', 'apr', 'art', 'au',\n",
       "        'baker', 'based', 'benefit', 'best', 'blaming', 'break', 'case',\n",
       "        'check', 'cheerful', 'christ', 'christians', 'cleaned', 'clock',\n",
       "        'close', 'closely', 'coming', 'command', 'commission',\n",
       "        'contradiction', 'cover', 'croatians', 'current', 'decision',\n",
       "        'defend', 'denounced', 'dictate', 'didn', 'dinner', 'disagreement',\n",
       "        'dispersing', 'dlecoint', 'doesn', 'easteee', 'engineer',\n",
       "        'entirely', 'everything', 'evidence', 'example', 'faith', 'father',\n",
       "        'fax', 'find', 'forgiveness', 'god', 'hacking', 'happiness',\n",
       "        'hold', 'honest', 'important', 'inc', 'ingr', 'iniquities',\n",
       "        'insights', 'institute', 'jcj', 'jersey', 'jhpb', 'king', 'larry',\n",
       "        'living', 'lot', 'loving', 'management', 'mark', 'mighty',\n",
       "        'native', 'ne', 'non', 'numbering', 'numbers', 'odd', 'ogden',\n",
       "        'others', 'pantheism', 'part', 'particularly', 'particulars',\n",
       "        'pastor', 'peace', 'penalties', 'people', 'possess', 'posts',\n",
       "        'preach', 'professionals', 'psalm', 'punishment', 'purpose',\n",
       "        'rabid', 'rather', 'recommend', 'recorded', 'repent', 'required',\n",
       "        'right', 'rope', 'satan', 'scratch', 'see', 'seek', 'set',\n",
       "        'sharing', 'she', 'son', 'sorts', 'soul', 'sounds', 'still',\n",
       "        'story', 'strangely', 'stuff', 'temple', 'terrible', 'their',\n",
       "        'them', 'then', 'theologians', 'those', 'told', 'turns',\n",
       "        'understand', 'unfair', 'very', 'way', 'whim', 'whitsebd', 'whose',\n",
       "        'why', 'withdraw', 'worships', 'yours'], dtype='<U80'),\n",
       " array(['00', '13', '14', '32', '36', '38', '6086', '89', '90', 'accept',\n",
       "        'angel', 'announced', 'apr', 'areas', 'argument', 'arlut', 'back',\n",
       "        'band', 'because', 'best', 'blown', 'case', 'chapter', 'christ',\n",
       "        'christians', 'church', 'convinced', 'could', 'couples', 'day',\n",
       "        'death', 'difference', 'distinguishes', 'du', 'effecting',\n",
       "        'emotionalism', 'equipped', 'essentially', 'ever', 'fact', 'farli',\n",
       "        'father', 'filled', 'firm', 'follow', 'foreign', 'geneva', 'go',\n",
       "        'hard', 'heartily', 'helps', 'his', 'however', 'human', 'images',\n",
       "        'including', 'irish', 'jesus', 'john', 'll', 'loop', 'louisville',\n",
       "        'major', 'meagre', 'mmalt', 'mortal', 'most', 'nancy',\n",
       "        'noteworthy', 'others', 'paper', 'paul', 'people', 'personal',\n",
       "        'perverted', 'phone', 'points', 'positive', 'preaching',\n",
       "        'preferred', 'programs', 'progress', 'proposes', 'punish',\n",
       "        'questions', 'raising', 'reason', 'religious', 'reserve',\n",
       "        'results', 'rutgers', 'sartre', 'saw', 'says', 'seven', 'severe',\n",
       "        'should', 'show', 'since', 'smell', 'soon', 'spirit', 'starts',\n",
       "        'state', 'statement', 'still', 'sure', 'szanto', 'take', 'talk',\n",
       "        'technical', 'terms', 'think', 'thinking', 'time', 'timeout',\n",
       "        'times', 'translated', 'until', 'us', 've', 'way', 'went', 'were',\n",
       "        'whheydt', 'while', 'why', 'xopr131', 'years', 'yourself'],\n",
       "       dtype='<U80'),\n",
       " array(['01', '02', '10', '14', '1993', '21', '34', '6th', 'after', 'aims',\n",
       "        'alvin', 'am', 'anne', 'apply', 'ask', 'association', 'away',\n",
       "        'been', 'behave', 'being', 'believes', 'bible', 'brought',\n",
       "        'cambodia', 'christian', 'churches', 'commandments', 'conflict',\n",
       "        'couple', 'creed', 'currently', 'days', 'denomination', 'deny',\n",
       "        'dismissing', 'dsegard', 'embrace', 'essential', 'eternity',\n",
       "        'europe', 'ever', 'exercise', 'exists', 'forbidden', 'garnet',\n",
       "        'georgia', 'given', 'god', 'grace', 'happened', 'he', 'him', 'his',\n",
       "        'improperly', 'instances', 'items', 'its', 'james', 'let',\n",
       "        'lifestyle', 'live', 'lost', 'made', 'major', 'martial', 'maybe',\n",
       "        'mayne', 'monopoly', 'moved', 'need', 'newsgroup', 'nihilo',\n",
       "        'nothing', 'number', 'office', 'over', 'pagan', 'painful', 'part',\n",
       "        'pass', 'passages', 'pleas', 'post', 'pressing', 'putting',\n",
       "        'receiving', 'recognized', 'recounting', 'reedr', 'relevant',\n",
       "        'religious', 'request', 'rest', 'revealed', 'revelation',\n",
       "        'rutgers', 'same', 'schoeps', 'see', 'should', 'simple',\n",
       "        'standard', 'state', 'strict', 'suggesting', 'teeth', 'teneis',\n",
       "        'test', 'than', 'thanks', 'their', 'then', 'theology', 'thinking',\n",
       "        'third', 'three', 'today', 'true', 'try', 'trying', 'two',\n",
       "        'unambiguous', 'understood', 'unity', 'vehicle', 'wanting',\n",
       "        'whheydt', 'whom', 'works', 'written', 'wrote'], dtype='<U80'),\n",
       " array(['10', '13', '1st', '31', '35', '512',\n",
       "        '______________________________________________', 'accept',\n",
       "        'accepting', 'ai', 'andrew', 'around', 'assumed', 'athos',\n",
       "        'attempted', 'authority', 'avoid', 'because', 'becomes',\n",
       "        'benevolence', 'bless', 'blessed', 'bnr', 'book', 'bring',\n",
       "        'cannot', 'changing', 'christ', 'christians', 'church', 'claim',\n",
       "        'clearly', 'completely', 'concealment', 'condom', 'contexts',\n",
       "        'contrary', 'convert', 'corp', 'correct', 'dated', 'down', 'dream',\n",
       "        'effort', 'environment', 'even', 'facets', 'first', 'fool',\n",
       "        'forgiven', 'froehlich', 'georgia', 'golder', 'greek', 'grounds',\n",
       "        'hard', 'hayes', 'heart', 'her', 'however', 'impersonal',\n",
       "        'include', 'indiana', 'interpretation', 'its', 'jack', 'jon',\n",
       "        'kim', 'knowledge', 'lighter', 'long', 'lost', 'manipulation',\n",
       "        'mark', 'may', 'might', 'misconception', 'mission', 'most',\n",
       "        'music', 'must', 'new', 'notes', 'off', 'ourselves', 'over',\n",
       "        'people', 'place', 'pore', 'possible', 'present', 'pretty',\n",
       "        'proceed', 'properly', 'question', 'quote', 'readers', 'recall',\n",
       "        'removed', 'rolfe', 'rome', 'same', 'savior', 'scott', 'see',\n",
       "        'share', 'she', 'simply', 'since', 'slow', 'somewhat', 'spain',\n",
       "        'state', 'subscription', 'such', 'system', 'tautology',\n",
       "        'teachings', 'them', 'things', 'thousand', 'thrown', 'tool',\n",
       "        'topics', 'torn', 'truth', 'unintentionally', 'us', 'usa', 'want',\n",
       "        'way', 'weddings', 'where', 'whether', 'whole', 'witness',\n",
       "        'written', 'wrote', 'years'], dtype='<U80'),\n",
       " array(['03', '14', '25', '53', '5of5', '707', 'above', 'according',\n",
       "        'adopted', 'ak', 'already', 'alternative', 'anybody', 'anything',\n",
       "        'atheism', 'atheist', 'away', 'baker', 'basis', 'been', 'believe',\n",
       "        'big', 'building', 'catechism', 'catholic', 'ceremonial',\n",
       "        'christian', 'christians', 'church', 'clear', 'convinced', 'dead',\n",
       "        'developed', 'dice', 'did', 'die', 'dlecoint', 'doll', 'doubt',\n",
       "        'eggs', 'either', 'europe', 'eve', 'exists', 'fact', 'faq',\n",
       "        'fathers', 'first', 'forbade', 'further', 'god', 'group', 'hard',\n",
       "        'he', 'healing', 'here', 'him', 'his', 'human', 'idea',\n",
       "        'implications', 'imply', 'includes', 'influence', 'interesting',\n",
       "        'irrelevant', 'james', 'jim', 'john', 'key', 'labs', 'later',\n",
       "        'let', 'lewis', 'lies', 'ludicrous', 'made', 'mean', 'montgomery',\n",
       "        'mostly', 'moy', 'much', 'munns', 'name', 'need', 'net', 'new',\n",
       "        'objectivity', 'once', 'ourselves', 'over', 'parents', 'plato',\n",
       "        'positions', 'possible', 'preserving', 'preterist', 'project',\n",
       "        'protestants', 'question', 'randy', 'recall', 'redwoods',\n",
       "        'regeneration', 'rejected', 'religious', 'remainder', 'rise',\n",
       "        'rutgers', 'said', 'same', 'satan', 'separate', 'shanti', 'should',\n",
       "        'shouldn', 'showed', 'sin', 'st', 'summa', 'system', 'teacher',\n",
       "        'teachings', 'their', 'things', 'third', 'thought', 'through',\n",
       "        'time', 'tonight', 'trying', 'unanimously', 'unfortunately',\n",
       "        'ungodly', 'usa', 'use', 'useful', 'valid', 'wasn', 'welcome',\n",
       "        'westpark', 'why', 'word', 'wrong', 'yet'], dtype='<U80'),\n",
       " array(['00', '11', '13', '36', '73', 'ac', 'accept', 'across', 'action',\n",
       "        'age', 'ages', 'also', 'answer', 'appear', 'apple', 'athos',\n",
       "        'average', 'beast', 'because', 'beginning', 'being', 'beneath',\n",
       "        'best', 'books', 'both', 'bouncing', 'card', 'christ', 'clearly',\n",
       "        'commanded', 'comparative', 'conflict', 'conscious',\n",
       "        'corresponding', 'cwru', 'danger', 'days', 'deciphered', 'die',\n",
       "        'died', 'disagree', 'discussions', 'disorganized', 'does', 'doing',\n",
       "        'early', 'else', 'environmentalism', 'ephesus', 'esteem', 'fall',\n",
       "        'going', 'got', 'green', 'guilty', 'happened', 'his', 'however',\n",
       "        'humanity', 'infallible', 'info', 'inspired', 'institut',\n",
       "        'interested', 'issue', 'jumbo', 'known', 'lake', 'last', 'loves',\n",
       "        'makes', 'manipulation', 'mark', 'mcpherson', 'mechanical',\n",
       "        'mission', 'mkhan', 'moral', 'motorola', 'necessary', 'need',\n",
       "        'now', 'ny', 'offered', 'often', 'opponent', 'ot', 'paul',\n",
       "        'powerful', 'priesthood', 'principle', 'providence', 'punctuated',\n",
       "        'rather', 'reading', 'received', 'remain', 'retrospect', 'rod',\n",
       "        'saddam', 'say', 'says', 'scourged', 'sea', 'see', 'seeds', 'shao',\n",
       "        'share', 'show', 'side', 'similarly', 'soil', 'sould', 'spiritual',\n",
       "        'st', 'start', 'story', 'sun075', 'supposed', 'their', 'them',\n",
       "        'then', 'time', 'too', 'torches', 'unfortunately', 'used', 'uunet',\n",
       "        'verify', 'warm', 'warmed', 'way', 'were', 'whole', 'why', 'wife',\n",
       "        'years', 'yes'], dtype='<U80'),\n",
       " array(['08', '16', '1993', '22', 'able', 'accept', 'acting', 'advantage',\n",
       "        'allowed', 'also', 'another', 'answer', 'apr', 'arguments',\n",
       "        'aside', 'assist', 'assume', 'away', 'bass', 'before', 'better',\n",
       "        'bill', 'both', 'brethren', 'central', 'certainly', 'christian',\n",
       "        'christians', 'classic', 'comment', 'comparative', 'compuserve',\n",
       "        'considered', 'could', 'covered', 'cwru', 'dal', 'dead',\n",
       "        'definition', 'department', 'destroyed', 'did', 'dleonar', 'done',\n",
       "        'else', 'enforces', 'especially', 'eternally', 'evangelism',\n",
       "        'everyone', 'explain', 'family', 'far', 'father', 'flout',\n",
       "        'france', 'gal', 'georgia', 'grasp', 'great', 'heart', 'him',\n",
       "        'his', 'however', 'indiana', 'jesus', 'joy', 'keep', 'kids',\n",
       "        'killing', 'lands', 'launchpad', 'leaving', 'little', 'll', 'long',\n",
       "        'making', 'man', 'matthew', 'mentioning', 'modern', 'most',\n",
       "        'mystery', 'news', 'north', 'novel', 'numerous', 'nyc', 'off',\n",
       "        'often', 'our', 'over', 'peace', 'persisting', 'pmp', 'position',\n",
       "        'principal', 'prism', 'prove', 'purpose', 'quality', 'question',\n",
       "        'quite', 'rather', 'real', 'refer', 'refutations', 'relationships',\n",
       "        'repentance', 'revealed', 'ridiculous', 'right', 'robert', 'role',\n",
       "        'saying', 'scripture', 'should', 'since', 'skin', 'sound', 'spain',\n",
       "        'studies', 'such', 'synagogue', 'then', 'think', 'thinker', 'top',\n",
       "        'toward', 'unix', 'unquestionable', 've', 'visibly', 'wasn',\n",
       "        'were', 'where', 'while', 'whole', 'wjhovi01', 'woman'],\n",
       "       dtype='<U80')]"
      ]
     },
     "execution_count": 165,
     "metadata": {},
     "output_type": "execute_result"
    }
   ],
   "source": [
    "# Perform inverse transform to test quality of fit\n",
    "\n",
    "#vemos las palabras que se relacionan con esa clase segun nuestro predictor\n",
    "count_vectorizer.inverse_transform(class_sample)"
   ]
  },
  {
   "cell_type": "markdown",
   "metadata": {},
   "source": [
    "***\n",
    "<a id='sampling_and_log_probs'></a>\n",
    "## Sampling and log probs\n",
    "\n",
    "Podemos aplicar broadcasting a los metodos prob y log_prob"
   ]
  },
  {
   "cell_type": "code",
   "execution_count": 166,
   "metadata": {},
   "outputs": [
    {
     "data": {
      "text/plain": [
       "<tfp.distributions.MultivariateNormalDiag 'MultivariateNormalDiag' batch_shape=[3] event_shape=[2] dtype=float32>"
      ]
     },
     "execution_count": 166,
     "metadata": {},
     "output_type": "execute_result"
    }
   ],
   "source": [
    "# Make Multivariate Distribution\n",
    "\n",
    "normal_distributions = tfd.MultivariateNormalDiag(loc=[[0.5, 1], [0.1, 0], [0, 0.2]],\n",
    "                                 scale_diag=[[2, 3], [1, 3], [4, 4]])\n",
    "normal_distributions"
   ]
  },
  {
   "cell_type": "code",
   "execution_count": 167,
   "metadata": {},
   "outputs": [
    {
     "data": {
      "text/plain": [
       "<tf.Tensor: shape=(5, 3, 2), dtype=float32, numpy=\n",
       "array([[[ 1.45207   , -1.2671385 ],\n",
       "        [-0.9819329 , -0.9435795 ],\n",
       "        [ 1.089914  , -3.0450065 ]],\n",
       "\n",
       "       [[ 0.3961581 , -1.9614446 ],\n",
       "        [-0.77693784, -6.395932  ],\n",
       "        [ 4.980682  , -0.5278261 ]],\n",
       "\n",
       "       [[ 3.30444   , -0.24556243],\n",
       "        [ 1.0200157 ,  5.62127   ],\n",
       "        [ 5.0966425 ,  0.32323232]],\n",
       "\n",
       "       [[ 0.7609292 ,  3.9422667 ],\n",
       "        [-0.47178283,  3.515521  ],\n",
       "        [ 1.52714   ,  4.9016037 ]],\n",
       "\n",
       "       [[ 0.13088343, -2.8836408 ],\n",
       "        [-1.1440197 , -2.5603771 ],\n",
       "        [-4.7815933 , -0.98972267]]], dtype=float32)>"
      ]
     },
     "execution_count": 167,
     "metadata": {},
     "output_type": "execute_result"
    }
   ],
   "source": [
    "# Sample\n",
    "normal_distributions.sample(5)"
   ]
  },
  {
   "cell_type": "code",
   "execution_count": 168,
   "metadata": {},
   "outputs": [
    {
     "data": {
      "text/plain": [
       "<tfp.distributions.MultivariateNormalDiag 'MultivariateNormalDiag' batch_shape=[2, 2] event_shape=[3] dtype=float32>"
      ]
     },
     "execution_count": 168,
     "metadata": {},
     "output_type": "execute_result"
    }
   ],
   "source": [
    "# Multivariate Normal batched Distribution\n",
    "# We are broadcasting batch shapes of `loc` and `scal_diag` \n",
    "# against each other\n",
    "\n",
    "loc = [[[0.3, 1.5, 1.], [0.2, 0.4, 2.8]],\n",
    "        [[2., 2.3, 8], [1.4, 1, 1.3]]]\n",
    "scale_diag = [0.4, 1., 0.7]\n",
    "normal_distributions = tfd.MultivariateNormalDiag(loc=loc, scale_diag=scale_diag)\n",
    "normal_distributions"
   ]
  },
  {
   "cell_type": "code",
   "execution_count": 169,
   "metadata": {},
   "outputs": [
    {
     "data": {
      "text/plain": [
       "<tfp.distributions.Independent 'IndependentMultivariateNormalDiag' batch_shape=[2] event_shape=[2, 3] dtype=float32>"
      ]
     },
     "execution_count": 169,
     "metadata": {},
     "output_type": "execute_result"
    }
   ],
   "source": [
    "# Use independent to move part of the batch shape\n",
    "\n",
    "ind_normal_distributions=tfd.Independent(normal_distributions,reinterpreted_batch_ndims=1)\n",
    "ind_normal_distributions"
   ]
  },
  {
   "cell_type": "code",
   "execution_count": 172,
   "metadata": {},
   "outputs": [
    {
     "data": {
      "text/plain": [
       "TensorShape([5, 2, 2, 3])"
      ]
     },
     "execution_count": 172,
     "metadata": {},
     "output_type": "execute_result"
    }
   ],
   "source": [
    "# Draw some samples\n",
    "samples=ind_normal_distributions.sample(5)\n",
    "samples.shape\n",
    "#note que tenemos [muestra_shape=5,batch_shape=2,event_shape=(2, 3)]=[S,B,E]=[5, 2, 2, 3]"
   ]
  },
  {
   "cell_type": "code",
   "execution_count": 173,
   "metadata": {},
   "outputs": [
    {
     "data": {
      "text/plain": [
       "<tf.Tensor: shape=(2,), dtype=float32, numpy=array([ -7.832224, -82.35718 ], dtype=float32)>"
      ]
     },
     "execution_count": 173,
     "metadata": {},
     "output_type": "execute_result"
    }
   ],
   "source": [
    "# [B, E]=[2,2,3] shaped input\n",
    "inp=tf.random.uniform((2,2,3))\n",
    "ind_normal_distributions.log_prob(inp)\n",
    "#la dimension resultante es la de lote B=2  shape=(2,)"
   ]
  },
  {
   "cell_type": "code",
   "execution_count": 174,
   "metadata": {},
   "outputs": [
    {
     "data": {
      "text/plain": [
       "<tf.Tensor: shape=(2,), dtype=float32, numpy=array([-11.281106, -65.40057 ], dtype=float32)>"
      ]
     },
     "execution_count": 174,
     "metadata": {},
     "output_type": "execute_result"
    }
   ],
   "source": [
    "# [E] shaped input (broadcasting over batch size)\n",
    "#veamos como funciona broadcasting sobre lote si solo pasamos entrada de dim E=(2,3)\n",
    "inp=tf.random.uniform((2,3))\n",
    "ind_normal_distributions.log_prob(inp)\n",
    "\n",
    "#el resultado sige teniendo shape=(2,)= tamaño de lote"
   ]
  },
  {
   "cell_type": "code",
   "execution_count": 175,
   "metadata": {},
   "outputs": [
    {
     "data": {
      "text/plain": [
       "<tf.Tensor: shape=(9, 2), dtype=float32, numpy=\n",
       "array([[-11.847362, -78.15491 ],\n",
       "       [ -9.265546, -74.806854],\n",
       "       [-10.124989, -74.00938 ],\n",
       "       [ -8.423023, -70.409096],\n",
       "       [ -9.959869, -70.63531 ],\n",
       "       [ -8.39356 , -70.727036],\n",
       "       [-11.425817, -81.818855],\n",
       "       [-12.695864, -62.425606],\n",
       "       [ -8.190274, -70.59572 ]], dtype=float32)>"
      ]
     },
     "execution_count": 175,
     "metadata": {},
     "output_type": "execute_result"
    }
   ],
   "source": [
    "#[S, B, E] shaped input (broadcasting over samples)\n",
    "#veamos como funciona broadcasting si pasamos forma [S, B, E] con S=9 \n",
    "inp=tf.random.uniform((9,2,2,3))\n",
    "ind_normal_distributions.log_prob(inp)\n",
    "\n",
    "#el resultado tien shape=(9,2) hace broadcasting sobre tamaño de muestra 9 * tamaño de lote =2"
   ]
  },
  {
   "cell_type": "code",
   "execution_count": 176,
   "metadata": {},
   "outputs": [
    {
     "data": {
      "text/plain": [
       "<tf.Tensor: shape=(5, 2), dtype=float32, numpy=\n",
       "array([[ -9.969991, -80.47369 ],\n",
       "       [-11.114958, -68.2763  ],\n",
       "       [ -9.934106, -58.039017],\n",
       "       [ -9.212123, -71.79583 ],\n",
       "       [-10.124066, -74.50814 ]], dtype=float32)>"
      ]
     },
     "execution_count": 176,
     "metadata": {},
     "output_type": "execute_result"
    }
   ],
   "source": [
    "# `[S, b, e]` shaped input, where [b, e] is broadcastable over [B, E]\n",
    "\n",
    "inp=tf.random.uniform((5,1,2,1))\n",
    "ind_normal_distributions.log_prob(inp)"
   ]
  },
  {
   "cell_type": "markdown",
   "metadata": {},
   "source": [
    "#### Naive Bayes example\n",
    "\n",
    "Lets now use what we have learned and continue the Naive Bayes classifier we were building last tutorial."
   ]
  },
  {
   "cell_type": "code",
   "execution_count": 177,
   "metadata": {},
   "outputs": [],
   "source": [
    "from sklearn.datasets import fetch_20newsgroups\n",
    "from sklearn.feature_extraction.text import CountVectorizer\n",
    "from sklearn.naive_bayes import BernoulliNB\n",
    "from sklearn.metrics import f1_score"
   ]
  },
  {
   "cell_type": "code",
   "execution_count": 178,
   "metadata": {},
   "outputs": [],
   "source": [
    "# Making a function get_data which:\n",
    "#   1) Fetches the 20 newsgroup dataset\n",
    "#   2) Performs a word count on the articles and binarizes the result\n",
    "#   3) Returns the data as a numpy matrix with the labels\n",
    "\n",
    "def get_data(categories):\n",
    "    \n",
    "    newsgroups_train_data = fetch_20newsgroups(data_home='20_Newsgroup_Data/',\n",
    "                                               subset='train', categories=categories)\n",
    "    newsgroups_test_data = fetch_20newsgroups(data_home='20_Newsgroup_Data/',\n",
    "                                              subset='test', categories=categories)\n",
    "\n",
    "    n_documents = len(newsgroups_train_data['data'])\n",
    "    count_vectorizer = CountVectorizer(input='content', binary=True,max_df=0.25, min_df=1.01/n_documents)\n",
    "    \n",
    "    train_binary_bag_of_words = count_vectorizer.fit_transform(newsgroups_train_data['data'])\n",
    "    test_binary_bag_of_words = count_vectorizer.transform(newsgroups_test_data['data']) \n",
    "\n",
    "    return (train_binary_bag_of_words.todense(), newsgroups_train_data['target']),  (test_binary_bag_of_words.todense(), newsgroups_test_data['target'])"
   ]
  },
  {
   "cell_type": "code",
   "execution_count": 179,
   "metadata": {},
   "outputs": [],
   "source": [
    "# Defining a function to conduct Laplace smoothing. This adds a base level of probability for a given feature\n",
    "# to occur in every class.\n",
    "\n",
    "def laplace_smoothing(labels, binary_data, n_classes):\n",
    "    # Compute the parameter estimates (adjusted fraction of documents in class that contain word)\n",
    "    n_words = binary_data.shape[1]\n",
    "    alpha = 1 # parameters for Laplace smoothing\n",
    "    theta = np.zeros([n_classes, n_words]) # stores parameter values - prob. word given class\n",
    "    for c_k in range(n_classes): # 0, 1, ..., 19\n",
    "        class_mask = (labels == c_k)\n",
    "        N = class_mask.sum() # number of articles in class\n",
    "        theta[c_k, :] = (binary_data[class_mask, :].sum(axis=0) + alpha)/(N + alpha*2)\n",
    "\n",
    "    return theta"
   ]
  },
  {
   "cell_type": "code",
   "execution_count": 180,
   "metadata": {},
   "outputs": [],
   "source": [
    "# Getting a subset of the 20 newsgroup dataset\n",
    "\n",
    "categories = ['alt.atheism', 'talk.religion.misc', 'comp.graphics', 'sci.space']\n",
    "\n",
    "(train_data, train_labels), (test_data, test_labels) = get_data(categories=categories)\n",
    "smoothed_counts = laplace_smoothing(labels=train_labels, binary_data=train_data, n_classes=len(categories))"
   ]
  },
  {
   "cell_type": "markdown",
   "metadata": {},
   "source": [
    "To now make our NB classifier we need to build three functions:\n",
    "* Compute the class priors\n",
    "* Build our class conditional distributions\n",
    "* Put it all together and classify our data"
   ]
  },
  {
   "cell_type": "code",
   "execution_count": 181,
   "metadata": {},
   "outputs": [],
   "source": [
    "# Function which computes the prior probability of every class based on frequency of occurence in \n",
    "# the dataset\n",
    "\n",
    "def class_priors(n_classes, labels):\n",
    "    counts = np.zeros(n_classes)\n",
    "    for c_k in range(n_classes):\n",
    "        counts[c_k] = np.sum(np.where(labels==c_k, 1, 0))\n",
    "    priors = counts / np.sum(counts)\n",
    "    print('The class priors are {}'.format(priors))\n",
    "    return priors"
   ]
  },
  {
   "cell_type": "code",
   "execution_count": 182,
   "metadata": {},
   "outputs": [
    {
     "name": "stdout",
     "output_type": "stream",
     "text": [
      "The class priors are [0.2359882  0.28711898 0.29154376 0.18534907]\n"
     ]
    }
   ],
   "source": [
    "# Run the function \n",
    "priors=class_priors(n_classes=len(categories), labels=train_labels)\n"
   ]
  },
  {
   "cell_type": "code",
   "execution_count": 183,
   "metadata": {},
   "outputs": [
    {
     "data": {
      "text/plain": [
       "<tfp.distributions.Independent 'IndependentBernoulli' batch_shape=[4] event_shape=[17495] dtype=int32>"
      ]
     },
     "execution_count": 183,
     "metadata": {},
     "output_type": "execute_result"
    }
   ],
   "source": [
    "# Now we will do a function that given the feature occurence counts returns a Bernoulli distribution of \n",
    "# batch_shape=number of classes and event_shape=number of features.\n",
    "def make_distribution(probs):\n",
    "    batch_of_bernoullis=tfd.Bernoulli(probs=probs)\n",
    "    dist=tfd.Independent(batch_of_bernoullis,reinterpreted_batch_ndims=1)\n",
    "    return dist\n",
    "tf_dist=make_distribution(smoothed_counts)\n",
    "tf_dist"
   ]
  },
  {
   "cell_type": "code",
   "execution_count": 184,
   "metadata": {},
   "outputs": [],
   "source": [
    "# The final function predict_sample which given the distribution, a test sample, and the class priors:\n",
    "#   1) Computes the class conditional probabilities given the sample\n",
    "#   2) Forms the joint likelihood\n",
    "#   3) Normalises the joint likelihood and returns the log prob\n",
    "\n",
    "def predict_sample(dist,sample,priors):\n",
    "    cond_probs=dist.log_prob(sample)\n",
    "    joint_likelihood=tf.add(np.log(priors), cond_probs)\n",
    "    norm_factor=tf.math.reduce_logsumexp(joint_likelihood,axis=-1,keepdims=True)\n",
    "    log_prob=joint_likelihood-norm_factor\n",
    "    return log_prob"
   ]
  },
  {
   "cell_type": "markdown",
   "metadata": {},
   "source": [
    "#### Computing log_probs"
   ]
  },
  {
   "cell_type": "code",
   "execution_count": 185,
   "metadata": {},
   "outputs": [
    {
     "data": {
      "text/plain": [
       "<tf.Tensor: shape=(4,), dtype=float32, numpy=\n",
       "array([-6.1736160e+01, -1.5258789e-05, -1.1619934e+01, -6.3327240e+01],\n",
       "      dtype=float32)>"
      ]
     },
     "execution_count": 185,
     "metadata": {},
     "output_type": "execute_result"
    }
   ],
   "source": [
    "# Predicting one example from our test data\n",
    "log_prob=predict_sample(tf_dist,test_data[0],priors)\n",
    "log_prob\n"
   ]
  },
  {
   "cell_type": "code",
   "execution_count": null,
   "metadata": {},
   "outputs": [],
   "source": [
    "# Loop over our test data and classify.\n",
    "\n",
    "probabilities = []\n",
    "for sample, label in zip(test_data, test_labels):\n",
    "    probabilities.append(tf.exp(predict_sample(tf_dist, sample, priors)))\n",
    "\n",
    "probabilities = np.asarray(probabilities)\n",
    "predicted_classes = np.argmax(probabilities, axis =-1)\n",
    "print('f1 ', f1_score(test_labels, predicted_classes, average='macro'))"
   ]
  },
  {
   "cell_type": "code",
   "execution_count": null,
   "metadata": {},
   "outputs": [],
   "source": [
    "# Make a Bernoulli Naive Bayes classifier using sklearn with the same level of alpha smoothing. \n",
    "\n",
    "clf = BernoulliNB(alpha=1)\n",
    "clf.fit(train_data, train_labels)\n",
    "pred = clf.predict(test_data)\n",
    "print('f1 from sklean ', f1_score(test_labels, pred, average='macro'))"
   ]
  },
  {
   "cell_type": "markdown",
   "metadata": {},
   "source": [
    "***\n",
    "<a id='trainable_distributions'></a>\n",
    "## Trainable Distributions\n",
    "\n",
    "Podmemos hacer que los parametros de un objeto distribucion sean entrenables para poder ser aprendidos de datos lo cual nos da una relacion entre distribuciones y ML\n",
    "\n",
    "En los modelos probabilisticos de ML al entrenar se trabaja bajo el paradigma de maximize likelihood es decir encontrar los parametros del modelo que maximizen la probabilidad o distribucion(\"likelihood\") de nuestros datos.\n",
    "\n",
    "Maximizar la proba se puede hacer minimizando el negativo del logaritmo de la probabilidad \"negative log likelihood (nll)\" que para un problema de clasificacion binario esta dada por:\n",
    "\n",
    "$\\displaystyle -\\log[\\mathbb{P}(D|\\theta)]=-\\sum\\limits_{i=1}^n y_i\\log(\\hat{y}_{\\theta,i})+(1-y_i)\\log(1-\\hat{y}_{\\theta,i})$\n",
    "\n",
    "donde:\n",
    " \n",
    " $\\hat{y}_{\\theta,i}$ es la probabilidad predicha  de que el i-esimo dato sea positivo\n",
    " \n",
    " $1-\\hat{y}_{\\theta,i}$ es la probabilidad predicha  de que el i-esimo dato sea negativo\n"
   ]
  },
  {
   "cell_type": "code",
   "execution_count": null,
   "metadata": {},
   "outputs": [],
   "source": [
    "#supongamos que tenemos una distribucion normal d(media,desviacionestanar) y queremos hacer que la media\n",
    "#sea una variable iniciada en 0 que se aprenda de los datos \n",
    "normal_media_entrenable=tfd.Normal(loc=tf.Variable(0.,name'loc'),scale=1.)\n",
    "\n",
    "#podemos ver que valores son entrenables mediante \n",
    "normal_media_entrenable.trainable_variables\n",
    "\n",
    "#suponiendo que tenemos datos IID (independientes e identicamente distribuidos) \n",
    "#de esta forma la log_prob de los datos es la suma de las log_prob en cada dato\n",
    "#o para nuestros fines el promedio de las log_prob en cada dato lo cual no cambia el minimo a alcanzar\n",
    "\n",
    "#definimos nuestra funcion likelihood a minimizar\n",
    "#x_train=[x1,..,xn]\n",
    "def nll(x_train):\n",
    "    #calcula vector del \n",
    "    #normal_media_entrenable.log_prob(x_train)=[log(p(x1)),...log(p(xn))]\n",
    "    #-tf.reduce_mean(normal_media_entrenable.log_prob(x_train)) = -1/n(log(p(x1))+...+log(p(xn)))\n",
    "    return -tf.reduce_mean(normal_media_entrenable.log_prob(x_train))\n",
    "\n",
    "#definimos calculo de perdida y gradientes de nuestra funcion a optimizar\n",
    "@tf.function #para que se genere la grafia automaticamente\n",
    "def get_loss_and_grad(x_train):\n",
    "    with tf.GradientTape() as tape:\n",
    "        tape.watch(normal_media_entrenable.trainable_variables)\n",
    "        loss=nll(x_train)\n",
    "    grads=tape.gradient(loss,normal_media_entrenable.trainable_variables)\n",
    "    return loss, grads\n",
    "\n",
    "#Instanciamos el optimizador \n",
    "optimizer=tf.keras.optimizers.SGD(learning_rate=0.05)\n",
    "\n",
    "#definimos ciclo sencillo de entrenamiento\n",
    "for _ in range(num_steps):\n",
    "       #calculamos perdida y gradientes\n",
    "    loss,grads=get_loss_and_grads(x_samples)\n",
    "    #aplicamos el optimizador y se actualizan las variables aprendibles\t\n",
    "    optimizer.apply_gradients(zip(grads,normal_media_entrenable.trainable_variable))"
   ]
  },
  {
   "cell_type": "code",
   "execution_count": 2,
   "metadata": {},
   "outputs": [],
   "source": [
    "from sklearn.datasets import fetch_20newsgroups\n",
    "from sklearn.feature_extraction.text import CountVectorizer\n",
    "from sklearn.naive_bayes import BernoulliNB\n",
    "from sklearn.metrics import f1_score"
   ]
  },
  {
   "cell_type": "code",
   "execution_count": 3,
   "metadata": {},
   "outputs": [],
   "source": [
    "# Define an exponential distribution\n",
    "exponential=tfd.Exponential(rate=0.3,name='exp')\n"
   ]
  },
  {
   "cell_type": "code",
   "execution_count": 6,
   "metadata": {},
   "outputs": [
    {
     "data": {
      "image/png": "[encoded data removed]",
      "text/plain": [
       "<Figure size 432x288 with 1 Axes>"
      ]
     },
     "metadata": {
      "needs_background": "light"
     },
     "output_type": "display_data"
    }
   ],
   "source": [
    "# Plot\n",
    "\n",
    "plt.hist(exponential.sample(5000), bins=100, density=True)\n",
    "plt.show()"
   ]
  },
  {
   "cell_type": "code",
   "execution_count": 14,
   "metadata": {},
   "outputs": [
    {
     "data": {
      "text/plain": [
       "(<tf.Variable 'rate:0' shape=() dtype=float32, numpy=1.0>,)"
      ]
     },
     "execution_count": 14,
     "metadata": {},
     "output_type": "execute_result"
    }
   ],
   "source": [
    "# Define an exponential distribution with a trainable rate parameter\n",
    "exp_train=tfd.Exponential(rate=tf.Variable(1.,name='rate'),name='exp_train')\n",
    "exp_train.trainable_variables\n"
   ]
  },
  {
   "cell_type": "code",
   "execution_count": 15,
   "metadata": {},
   "outputs": [],
   "source": [
    "# Define the negative log likelihood\n",
    "def nll(x_train,distribution):\n",
    "    return -tf.reduce_mean(distribution.log_prob(x_train))"
   ]
  },
  {
   "cell_type": "code",
   "execution_count": 16,
   "metadata": {},
   "outputs": [],
   "source": [
    "# Define a function to compute the loss and gradients\n",
    "@tf.function #para que se genere la grafia automaticamente\n",
    "def get_loss_and_grad(x_train,distribution):\n",
    "    with tf.GradientTape() as tape:\n",
    "        tape.watch(distribution.trainable_variables)\n",
    "        loss=nll(x_train,distribution)\n",
    "    grads=tape.gradient(loss,distribution.trainable_variables)\n",
    "    return loss, grads\n"
   ]
  },
  {
   "cell_type": "code",
   "execution_count": 21,
   "metadata": {},
   "outputs": [],
   "source": [
    "# Optimize\n",
    "\n",
    "def exponential_dist_optimisation(data, distribution):\n",
    "\n",
    "    # Keep results for plotting\n",
    "    train_loss_results = []\n",
    "    train_rate_results = []\n",
    "    \n",
    "    optimizer = tf.keras.optimizers.SGD(learning_rate=0.05)\n",
    "\n",
    "    num_steps = 10\n",
    "\n",
    "    for i in range(num_steps):\n",
    "        loss,grads=get_loss_and_grad(data,distribution)\n",
    "        optimizer.apply_gradients(zip(grads,distribution.trainable_variables))\n",
    "        #para ver como evoluciona el radio aprendido\n",
    "        rate_value=distribution.rate.value()\n",
    "        train_loss_results.append(loss)\n",
    "        train_rate_results.append(rate_value)\n",
    "        print(\"Step {:03d}: Loss: {:.3f}: Rate: {:.3f}\".format(i,loss,rate_value))\n",
    "        \n",
    "    return train_loss_results, train_rate_results"
   ]
  },
  {
   "cell_type": "code",
   "execution_count": 22,
   "metadata": {},
   "outputs": [
    {
     "name": "stdout",
     "output_type": "stream",
     "text": [
      "Step 000: Loss: 3.300: Rate: 0.885\n",
      "Step 001: Loss: 3.043: Rate: 0.776\n",
      "Step 002: Loss: 2.815: Rate: 0.676\n",
      "Step 003: Loss: 2.622: Rate: 0.585\n",
      "Step 004: Loss: 2.466: Rate: 0.505\n",
      "Step 005: Loss: 2.350: Rate: 0.439\n",
      "Step 006: Loss: 2.272: Rate: 0.388\n",
      "Step 007: Loss: 2.227: Rate: 0.352\n",
      "Step 008: Loss: 2.206: Rate: 0.329\n",
      "Step 009: Loss: 2.197: Rate: 0.316\n"
     ]
    }
   ],
   "source": [
    "# Get some data and train\n",
    "sample_data=exponential.sample(5000)#tomamos datos que vienen de exponencial con rate=0.3\n",
    "train_loss_results, train_rate_results=exponential_dist_optimisation(data=sample_data, distribution=exp_train)"
   ]
  },
  {
   "cell_type": "code",
   "execution_count": 23,
   "metadata": {},
   "outputs": [
    {
     "name": "stdout",
     "output_type": "stream",
     "text": [
      "Exact rate:  0.3\n",
      "Pred rate:   0.3159696\n"
     ]
    }
   ],
   "source": [
    "# Predicted value for the rate parameter\n",
    "\n",
    "pred_value = exp_train.rate.numpy()\n",
    "exact_value = exponential.rate.numpy()\n",
    "\n",
    "print(\"Exact rate: \", exact_value)\n",
    "print(\"Pred rate:  \", pred_value)"
   ]
  },
  {
   "cell_type": "code",
   "execution_count": 24,
   "metadata": {},
   "outputs": [
    {
     "data": {
      "image/png": "[encoded data removed]",
      "text/plain": [
       "<Figure size 864x576 with 2 Axes>"
      ]
     },
     "metadata": {
      "needs_background": "light"
     },
     "output_type": "display_data"
    }
   ],
   "source": [
    "# Plot to see the convergence of the estimated and true parameters\n",
    "\n",
    "tensor_exact_value = tf.constant(exact_value, shape=[len(train_rate_results)])\n",
    "\n",
    "fig, axes = plt.subplots(2, sharex=True, figsize=(12, 8))\n",
    "fig.suptitle('Convergence')\n",
    "\n",
    "axes[0].set_ylabel(\"Loss\", fontsize=14)\n",
    "axes[0].plot(train_loss_results)\n",
    "\n",
    "axes[1].set_ylabel(\"Rate\", fontsize=14)\n",
    "axes[1].set_xlabel(\"Epoch\", fontsize=14)\n",
    "axes[1].plot(train_rate_results, label='trainable rate variable')\n",
    "axes[1].plot(tensor_exact_value, label='exact rate')\n",
    "axes[1].legend()\n",
    "plt.show()"
   ]
  },
  {
   "cell_type": "code",
   "execution_count": 25,
   "metadata": {},
   "outputs": [],
   "source": [
    "# Making a function get_data which:\n",
    "#   1) Fetches the 20 newsgroup dataset\n",
    "#   2) Performs a word count on the articles and binarizes the result\n",
    "#   3) Returns the data as a numpy matrix with the labels\n",
    "\n",
    "def get_data(categories):\n",
    "\n",
    "    newsgroups_train_data = fetch_20newsgroups(data_home='20_Newsgroup_Data/',\n",
    "                                               subset='train', categories=categories)\n",
    "    newsgroups_test_data = fetch_20newsgroups(data_home='20_Newsgroup_Data/',\n",
    "                                              subset='test', categories=categories)\n",
    "\n",
    "    n_documents = len(newsgroups_train_data['data'])\n",
    "    count_vectorizer = CountVectorizer(input='content', binary=True,max_df=0.25, min_df=1.01/n_documents) \n",
    "    train_binary_bag_of_words = count_vectorizer.fit_transform(newsgroups_train_data['data']) \n",
    "    test_binary_bag_of_words = count_vectorizer.transform(newsgroups_test_data['data']) \n",
    "\n",
    "    return (train_binary_bag_of_words.todense(), newsgroups_train_data['target']),  (test_binary_bag_of_words.todense(), newsgroups_test_data['target'])\n"
   ]
  },
  {
   "cell_type": "code",
   "execution_count": 26,
   "metadata": {},
   "outputs": [],
   "source": [
    "# Defining a function to conduct laplace smoothing. This adds a base level of probability for a given feature\n",
    "# to occur in every class.\n",
    "\n",
    "def laplace_smoothing(labels, binary_data, n_classes):\n",
    "    # Compute the parameter estimates (adjusted fraction of documents in class that contain word)\n",
    "    n_words = binary_data.shape[1]\n",
    "    alpha = 1 # parameters for Laplace smoothing\n",
    "    theta = np.zeros([n_classes, n_words]) # stores parameter values - prob. word given class\n",
    "    for c_k in range(n_classes): # 0, 1, ..., 19\n",
    "        class_mask = (labels == c_k)\n",
    "        N = class_mask.sum() # number of articles in class\n",
    "        theta[c_k, :] = (binary_data[class_mask, :].sum(axis=0) + alpha)/(N + alpha*2)\n",
    "\n",
    "    return theta"
   ]
  },
  {
   "cell_type": "code",
   "execution_count": 27,
   "metadata": {},
   "outputs": [],
   "source": [
    "# Now we will do a function that given the feature occurence counts returns a Bernoulli distribution of \n",
    "# batch_shape=number of classes and event_shape=number of features.\n",
    "\n",
    "def make_distributions(probs):\n",
    "    batch_of_bernoullis = tfd.Bernoulli(probs=probs) # shape (n_classes, n_words)\n",
    "    dist = tfd.Independent(batch_of_bernoullis, reinterpreted_batch_ndims=1)\n",
    "    return dist"
   ]
  },
  {
   "cell_type": "code",
   "execution_count": 28,
   "metadata": {},
   "outputs": [],
   "source": [
    "# Function which computes the prior probability of every class based on frequency of occurence in \n",
    "# the dataset\n",
    "\n",
    "def class_priors(n_classes, labels):\n",
    "    counts = np.zeros(n_classes)\n",
    "    for c_k in range(n_classes):\n",
    "        counts[c_k] = np.sum(np.where(labels==c_k, 1, 0))\n",
    "    priors = counts / np.sum(counts)\n",
    "    print('The class priors are {}'.format(priors))\n",
    "    return priors"
   ]
  },
  {
   "cell_type": "code",
   "execution_count": 29,
   "metadata": {},
   "outputs": [],
   "source": [
    "# The final function predict_sample which given the distribution, a test sample, and the class priors:\n",
    "#   1) Computes the class conditional probabilities given the sample\n",
    "#   2) Forms the joint likelihood\n",
    "#   3) Normalises the joint likelihood and returns the log prob\n",
    "\n",
    "def predict_sample(dist, sample, priors):\n",
    "    cond_probs = dist.log_prob(sample)\n",
    "    joint_likelihood = tf.add(np.log(priors), cond_probs)\n",
    "    norm_factor = tf.math.reduce_logsumexp(joint_likelihood, axis=-1, keepdims=True)\n",
    "    log_prob = joint_likelihood - norm_factor\n",
    "\n",
    "    return log_prob"
   ]
  },
  {
   "cell_type": "code",
   "execution_count": 35,
   "metadata": {},
   "outputs": [],
   "source": [
    "# Now we learn the distribution using gradient tape\n",
    "\n",
    "def make_distribution_withGT(data, labels, nb_classes):\n",
    "\n",
    "    class_data = []\n",
    "    train_vars = []\n",
    "    distributions = []\n",
    "    for c in range(nb_classes):\n",
    "        train_vars.append(tf.Variable(initial_value=np.random.uniform(low=0.01, high =0.1, size=data.shape[-1])))\n",
    "        distributions.append(tfd.Bernoulli(probs=train_vars[c]))\n",
    "        class_mask = (labels == c)\n",
    "        class_data.append(data[class_mask, :])\n",
    "\n",
    "    for c_num in range(0,nb_classes):\n",
    "        optimizer = tf.keras.optimizers.Adam()\n",
    "        print('\\n%-------------------%')\n",
    "        print('Class ', c_num)\n",
    "        print('%-------------------%')\n",
    "\n",
    "        for i in range(0,100):\n",
    "            loss,grads=get_loss_and_grad(class_data[c_num],distributions[c_num])\n",
    "            if(i%10==0):\n",
    "                print('iter: {} loss: {}'.format(i,loss))\n",
    "            optimizer.apply_gradients(zip(grads,distributions[c_num].trainable_variables))\n",
    "            \n",
    "            #una distribucion bernoulli debe tener valores de probabilidad entre 0 y 1 ie 0<p(x)<1 , \n",
    "            #entonces a la hora de aplicar los gradientes en realidad tenemos un problema \n",
    "            #de optimizacion con restricciones, existen distintas formas de lidiar con esto:\n",
    "            \n",
    "            #1. Podemos cortar los valores enre 0 y 1 despues de cada paso de optimizacion\n",
    "\n",
    "            #2. Podemos pasar cada variable en una funcion que mape f:IR->[0,1] como una sigmnoide por ejemplo\n",
    "\n",
    "            #3. Usar un optimmizador que funcione con restricciones directamente  como LBFGS que se vera despues\n",
    "\n",
    "            #4. O podemos hacer que nuestras distribuciones tengan salidas en base a estas \n",
    "            #restricciones en vez de las variables eso es lo que haremos aqui\n",
    "            \n",
    "            #podemos hacer facilmene con el metodo tf.clip_by_value que hace clip(cortes a variables) entre\n",
    "            #un valor maximo y minimo dados\n",
    "            \n",
    "            #definimos valor minimo no lo hacemos 0 para evitar errores numericos iguales a\n",
    "            #los que evitamos con smooth laplace, pero si lo hacemos muy pequeño\n",
    "            \n",
    "            #pience que al intoducir cortes asi agregamos discontinuidades que pueden hacer fallar al optimizador\n",
    "            eta=1e-3\n",
    "            clipped_probs=tf.clip_by_value(distributions[c_num].trainable_variables,\n",
    "                                            clip_value_min=eta,clip_value_max=1)\n",
    "            train_vars[c_num]=tf.squeeze(clipped_probs)\n",
    "            \n",
    "    dist = tfd.Bernoulli(probs=train_vars)\n",
    "    dist = tfd.Independent(dist,reinterpreted_batch_ndims=1)\n",
    "\n",
    "    print(dist)\n",
    "\n",
    "    return dist\n"
   ]
  },
  {
   "cell_type": "code",
   "execution_count": 36,
   "metadata": {},
   "outputs": [
    {
     "name": "stdout",
     "output_type": "stream",
     "text": [
      "The class priors are [0.2359882  0.28711898 0.29154376 0.18534907]\n"
     ]
    }
   ],
   "source": [
    "# Make the same Naive Bayes classifier we did last tutorial\n",
    "\n",
    "categories = ['alt.atheism', 'talk.religion.misc', 'comp.graphics', 'sci.space']\n",
    "\n",
    "(train_data, train_labels), (test_data, test_labels) = get_data(categories)\n",
    "\n",
    "smoothed_counts = laplace_smoothing(labels=train_labels, binary_data=train_data, n_classes=len(categories))\n",
    "\n",
    "priors = class_priors(n_classes=len(categories), labels=train_labels)\n",
    "tf_dist = make_distributions(smoothed_counts)"
   ]
  },
  {
   "cell_type": "code",
   "execution_count": 37,
   "metadata": {},
   "outputs": [
    {
     "name": "stdout",
     "output_type": "stream",
     "text": [
      "\n",
      "%-------------------%\n",
      "Class  0\n",
      "%-------------------%\n",
      "iter: 0 loss: 0.07854521401393655\n",
      "iter: 10 loss: 0.06919353554028944\n",
      "iter: 20 loss: 0.06047574018169238\n",
      "iter: 30 loss: 0.05240582121991391\n",
      "iter: 40 loss: 0.04494229590403861\n",
      "iter: 50 loss: 0.03803977932316633\n",
      "iter: 60 loss: 0.0316561978313247\n",
      "iter: 70 loss: 0.025750843920328583\n",
      "iter: 80 loss: 0.020285142598880576\n",
      "iter: 90 loss: 0.01520186840730088\n",
      "\n",
      "%-------------------%\n",
      "Class  1\n",
      "%-------------------%\n",
      "iter: 0 loss: 0.07149793860138333\n",
      "iter: 10 loss: 0.062169881731409964\n",
      "iter: 20 loss: 0.05338340070932644\n",
      "iter: 30 loss: 0.04521547831549231\n",
      "iter: 40 loss: 0.03763499043555568\n",
      "iter: 50 loss: 0.030611942529868593\n",
      "iter: 60 loss: 0.024123605511659582\n",
      "iter: 70 loss: 0.01814428375801646\n",
      "iter: 80 loss: 0.012637154184144524\n",
      "iter: 90 loss: 0.00753638154826389\n",
      "\n",
      "%-------------------%\n",
      "Class  2\n",
      "%-------------------%\n",
      "iter: 0 loss: 0.07833960866334631\n",
      "iter: 10 loss: 0.06925828046465395\n",
      "iter: 20 loss: 0.06087081789564404\n",
      "iter: 30 loss: 0.05321788474199433\n",
      "iter: 40 loss: 0.046259069994695416\n",
      "iter: 50 loss: 0.039962279464236396\n",
      "iter: 60 loss: 0.03429434272304182\n",
      "iter: 70 loss: 0.029193966077828905\n",
      "iter: 80 loss: 0.024622763053555426\n",
      "iter: 90 loss: 0.020506088383832357\n",
      "\n",
      "%-------------------%\n",
      "Class  3\n",
      "%-------------------%\n",
      "iter: 0 loss: 0.0802042690259231\n",
      "iter: 10 loss: 0.07092596489266705\n",
      "iter: 20 loss: 0.06230019729800448\n",
      "iter: 30 loss: 0.05432290195450924\n",
      "iter: 40 loss: 0.0469334352037108\n",
      "iter: 50 loss: 0.04007943425567737\n",
      "iter: 60 loss: 0.033721080256375664\n",
      "iter: 70 loss: 0.027825033532987292\n",
      "iter: 80 loss: 0.022348128279242988\n",
      "iter: 90 loss: 0.01722869165073865\n",
      "tfp.distributions.Independent(\"IndependentBernoulli\", batch_shape=[4], event_shape=[17495], dtype=int32)\n"
     ]
    }
   ],
   "source": [
    "# Now train the distributions with gradient tape\n",
    "\n",
    "GT_dist = make_distribution_withGT(data=train_data, labels=train_labels, nb_classes=4)"
   ]
  },
  {
   "cell_type": "code",
   "execution_count": null,
   "metadata": {},
   "outputs": [],
   "source": [
    "# Compare the two results\n",
    "\n",
    "for dist in [GT_dist,tf_dist]:\n",
    "    probabilities = []\n",
    "    for sample, label in zip(test_data, test_labels):\n",
    "        probabilities.append(predict_sample(dist, sample, priors))\n",
    "\n",
    "    probabilities = np.asarray(probabilities)\n",
    "    predicted_classes = np.argmax(probabilities, axis =-1)\n",
    "    print('f1 ', f1_score(test_labels, predicted_classes, average='macro'))"
   ]
  }
 ],
 "metadata": {
  "celltoolbar": "Attachments",
  "kernelspec": {
   "display_name": "Python 3",
   "language": "python",
   "name": "python3"
  },
  "language_info": {
   "codemirror_mode": {
    "name": "ipython",
    "version": 3
   },
   "file_extension": ".py",
   "mimetype": "text/x-python",
   "name": "python",
   "nbconvert_exporter": "python",
   "pygments_lexer": "ipython3",
   "version": "3.7.1"
  }
 },
 "nbformat": 4,
 "nbformat_minor": 4
}
