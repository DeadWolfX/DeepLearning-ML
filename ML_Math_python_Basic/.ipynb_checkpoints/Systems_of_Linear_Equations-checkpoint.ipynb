{
 "cells": [
  {
   "cell_type": "markdown",
   "metadata": {
    "id": "EAt-K2qgcIou"
   },
   "source": [
    "# Systems of Linear Equations"
   ]
  },
  {
   "cell_type": "code",
   "execution_count": 1,
   "metadata": {
    "tags": [
     "graded"
    ]
   },
   "outputs": [],
   "source": [
    "import numpy as np"
   ]
  },
  {
   "cell_type": "markdown",
   "metadata": {},
   "source": [
    "<a name='1'></a>\n",
    "##  System of Linear Equations and Corresponding `NumPy` Arrays\n",
    "\n",
    "Matrices can be used to solve systems of equations. But first, you need to represent the system using matrices. Given the following system of linear equations:\n",
    "\n",
    "$$\\begin{cases} \n",
    "2x_1-x_2+x_3+x_4=6, \\\\ x_1+2x_2-x_3-x_4=3, \\\\ -x_1+2x_2+2x_3+2x_4=14, \\\\ x_1-x_2+2x_3+x_4=8, \\end{cases}\\tag{1}$$\n",
    "\n",
    "you will construct matrix $A$, where each row represents one equation in the system and each column represents a variable $x_1$, $x_2$, $x_3$, $x_4$. The free coefficients from the right sides of the equations you will put into vector $b$."
   ]
  },
  {
   "cell_type": "markdown",
   "metadata": {},
   "source": [
    "<a name='ex01'></a>\n",
    "\n",
    "Construct matrix $A$ and vector $b$ corresponding to the system of linear equations $(1)$."
   ]
  },
  {
   "cell_type": "code",
   "execution_count": 3,
   "metadata": {
    "id": "Je3yV0Wnn5x8",
    "scrolled": true,
    "tags": [
     "graded"
    ]
   },
   "outputs": [],
   "source": [
    "A = np.array([     \n",
    "        [2, -1, 1, 1],\n",
    "        [1, 2, -1, -1],\n",
    "        [-1, 2, 2, 2],\n",
    "        [1, -1, 2, 1]    \n",
    "    ], dtype=np.dtype(float)) \n",
    "b = np.array([6, 3, 14, 8], dtype=np.dtype(float))"
   ]
  },
  {
   "cell_type": "markdown",
   "metadata": {},
   "source": [
    "<a name='2'></a>\n",
    "## Solution for the System of Equations with `NumPy` Linear Algebra Package\n",
    "\n"
   ]
  },
  {
   "cell_type": "markdown",
   "metadata": {},
   "source": [
    "<a name='ex02'></a>\n",
    "\n",
    "\n",
    "Find the determinant $d$ of matrix A and the solution vector $x$ for the system of linear equations $(1)$."
   ]
  },
  {
   "cell_type": "code",
   "execution_count": 5,
   "metadata": {
    "tags": [
     "graded"
    ]
   },
   "outputs": [
    {
     "name": "stdout",
     "output_type": "stream",
     "text": [
      "Determinant of matrix A: -17.00\n",
      "Solution vector: [2. 3. 4. 1.]\n"
     ]
    }
   ],
   "source": [
    "# determinant of matrix A\n",
    "d = np.linalg.det(A)\n",
    "\n",
    "# solution of the system of linear equations \n",
    "# with the corresponding coefficients matrix A and free coefficients b\n",
    "x = np.linalg.solve(A, b)\n",
    "\n",
    "\n",
    "print(f\"Determinant of matrix A: {d:.2f}\")\n",
    "\n",
    "print(f\"Solution vector: {x}\")"
   ]
  },
  {
   "cell_type": "markdown",
   "metadata": {},
   "source": [
    "<a name='3'></a>\n",
    "## Elementary Operations and Row Reduction\n",
    "\n",
    "\n",
    "- Multiply any row by non-zero number\n",
    "- Add two rows and exchange one of the original rows with the result of the addition\n",
    "- Swap rows"
   ]
  },
  {
   "cell_type": "markdown",
   "metadata": {},
   "source": [
    "\n",
    "Set up three functions corresponding to the discussed above elementary operations."
   ]
  },
  {
   "cell_type": "code",
   "execution_count": 7,
   "metadata": {
    "tags": [
     "graded"
    ]
   },
   "outputs": [],
   "source": [
    "def MultiplyRow(M, row_num, row_num_multiple):\n",
    " \n",
    "    M_new = M.copy()     \n",
    "  \n",
    "    M_new[row_num] = M_new[row_num] * row_num_multiple\n",
    "    return M_new\n",
    "    \n",
    "def AddRows(M, row_num_1, row_num_2, row_num_1_multiple):\n",
    "    M_new = M.copy()     \n",
    "    \n",
    "    M_new[row_num_2] = row_num_1_multiple * M_new[row_num_1] + M_new[row_num_2]\n",
    "    return M_new\n",
    "\n",
    "def SwapRows(M, row_num_1, row_num_2):\n",
    "    M_new = M.copy()     \n",
    "   \n",
    "    M_new[[row_num_1, row_num_2]] = M_new[[row_num_2, row_num_1]]\n",
    "    return M_new\n"
   ]
  },
  {
   "cell_type": "code",
   "execution_count": 8,
   "metadata": {
    "tags": [
     "graded"
    ]
   },
   "outputs": [
    {
     "name": "stdout",
     "output_type": "stream",
     "text": [
      "Original matrix:\n",
      "[[ 1. -2.  3. -4.]\n",
      " [-5.  6. -7.  8.]\n",
      " [-4.  3. -2.  1.]\n",
      " [ 8. -7.  6. -5.]]\n",
      "\n",
      "Original matrix after its third row is multiplied by -2:\n",
      "[[ 1. -2.  3. -4.]\n",
      " [-5.  6. -7.  8.]\n",
      " [ 8. -6.  4. -2.]\n",
      " [ 8. -7.  6. -5.]]\n",
      "\n",
      "Original matrix after exchange of the third row with the sum of itself and first row multiplied by 4:\n",
      "[[  1.  -2.   3.  -4.]\n",
      " [ -5.   6.  -7.   8.]\n",
      " [  0.  -5.  10. -15.]\n",
      " [  8.  -7.   6.  -5.]]\n",
      "\n",
      "Original matrix after exchange of its first and third rows:\n",
      "[[-4.  3. -2.  1.]\n",
      " [-5.  6. -7.  8.]\n",
      " [ 1. -2.  3. -4.]\n",
      " [ 8. -7.  6. -5.]]\n"
     ]
    }
   ],
   "source": [
    "A_test = np.array([\n",
    "        [1, -2, 3, -4],\n",
    "        [-5, 6, -7, 8],\n",
    "        [-4, 3, -2, 1], \n",
    "        [8, -7, 6, -5]\n",
    "    ], dtype=np.dtype(float))\n",
    "print(\"Original matrix:\")\n",
    "print(A_test)\n",
    "\n",
    "print(\"\\nOriginal matrix after its third row is multiplied by -2:\")\n",
    "print(MultiplyRow(A_test,2,-2))\n",
    "\n",
    "print(\"\\nOriginal matrix after exchange of the third row with the sum of itself and first row multiplied by 4:\")\n",
    "print(AddRows(A_test,0,2,4))\n",
    "\n",
    "print(\"\\nOriginal matrix after exchange of its first and third rows:\")\n",
    "print(SwapRows(A_test,0,2))\n",
    "\n"
   ]
  },
  {
   "cell_type": "markdown",
   "metadata": {},
   "source": [
    "\n",
    "\n",
    "Apply elementary operations to the defined above matrix A, performing row reduction."
   ]
  },
  {
   "cell_type": "code",
   "execution_count": 10,
   "metadata": {
    "tags": [
     "graded"
    ]
   },
   "outputs": [
    {
     "name": "stdout",
     "output_type": "stream",
     "text": [
      "[[ 1.  2. -1. -1.  3.]\n",
      " [ 0.  1.  4.  3. 22.]\n",
      " [ 0.  0.  1.  3.  7.]\n",
      " [-0. -0. -0.  1.  1.]]\n"
     ]
    }
   ],
   "source": [
    "def augmented_to_ref(A, b):    \n",
    "    \n",
    "    \n",
    "    A_system = np.hstack((A, b.reshape((4, 1))))\n",
    "    \n",
    "   \n",
    "    A_ref = SwapRows(A_system,0,1)\n",
    "    \n",
    "    \n",
    "    A_ref = AddRows(A_ref,0,1,-2)\n",
    "    \n",
    "    \n",
    "    A_ref = AddRows(A_ref,0,2,1)\n",
    "    \n",
    "   \n",
    "    A_ref = AddRows(A_ref,0,3,-1)\n",
    "    \n",
    "   \n",
    "    A_ref = AddRows(A_ref,2,3,1)\n",
    "    \n",
    "    \n",
    "    A_ref = SwapRows(A_ref,1,3)\n",
    "    \n",
    "    \n",
    "    A_ref = AddRows(A_ref,2,3,1)\n",
    "    \n",
    "  \n",
    "    A_ref = AddRows(A_ref,1,2,-4)\n",
    "    \n",
    "\n",
    "    A_ref = AddRows(A_ref,1,3,1)\n",
    "    \n",
    "\n",
    "    A_ref = AddRows(A_ref,3,2,2)\n",
    "    \n",
    "   \n",
    "    A_ref = AddRows(A_ref,2,3,-8)\n",
    "    \n",
    "    \n",
    "    A_ref = MultiplyRow(A_ref,3,-1/17)\n",
    "\n",
    "    \n",
    "    return A_ref\n",
    "\n",
    "A_ref = augmented_to_ref(A, b)\n",
    "\n",
    "print(A_ref)"
   ]
  },
  {
   "cell_type": "markdown",
   "metadata": {},
   "source": [
    "## Solution for the System of Equations using Row Reduction\n",
    "\n",
    "The solution can be found from the reduced form manually. From the last line you can find $x_4$, then you can calculate each of the $x_3$, $x_2$ and $x_1$ taking the elements of the matrix `A_ref[i,j]` and solving the linear equations one by one."
   ]
  },
  {
   "cell_type": "code",
   "execution_count": 12,
   "metadata": {
    "tags": [
     "graded"
    ]
   },
   "outputs": [
    {
     "name": "stdout",
     "output_type": "stream",
     "text": [
      "2.0 3.0 4.0 1.0\n"
     ]
    }
   ],
   "source": [
    "\n",
    "\n",
    "x_4 = 1.0\n",
    "\n",
    "\n",
    "x_3 = A_ref[2,4] - A_ref[2,3] * x_4\n",
    "\n",
    "\n",
    "x_2 = A_ref[1,4] - A_ref[1,3] * x_4 - A_ref[1,2] * x_3\n",
    " \n",
    "\n",
    "x_1 = A_ref[0,4] + x_4 + x_3 - A_ref[0,1] * x_2 \n",
    "\n",
    "\n",
    "print(x_1, x_2, x_3, x_4)"
   ]
  },
  {
   "cell_type": "markdown",
   "metadata": {},
   "source": [
    "\n",
    "\n",
    "Using the same elementary operations to reduce the matrix further to diagonal form."
   ]
  },
  {
   "cell_type": "code",
   "execution_count": 14,
   "metadata": {
    "tags": [
     "graded"
    ]
   },
   "outputs": [
    {
     "name": "stdout",
     "output_type": "stream",
     "text": [
      "[[ 1.  0.  0.  0.  2.]\n",
      " [ 0.  1.  0.  0.  3.]\n",
      " [ 0.  0.  1.  0.  4.]\n",
      " [-0. -0. -0.  1.  1.]]\n"
     ]
    }
   ],
   "source": [
    "def ref_to_diagonal(A_ref):    \n",
    "    \n",
    "    A_diag = AddRows(A_ref,3,2,-3)\n",
    "    \n",
    "  \n",
    "    A_diag = AddRows(A_diag,3,1,-3)\n",
    "    \n",
    "   \n",
    "    A_diag = AddRows(A_diag,3,0,1)\n",
    "    \n",
    "    \n",
    "    A_diag = AddRows(A_diag,2,1,-4)\n",
    "    \n",
    "    \n",
    "    A_diag = AddRows(A_diag,2,0,1)\n",
    "    \n",
    "   \n",
    "    A_diag = AddRows(A_diag,1,0,-2)\n",
    "   \n",
    "    \n",
    "    return A_diag\n",
    "    \n",
    "A_diag = ref_to_diagonal(A_ref)\n",
    "\n",
    "print(A_diag)"
   ]
  }
 ],
 "metadata": {
  "accelerator": "GPU",
  "colab": {
   "collapsed_sections": [],
   "name": "C1_W1_Assignment_Solution.ipynb",
   "provenance": []
  },
  "coursera": {
   "schema_names": [
    "AI4MC1-1"
   ]
  },
  "grader_version": "1",
  "kernelspec": {
   "display_name": "Python 3",
   "language": "python",
   "name": "python3"
  },
  "language_info": {
   "codemirror_mode": {
    "name": "ipython",
    "version": 3
   },
   "file_extension": ".py",
   "mimetype": "text/x-python",
   "name": "python",
   "nbconvert_exporter": "python",
   "pygments_lexer": "ipython3",
   "version": "3.8.8"
  },
  "toc": {
   "base_numbering": 1,
   "nav_menu": {},
   "number_sections": true,
   "sideBar": true,
   "skip_h1_title": false,
   "title_cell": "Table of Contents",
   "title_sidebar": "Contents",
   "toc_cell": false,
   "toc_position": {},
   "toc_section_display": true,
   "toc_window_display": false
  },
  "vscode": {
   "interpreter": {
    "hash": "478841ab876a4250505273c8a697bbc1b6b194054b009c227dc606f17fb56272"
   }
  }
 },
 "nbformat": 4,
 "nbformat_minor": 1
}
