{
  "cells": [
    {
      "cell_type": "markdown",
      "metadata": {
        "id": "G6Cn0j2UeEPf"
      },
      "source": [
        "# Identifying special matrices\n"
      ]
    },
    {
      "cell_type": "code",
      "execution_count": null,
      "metadata": {
        "collapsed": true,
        "id": "3O9f5OuIeEPs"
      },
      "outputs": [],
      "source": [
        "\n",
        "import numpy as np\n",
        "\n",
        "def isSingular(A) :\n",
        "    B = np.array(A, dtype=np.float_) # Make B as a copy of A, since we're going to alter it's values.\n",
        "    try:\n",
        "        fixRowZero(B)\n",
        "        fixRowOne(B)\n",
        "        fixRowTwo(B)\n",
        "        fixRowThree(B)\n",
        "    except MatrixIsSingular:\n",
        "        return True\n",
        "    return False\n",
        "\n",
        "\n",
        "class MatrixIsSingular(Exception): pass\n",
        "\n",
        "\n",
        "def fixRowZero(A) :\n",
        "    if A[0,0] == 0 :\n",
        "        A[0] = A[0] + A[1]\n",
        "    if A[0,0] == 0 :\n",
        "        A[0] = A[0] + A[2]\n",
        "    if A[0,0] == 0 :\n",
        "        A[0] = A[0] + A[3]\n",
        "    if A[0,0] == 0 :\n",
        "        raise MatrixIsSingular()\n",
        "    A[0] = A[0] / A[0,0]\n",
        "    return A\n",
        "\n",
        "\n",
        "def fixRowOne(A) :\n",
        "    A[1] = A[1] - A[1,0] * A[0]\n",
        "    if A[1,1] == 0 :\n",
        "        A[1] = A[1] + A[2]\n",
        "        A[1] = A[1] - A[1,0] * A[0]\n",
        "    if A[1,1] == 0 :\n",
        "        A[1] = A[1] + A[3]\n",
        "        A[1] = A[1] - A[1,0] * A[0]\n",
        "    if A[1,1] == 0 :\n",
        "        raise MatrixIsSingular()\n",
        "    A[1] = A[1] / A[1,1]\n",
        "    return A\n",
        "\n",
        "\n",
        "def fixRowTwo(A) :\n",
        "    \n",
        "    A[2] = A[2] - A[2,0] * A[0]\n",
        "    A[2] = A[2] - A[2,1] * A[1]\n",
        "    \n",
        "    # Next we'll test that the diagonal element is not zero.\n",
        "    if A[2,2] == 0 :\n",
        "        # Insert code below that adds a lower row to row 2.\n",
        "        A[2] = A[2] + A[3]\n",
        "        \n",
        "        A[2] = A[2] - A[2,0] * A[0]\n",
        "        A[2] = A[2] - A[2,1] * A[1]\n",
        "        \n",
        "        \n",
        "    if A[2,2] == 0 :\n",
        "        raise MatrixIsSingular()\n",
        "    # Finally set the diagonal element to one by dividing the whole row by that element.\n",
        "    A[2] = A[2] / A[2,2]\n",
        "    return A\n",
        "\n",
        "\n",
        "def fixRowThree(A) :\n",
        "    \n",
        "    A[3] = A[3] - A[3,0] * A[0]\n",
        "    A[3] = A[3] - A[3,1] * A[1]\n",
        "    A[3] = A[3] - A[3,2] * A[2]\n",
        "\n",
        "    \n",
        "    \n",
        "    # Complete the if statement to test if the diagonal element is zero.\n",
        "    if A[3,3] == 0 :\n",
        "        raise MatrixIsSingular()\n",
        "    # Transform the row to set the diagonal element to one.\n",
        "    A[3] = A[3] / A[3,3]\n",
        "    return A"
      ]
    },
    {
      "cell_type": "code",
      "execution_count": null,
      "metadata": {
        "id": "iLwcdCWHeEP8",
        "outputId": "94001000-ffcc-468d-c44a-ee29371942e1"
      },
      "outputs": [
        {
          "data": {
            "text/plain": [
              "False"
            ]
          },
          "execution_count": 8,
          "metadata": {},
          "output_type": "execute_result"
        }
      ],
      "source": [
        "A = np.array([\n",
        "        [2, 0, 0, 0],\n",
        "        [0, 3, 0, 0],\n",
        "        [0, 0, 4, 4],\n",
        "        [0, 0, 5, 5]\n",
        "    ], dtype=np.float_)\n",
        "isSingular(A)"
      ]
    },
    {
      "cell_type": "code",
      "execution_count": null,
      "metadata": {
        "id": "SUDNne4KeEQA",
        "outputId": "03f8d639-2114-4677-b39f-842b7732f14f"
      },
      "outputs": [
        {
          "data": {
            "text/plain": [
              "array([[  1. ,   7.5,  -2.5,   3.5],\n",
              "       [  2. ,   8. ,   0. ,   4. ],\n",
              "       [  3. ,  12. ,   0. ,   5. ],\n",
              "       [  1. ,   3. ,   1. ,   3. ]])"
            ]
          },
          "execution_count": 9,
          "metadata": {},
          "output_type": "execute_result"
        }
      ],
      "source": [
        "A = np.array([\n",
        "        [0, 7, -5, 3],\n",
        "        [2, 8, 0, 4],\n",
        "        [3, 12, 0, 5],\n",
        "        [1, 3, 1, 3]\n",
        "    ], dtype=np.float_)\n",
        "fixRowZero(A)"
      ]
    },
    {
      "cell_type": "code",
      "execution_count": null,
      "metadata": {
        "collapsed": true,
        "id": "4O8lXNqeeEQD"
      },
      "outputs": [],
      "source": [
        "fixRowOne(A)"
      ]
    },
    {
      "cell_type": "code",
      "execution_count": null,
      "metadata": {
        "collapsed": true,
        "id": "7knkwrhgeEQG"
      },
      "outputs": [],
      "source": [
        "fixRowTwo(A)"
      ]
    },
    {
      "cell_type": "code",
      "execution_count": null,
      "metadata": {
        "id": "0j_5SU9KeEQJ"
      },
      "outputs": [],
      "source": [
        "fixRowThree(A)"
      ]
    }
  ],
  "metadata": {
    "coursera": {
      "course_slug": "linear-algebra-machine-learning",
      "graded_item_id": "vhy4M",
      "launcher_item_id": "3vbW4"
    },
    "kernelspec": {
      "display_name": "Python 3",
      "language": "python",
      "name": "python3"
    },
    "language_info": {
      "codemirror_mode": {
        "name": "ipython",
        "version": 3
      },
      "file_extension": ".py",
      "mimetype": "text/x-python",
      "name": "python",
      "nbconvert_exporter": "python",
      "pygments_lexer": "ipython3",
      "version": "3.6.2"
    },
    "colab": {
      "provenance": []
    }
  },
  "nbformat": 4,
  "nbformat_minor": 0
}