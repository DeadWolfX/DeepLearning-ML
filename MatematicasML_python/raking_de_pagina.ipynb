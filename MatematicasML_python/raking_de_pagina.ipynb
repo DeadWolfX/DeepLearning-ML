{
  "cells": [
    {
      "cell_type": "markdown",
      "metadata": {
        "collapsed": true,
        "id": "Nbf2IVcdk3Nd"
      },
      "source": [
        "# PageRank\n"
      ]
    },
    {
      "cell_type": "code",
      "execution_count": null,
      "metadata": {
        "collapsed": true,
        "id": "7LaV8Z6Dk3Nr"
      },
      "outputs": [],
      "source": [
        "# Before we begin, let's load the libraries.\n",
        "%pylab notebook\n",
        "import numpy as np\n",
        "import numpy.linalg as la\n",
        "from readonly.PageRankFunctions import *\n",
        "np.set_printoptions(suppress=True)"
      ]
    },
    {
      "cell_type": "markdown",
      "metadata": {
        "id": "715abkr3k3Nu"
      },
      "source": [
        "### PageRank as a linear algebra problem\n",
        "Let's imagine a micro-internet, with just 6 websites (**A**vocado, **B**ullseye, **C**atBabel, **D**romeda, **e**Tings, and **F**aceSpace).\n",
        "Each website links to some of the others, and this forms a network as shown,\n",
        "\n",
        "![A Micro-Internet](readonly/internet.png \"A Micro-Internet\")\n",
        "\n",
        "The design principle of PageRank is that important websites will be linked to by important websites.\n",
        "This somewhat recursive principle will form the basis of our thinking.\n",
        "\n",
        "Imagine we have 100 *Procrastinating Pat*s on our micro-internet, each viewing a single website at a time.\n",
        "Each minute the Pats follow a link on their website to another site on the micro-internet.\n",
        "After a while, the websites that are most linked to will have more Pats visiting them, and in the long run, each minute for every Pat that leaves a website, another will enter keeping the total numbers of Pats on each website constant.\n",
        "The PageRank is simply the ranking of websites by how many Pats they have on them at the end of this process.\n",
        "\n",
        "We represent the number of Pats on each website with the vector,\n",
        "$$\\mathbf{r} = \\begin{bmatrix} r_A \\\\ r_B \\\\ r_C \\\\ r_D \\\\ r_E \\\\ r_F \\end{bmatrix}$$\n",
        "And say that the number of Pats on each website in minute $i+1$ is related to those at minute $i$ by the matrix transformation\n",
        "\n",
        "$$ \\mathbf{r}^{(i+1)} = L \\,\\mathbf{r}^{(i)}$$\n",
        "with the matrix $L$ taking the form,\n",
        "$$ L = \\begin{bmatrix}\n",
        "L_{A→A} & L_{B→A} & L_{C→A} & L_{D→A} & L_{E→A} & L_{F→A} \\\\\n",
        "L_{A→B} & L_{B→B} & L_{C→B} & L_{D→B} & L_{E→B} & L_{F→B} \\\\\n",
        "L_{A→C} & L_{B→C} & L_{C→C} & L_{D→C} & L_{E→C} & L_{F→C} \\\\\n",
        "L_{A→D} & L_{B→D} & L_{C→D} & L_{D→D} & L_{E→D} & L_{F→D} \\\\\n",
        "L_{A→E} & L_{B→E} & L_{C→E} & L_{D→E} & L_{E→E} & L_{F→E} \\\\\n",
        "L_{A→F} & L_{B→F} & L_{C→F} & L_{D→F} & L_{E→F} & L_{F→F} \\\\\n",
        "\\end{bmatrix}\n",
        "$$\n",
        "where the columns represent the probability of leaving a website for any other website, and sum to one.\n",
        "The rows determine how likely you are to enter a website from any other, though these need not add to one.\n",
        "The long time behaviour of this system is when $ \\mathbf{r}^{(i+1)} = \\mathbf{r}^{(i)}$, so we'll drop the superscripts here, and that allows us to write,\n",
        "$$ L \\,\\mathbf{r} = \\mathbf{r}$$\n",
        "\n",
        "which is an eigenvalue equation for the matrix $L$, with eigenvalue 1 (this is guaranteed by the probabalistic structure of the matrix $L$).\n",
        "\n",
        "Complete the matrix $L$ below, we've left out the column for which websites the *FaceSpace* website (F) links to.\n",
        "Remember, this is the probability to click on another website from this one, so each column should add to one (by scaling by the number of links)."
      ]
    },
    {
      "cell_type": "code",
      "execution_count": null,
      "metadata": {
        "collapsed": true,
        "id": "SCqYw1Elk3Nz"
      },
      "outputs": [],
      "source": [
        "\n",
        "L = np.array([[0,   1/2, 1/3, 0, 0,   1/6 ],\n",
        "              [1/3, 0,   0,   0, 1/2, 1/6 ],\n",
        "              [1/3, 1/2, 0,   1/3, 0,   1/6 ],\n",
        "              [1/3, 0,   1/3, 0, 1/2, 1/6 ],\n",
        "              [0,   0,   0,   0, 0,   1],\n",
        "              [0,   0,   1/3, 0, 0,   2/3 ]])"
      ]
    },
    {
      "cell_type": "code",
      "execution_count": null,
      "metadata": {
        "collapsed": true,
        "id": "gA8gw5wkk3N6"
      },
      "outputs": [],
      "source": [
        "eVals, eVecs = la.eig(L) # Gets the eigenvalues and vectors\n",
        "order = np.absolute(eVals).argsort()[::-1] # Orders them by their eigenvalues\n",
        "eVals = eVals[order]\n",
        "eVecs = eVecs[:,order]\n",
        "\n",
        "r = eVecs[:, 0] # Sets r to be the principal eigenvector\n",
        "100 * np.real(r / np.sum(r)) # Make this eigenvector sum to one, then multiply by 100 Procrastinating Pats"
      ]
    },
    {
      "cell_type": "markdown",
      "metadata": {
        "id": "WX1Z1Xc8k3N7"
      },
      "source": [
        "We can see from this list, the number of Procrastinating Pats that we expect to find on each website after long times.\n",
        "Putting them in order of *popularity* (based on this metric), the PageRank of this micro-internet is:\n",
        "\n",
        "**C**atBabel, **D**romeda, **A**vocado, **F**aceSpace, **B**ullseye, **e**Tings\n",
        "\n",
        "Referring back to the micro-internet diagram, is this what you would have expected?\n",
        "Convince yourself that based on which pages seem important given which others link to them, that this is a sensible ranking.\n",
        "\n",
        "Let's now try to get the same result using the Power-Iteration method that was covered in the video.\n",
        "This method will be much better at dealing with large systems.\n",
        "\n",
        "First let's set up our initial vector, $\\mathbf{r}^{(0)}$, so that we have our 100 Procrastinating Pats equally distributed on each of our 6 websites."
      ]
    },
    {
      "cell_type": "code",
      "execution_count": null,
      "metadata": {
        "collapsed": true,
        "id": "VYwn_D-ok3N_"
      },
      "outputs": [],
      "source": [
        "r = 100 * np.ones(6) / 6 # Sets up this vector (6 entries of 1/6 × 100 each)\n",
        "r "
      ]
    },
    {
      "cell_type": "markdown",
      "metadata": {
        "id": "tE2hgjrXk3OC"
      },
      "source": [
        "Next, let's update the vector to the next minute, with the matrix $L$.\n",
        "Run the following cell multiple times, until the answer stabilises."
      ]
    },
    {
      "cell_type": "code",
      "execution_count": null,
      "metadata": {
        "collapsed": true,
        "id": "ZMh9htvDk3OE"
      },
      "outputs": [],
      "source": [
        "r = L @ r # Apply matrix L to r\n",
        "r "
      ]
    },
    {
      "cell_type": "markdown",
      "metadata": {
        "id": "fFjM_np6k3OG"
      },
      "source": [
        "We can automate applying this matrix multiple times as follows,"
      ]
    },
    {
      "cell_type": "code",
      "execution_count": null,
      "metadata": {
        "collapsed": true,
        "id": "DEHaB_w4k3OG"
      },
      "outputs": [],
      "source": [
        "r = 100 * np.ones(6) / 6 # Sets up this vector (6 entries of 1/6 × 100 each)\n",
        "for i in np.arange(100) : # Repeat 100 times\n",
        "    r = L @ r\n",
        "r"
      ]
    },
    {
      "cell_type": "markdown",
      "metadata": {
        "id": "I9d_ESeyk3OI"
      },
      "source": [
        "Or even better, we can keep running until we get to the required tolerance."
      ]
    },
    {
      "cell_type": "code",
      "execution_count": null,
      "metadata": {
        "collapsed": true,
        "id": "28DR7uu7k3OJ"
      },
      "outputs": [],
      "source": [
        "r = 100 * np.ones(6) / 6 # Sets up this vector (6 entries of 1/6 × 100 each)\n",
        "lastR = r\n",
        "r = L @ r\n",
        "i = 0\n",
        "while la.norm(lastR - r) > 0.01 :\n",
        "    lastR = r\n",
        "    r = L @ r\n",
        "    i += 1\n",
        "print(str(i) + \" iterations to convergence.\")\n",
        "r"
      ]
    },
    {
      "cell_type": "markdown",
      "metadata": {
        "id": "qRnC4Rk8k3OK"
      },
      "source": [
        "See how the PageRank order is established fairly quickly, and the vector converges on the value we calculated earlier after a few tens of repeats.\n",
        "\n",
        "Congratulations! You've just calculated your first PageRank!"
      ]
    },
    {
      "cell_type": "markdown",
      "metadata": {
        "id": "eLQbSqPmk3OL"
      },
      "source": [
        "### Damping Parameter\n",
        "The system we just studied converged fairly quickly to the correct answer.\n",
        "Let's consider an extension to our micro-internet where things start to go wrong.\n",
        "\n",
        "Say a new website is added to the micro-internet: *Geoff's* Website.\n",
        "This website is linked to by *FaceSpace* and only links to itself.\n",
        "![An Expanded Micro-Internet](readonly/internet2.png \"An Expanded Micro-Internet\")\n",
        "\n",
        "Intuitively, only *FaceSpace*, which is in the bottom half of the page rank, links to this website amongst the two others it links to,\n",
        "so we might expect *Geoff's* site to have a correspondingly low PageRank score.\n",
        "\n",
        "Build the new $L$ matrix for the expanded micro-internet, and use Power-Iteration on the Procrastinating Pat vector.\n",
        "See what happens…"
      ]
    },
    {
      "cell_type": "code",
      "execution_count": null,
      "metadata": {
        "collapsed": true,
        "id": "JcUHKzdxk3OM"
      },
      "outputs": [],
      "source": [
        " # We'll call this one L2, to distinguish it from the previous L.\n",
        "L2 = np.array([[0,   1/2, 1/3, 0, 0,   1/6, 0 ],\n",
        "               [1/3, 0,   0,   0, 1/2, 1/6, 0 ],\n",
        "               [1/3, 1/2, 0,   1/3, 0,   1/6, 0 ],\n",
        "               [1/3, 0,   1/3, 0, 1/2, 1/6, 0 ],\n",
        "               [0,   0,   0,   0, 0,   1, 0 ],\n",
        "               [0,   0,   1/3, 0, 0,   2/3, 0 ],\n",
        "               [0,   0,   0,   0, 0,   0, 1 ]])"
      ]
    },
    {
      "cell_type": "code",
      "execution_count": null,
      "metadata": {
        "collapsed": true,
        "id": "z8YyghjXk3OO"
      },
      "outputs": [],
      "source": [
        "r = 100 * np.ones(7) / 7 # Sets up this vector (6 entries of 1/6 × 100 each)\n",
        "lastR = r\n",
        "r = L2 @ r\n",
        "i = 0\n",
        "while la.norm(lastR - r) > 0.01 :\n",
        "    lastR = r\n",
        "    r = L2 @ r\n",
        "    i += 1\n",
        "print(str(i) + \" iterations to convergence.\")\n",
        "r"
      ]
    },
    {
      "cell_type": "markdown",
      "metadata": {
        "id": "BqvQw0oXk3OP"
      },
      "source": [
        "That's no good! *Geoff* seems to be taking all the traffic on the micro-internet, and somehow coming at the top of the PageRank.\n",
        "This behaviour can be understood, because once a Pat get's to *Geoff's* Website, they can't leave, as all links head back to Geoff.\n",
        "\n",
        "To combat this, we can add a small probability that the Procrastinating Pats don't follow any link on a webpage, but instead visit a website on the micro-internet at random.\n",
        "We'll say the probability of them following a link is $d$ and the probability of choosing a random website is therefore $1-d$.\n",
        "We can use a new matrix to work out where the Pat's visit each minute.\n",
        "$$ M = d \\, L + \\frac{1-d}{n} \\, J $$\n",
        "where $J$ is an $n\\times n$ matrix where every element is one.\n",
        "\n",
        "If $d$ is one, we have the case we had previously, whereas if $d$ is zero, we will always visit a random webpage and therefore all webpages will be equally likely and equally ranked.\n",
        "For this extension to work best, $1-d$ should be somewhat small - though we won't go into a discussion about exactly how small.\n",
        "\n",
        "Let's retry this PageRank with this extension."
      ]
    },
    {
      "cell_type": "code",
      "execution_count": null,
      "metadata": {
        "collapsed": true,
        "id": "6DkZVR38k3OQ"
      },
      "outputs": [],
      "source": [
        "d = 0.5 # Feel free to play with this parameter after running the code once.\n",
        "M = d * L2 + (1-d)/7 * np.ones([7, 7]) # np.ones() is the J matrix, with ones for each entry."
      ]
    },
    {
      "cell_type": "code",
      "execution_count": null,
      "metadata": {
        "collapsed": true,
        "id": "inZNjKXtk3OQ"
      },
      "outputs": [],
      "source": [
        "r = 100 * np.ones(7) / 7 # Sets up this vector (6 entries of 1/6 × 100 each)\n",
        "lastR = r\n",
        "r = M @ r\n",
        "i = 0\n",
        "while la.norm(lastR - r) > 0.01 :\n",
        "    lastR = r\n",
        "    r = M @ r\n",
        "    i += 1\n",
        "print(str(i) + \" iterations to convergence.\")\n",
        "r"
      ]
    },
    {
      "cell_type": "code",
      "execution_count": null,
      "metadata": {
        "collapsed": true,
        "id": "cWJ4XP7yk3OT"
      },
      "outputs": [],
      "source": [
        "\n",
        "import numpy as np\n",
        "import numpy.linalg as la\n",
        "from readonly.PageRankFunctions import *\n",
        "np.set_printoptions(suppress=True)"
      ]
    },
    {
      "cell_type": "code",
      "execution_count": null,
      "metadata": {
        "collapsed": true,
        "id": "GxarrqZqk3OU"
      },
      "outputs": [],
      "source": [
        "\n",
        "def pageRank(linkMatrix, d):\n",
        "    n = linkMatrix.shape[0]\n",
        "    M = d * linkMatrix + ((1 - d) / n) * np.ones([n, n])\n",
        "    r = 100 * np.ones(n) / n\n",
        "    lastR = r\n",
        "    r = M @ r\n",
        "    i = 0\n",
        "    while la.norm(lastR - r) > 0.01:\n",
        "          lastR = r\n",
        "          r = M @ r\n",
        "          i += 1\n",
        "     \n",
        "    return r\n"
      ]
    },
    {
      "cell_type": "code",
      "execution_count": null,
      "metadata": {
        "collapsed": true,
        "id": "1EqxYNJGk3OV"
      },
      "outputs": [],
      "source": [
        "# Use the following function to generate internets of different sizes.\n",
        "generate_internet(5)"
      ]
    },
    {
      "cell_type": "code",
      "execution_count": null,
      "metadata": {
        "collapsed": true,
        "id": "v8omhcmLk3OW"
      },
      "outputs": [],
      "source": [
        "\n",
        "L = generate_internet(10)"
      ]
    },
    {
      "cell_type": "code",
      "execution_count": null,
      "metadata": {
        "collapsed": true,
        "id": "Q9YGOGM1k3OX"
      },
      "outputs": [],
      "source": [
        "pageRank(L, 1)"
      ]
    },
    {
      "cell_type": "code",
      "execution_count": null,
      "metadata": {
        "collapsed": true,
        "id": "h_AxM18Dk3OX"
      },
      "outputs": [],
      "source": [
        "\n",
        "eVals, eVecs = la.eig(L) # Gets the eigenvalues and vectors\n",
        "order = np.absolute(eVals).argsort()[::-1] # Orders them by their eigenvalues\n",
        "eVals = eVals[order]\n",
        "eVecs = eVecs[:,order]\n",
        "\n",
        "r = eVecs[:, 0]\n",
        "100 * np.real(r / np.sum(r))"
      ]
    },
    {
      "cell_type": "code",
      "execution_count": null,
      "metadata": {
        "collapsed": true,
        "id": "qN7ocQfxk3OY"
      },
      "outputs": [],
      "source": [
        "\n",
        "%pylab notebook\n",
        "r = pageRank(generate_internet(100), 0.9)\n",
        "plt.bar(arange(r.shape[0]), r);"
      ]
    }
  ],
  "metadata": {
    "coursera": {
      "course_slug": "linear-algebra-machine-learning",
      "graded_item_id": "Sfbnp",
      "launcher_item_id": "aPxf3"
    },
    "kernelspec": {
      "display_name": "Python 3",
      "language": "python",
      "name": "python3"
    },
    "language_info": {
      "codemirror_mode": {
        "name": "ipython",
        "version": 3
      },
      "file_extension": ".py",
      "mimetype": "text/x-python",
      "name": "python",
      "nbconvert_exporter": "python",
      "pygments_lexer": "ipython3",
      "version": "3.6.2"
    },
    "colab": {
      "provenance": []
    }
  },
  "nbformat": 4,
  "nbformat_minor": 0
}