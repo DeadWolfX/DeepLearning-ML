{
 "cells": [
  {
   "cell_type": "code",
   "execution_count": 72,
   "metadata": {},
   "outputs": [
    {
     "name": "stdout",
     "output_type": "stream",
     "text": [
      "2.0.0\n"
     ]
    }
   ],
   "source": [
    "import tensorflow as tf\n",
    "print(tf.__version__)"
   ]
  },
  {
   "cell_type": "markdown",
   "metadata": {},
   "source": [
    "# The Sequential model API"
   ]
  },
  {
   "cell_type": "markdown",
   "metadata": {},
   "source": [
    " ## Coding tutorials\n",
    " #### [1. Building a Sequential model](#coding_tutorial_1)\n",
    " #### [2. Convolutional and pooling layers](#coding_tutorial_2)\n",
    " #### [3. The compile method](#coding_tutorial_3)\n",
    " #### [4. The fit method](#coding_tutorial_4)\n",
    " #### [5. The evaluate and predict methods](#coding_tutorial_5)"
   ]
  },
  {
   "cell_type": "markdown",
   "metadata": {},
   "source": [
    "***\n",
    "<a id=\"coding_tutorial_1\"></a>\n",
    "## Building a Sequential model"
   ]
  },
  {
   "cell_type": "code",
   "execution_count": 73,
   "metadata": {},
   "outputs": [],
   "source": [
    "#importamdo modo secuencial\n",
    "from tensorflow.keras.models import Sequential\n",
    "#importando capas que usaremos\n",
    "from tensorflow.keras.layers import Dense, Flatten, Softmax"
   ]
  },
  {
   "cell_type": "markdown",
   "metadata": {},
   "source": [
    "#### Build a feedforward neural network model"
   ]
  },
  {
   "cell_type": "code",
   "execution_count": 74,
   "metadata": {},
   "outputs": [],
   "source": [
    "# Build the Sequential feedforward neural network model\n",
    "#ve que puedes asiganarle nombre\n",
    "model=Sequential([\n",
    "    Flatten(input_shape=(28,28)), #primera capa aplana a vector (28*28,)\n",
    "    Dense(16,activation='relu',name='capa_densa'),#capa densa 16 neuronas con relu\n",
    "    Dense(16,activation='relu'),#capa densa 16 neuronas con relu\n",
    "    Dense(10,activation='softmax')#capa de salida con 10 neuronas (clasificador 10 posibilidades)\n",
    "])\n",
    "\n",
    "#define el mismo modelo poniendo una capa de softmax y no como funcion activacion\n",
    "model1=Sequential([\n",
    "    Flatten(input_shape=(28,28)), #primera capa aplana a vector (28*28,)\n",
    "    Dense(16,activation='relu',name='capa_densa'),#capa densa 16 neuronas con relu\n",
    "    Dense(16,activation='relu'),#capa densa 16 neuronas con relu\n",
    "    Dense(10),#capa de salida con 10 neuronas (clasificador 10 posibilidades)\n",
    "    Softmax() #capa de softmax\n",
    "])\n",
    "\n"
   ]
  },
  {
   "cell_type": "code",
   "execution_count": 75,
   "metadata": {},
   "outputs": [
    {
     "name": "stdout",
     "output_type": "stream",
     "text": [
      "Model: \"sequential_27\"\n",
      "_________________________________________________________________\n",
      "Layer (type)                 Output Shape              Param #   \n",
      "=================================================================\n",
      "flatten_23 (Flatten)         (None, 784)               0         \n",
      "_________________________________________________________________\n",
      "capa_densa (Dense)           (None, 16)                12560     \n",
      "_________________________________________________________________\n",
      "dense_35 (Dense)             (None, 16)                272       \n",
      "_________________________________________________________________\n",
      "dense_36 (Dense)             (None, 10)                170       \n",
      "=================================================================\n",
      "Total params: 13,002\n",
      "Trainable params: 13,002\n",
      "Non-trainable params: 0\n",
      "_________________________________________________________________\n",
      "Model: \"sequential_28\"\n",
      "_________________________________________________________________\n",
      "Layer (type)                 Output Shape              Param #   \n",
      "=================================================================\n",
      "flatten_24 (Flatten)         (None, 784)               0         \n",
      "_________________________________________________________________\n",
      "capa_densa (Dense)           (None, 16)                12560     \n",
      "_________________________________________________________________\n",
      "dense_37 (Dense)             (None, 16)                272       \n",
      "_________________________________________________________________\n",
      "dense_38 (Dense)             (None, 10)                170       \n",
      "_________________________________________________________________\n",
      "softmax_1 (Softmax)          (None, 10)                0         \n",
      "=================================================================\n",
      "Total params: 13,002\n",
      "Trainable params: 13,002\n",
      "Non-trainable params: 0\n",
      "_________________________________________________________________\n"
     ]
    }
   ],
   "source": [
    "# Print the model summary\n",
    "\n",
    "model.summary()#resumen del modelo\n",
    "model1.summary()"
   ]
  },
  {
   "cell_type": "markdown",
   "metadata": {},
   "source": [
    "***\n",
    "<a id=\"coding_tutorial_2\"></a>\n",
    "## Convolutional and pooling layers"
   ]
  },
  {
   "cell_type": "code",
   "execution_count": 76,
   "metadata": {},
   "outputs": [],
   "source": [
    "#modo secuencial\n",
    "from tensorflow.keras.models import Sequential\n",
    "#importando capas que usaremos\n",
    "from tensorflow.keras.layers import Dense, Flatten, Conv2D, MaxPooling2D"
   ]
  },
  {
   "cell_type": "markdown",
   "metadata": {},
   "source": [
    "#### Build a convolutional neural network model"
   ]
  },
  {
   "cell_type": "code",
   "execution_count": 77,
   "metadata": {},
   "outputs": [],
   "source": [
    "# Build the Sequential convolutional neural network model\n",
    "\n",
    "model=Sequential([\n",
    "    #capa convolucional con 16 filtros y kernel de 3*3 input_shape simepre debe llevar el numero de canales\n",
    "    #(n,m,c) si no falla\n",
    "    Conv2D(16,(3,3),activation='relu',input_shape=(28,28,1)),\n",
    "    #capa de agrupamiento maximo con kernel de 3*3\n",
    "    MaxPooling2D((3,3)),\n",
    "    Flatten(),\n",
    "    Dense(10,activation='softmax')\n",
    "])\n",
    "\n",
    "model1=Sequential([\n",
    "    #note como agregando padding same la capa de convolucion no modifica las dimensiones de entrada\n",
    "    #la mantiene igual revisa el summary\n",
    "    Conv2D(16,(3,3),activation='relu',input_shape=(28,28,1),padding='SAME'),\n",
    "    MaxPooling2D((3,3)),\n",
    "    Flatten(),\n",
    "    Dense(10,activation='softmax')\n",
    "])\n",
    "\n",
    "#define el mismo modelo que el anterior\n",
    "model1=Sequential([\n",
    "    #si el kernel del  es cuadrado se puede especificar con un solo numero usando \n",
    "    #kernel_size,pool_size\n",
    "    Conv2D(16,kernel_size=3,activation='relu',input_shape=(28,28,1),padding='SAME'),\n",
    "    MaxPooling2D(pool_size=3),\n",
    "    Flatten(),\n",
    "    Dense(10,activation='softmax')\n",
    "])\n",
    "\n",
    "model2=Sequential([\n",
    "    #podemos definir el tamaño de sancada en la convolucion usando strides lo que reduce mas\n",
    "    #la forma de la entrada\n",
    "    Conv2D(16,kernel_size=3,activation='relu',input_shape=(28,28,1),strides=2),\n",
    "    MaxPooling2D(pool_size=3),\n",
    "    Flatten(),\n",
    "    Dense(10,activation='softmax')\n",
    "])"
   ]
  },
  {
   "cell_type": "code",
   "execution_count": 50,
   "metadata": {},
   "outputs": [
    {
     "name": "stdout",
     "output_type": "stream",
     "text": [
      "Model: \"sequential_23\"\n",
      "_________________________________________________________________\n",
      "Layer (type)                 Output Shape              Param #   \n",
      "=================================================================\n",
      "conv2d_15 (Conv2D)           (None, 26, 26, 16)        160       \n",
      "_________________________________________________________________\n",
      "max_pooling2d_10 (MaxPooling (None, 8, 8, 16)          0         \n",
      "_________________________________________________________________\n",
      "flatten_19 (Flatten)         (None, 1024)              0         \n",
      "_________________________________________________________________\n",
      "dense_31 (Dense)             (None, 10)                10250     \n",
      "=================================================================\n",
      "Total params: 10,410\n",
      "Trainable params: 10,410\n",
      "Non-trainable params: 0\n",
      "_________________________________________________________________\n",
      "Model: \"sequential_25\"\n",
      "_________________________________________________________________\n",
      "Layer (type)                 Output Shape              Param #   \n",
      "=================================================================\n",
      "conv2d_17 (Conv2D)           (None, 28, 28, 16)        160       \n",
      "_________________________________________________________________\n",
      "max_pooling2d_12 (MaxPooling (None, 9, 9, 16)          0         \n",
      "_________________________________________________________________\n",
      "flatten_21 (Flatten)         (None, 1296)              0         \n",
      "_________________________________________________________________\n",
      "dense_33 (Dense)             (None, 10)                12970     \n",
      "=================================================================\n",
      "Total params: 13,130\n",
      "Trainable params: 13,130\n",
      "Non-trainable params: 0\n",
      "_________________________________________________________________\n",
      "Model: \"sequential_26\"\n",
      "_________________________________________________________________\n",
      "Layer (type)                 Output Shape              Param #   \n",
      "=================================================================\n",
      "conv2d_18 (Conv2D)           (None, 13, 13, 16)        160       \n",
      "_________________________________________________________________\n",
      "max_pooling2d_13 (MaxPooling (None, 4, 4, 16)          0         \n",
      "_________________________________________________________________\n",
      "flatten_22 (Flatten)         (None, 256)               0         \n",
      "_________________________________________________________________\n",
      "dense_34 (Dense)             (None, 10)                2570      \n",
      "=================================================================\n",
      "Total params: 2,730\n",
      "Trainable params: 2,730\n",
      "Non-trainable params: 0\n",
      "_________________________________________________________________\n"
     ]
    }
   ],
   "source": [
    "# Print the model summary\n",
    "\n",
    "model.summary()\n",
    "model1.summary()\n",
    "model2.summary()"
   ]
  },
  {
   "cell_type": "markdown",
   "metadata": {},
   "source": [
    "***\n",
    "<a id=\"coding_tutorial_3\"></a>\n",
    "## The compile method"
   ]
  },
  {
   "cell_type": "markdown",
   "metadata": {},
   "source": [
    "#### Compile the model"
   ]
  },
  {
   "cell_type": "code",
   "execution_count": 78,
   "metadata": {},
   "outputs": [],
   "source": [
    "# Define the model optimizer, loss function and metrics\n",
    "\n",
    "#podemos compilar el modelo asignando caracteristicas\n",
    "#podemos mandar multiples metricas y metricas personalizadas ve metricas en  keras.ipynb\n",
    "model.compile(\n",
    "optimizer='adam',# 'sgd' 'rmsprop' 'adadelta' entre otros\n",
    "loss='sparse_categorical_crossentropy', #'binary_crossentropy' 'mean_squarer_error' 'categorical_crossentropy'\n",
    "metrics=['accuracy','mae'] # 'mae'   \n",
    ")\n",
    "\n",
    "#podemos compilar tambien usando objetos de keras y pasando parametros\n",
    "model1.compile(\n",
    "optimizer=tf.keras.optimizers.SGD(learning_rate=0.001,momentum=0.9,nesterov=True),\n",
    "loss=tf.keras.losses.BinaryCrossentropy(from_logits=True),\n",
    "metrics=[tf.keras.metrics.BinaryAccuracy(threshold=0.7),tf.keras.metrics.MeanAbsoluteError()]   \n",
    ")"
   ]
  },
  {
   "cell_type": "code",
   "execution_count": 79,
   "metadata": {},
   "outputs": [
    {
     "name": "stdout",
     "output_type": "stream",
     "text": [
      "------------model------------------------------\n",
      "sparse_categorical_crossentropy\n",
      "<tensorflow.python.keras.optimizer_v2.adam.Adam object at 0x7f619c218358>\n",
      "[<tensorflow.python.keras.metrics.MeanMetricWrapper object at 0x7f619c192b38>, <tensorflow.python.keras.metrics.MeanMetricWrapper object at 0x7f619c4ce908>]\n",
      "------------model1------------------------------\n",
      "<tensorflow.python.keras.losses.BinaryCrossentropy object at 0x7f619c2180f0>\n",
      "<tensorflow.python.keras.optimizer_v2.gradient_descent.SGD object at 0x7f619c52a2b0>\n",
      "<tf.Variable 'learning_rate:0' shape=() dtype=float32, numpy=0.001>\n",
      "[<tensorflow.python.keras.metrics.BinaryAccuracy object at 0x7f619c218470>, <tensorflow.python.keras.metrics.MeanAbsoluteError object at 0x7f619c44eda0>]\n"
     ]
    }
   ],
   "source": [
    "# Print the resulting model attributes\n",
    "print('------------model------------------------------')\n",
    "print(model.loss)\n",
    "print(model.optimizer)\n",
    "print(model.metrics)\n",
    "\n",
    "print('------------model1------------------------------')\n",
    "print(model1.loss)\n",
    "print(model1.optimizer)\n",
    "print(model1.optimizer.lr)\n",
    "print(model1.metrics)"
   ]
  },
  {
   "cell_type": "markdown",
   "metadata": {},
   "source": [
    "***\n",
    "<a id=\"coding_tutorial_4\"></a>\n",
    "## The fit method"
   ]
  },
  {
   "cell_type": "code",
   "execution_count": 80,
   "metadata": {},
   "outputs": [],
   "source": [
    "from tensorflow.keras.preprocessing import image\n",
    "import matplotlib.pyplot as plt\n",
    "import numpy as np\n",
    "import pandas as pd"
   ]
  },
  {
   "cell_type": "markdown",
   "metadata": {},
   "source": [
    "#### Load the data"
   ]
  },
  {
   "cell_type": "code",
   "execution_count": 81,
   "metadata": {},
   "outputs": [],
   "source": [
    "# Load the Fashion-MNIST dataset\n",
    "\n",
    "fashion_mnist_data = tf.keras.datasets.fashion_mnist\n",
    "(train_images, train_labels), (test_images, test_labels) = fashion_mnist_data.load_data()"
   ]
  },
  {
   "cell_type": "code",
   "execution_count": 82,
   "metadata": {},
   "outputs": [
    {
     "name": "stdout",
     "output_type": "stream",
     "text": [
      "(60000, 28, 28)\n",
      "(60000,)\n"
     ]
    }
   ],
   "source": [
    "# Print the shape of the training data\n",
    "print(train_images.shape)\n",
    "print(train_labels.shape)"
   ]
  },
  {
   "cell_type": "code",
   "execution_count": 83,
   "metadata": {},
   "outputs": [
    {
     "name": "stdout",
     "output_type": "stream",
     "text": [
      "9\n",
      "Ankle boot\n"
     ]
    }
   ],
   "source": [
    "# Define the labels\n",
    "\n",
    "labels = [\n",
    "    'T-shirt/top',\n",
    "    'Trouser',\n",
    "    'Pullover',\n",
    "    'Dress',\n",
    "    'Coat',\n",
    "    'Sandal',\n",
    "    'Shirt',\n",
    "    'Sneaker',\n",
    "    'Bag',\n",
    "    'Ankle boot'\n",
    "]\n",
    "#etiqueta de entrenamiento\n",
    "print(train_labels[0])\n",
    "#interpretacion de etiqueta\n",
    "print(labels[9])"
   ]
  },
  {
   "cell_type": "code",
   "execution_count": 84,
   "metadata": {},
   "outputs": [],
   "source": [
    "# Rescale the image values so that they lie in between 0 and 1.\n",
    "train_images=train_images/255\n",
    "test_images=test_images/255"
   ]
  },
  {
   "cell_type": "code",
   "execution_count": 85,
   "metadata": {},
   "outputs": [
    {
     "data": {
      "image/png": "[encoded data removed]",
      "text/plain": [
       "<Figure size 432x288 with 1 Axes>"
      ]
     },
     "metadata": {
      "needs_background": "light"
     },
     "output_type": "display_data"
    },
    {
     "name": "stdout",
     "output_type": "stream",
     "text": [
      "etiqueta: Ankle boot\n"
     ]
    }
   ],
   "source": [
    "# Display one of the images\n",
    "i=0\n",
    "img=train_images[i,:,:]\n",
    "plt.imshow(img)\n",
    "plt.show()\n",
    "print(f\"etiqueta: {labels[train_labels[i]]}\")"
   ]
  },
  {
   "cell_type": "markdown",
   "metadata": {},
   "source": [
    "#### Fit the model"
   ]
  },
  {
   "cell_type": "code",
   "execution_count": 88,
   "metadata": {},
   "outputs": [
    {
     "name": "stdout",
     "output_type": "stream",
     "text": [
      "Train on 60000 samples\n",
      "Epoch 1/8\n",
      "60000/60000 [==============================] - 59s 983us/sample - loss: 0.3871 - accuracy: 0.8644 - mae: 4.4200\n",
      "Epoch 2/8\n",
      "60000/60000 [==============================] - 57s 945us/sample - loss: 0.3736 - accuracy: 0.8697 - mae: 4.4200\n",
      "Epoch 3/8\n",
      "60000/60000 [==============================] - 57s 950us/sample - loss: 0.3619 - accuracy: 0.8744 - mae: 4.4200- loss: 0.3620 - accu\n",
      "Epoch 4/8\n",
      "60000/60000 [==============================] - 58s 965us/sample - loss: 0.3546 - accuracy: 0.8761 - mae: 4.4200\n",
      "Epoch 5/8\n",
      "60000/60000 [==============================] - 58s 967us/sample - loss: 0.3465 - accuracy: 0.8785 - mae: 4.4200\n",
      "Epoch 6/8\n",
      "60000/60000 [==============================] - 57s 943us/sample - loss: 0.3410 - accuracy: 0.8801 - mae: 4.4200\n",
      "Epoch 7/8\n",
      "60000/60000 [==============================] - 56s 932us/sample - loss: 0.3359 - accuracy: 0.8815 - mae: 4.4200\n",
      "Epoch 8/8\n",
      "60000/60000 [==============================] - 56s 932us/sample - loss: 0.3311 - accuracy: 0.8827 - mae: 4.4200\n"
     ]
    }
   ],
   "source": [
    "# Fit the model\n",
    "\n",
    "#si hacemos el fit asi genera error:\n",
    "#Error when checking input: expected conv2d_15_input to have 4 dimensions, \n",
    "#but got array with shape (60000, 28, 28) pues en el modelo secuencial \n",
    "#definimos una dimension para el canal\n",
    "#model.fit(train_images,train_labels,epochs=2,batch_size=256)\n",
    "\n",
    "#debemos agregar una dimension extra dummie para los canales\n",
    "#nota como va mostrando progreso de las metricas que establecimos\n",
    "#model.fit(train_images[...,np.newaxis],train_labels,epochs=2,batch_size=256)\n",
    "\n",
    "#el metodo fit regresa un historial del comportamiento de las metricas podemos guardarlo\n",
    "history=model.fit(train_images[...,np.newaxis],train_labels,epochs=8,batch_size=256)"
   ]
  },
  {
   "cell_type": "markdown",
   "metadata": {},
   "source": [
    "#### Plot training history"
   ]
  },
  {
   "cell_type": "code",
   "execution_count": 89,
   "metadata": {},
   "outputs": [
    {
     "data": {
      "text/html": [
       "<div>\n",
       "<style scoped>\n",
       "    .dataframe tbody tr th:only-of-type {\n",
       "        vertical-align: middle;\n",
       "    }\n",
       "\n",
       "    .dataframe tbody tr th {\n",
       "        vertical-align: top;\n",
       "    }\n",
       "\n",
       "    .dataframe thead th {\n",
       "        text-align: right;\n",
       "    }\n",
       "</style>\n",
       "<table border=\"1\" class=\"dataframe\">\n",
       "  <thead>\n",
       "    <tr style=\"text-align: right;\">\n",
       "      <th></th>\n",
       "      <th>loss</th>\n",
       "      <th>accuracy</th>\n",
       "      <th>mae</th>\n",
       "    </tr>\n",
       "  </thead>\n",
       "  <tbody>\n",
       "    <tr>\n",
       "      <th>0</th>\n",
       "      <td>0.387099</td>\n",
       "      <td>0.864367</td>\n",
       "      <td>4.420000</td>\n",
       "    </tr>\n",
       "    <tr>\n",
       "      <th>1</th>\n",
       "      <td>0.373630</td>\n",
       "      <td>0.869733</td>\n",
       "      <td>4.420000</td>\n",
       "    </tr>\n",
       "    <tr>\n",
       "      <th>2</th>\n",
       "      <td>0.361936</td>\n",
       "      <td>0.874400</td>\n",
       "      <td>4.420001</td>\n",
       "    </tr>\n",
       "    <tr>\n",
       "      <th>3</th>\n",
       "      <td>0.354591</td>\n",
       "      <td>0.876100</td>\n",
       "      <td>4.419999</td>\n",
       "    </tr>\n",
       "    <tr>\n",
       "      <th>4</th>\n",
       "      <td>0.346524</td>\n",
       "      <td>0.878533</td>\n",
       "      <td>4.419999</td>\n",
       "    </tr>\n",
       "  </tbody>\n",
       "</table>\n",
       "</div>"
      ],
      "text/plain": [
       "       loss  accuracy       mae\n",
       "0  0.387099  0.864367  4.420000\n",
       "1  0.373630  0.869733  4.420000\n",
       "2  0.361936  0.874400  4.420001\n",
       "3  0.354591  0.876100  4.419999\n",
       "4  0.346524  0.878533  4.419999"
      ]
     },
     "execution_count": 89,
     "metadata": {},
     "output_type": "execute_result"
    }
   ],
   "source": [
    "# Load the history into a pandas Dataframe\n",
    "df=pd.DataFrame(history.history)\n",
    "df.head()"
   ]
  },
  {
   "cell_type": "code",
   "execution_count": 92,
   "metadata": {},
   "outputs": [
    {
     "data": {
      "text/plain": [
       "[Text(0, 0.5, 'perdida'), Text(0.5, 0, 'epoca')]"
      ]
     },
     "execution_count": 92,
     "metadata": {},
     "output_type": "execute_result"
    },
    {
     "data": {
      "image/png": "[encoded data removed]",
      "text/plain": [
       "<Figure size 432x288 with 1 Axes>"
      ]
     },
     "metadata": {
      "needs_background": "light"
     },
     "output_type": "display_data"
    }
   ],
   "source": [
    "# Make a plot for the loss\n",
    "loss_plot=df.plot(y='loss',title='perdida vs epoca',legend=False)\n",
    "loss_plot.set(xlabel='epoca',ylabel='perdida')"
   ]
  },
  {
   "cell_type": "code",
   "execution_count": 93,
   "metadata": {},
   "outputs": [
    {
     "data": {
      "text/plain": [
       "[Text(0, 0.5, 'exactitud'), Text(0.5, 0, 'epoca')]"
      ]
     },
     "execution_count": 93,
     "metadata": {},
     "output_type": "execute_result"
    },
    {
     "data": {
      "image/png": "[encoded data removed]",
      "text/plain": [
       "<Figure size 432x288 with 1 Axes>"
      ]
     },
     "metadata": {
      "needs_background": "light"
     },
     "output_type": "display_data"
    }
   ],
   "source": [
    "# Make a plot for the accuracy\n",
    "accuracy_plot=df.plot(y='accuracy',title='exactitud vs epoca',legend=False)\n",
    "accuracy_plot.set(xlabel='epoca',ylabel='exactitud')\n"
   ]
  },
  {
   "cell_type": "code",
   "execution_count": 94,
   "metadata": {},
   "outputs": [
    {
     "data": {
      "text/plain": [
       "[Text(0, 0.5, 'mae'), Text(0.5, 0, 'epoca')]"
      ]
     },
     "execution_count": 94,
     "metadata": {},
     "output_type": "execute_result"
    },
    {
     "data": {
      "image/png": "[encoded data removed]",
      "text/plain": [
       "<Figure size 432x288 with 1 Axes>"
      ]
     },
     "metadata": {
      "needs_background": "light"
     },
     "output_type": "display_data"
    }
   ],
   "source": [
    "# Make a plot for the additional metric\n",
    "mae_plot=df.plot(y='mae',title='mae vs epoca',legend=False)\n",
    "mae_plot.set(xlabel='epoca',ylabel='mae')\n"
   ]
  },
  {
   "cell_type": "markdown",
   "metadata": {},
   "source": [
    "***\n",
    "<a id=\"coding_tutorial_5\"></a>\n",
    "## The evaluate and predict methods"
   ]
  },
  {
   "cell_type": "code",
   "execution_count": 97,
   "metadata": {},
   "outputs": [],
   "source": [
    "import matplotlib.pyplot as plt\n",
    "import numpy as np"
   ]
  },
  {
   "cell_type": "markdown",
   "metadata": {},
   "source": [
    "#### Evaluate the model on the test set"
   ]
  },
  {
   "cell_type": "code",
   "execution_count": 99,
   "metadata": {},
   "outputs": [
    {
     "name": "stdout",
     "output_type": "stream",
     "text": [
      "10000/1 - 6s - loss: 0.3543 - accuracy: 0.8704 - mae: 4.4200\n"
     ]
    }
   ],
   "source": [
    "# Evaluate the model\n",
    "\n",
    "#recuerda debemos agregar dimension dummie para canales \n",
    "#verbose =0 no muestra nada 1 muestra todo 2 muestra resumen \n",
    "#asignamos lo que devuelve\n",
    "test_loss, test_accuracy, test_mae=model.evaluate(test_images[...,np.newaxis],test_labels,verbose=2)\n"
   ]
  },
  {
   "cell_type": "markdown",
   "metadata": {},
   "source": [
    "#### Make predictions from the model"
   ]
  },
  {
   "cell_type": "code",
   "execution_count": 104,
   "metadata": {},
   "outputs": [
    {
     "data": {
      "image/png": "[encoded data removed]",
      "text/plain": [
       "<Figure size 432x288 with 1 Axes>"
      ]
     },
     "metadata": {
      "needs_background": "light"
     },
     "output_type": "display_data"
    },
    {
     "name": "stdout",
     "output_type": "stream",
     "text": [
      "Label: Bag\n"
     ]
    }
   ],
   "source": [
    "# Choose a random test image\n",
    "\n",
    "random_inx = np.random.choice(test_images.shape[0])\n",
    "\n",
    "test_image = test_images[random_inx]\n",
    "plt.imshow(test_image)\n",
    "plt.show()\n",
    "print(f\"Label: {labels[test_labels[random_inx]]}\")"
   ]
  },
  {
   "cell_type": "code",
   "execution_count": 105,
   "metadata": {},
   "outputs": [
    {
     "name": "stdout",
     "output_type": "stream",
     "text": [
      "probabilidad mas alta predice: Bag\n"
     ]
    }
   ],
   "source": [
    "# Get the model predictions\n",
    "#recordemos que predecir espera un numero de lo lote en la primera dimencion\n",
    "#y numero de canal en la ultima por lo que para una sola imagen agregamos dimension dumie en estas\n",
    "#entradas\n",
    "predictions=model.predict(test_image[np.newaxis,...,np.newaxis])\n",
    "#es un array con las probabilodades de pertenecer a cada clase\n",
    "predictions\n",
    "#tomamos la maxima para ver la prediccion\n",
    "print(f\"probabilidad mas alta predice: {labels[np.argmax(predictions)]}\")"
   ]
  }
 ],
 "metadata": {
  "kernelspec": {
   "display_name": "Python 3",
   "language": "python",
   "name": "python3"
  },
  "language_info": {
   "codemirror_mode": {
    "name": "ipython",
    "version": 3
   },
   "file_extension": ".py",
   "mimetype": "text/x-python",
   "name": "python",
   "nbconvert_exporter": "python",
   "pygments_lexer": "ipython3",
   "version": "3.7.1"
  }
 },
 "nbformat": 4,
 "nbformat_minor": 2
}
