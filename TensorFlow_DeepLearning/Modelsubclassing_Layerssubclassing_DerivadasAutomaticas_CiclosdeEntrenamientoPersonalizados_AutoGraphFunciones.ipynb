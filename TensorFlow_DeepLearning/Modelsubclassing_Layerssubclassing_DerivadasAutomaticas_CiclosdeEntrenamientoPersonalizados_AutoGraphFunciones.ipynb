{
 "cells": [
  {
   "cell_type": "code",
   "execution_count": 1,
   "metadata": {},
   "outputs": [
    {
     "name": "stdout",
     "output_type": "stream",
     "text": [
      "2.0.0\n"
     ]
    }
   ],
   "source": [
    "import tensorflow as tf\n",
    "print(tf.__version__)"
   ]
  },
  {
   "cell_type": "markdown",
   "metadata": {},
   "source": [
    "# Model subclassing and custom training loops"
   ]
  },
  {
   "cell_type": "markdown",
   "metadata": {},
   "source": [
    " ## Coding tutorials\n",
    " #### [1. Model subclassing](#coding_tutorial_1)\n",
    " #### [2. Custom layers](#coding_tutorial_2)\n",
    " #### [3. Automatic differentiation](#coding_tutorial_3)\n",
    " #### [4. Custom training loops](#coding_tutorial_4)\n",
    " #### [5. tf.function decorator](#coding_tutorial_5)"
   ]
  },
  {
   "cell_type": "markdown",
   "metadata": {},
   "source": [
    "***\n",
    "<a id=\"coding_tutorial_1\"></a>\n",
    "## Model subclassing\n",
    "\n",
    "Es un metodo para definir modelos que da un nivel bajo de control en cuanto a la construccion y la operacion,\n",
    "se trata de sobreescribir la clase Model dada por keras para que nuestros modelos hereden sus metodos"
   ]
  },
  {
   "cell_type": "code",
   "execution_count": null,
   "metadata": {},
   "outputs": [],
   "source": [
    "#nota \n",
    "#*args sirve para que la funcion espere un numero variable de argumentos y no definido asi\n",
    "def f(x,y): #solo sirve para 2 variables\n",
    "    return x,y\n",
    "\n",
    "def f(*args): #funciona para un numero arbitrario de parametros\n",
    "    for elemento in args:\n",
    "        #has algo con los parametros\n",
    "        \n",
    "# * es el que indica este comportamiento ie podemos ocupar cualquier nombre como *parametros *param        "
   ]
  },
  {
   "cell_type": "code",
   "execution_count": null,
   "metadata": {},
   "outputs": [],
   "source": [
    "#**kwargs tiene la misma funcion pero recibe los distintos parametros como un diccionario\n",
    "#** es lo que indica este comportamiento ie podemos ocupar cualquier nombre como **parametros **param\n",
    "\n",
    "def f(**kwargs):\n",
    "    for key, value in kwargs.items():\n",
    "        #has algo con los parametros"
   ]
  },
  {
   "cell_type": "code",
   "execution_count": null,
   "metadata": {},
   "outputs": [],
   "source": [
    "#estructura basica de model subclassing\n",
    "\n",
    "#importamos clase modelo y capas que ocuparemos para el modelo\n",
    "from tensorflow.keras.models import Model\n",
    "from tensorflow.keras.layers import Dense.Dropout\n",
    "\n",
    "#definimos una clase y le pasamos la clase Model para indicar que hereda su estrucura (subclasing)\n",
    "class MiModelo(Model):\n",
    "    \n",
    "    #Sobreescribimos el metodo init aqui creamos nuestras capas\n",
    "    def __init__(self,numero_clases,**kwargs):\n",
    "        super(MiModelo,self).__init__(**kwargs)\n",
    "        #aqui definimos las capas que tiene nuestro modelo\n",
    "        self.dense1=Dense(16, activation='sigmoid')\n",
    "        self.dropout=Droput(0.5)\n",
    "        self.dense2=Dense(numero_clases,activation='softmax')\n",
    "        \n",
    "    #sobreescribimos el metodo call que define el paso hacia adelante     \n",
    "    def call(self,inputs,Opcion=False):\n",
    "        #aplicamos las capas a las entradas ie aplica el modelo\n",
    "        h=self.dense1(inputs)\n",
    "        #con el booleano en training controlamos que droput se ejecute en entrenamiento pero no en test\n",
    "        #es decir sirve para reglar el comportamiento\n",
    "        h=self.dropout(h,training=Opcion)\n",
    "        return self.dense2(h)\n",
    "    \n",
    "#instanciando la clase\n",
    "mi_modelo=MiModelo(10,name='mi_modelo')\n",
    "\n",
    "#ahora podemos usar los metodos .fit() .train() como siempre"
   ]
  },
  {
   "cell_type": "code",
   "execution_count": 2,
   "metadata": {},
   "outputs": [],
   "source": [
    "from tensorflow.keras.models import Model\n",
    "from tensorflow.keras.layers import Dense, Dropout, Softmax, concatenate"
   ]
  },
  {
   "cell_type": "markdown",
   "metadata": {},
   "source": [
    "#### Create a simple model using the model subclassing API"
   ]
  },
  {
   "cell_type": "code",
   "execution_count": 8,
   "metadata": {},
   "outputs": [],
   "source": [
    "# Build the model\n",
    "class MyModel(Model):\n",
    "    \n",
    "    \n",
    "    def __init__(self):\n",
    "        super(MyModel,self).__init__()\n",
    "        self.dense1=Dense(64, activation='relu')\n",
    "        self.dense2=Dense(10)\n",
    "        self.dropout=Dropout(0.4)\n",
    "        \n",
    "         \n",
    "    def call(self,inputs,training=True):\n",
    "        h=self.dense1(inputs)\n",
    "        if training:\n",
    "            h=self.dropout(h)\n",
    "        return self.dense2(h)\n",
    "\n",
    "#podemos generar modelos mas dinamicos\n",
    "class MyModel2(Model):\n",
    "    \n",
    "    \n",
    "    def __init__(self):\n",
    "        super(MyModel2,self).__init__()\n",
    "        self.dense1=Dense(64, activation='relu')\n",
    "        self.dense2=Dense(10)\n",
    "        self.dense3=Dense(5)\n",
    "        self.softmax=Softmax()\n",
    "        \n",
    "         \n",
    "    def call(self,inputs):\n",
    "        #entrada se pasan a dos capas distintas\n",
    "        x=self.dense1(inputs)\n",
    "        y1=self.dense2(inputs)\n",
    "        y2=self.dense3(y1)\n",
    "        concat=concatenate([x,y2])#note que esta no esta en el modelo la importamos y la usamos\n",
    "        return self.softmax(concat)    \n"
   ]
  },
  {
   "cell_type": "code",
   "execution_count": 7,
   "metadata": {},
   "outputs": [
    {
     "name": "stdout",
     "output_type": "stream",
     "text": [
      "Model: \"my_model_2\"\n",
      "_________________________________________________________________\n",
      "Layer (type)                 Output Shape              Param #   \n",
      "=================================================================\n",
      "dense_4 (Dense)              multiple                  704       \n",
      "_________________________________________________________________\n",
      "dense_5 (Dense)              multiple                  650       \n",
      "_________________________________________________________________\n",
      "dropout (Dropout)            multiple                  0         \n",
      "=================================================================\n",
      "Total params: 1,354\n",
      "Trainable params: 1,354\n",
      "Non-trainable params: 0\n",
      "_________________________________________________________________\n"
     ]
    }
   ],
   "source": [
    "# Print the model summary\n",
    "model=MyModel()\n",
    "model(tf.random.uniform([1,10]))#pasamos entrada random para que genere pesos pues no lo compilamos\n",
    "model.summary()"
   ]
  },
  {
   "cell_type": "code",
   "execution_count": 9,
   "metadata": {},
   "outputs": [
    {
     "name": "stdout",
     "output_type": "stream",
     "text": [
      "Model: \"my_model2\"\n",
      "_________________________________________________________________\n",
      "Layer (type)                 Output Shape              Param #   \n",
      "=================================================================\n",
      "dense_6 (Dense)              multiple                  704       \n",
      "_________________________________________________________________\n",
      "dense_7 (Dense)              multiple                  110       \n",
      "_________________________________________________________________\n",
      "dense_8 (Dense)              multiple                  55        \n",
      "_________________________________________________________________\n",
      "softmax (Softmax)            multiple                  0         \n",
      "=================================================================\n",
      "Total params: 869\n",
      "Trainable params: 869\n",
      "Non-trainable params: 0\n",
      "_________________________________________________________________\n"
     ]
    }
   ],
   "source": [
    "model=MyModel2()\n",
    "model(tf.random.uniform([1,10]))#pasamos entrada random para que genere pesos pues no lo compilamos\n",
    "model.summary()"
   ]
  },
  {
   "cell_type": "markdown",
   "metadata": {},
   "source": [
    "***\n",
    "<a id=\"coding_tutorial_2\"></a>\n",
    "## Custom layers\n",
    "\n",
    "Hasta ahora hemos usado las capas que tf.keras.layers ofrecen para nosotros pero tambien podemos definir nuestras propias capas con el comportamiento que deseemos, la forma en que podemos hacerlo es sobreescribiendo nuestra propia clase modelo"
   ]
  },
  {
   "cell_type": "code",
   "execution_count": null,
   "metadata": {},
   "outputs": [],
   "source": [
    "#importamos tensorflow y la clase Layer\n",
    "import tensorflow as tf\n",
    "from tensorflow.keras.layers import Layer\n",
    "\n",
    "#dotamos la clase con la herencia de Layer\n",
    "class MiCapa(Layer):\n",
    "    \n",
    "    #Creamos las variables de la capa en el inicializador\n",
    "    def __init__(self,input_dim,units):\n",
    "        super(MiCapa,self).__init__()\n",
    "        pesos_init=tf.random_normal_initializer() #definimos como inicializamos los pesos\n",
    "        # definimos los pesos como un tensor variable con el inicializador que definimos y la forma deseada\n",
    "        self.w=tf.Variable(initial_value=pesos_init(shape=(input_dim,units)))\n",
    "        \n",
    "     #Ojo no se necsitan dos init esta es una forma alterna de definir las variables\n",
    "    def __init__(self,input_dim,units):\n",
    "        super(MiCapa,self).__init__()\n",
    "        #es una forma reducida con los pesos inicializados solo pasamos forma e inicializador\n",
    "        #al metodo add_weight ambas formas son equivalentes\n",
    "        self.w=self.add_weight(shape=(input_dim,units),initializer='random_normal')    \n",
    "    \n",
    "    #definimos los calculos que hace la capa\n",
    "    def call(self,inputs):\n",
    "        return tf.matmul(inputs,self.w)\n",
    "    \n",
    "#instanciando capa\n",
    "mi_capa=MiCapa(3,2)\n",
    "#ejecutando capa en un tensor\n",
    "inputs=tf.ones((1,3))\n",
    "mi_capa(inputs)\n",
    "\n",
    "#podemos acceder a los metodos de capa como .weights \n",
    "#tambien ya podemos usa estas capas en nuestros modelos"
   ]
  },
  {
   "cell_type": "code",
   "execution_count": 10,
   "metadata": {},
   "outputs": [],
   "source": [
    "from tensorflow.keras.models import Model\n",
    "from tensorflow.keras.layers import Layer, Softmax"
   ]
  },
  {
   "cell_type": "markdown",
   "metadata": {},
   "source": [
    "#### Create custom layers"
   ]
  },
  {
   "cell_type": "code",
   "execution_count": 19,
   "metadata": {},
   "outputs": [
    {
     "name": "stdout",
     "output_type": "stream",
     "text": [
      "tf.Tensor([[1. 1. 1. 1. 1.]], shape=(1, 5), dtype=float32)\n",
      "\n",
      "tf.Tensor([[-0.05633927 -0.22896083  0.10024416]], shape=(1, 3), dtype=float32)\n",
      "\n",
      "[<tf.Variable 'Variable:0' shape=(5, 3) dtype=float32, numpy=\n",
      "array([[-0.00614806, -0.06634471,  0.04945759],\n",
      "       [ 0.06338884, -0.02636651,  0.02478405],\n",
      "       [ 0.03693418, -0.03068536, -0.01494657],\n",
      "       [-0.0628328 , -0.11265617, -0.01375101],\n",
      "       [-0.08768144,  0.00709192,  0.05470009]], dtype=float32)>, <tf.Variable 'Variable:0' shape=(3,) dtype=float32, numpy=array([0., 0., 0.], dtype=float32)>]\n"
     ]
    }
   ],
   "source": [
    "# Create a custom layer\n",
    "class MyLayer(Layer):\n",
    "         \n",
    "    def __init__(self,units,input_dim):\n",
    "        super(MyLayer,self).__init__()\n",
    "        self.w=self.add_weight(shape=(input_dim,units),initializer='random_normal') #inicializa pesos   \n",
    "        self.b=self.add_weight(shape=(units,),initializer='zeros') #inicializa sesgos\n",
    "    \n",
    "    def call(self,inputs):\n",
    "        return tf.matmul(inputs,self.w)+self.b\n",
    "    \n",
    "my_layer=MyLayer(3,5)\n",
    "x=tf.ones((1,5))\n",
    "print(x)\n",
    "print()\n",
    "print(my_layer(x))\n",
    "print()\n",
    "print(my_layer.weights)"
   ]
  },
  {
   "cell_type": "code",
   "execution_count": 20,
   "metadata": {},
   "outputs": [
    {
     "name": "stdout",
     "output_type": "stream",
     "text": [
      "trainable weights: 2\n",
      "non-trainable weights: 0\n"
     ]
    }
   ],
   "source": [
    "#como no hemos specificados que pesos son entrenables tenemos que tanto pesos como sesgos son entrenables\n",
    "print('trainable weights:', len(my_layer.trainable_weights))\n",
    "print('non-trainable weights:', len(my_layer.non_trainable_weights))"
   ]
  },
  {
   "cell_type": "code",
   "execution_count": 21,
   "metadata": {},
   "outputs": [],
   "source": [
    "# Specify trainable weights\n",
    "class MyLayer(Layer):\n",
    "         \n",
    "    def __init__(self,units,input_dim):\n",
    "        super(MyLayer,self).__init__()\n",
    "         #inicializa pesos y no se entrena\n",
    "        self.w=self.add_weight(shape=(input_dim,units),initializer='random_normal',trainable=False)\n",
    "        #inicializa sesgos y no se entrena\n",
    "        self.b=self.add_weight(shape=(units,),initializer='zeros',trainable=False) \n",
    "    \n",
    "    def call(self,inputs):\n",
    "        return tf.matmul(inputs,self.w)+self.b\n",
    "    \n",
    "my_layer=MyLayer(3,5)\n"
   ]
  },
  {
   "cell_type": "code",
   "execution_count": 22,
   "metadata": {},
   "outputs": [
    {
     "name": "stdout",
     "output_type": "stream",
     "text": [
      "trainable weights: 0\n",
      "non-trainable weights: 2\n"
     ]
    }
   ],
   "source": [
    "#hacemos que ninguno sea entrenable ni sesgos ni pesos se entrenaran\n",
    "print('trainable weights:', len(my_layer.trainable_weights))\n",
    "print('non-trainable weights:', len(my_layer.non_trainable_weights))"
   ]
  },
  {
   "cell_type": "code",
   "execution_count": 37,
   "metadata": {},
   "outputs": [],
   "source": [
    "# Create a custom layer to accumulate means of output values\n",
    "\n",
    "class MyLayerMean(Layer):\n",
    "         \n",
    "    def __init__(self,units,input_dim):\n",
    "        super(MyLayerMean,self).__init__()\n",
    "        #inicializa pesos \n",
    "        self.w=self.add_weight(shape=(input_dim,units),initializer='random_normal')\n",
    "        #inicializa sesgos\n",
    "        self.b=self.add_weight(shape=(units,),initializer='zeros')\n",
    "        #inicializa suna variable en 0 y no se entrena\n",
    "        self.sum_activation=tf.Variable(initial_value=tf.zeros((units,)),trainable=False)\n",
    "        #inicializa suna variable en 0 y no se entrena\n",
    "        self.number_call=tf.Variable(initial_value=0,trainable=False)\n",
    "    \n",
    "    def call(self,inputs):\n",
    "        activations=tf.matmul(inputs,self.w)+self.b\n",
    "        self.sum_activation.assign_add(tf.reduce_sum(activations,axis=0))#suma resultados\n",
    "        self.number_call.assign_add(inputs.shape[0])#suma numero de entradas\n",
    "        return activations, self.sum_activation/tf.cast(self.number_call,tf.float32)\n",
    "    \n",
    "my_layer=MyLayerMean(3,5)"
   ]
  },
  {
   "cell_type": "code",
   "execution_count": 38,
   "metadata": {},
   "outputs": [
    {
     "name": "stdout",
     "output_type": "stream",
     "text": [
      "[-0.09079675 -0.15304194 -0.11420681]\n",
      "[-0.09079675 -0.15304194 -0.11420681]\n"
     ]
    }
   ],
   "source": [
    "# Test the layer\n",
    "\n",
    "y , activation_means = my_layer(tf.ones((1, 5)))\n",
    "print(activation_means.numpy())\n",
    "\n",
    "y , activation_means = my_layer(tf.ones((1, 5)))\n",
    "print(activation_means.numpy())"
   ]
  },
  {
   "cell_type": "code",
   "execution_count": 39,
   "metadata": {},
   "outputs": [],
   "source": [
    "# Create a Dropout layer as a custom layer\n",
    "\n",
    "class MyDropout(Layer):\n",
    "\n",
    "    def __init__(self, rate):\n",
    "        super(MyDropout, self).__init__()\n",
    "        self.rate = rate\n",
    "        \n",
    "    def call(self, inputs):\n",
    "        # Define forward pass for dropout layer\n",
    "        return tf.nn.dropout(inputs,rate=self.rate)"
   ]
  },
  {
   "cell_type": "markdown",
   "metadata": {},
   "source": [
    "#### Implement the custom layers into a model"
   ]
  },
  {
   "cell_type": "code",
   "execution_count": 42,
   "metadata": {},
   "outputs": [],
   "source": [
    "# Build the model using custom layers with the model subclassing API\n",
    "\n",
    "class MyModel(Model):\n",
    "\n",
    "    def __init__(self, units_1, input_dim_1, units_2, units_3):\n",
    "        super(MyModel, self).__init__()\n",
    "        # Define layers\n",
    "        self.layer1=MyLayer(units_1,input_dim_1)\n",
    "        self.dropout1=MyDropout(0.5)\n",
    "        self.layer2=MyLayer(units_2,units_1)\n",
    "        self.dropout2=MyDropout(0.5)\n",
    "        self.layer3=MyLayer(units_3,units_2)\n",
    "        self.softmax=Softmax()\n",
    "    def call(self, inputs):\n",
    "        # Define forward pass\n",
    "        x=self.layer1(inputs)\n",
    "        x=tf.nn.relu(x)\n",
    "        x=self.dropout1(x)\n",
    "        x=self.layer2(x)\n",
    "        x=tf.nn.relu(x)\n",
    "        x=self.dropout2(x)\n",
    "        x=self.layer3(x)\n",
    "        return self.softmax(x)"
   ]
  },
  {
   "cell_type": "code",
   "execution_count": 43,
   "metadata": {},
   "outputs": [
    {
     "name": "stdout",
     "output_type": "stream",
     "text": [
      "tf.Tensor(\n",
      "[[0.0151086  0.01759894 0.01634271 0.00543772 0.00947135 0.08832284\n",
      "  0.01350588 0.02503939 0.04355713 0.01264055 0.02217345 0.00959837\n",
      "  0.02580766 0.01230905 0.01986783 0.00677113 0.0500555  0.05807772\n",
      "  0.03461907 0.02128311 0.00666977 0.0120061  0.01245167 0.01080156\n",
      "  0.01927049 0.01774717 0.00541066 0.01086818 0.01693503 0.01732861\n",
      "  0.0462113  0.01070863 0.02325813 0.05351608 0.01414227 0.00546212\n",
      "  0.02204781 0.03332924 0.01831672 0.01247305 0.0210377  0.01622159\n",
      "  0.0224103  0.01140356 0.02535181 0.02703239]], shape=(1, 46), dtype=float32)\n",
      "Model: \"my_model_4\"\n",
      "_________________________________________________________________\n",
      "Layer (type)                 Output Shape              Param #   \n",
      "=================================================================\n",
      "my_layer_14 (MyLayer)        multiple                  640064    \n",
      "_________________________________________________________________\n",
      "my_dropout_2 (MyDropout)     multiple                  0         \n",
      "_________________________________________________________________\n",
      "my_layer_15 (MyLayer)        multiple                  4160      \n",
      "_________________________________________________________________\n",
      "my_dropout_3 (MyDropout)     multiple                  0         \n",
      "_________________________________________________________________\n",
      "my_layer_16 (MyLayer)        multiple                  2990      \n",
      "_________________________________________________________________\n",
      "softmax_1 (Softmax)          multiple                  0         \n",
      "=================================================================\n",
      "Total params: 647,214\n",
      "Trainable params: 0\n",
      "Non-trainable params: 647,214\n",
      "_________________________________________________________________\n"
     ]
    }
   ],
   "source": [
    "# Instantiate a model object\n",
    "\n",
    "model = MyModel(64,10000,64,46)\n",
    "print(model(tf.ones((1, 10000))))\n",
    "model.summary()"
   ]
  },
  {
   "cell_type": "markdown",
   "metadata": {},
   "source": [
    "***\n",
    "<a id=\"coding_tutorial_3\"></a>\n",
    "## Automatic differentiation\n",
    "\n",
    "En tensorflow podemos calcular derivadas de forma automatica lo cual es muy util a la hora de hacer optimizaciones\n",
    "de funciones costo, esto nos va a servir para poder personalizar nuestos ciclos de entrenamiento de una forma mas\n",
    "granular"
   ]
  },
  {
   "cell_type": "code",
   "execution_count": 44,
   "metadata": {},
   "outputs": [
    {
     "name": "stdout",
     "output_type": "stream",
     "text": [
      "tf.Tensor(4.0, shape=(), dtype=float32)\n"
     ]
    }
   ],
   "source": [
    "#importamos tensorflow\n",
    "import tensorflow as tf\n",
    "\n",
    "#creamos valor donde se evalua la derivada ya que no calcula derivadas simbolicas si no numericas\n",
    "x=tf.constant(2.0)\n",
    "\n",
    "#con esa funcionalidad tensorflow recuerda la grafica de las operaciones realizadas\n",
    "with tf.GradientTape() as tape:\n",
    "    #especificamos que se fije en las operaciones sobre x\n",
    "    tape.watch(x)\n",
    "    #hacemos operaciones sobre x\n",
    "    y=x**2\n",
    "    #indicamos que derive y respecto x dy/dx\n",
    "    grad=tape.gradient(y,x)\n",
    "\n",
    "#dy/dx=2x en x=2.0 es 4.0\n",
    "print(grad)    "
   ]
  },
  {
   "cell_type": "code",
   "execution_count": 46,
   "metadata": {},
   "outputs": [
    {
     "name": "stdout",
     "output_type": "stream",
     "text": [
      "tf.Tensor(0.13673721, shape=(), dtype=float32)\n"
     ]
    }
   ],
   "source": [
    "#podemos crear derivadas mas complejas usando regla de cadena incluso\n",
    "import tensorflow as tf\n",
    "\n",
    "#tenemos 4 valores para x\n",
    "x=tf.constant([0,1,2,3],dtype=tf.float32)\n",
    "\n",
    "\n",
    "with tf.GradientTape() as tape:\n",
    "    tape.watch(x)\n",
    "    #eleva los 4 valores al cuadrado y los suma\n",
    "    y=tf.reduce_sum(x**2)\n",
    "    #al resultado anterior le aplica coseno\n",
    "    z=tf.math.sin(y)\n",
    "    #calcula derivada de dz/dy\n",
    "    dz_dy=tape.gradient(z,y)\n",
    "\n",
    "print(dz_dy)"
   ]
  },
  {
   "cell_type": "code",
   "execution_count": 47,
   "metadata": {},
   "outputs": [
    {
     "name": "stdout",
     "output_type": "stream",
     "text": [
      "tf.Tensor(0.13673721, shape=(), dtype=float32)\n",
      "\n",
      "tf.Tensor([0.         0.27347443 0.54694885 0.82042325], shape=(4,), dtype=float32)\n"
     ]
    }
   ],
   "source": [
    "#podemos calcular derivadas respecto a distintas variables a la vez\n",
    "#podemos crear derivadas mas complejas usando regla de cadena incluso\n",
    "import tensorflow as tf\n",
    "\n",
    "#tenemos 4 valores para x\n",
    "x=tf.constant([0,1,2,3],dtype=tf.float32)\n",
    "\n",
    "\n",
    "with tf.GradientTape() as tape:\n",
    "    tape.watch(x)\n",
    "    #eleva los 4 valores al cuadrado y los suma\n",
    "    y=tf.reduce_sum(x**2)\n",
    "    #al resultado anterior le aplica coseno\n",
    "    z=tf.math.sin(y)\n",
    "    #calcula derivada de dz/dy\n",
    "    dz_dy, dz_dx=tape.gradient(z,[y,x])\n",
    "#es un escalar\n",
    "print(dz_dy)\n",
    "print()\n",
    "#es una lista porque deriva respecto a cada x y tenemos 4 valores distintos de x\n",
    "print(dz_dx)"
   ]
  },
  {
   "cell_type": "code",
   "execution_count": 48,
   "metadata": {},
   "outputs": [],
   "source": [
    "import numpy as np\n",
    "import matplotlib.pyplot as plt"
   ]
  },
  {
   "cell_type": "markdown",
   "metadata": {},
   "source": [
    "#### Create synthetic data"
   ]
  },
  {
   "cell_type": "code",
   "execution_count": 49,
   "metadata": {},
   "outputs": [
    {
     "data": {
      "text/plain": [
       "[<matplotlib.lines.Line2D at 0x7f7fd4672a90>]"
      ]
     },
     "execution_count": 49,
     "metadata": {},
     "output_type": "execute_result"
    },
    {
     "data": {
      "image/png": "[encoded data removed]",
      "text/plain": [
       "<Figure size 432x288 with 1 Axes>"
      ]
     },
     "metadata": {
      "needs_background": "light"
     },
     "output_type": "display_data"
    }
   ],
   "source": [
    "# Create data from a noise contaminated linear model\n",
    "\n",
    "def MakeNoisyData(m, b, n=20):\n",
    "    x = tf.random.uniform(shape=(n,))\n",
    "    noise = tf.random.normal(shape=(len(x),), stddev=0.1)\n",
    "    y = m * x + b + noise\n",
    "    return x, y\n",
    "\n",
    "m=1\n",
    "b=2\n",
    "x_train, y_train = MakeNoisyData(m,b)\n",
    "plt.plot(x_train, y_train, 'b.')"
   ]
  },
  {
   "cell_type": "markdown",
   "metadata": {},
   "source": [
    "#### Define a linear regression model"
   ]
  },
  {
   "cell_type": "code",
   "execution_count": 50,
   "metadata": {},
   "outputs": [],
   "source": [
    "from tensorflow.keras.layers import Layer"
   ]
  },
  {
   "cell_type": "code",
   "execution_count": 53,
   "metadata": {},
   "outputs": [
    {
     "name": "stdout",
     "output_type": "stream",
     "text": [
      "tf.Tensor(\n",
      "[0.03133849 0.03525284 0.02880232 0.02846309 0.00946849 0.03884461\n",
      " 0.03066305 0.02011103 0.02011726 0.03689848 0.03902383 0.03815815\n",
      " 0.03459287 0.01059877 0.00117222 0.03282144 0.01576653 0.02971289\n",
      " 0.03916461 0.0035168 ], shape=(20,), dtype=float32)\n",
      "\n",
      "[<tf.Variable 'Variable:0' shape=(1,) dtype=float32, numpy=array([0.03978279], dtype=float32)>, <tf.Variable 'Variable:0' shape=(1,) dtype=float32, numpy=array([0.], dtype=float32)>]\n"
     ]
    }
   ],
   "source": [
    "# Build a custom layer for the linear regression model\n",
    "class LinearLayer(Layer):\n",
    "    def __init__(self):\n",
    "        super(LinearLayer,self).__init__()\n",
    "        self.m=self.add_weight(shape=(1,),initializer='random_normal')\n",
    "        self.b=self.add_weight(shape=(1,),initializer='zeros')\n",
    "        \n",
    "    def call(self,inputs):\n",
    "        return self.m*inputs+self.b\n",
    "\n",
    "linear_regression=LinearLayer()\n",
    "print(linear_regression(x_train))\n",
    "print()\n",
    "print(linear_regression.weights)"
   ]
  },
  {
   "cell_type": "markdown",
   "metadata": {},
   "source": [
    "#### Define the loss function"
   ]
  },
  {
   "cell_type": "code",
   "execution_count": 54,
   "metadata": {},
   "outputs": [
    {
     "name": "stdout",
     "output_type": "stream",
     "text": [
      "Starting loss 7.154012\n"
     ]
    }
   ],
   "source": [
    "# Define the mean squared error loss function\n",
    "\n",
    "def SquaredError(y_pred, y_true):\n",
    "    return tf.reduce_mean(tf.square(y_pred - y_true)) \n",
    "\n",
    "starting_loss = SquaredError(linear_regression(x_train), y_train)\n",
    "print(\"Starting loss\", starting_loss.numpy())"
   ]
  },
  {
   "cell_type": "markdown",
   "metadata": {},
   "source": [
    "#### Train and plot the model"
   ]
  },
  {
   "cell_type": "code",
   "execution_count": 56,
   "metadata": {},
   "outputs": [
    {
     "name": "stdout",
     "output_type": "stream",
     "text": [
      "Paso 0, Loss 7.154012\n",
      "Paso 1, Loss 5.216798\n",
      "Paso 2, Loss 3.804993\n",
      "Paso 3, Loss 2.776094\n",
      "Paso 4, Loss 2.026247\n",
      "Paso 5, Loss 1.479766\n",
      "Paso 6, Loss 1.081494\n",
      "Paso 7, Loss 0.791232\n",
      "Paso 8, Loss 0.579685\n",
      "Paso 9, Loss 0.425505\n",
      "Paso 10, Loss 0.313131\n",
      "Paso 11, Loss 0.231226\n",
      "Paso 12, Loss 0.171525\n",
      "Paso 13, Loss 0.128006\n",
      "Paso 14, Loss 0.096280\n",
      "Paso 15, Loss 0.073149\n",
      "Paso 16, Loss 0.056282\n",
      "Paso 17, Loss 0.043980\n",
      "Paso 18, Loss 0.035005\n",
      "Paso 19, Loss 0.028454\n",
      "Paso 20, Loss 0.023671\n",
      "Paso 21, Loss 0.020176\n",
      "Paso 22, Loss 0.017619\n",
      "Paso 23, Loss 0.015747\n",
      "Paso 24, Loss 0.014374\n"
     ]
    }
   ],
   "source": [
    "# Implement a gradient descent training loop for the linear regression model\n",
    "\n",
    "#gardiente desendente hecho a mano\n",
    "learning_rate=0.05\n",
    "steps=25\n",
    "\n",
    "for i in range(steps):\n",
    "    with tf.GradientTape() as tape:\n",
    "        predictions=linear_regression(x_train)\n",
    "        #nota como no hacemos operaciones si no pasamos funcion y no definimos el watch\n",
    "        loss=SquaredError(predictions,y_train)\n",
    "    gradients=tape.gradient(loss,linear_regression.trainable_variables)\n",
    "    \n",
    "    linear_regression.m.assign_sub(learning_rate*gradients[0])\n",
    "    linear_regression.b.assign_sub(learning_rate*gradients[1])\n",
    "    \n",
    "    print(\"Paso %d, Loss %f\" % (i,loss.numpy()))"
   ]
  },
  {
   "cell_type": "code",
   "execution_count": 57,
   "metadata": {},
   "outputs": [
    {
     "name": "stdout",
     "output_type": "stream",
     "text": [
      "m:1,  trained m:[1.256899]\n",
      "b:2,  trained b:[1.7933115]\n"
     ]
    },
    {
     "data": {
      "text/plain": [
       "[<matplotlib.lines.Line2D at 0x7f7fd4548390>]"
      ]
     },
     "execution_count": 57,
     "metadata": {},
     "output_type": "execute_result"
    },
    {
     "data": {
      "image/png": "[encoded data removed]",
      "text/plain": [
       "<Figure size 432x288 with 1 Axes>"
      ]
     },
     "metadata": {
      "needs_background": "light"
     },
     "output_type": "display_data"
    }
   ],
   "source": [
    "# Plot the learned regression model\n",
    "\n",
    "print(\"m:{},  trained m:{}\".format(m,linear_regression.m.numpy()))\n",
    "print(\"b:{},  trained b:{}\".format(b,linear_regression.b.numpy()))\n",
    "\n",
    "plt.plot(x_train, y_train, 'b.')\n",
    "\n",
    "x_linear_regression=np.linspace(min(x_train), max(x_train),50)\n",
    "plt.plot(x_linear_regression, linear_regression.m*x_linear_regression+linear_regression.b, 'r.')"
   ]
  },
  {
   "cell_type": "markdown",
   "metadata": {},
   "source": [
    "***\n",
    "<a id=\"coding_tutorial_4\"></a>\n",
    "## Custom training loops\n",
    "\n",
    "Ya tenemos todos los elementos para poder genrar nuestros propios ciclos de entrenamiento, manejando paso por paso."
   ]
  },
  {
   "cell_type": "code",
   "execution_count": null,
   "metadata": {},
   "outputs": [],
   "source": [
    "#ya hemos visto como hacer nuestro algoritmo de optimizacion paso por paso\n",
    "#tambien podemos usar una instancia de un objeto de funcion de perdida\n",
    "# y una instancia de optimizador al que le pasamos nuestros gradientes para no programar nostros mismos\n",
    "#el algoritmo de optimizacion por ejemplo\n",
    "\n",
    "#importamos tensorflow\n",
    "import tensorflow as tf\n",
    "#importsamos la funcion de perdida que ocuparemos\n",
    "from tensorflow.keras.losses import MeanSquaredError\n",
    "#importamos el algoritmo de optimizacion que usaremos\n",
    "from tensorflow.keras.optimizer import SDG\n",
    "\n",
    "#instanciando un modelo \n",
    "my_model=MyModel()\n",
    "\n",
    "#instanciamos nuestra perdida y el algoritmo\n",
    "loss=MeanSquaredError()\n",
    "optimizer=SDG(learning_rate=0.05,momentum=0.9)\n",
    "\n",
    "#derivamos funcion de perdida usando GradientTape\n",
    "with GradientTape() as tape:\n",
    "    #aplicamos perdida a la prediccion del modelo y lo esperado\n",
    "    current_loss=loss(my_model(inputs),outputs)\n",
    "    #calculamos los gradientes respecto a cda variable entrenada y los guardamos en una lista\n",
    "    grads=tape.gradient(current_loss,my_model.trainable_variables)\n",
    "    \n",
    "#aplicamos el optimizador a los gradientes calculados con ayuda del metodo .apply_gradients\n",
    "#eso actualizara automaticamente los parametros de acuerdo al optimizador \n",
    "optimizer.apply_gradients(zip(grads,my_model.trainable_variables))"
   ]
  },
  {
   "cell_type": "code",
   "execution_count": null,
   "metadata": {},
   "outputs": [],
   "source": [
    "#podemos aplicar tambien el procedimiento por lotes\n",
    "# supongamos que training_dataset es un objeto dataset que regresa lotes de inputs y outputs así\n",
    "\n",
    "#importamos tensorflow\n",
    "import tensorflow as tf\n",
    "#importsamos la funcion de perdida que ocuparemos\n",
    "from tensorflow.keras.losses import MeanSquaredError\n",
    "#importamos el algoritmo de optimizacion que usaremos\n",
    "from tensorflow.keras.optimizer import SDG\n",
    "\n",
    "#instanciando un modelo \n",
    "my_model=MyModel()\n",
    "\n",
    "#instanciamos nuestra perdida y el algoritmo\n",
    "loss=MeanSquaredError()\n",
    "optimizer=SDG(learning_rate=0.05,momentum=0.9)\n",
    "\n",
    "#note que esto es una sola epoca de entrenamiento\n",
    "#suponemos que suponemos que training_dataset es finito se recorre una vez y se acaba con la ejecucion\n",
    "\n",
    "#aqui guardaremos las perdidas del lote\n",
    "batch_losses=[]\n",
    "\n",
    "#recorremos el lote\n",
    "for inputs,outputs in training_dataset:\n",
    "    \n",
    "    #derivamos funcion de perdida usando GradientTape\n",
    "    with GradientTape() as tape:\n",
    "        #aplicamos perdida a la prediccion del modelo y lo esperado\n",
    "        current_loss=loss(my_model(inputs),outputs)\n",
    "        #calculamos los gradientes respecto a cda variable entrenada y los guardamos en una lista\n",
    "        grads=tape.gradient(current_loss,my_model.trainable_variables)\n",
    "    \n",
    "    #guardamos la perdida por batch\n",
    "    batch_losses.append(current_loss)\n",
    "    #aplicamos el optimizador a los gradientes calculados con ayuda del metodo .apply_gradients\n",
    "    #eso actualizara automaticamente los parametros de acuerdo al optimizador \n",
    "    optimizer.apply_gradients(zip(grads,my_model.trainable_variables))\n",
    "    \n",
    "    \n",
    "#para hacer el proceo anterior por epoca basta meterlo en un ciclo de epocas\n",
    "\n",
    "#aqui guardaremos tambien la perdida de cada epoca\n",
    "epoch_losses=[]\n",
    "for epoch in range(num_epochs):\n",
    "    #aqui guardaremos las perdidas del lote\n",
    "    batch_losses=[]\n",
    "\n",
    "    #recorremos el lote\n",
    "    for inputs,outputs in training_dataset:\n",
    "\n",
    "        #derivamos funcion de perdida usando GradientTape\n",
    "        with GradientTape() as tape:\n",
    "            #aplicamos perdida a la prediccion del modelo y lo esperado\n",
    "            current_loss=loss(my_model(inputs),outputs)\n",
    "            #calculamos los gradientes respecto a cda variable entrenada y los guardamos en una lista\n",
    "            grads=tape.gradient(current_loss,my_model.trainable_variables)\n",
    "\n",
    "        #guardamos la perdida por batch\n",
    "        batch_losses.append(current_loss)\n",
    "        #aplicamos el optimizador a los gradientes calculados con ayuda del metodo .apply_gradients\n",
    "        #eso actualizara automaticamente los parametros de acuerdo al optimizador \n",
    "        optimizer.apply_gradients(zip(grads,my_model.trainable_variables))\n",
    "    \n",
    "    #guardamos por cada epoca la media de las perdidas de los lotes\n",
    "    epoch_losses.append(np.mean(batch_losses))"
   ]
  },
  {
   "cell_type": "code",
   "execution_count": 58,
   "metadata": {},
   "outputs": [],
   "source": [
    "import numpy as np\n",
    "import matplotlib.pyplot as plt\n",
    "import time"
   ]
  },
  {
   "cell_type": "markdown",
   "metadata": {},
   "source": [
    "#### Build the model"
   ]
  },
  {
   "cell_type": "code",
   "execution_count": 59,
   "metadata": {},
   "outputs": [],
   "source": [
    "from tensorflow.keras.models import Model\n",
    "from tensorflow.keras.layers import Layer, Softmax"
   ]
  },
  {
   "cell_type": "code",
   "execution_count": 67,
   "metadata": {},
   "outputs": [],
   "source": [
    "# Define the custom layers and model\n",
    "class MyLayer(Layer):\n",
    "         \n",
    "    def __init__(self,units):\n",
    "        super(MyLayer,self).__init__()\n",
    "        self.units=units\n",
    "    #aqui separamos el build del init\n",
    "    def build(self,input_shape):\n",
    "        self.w=self.add_weight(shape=(input_shape[-1],self.units),initializer='random_normal',name='kernel') #inicializa pesos   \n",
    "        self.b=self.add_weight(shape=(self.units,),initializer='zeros',name='bias') #inicializa sesgos\n",
    "    \n",
    "    def call(self,inputs):\n",
    "        return tf.matmul(inputs,self.w)+self.b\n",
    "\n",
    "class MyDropout(Layer):\n",
    "\n",
    "    def __init__(self, rate):\n",
    "        super(MyDropout, self).__init__()\n",
    "        self.rate = rate\n",
    "        \n",
    "    def call(self, inputs):\n",
    "        # Define forward pass for dropout layer\n",
    "        return tf.nn.dropout(inputs,rate=self.rate)\n",
    "    \n",
    "class MyModel(Model):\n",
    "\n",
    "    def __init__(self, units_1, units_2, units_3):\n",
    "        super(MyModel, self).__init__()\n",
    "        # Define layers\n",
    "        self.layer1=MyLayer(units_1)\n",
    "        self.dropout1=MyDropout(0.5)\n",
    "        self.layer2=MyLayer(units_2)\n",
    "        self.dropout2=MyDropout(0.5)\n",
    "        self.layer3=MyLayer(units_3)\n",
    "        self.softmax=Softmax()\n",
    "    def call(self, inputs):\n",
    "        # Define forward pass\n",
    "        x=self.layer1(inputs)\n",
    "        x=tf.nn.relu(x)\n",
    "        x=self.dropout1(x)\n",
    "        x=self.layer2(x)\n",
    "        x=tf.nn.relu(x)\n",
    "        x=self.dropout2(x)\n",
    "        x=self.layer3(x)\n",
    "        return self.softmax(x)    "
   ]
  },
  {
   "cell_type": "code",
   "execution_count": 68,
   "metadata": {},
   "outputs": [
    {
     "name": "stdout",
     "output_type": "stream",
     "text": [
      "tf.Tensor(\n",
      "[[0.00910492 0.01305458 0.02417463 0.00952883 0.01373023 0.0145389\n",
      "  0.01506997 0.01002813 0.0136742  0.01921157 0.0192055  0.02141683\n",
      "  0.01661855 0.010644   0.01567224 0.00970886 0.00484321 0.01452804\n",
      "  0.03031491 0.00679364 0.00895576 0.01273956 0.01165674 0.00666535\n",
      "  0.02038888 0.00980087 0.02776306 0.00392505 0.00779932 0.04076068\n",
      "  0.00775666 0.02060031 0.01959355 0.00970403 0.03932459 0.00674915\n",
      "  0.01185679 0.01237496 0.01008896 0.01033838 0.0100258  0.03127175\n",
      "  0.01975719 0.020266   0.00611509 0.01311046 0.01773734 0.00826315\n",
      "  0.0123423  0.0165279  0.01596126 0.00593764 0.03398729 0.01364162\n",
      "  0.01197923 0.0202081  0.01037764 0.03080892 0.01225139 0.02955383\n",
      "  0.01738879 0.01678987 0.013521   0.02147209]], shape=(1, 64), dtype=float32)\n",
      "Model: \"my_model_8\"\n",
      "_________________________________________________________________\n",
      "Layer (type)                 Output Shape              Param #   \n",
      "=================================================================\n",
      "my_layer_24 (MyLayer)        multiple                  640064    \n",
      "_________________________________________________________________\n",
      "my_dropout_9 (MyDropout)     multiple                  0         \n",
      "_________________________________________________________________\n",
      "my_layer_25 (MyLayer)        multiple                  4160      \n",
      "_________________________________________________________________\n",
      "my_dropout_10 (MyDropout)    multiple                  0         \n",
      "_________________________________________________________________\n",
      "my_layer_26 (MyLayer)        multiple                  4160      \n",
      "_________________________________________________________________\n",
      "softmax_4 (Softmax)          multiple                  0         \n",
      "=================================================================\n",
      "Total params: 648,384\n",
      "Trainable params: 648,384\n",
      "Non-trainable params: 0\n",
      "_________________________________________________________________\n"
     ]
    }
   ],
   "source": [
    "#instanciate the model object\n",
    "model=MyModel(64,64,64)\n",
    "print(model(tf.ones((1,10000))))\n",
    "model.summary()"
   ]
  },
  {
   "cell_type": "markdown",
   "metadata": {},
   "source": [
    "#### Load the reuters dataset and define the class_names "
   ]
  },
  {
   "cell_type": "code",
   "execution_count": 89,
   "metadata": {},
   "outputs": [],
   "source": [
    "# Load the dataset\n",
    "\n",
    "from tensorflow.keras.datasets import reuters\n",
    "\n",
    "#contiene ejemplos de textos que pertenecen a topicos\n",
    "(train_data, train_labels), (test_data, test_labels) = reuters.load_data(num_words=10000)\n",
    "\n",
    "class_names = ['cocoa','grain','veg-oil','earn','acq','wheat','copper','housing','money-supply',\n",
    "   'coffee','sugar','trade','reserves','ship','cotton','carcass','crude','nat-gas',\n",
    "   'cpi','money-fx','interest','gnp','meal-feed','alum','oilseed','gold','tin',\n",
    "   'strategic-metal','livestock','retail','ipi','iron-steel','rubber','heat','jobs',\n",
    "   'lei','bop','zinc','orange','pet-chem','dlr','gas','silver','wpi','hog','lead']"
   ]
  },
  {
   "cell_type": "code",
   "execution_count": 90,
   "metadata": {},
   "outputs": [
    {
     "name": "stdout",
     "output_type": "stream",
     "text": [
      "Label: earn\n"
     ]
    }
   ],
   "source": [
    "# Print the class of the first sample\n",
    "\n",
    "print(\"Label: {}\".format(class_names[train_labels[0]]))"
   ]
  },
  {
   "cell_type": "markdown",
   "metadata": {},
   "source": [
    "#### Get the dataset word index"
   ]
  },
  {
   "cell_type": "code",
   "execution_count": 91,
   "metadata": {},
   "outputs": [],
   "source": [
    "# Load the Reuters word index\n",
    "\n",
    "word_to_index = reuters.get_word_index()\n",
    "\n",
    "invert_word_index = dict([(value, key) for (key, value) in word_to_index.items()])\n",
    "text_news = ' '.join([invert_word_index.get(i - 3, '?') for i in train_data[0]])"
   ]
  },
  {
   "cell_type": "code",
   "execution_count": 92,
   "metadata": {},
   "outputs": [
    {
     "name": "stdout",
     "output_type": "stream",
     "text": [
      "? ? ? said as a result of its december acquisition of space co it expects earnings per share in 1987 of 1 15 to 1 30 dlrs per share up from 70 cts in 1986 the company said pretax net should rise to nine to 10 mln dlrs from six mln dlrs in 1986 and rental operation revenues to 19 to 22 mln dlrs from 12 5 mln dlrs it said cash flow per share this year should be 2 50 to three dlrs reuter 3\n"
     ]
    }
   ],
   "source": [
    "# Print the first data example sentence\n",
    "print(text_news)"
   ]
  },
  {
   "cell_type": "markdown",
   "metadata": {},
   "source": [
    "#### Preprocess the data"
   ]
  },
  {
   "cell_type": "code",
   "execution_count": 93,
   "metadata": {},
   "outputs": [
    {
     "name": "stdout",
     "output_type": "stream",
     "text": [
      "Shape of x_train: (8982, 10000)\n",
      "Shape of x_test: (2246, 10000)\n"
     ]
    }
   ],
   "source": [
    "# Define a function that encodes the data into a 'bag of words' representation\n",
    "\n",
    "def bag_of_words(text_samples, elements=10000):\n",
    "    output = np.zeros((len(text_samples), elements))\n",
    "    for i, word in enumerate(text_samples):\n",
    "        output[i, word] = 1.\n",
    "    return output\n",
    "\n",
    "x_train = bag_of_words(train_data)\n",
    "x_test = bag_of_words(test_data)\n",
    "\n",
    "print(\"Shape of x_train:\", x_train.shape)\n",
    "print(\"Shape of x_test:\", x_test.shape)"
   ]
  },
  {
   "cell_type": "markdown",
   "metadata": {},
   "source": [
    "#### Define the loss function and optimizer\n",
    "\n"
   ]
  },
  {
   "cell_type": "code",
   "execution_count": 94,
   "metadata": {},
   "outputs": [],
   "source": [
    "# Define the categorical cross entropy loss and Adam optimizer\n",
    "\n",
    "loss_object = tf.keras.losses.SparseCategoricalCrossentropy()\n",
    "\n",
    "def loss(model, x, y, wd):\n",
    "    kernel_variables = []\n",
    "    for l in model.layers:\n",
    "        for w in l.weights:\n",
    "            if 'kernel' in w.name:\n",
    "                kernel_variables.append(w)\n",
    "    wd_penalty = wd * tf.reduce_sum([tf.reduce_sum(tf.square(k)) for k in kernel_variables])\n",
    "    y_ = model(x)\n",
    "    return loss_object(y_true=y, y_pred=y_) + wd_penalty\n",
    "\n",
    "optimizer = tf.keras.optimizers.Adam(learning_rate=0.001)"
   ]
  },
  {
   "cell_type": "markdown",
   "metadata": {},
   "source": [
    "#### Train the model"
   ]
  },
  {
   "cell_type": "code",
   "execution_count": 75,
   "metadata": {},
   "outputs": [],
   "source": [
    "# Define a function to compute the forward and backward pass\n",
    "\n",
    "def grad(model, inputs, targets, wd):\n",
    "    with tf.GradientTape() as tape:\n",
    "        loss_value = loss(model, inputs, targets, wd)\n",
    "    return loss_value, tape.gradient(loss_value, model.trainable_variables)"
   ]
  },
  {
   "cell_type": "code",
   "execution_count": 81,
   "metadata": {},
   "outputs": [
    {
     "name": "stdout",
     "output_type": "stream",
     "text": [
      "WARNING:tensorflow:Layer my_model_8 is casting an input tensor from dtype float64 to the layer's dtype of float32, which is new behavior in TensorFlow 2.  The layer has dtype float32 because it's dtype defaults to floatx.\n",
      "\n",
      "If you intended to run this layer in float32, you can safely ignore this warning. If in doubt, this warning is likely only an issue if you are porting a TensorFlow 1.X model to TensorFlow 2.\n",
      "\n",
      "To change all layers to have dtype float64 by default, call `tf.keras.backend.set_floatx('float64')`. To change just this layer, pass dtype='float64' to the layer constructor. If you are the author of this layer, you can disable autocasting by passing autocast=False to the base Layer constructor.\n",
      "\n",
      "Epoch 000: Loss: 3.397, Accuracy: 48.820%\n",
      "Epoch 001: Loss: 1.958, Accuracy: 61.178%\n",
      "Epoch 002: Loss: 1.877, Accuracy: 64.919%\n",
      "Epoch 003: Loss: 1.825, Accuracy: 66.956%\n",
      "Epoch 004: Loss: 1.799, Accuracy: 68.481%\n",
      "Epoch 005: Loss: 1.776, Accuracy: 69.717%\n",
      "Epoch 006: Loss: 1.755, Accuracy: 69.595%\n",
      "Epoch 007: Loss: 1.736, Accuracy: 69.639%\n",
      "Epoch 008: Loss: 1.732, Accuracy: 70.107%\n",
      "Epoch 009: Loss: 1.719, Accuracy: 70.953%\n",
      "Duration :270.353\n"
     ]
    }
   ],
   "source": [
    "# Implement the training loop\n",
    "\n",
    "from tensorflow.keras.utils import to_categorical\n",
    "\n",
    "start_time = time.time()\n",
    "#Formamos objeto data set\n",
    "train_dataset=tf.data.Dataset.from_tensor_slices((x_train,train_labels))\n",
    "#Formamos lotes\n",
    "train_dataset=train_dataset.batch(32)\n",
    "\n",
    "#datos para graficar\n",
    "train_loss_results=[]\n",
    "train_accuracy_results=[]\n",
    "\n",
    "weight_decay=0.005\n",
    "num_epochs=10\n",
    "\n",
    "for epoch in range(num_epochs):\n",
    "    epoch_loss_avg=tf.keras.metrics.Mean()\n",
    "    epoch_accuracy=tf.keras.metrics.CategoricalAccuracy()\n",
    "    \n",
    "    #ciclo de entrenamiento\n",
    "    for x,y in train_dataset:\n",
    "        loss_value,grads=grad(model,x,y,weight_decay)\n",
    "        optimizer.apply_gradients(zip(grads,model.trainable_variables))\n",
    "        \n",
    "        #calulando perdida actual\n",
    "        epoch_loss_avg(loss_value)\n",
    "        #comparando etiqueta predicha con la actual\n",
    "        epoch_accuracy(to_categorical(y),model(x))\n",
    "    \n",
    "    #final de epoca\n",
    "    train_loss_results.append(epoch_loss_avg.result())\n",
    "    train_accuracy_results.append(epoch_accuracy.result())\n",
    "    \n",
    "    print(\"Epoch {:03d}: Loss: {:.3f}, Accuracy: {:.3%}\".format(epoch,epoch_loss_avg.result(),\n",
    "                                                                epoch_accuracy.result()))\n",
    "    \n",
    "print(\"Duration :{:.3f}\".format(time.time() - start_time))"
   ]
  },
  {
   "cell_type": "markdown",
   "metadata": {},
   "source": [
    "#### Evaluate the model"
   ]
  },
  {
   "cell_type": "code",
   "execution_count": 82,
   "metadata": {},
   "outputs": [],
   "source": [
    "# Create a Dataset object for the test set\n",
    "\n",
    "test_dataset = tf.data.Dataset.from_tensor_slices((x_test, test_labels))\n",
    "test_dataset = test_dataset.batch(32)"
   ]
  },
  {
   "cell_type": "code",
   "execution_count": 83,
   "metadata": {},
   "outputs": [],
   "source": [
    "# Collect average loss and accuracy\n",
    "\n",
    "epoch_loss_avg = tf.keras.metrics.Mean()\n",
    "epoch_accuracy = tf.keras.metrics.CategoricalAccuracy()"
   ]
  },
  {
   "cell_type": "code",
   "execution_count": 84,
   "metadata": {},
   "outputs": [
    {
     "name": "stdout",
     "output_type": "stream",
     "text": [
      "Test loss: 1.835\n",
      "Test accuracy: 67.453%\n"
     ]
    }
   ],
   "source": [
    "# Loop over the test set and print scores\n",
    "\n",
    "from tensorflow.keras.utils import to_categorical\n",
    "\n",
    "for x, y in test_dataset:\n",
    "    # Optimize the model\n",
    "    loss_value = loss(model, x, y, weight_decay)    \n",
    "    # Compute current loss\n",
    "    epoch_loss_avg(loss_value)  \n",
    "    # Compare predicted label to actual label\n",
    "    epoch_accuracy(to_categorical(y), model(x))\n",
    "\n",
    "print(\"Test loss: {:.3f}\".format(epoch_loss_avg.result().numpy()))\n",
    "print(\"Test accuracy: {:.3%}\".format(epoch_accuracy.result().numpy()))"
   ]
  },
  {
   "cell_type": "markdown",
   "metadata": {},
   "source": [
    "#### Plot the learning curves"
   ]
  },
  {
   "cell_type": "code",
   "execution_count": 85,
   "metadata": {},
   "outputs": [
    {
     "data": {
      "image/png": "[encoded data removed]",
      "text/plain": [
       "<Figure size 864x576 with 2 Axes>"
      ]
     },
     "metadata": {
      "needs_background": "light"
     },
     "output_type": "display_data"
    }
   ],
   "source": [
    "# Plot the training loss and accuracy\n",
    "\n",
    "fig, axes = plt.subplots(2, sharex=True, figsize=(12, 8))\n",
    "fig.suptitle('Training Metrics')\n",
    "\n",
    "axes[0].set_ylabel(\"Loss\", fontsize=14)\n",
    "axes[0].plot(train_loss_results)\n",
    "\n",
    "axes[1].set_ylabel(\"Accuracy\", fontsize=14)\n",
    "axes[1].set_xlabel(\"Epoch\", fontsize=14)\n",
    "axes[1].plot(train_accuracy_results)\n",
    "plt.show()"
   ]
  },
  {
   "cell_type": "markdown",
   "metadata": {},
   "source": [
    "#### Predict from the model"
   ]
  },
  {
   "cell_type": "code",
   "execution_count": 86,
   "metadata": {},
   "outputs": [
    {
     "name": "stdout",
     "output_type": "stream",
     "text": [
      "Prediction: earn\n",
      "     Label: earn\n"
     ]
    }
   ],
   "source": [
    "# Get the model prediction for an example input\n",
    "\n",
    "predicted_label = np.argmax(model(x_train[np.newaxis,0]),axis=1)[0]\n",
    "print(\"Prediction: {}\".format(class_names[predicted_label]))\n",
    "print(\"     Label: {}\".format(class_names[train_labels[0]]))"
   ]
  },
  {
   "cell_type": "markdown",
   "metadata": {},
   "source": [
    "***\n",
    "<a id=\"coding_tutorial_5\"></a>\n",
    "## tf.function decorator\n",
    "\n",
    "Tensorflow tiene dos formas de calcular las cosas usando graficas y mediante codigo que ejecuta en tiempo de ejecucion (eager) que es la que se hace por default, los graficos no reducen calculos hacen un mapeo mediante graficas de ellos, hacer codigos para las graficas es complejo pero tensorflow tiene una forma de indicar que partes de codigo se interpretan como graficas y tensorflow en automatico contruye la grafica por detras esto es util pues este metodo hace que los calculos sean mucho mas rápidos."
   ]
  },
  {
   "cell_type": "code",
   "execution_count": null,
   "metadata": {},
   "outputs": [],
   "source": [
    "#esto es una funcion comun y corriente que se ejecuta al momento eager\n",
    "def f (x):\n",
    "    #procesa x\n",
    "    return x\n",
    "\n",
    "#si yo decoro mi funcion con @tf.function la funcion se ve igual y se ejecuta igual pero por detras tensorflow\n",
    "#construye la grafica de calculos que se usa para procesar x\n",
    "#cada que mandes a llamar esta funcion se ejecutara como grafica\n",
    "@tf.function\n",
    "def f (x):\n",
    "    #procesa x\n",
    "    return x\n",
    "\n",
    "#si ejecutas muestra la grafica que tensorflow genera por detras puedes ver como el codigo es mas complejo\n",
    "print(tf.autograph.to_code(f))"
   ]
  },
  {
   "cell_type": "code",
   "execution_count": 87,
   "metadata": {},
   "outputs": [],
   "source": [
    "from tensorflow.keras.models import Model\n",
    "from tensorflow.keras.layers import Layer, Softmax\n",
    "from tensorflow.keras.utils import to_categorical\n",
    "from tensorflow.keras.datasets import reuters\n",
    "import numpy as np\n",
    "import matplotlib.pyplot as plt\n",
    "import time"
   ]
  },
  {
   "cell_type": "markdown",
   "metadata": {},
   "source": [
    "#### Build the model"
   ]
  },
  {
   "cell_type": "code",
   "execution_count": 88,
   "metadata": {},
   "outputs": [],
   "source": [
    "# Initialize a new model\n",
    "#usamos el modelo que definimos en la seccion anterior\n",
    "model=MyModel(64,64,46)"
   ]
  },
  {
   "cell_type": "markdown",
   "metadata": {},
   "source": [
    "#### Redefine the grad function using the @tf.function decorator"
   ]
  },
  {
   "cell_type": "code",
   "execution_count": 95,
   "metadata": {},
   "outputs": [],
   "source": [
    "# Use the @tf.function decorator\n",
    "\n",
    "#la misma funcion que hace rato ahora la interpretamos generando su grafica automatica detras de escena\n",
    "@tf.function\n",
    "def grad(model, inputs, targets, wd):\n",
    "    with tf.GradientTape() as tape:\n",
    "        loss_value = loss(model, inputs, targets, wd)\n",
    "    return loss_value, tape.gradient(loss_value, model.trainable_variables)"
   ]
  },
  {
   "cell_type": "markdown",
   "metadata": {},
   "source": [
    "#### Train the model"
   ]
  },
  {
   "cell_type": "code",
   "execution_count": 96,
   "metadata": {},
   "outputs": [
    {
     "name": "stdout",
     "output_type": "stream",
     "text": [
      "WARNING:tensorflow:Layer my_model_9 is casting an input tensor from dtype float64 to the layer's dtype of float32, which is new behavior in TensorFlow 2.  The layer has dtype float32 because it's dtype defaults to floatx.\n",
      "\n",
      "If you intended to run this layer in float32, you can safely ignore this warning. If in doubt, this warning is likely only an issue if you are porting a TensorFlow 1.X model to TensorFlow 2.\n",
      "\n",
      "To change all layers to have dtype float64 by default, call `tf.keras.backend.set_floatx('float64')`. To change just this layer, pass dtype='float64' to the layer constructor. If you are the author of this layer, you can disable autocasting by passing autocast=False to the base Layer constructor.\n",
      "\n",
      "Epoch 000: Loss: 3.293, Accuracy: 48.720%\n",
      "Epoch 001: Loss: 1.913, Accuracy: 59.797%\n",
      "Epoch 002: Loss: 1.828, Accuracy: 65.153%\n",
      "Epoch 003: Loss: 1.779, Accuracy: 67.502%\n",
      "Epoch 004: Loss: 1.762, Accuracy: 68.504%\n",
      "Epoch 005: Loss: 1.748, Accuracy: 69.205%\n",
      "Epoch 006: Loss: 1.732, Accuracy: 69.383%\n",
      "Epoch 007: Loss: 1.722, Accuracy: 70.085%\n",
      "Epoch 008: Loss: 1.711, Accuracy: 70.396%\n",
      "Epoch 009: Loss: 1.695, Accuracy: 70.730%\n",
      "Duration :222.034\n"
     ]
    }
   ],
   "source": [
    "# Re-run the training loop\n",
    "#pongamos el mismo ciclo de entrenamiento que codificamos anteriormente no hay qu modificarle nada \n",
    "#veamos como simplemente agregando el decorador como mejora el desempeño\n",
    "\n",
    "from tensorflow.keras.utils import to_categorical\n",
    "\n",
    "start_time = time.time()\n",
    "#Formamos objeto data set\n",
    "train_dataset=tf.data.Dataset.from_tensor_slices((x_train,train_labels))\n",
    "#Formamos lotes\n",
    "train_dataset=train_dataset.batch(32)\n",
    "\n",
    "#datos para graficar\n",
    "train_loss_results=[]\n",
    "train_accuracy_results=[]\n",
    "\n",
    "weight_decay=0.005\n",
    "num_epochs=10\n",
    "\n",
    "for epoch in range(num_epochs):\n",
    "    epoch_loss_avg=tf.keras.metrics.Mean()\n",
    "    epoch_accuracy=tf.keras.metrics.CategoricalAccuracy()\n",
    "    \n",
    "    #ciclo de entrenamiento\n",
    "    for x,y in train_dataset:\n",
    "        loss_value,grads=grad(model,x,y,weight_decay)\n",
    "        optimizer.apply_gradients(zip(grads,model.trainable_variables))\n",
    "        \n",
    "        #calulando perdida actual\n",
    "        epoch_loss_avg(loss_value)\n",
    "        #comparando etiqueta predicha con la actual\n",
    "        epoch_accuracy(to_categorical(y),model(x))\n",
    "    \n",
    "    #final de epoca\n",
    "    train_loss_results.append(epoch_loss_avg.result())\n",
    "    train_accuracy_results.append(epoch_accuracy.result())\n",
    "    \n",
    "    print(\"Epoch {:03d}: Loss: {:.3f}, Accuracy: {:.3%}\".format(epoch,epoch_loss_avg.result(),\n",
    "                                                                epoch_accuracy.result()))\n",
    "    \n",
    "print(\"Duration :{:.3f}\".format(time.time() - start_time))\n",
    "\n",
    "#anteriormente duro 270.353 la ejecucion\n",
    "#con el decorador solo tarda 222.034"
   ]
  },
  {
   "cell_type": "markdown",
   "metadata": {},
   "source": [
    "#### Print the autograph code"
   ]
  },
  {
   "cell_type": "code",
   "execution_count": 97,
   "metadata": {},
   "outputs": [
    {
     "name": "stdout",
     "output_type": "stream",
     "text": [
      "def tf__grad(model, inputs, targets, wd):\n",
      "  do_return = False\n",
      "  retval_ = ag__.UndefinedReturnValue()\n",
      "  with ag__.FunctionScope('grad', 'grad_scope', ag__.ConversionOptions(recursive=True, user_requested=True, optional_features=(), internal_convert_user_code=True)) as grad_scope:\n",
      "    with tf.GradientTape() as tape:\n",
      "      loss_value = ag__.converted_call(loss, grad_scope.callopts, (model, inputs, targets, wd), None, grad_scope)\n",
      "    do_return = True\n",
      "    retval_ = grad_scope.mark_return_value((loss_value, ag__.converted_call(tape.gradient, grad_scope.callopts, (loss_value, model.trainable_variables), None, grad_scope)))\n",
      "  do_return,\n",
      "  return ag__.retval(retval_)\n",
      "\n"
     ]
    }
   ],
   "source": [
    "# Use tf.autograph.to_code to see the generated code\n",
    "#veamos la grafica de la funcion que se auto genero\n",
    "print(tf.autograph.to_code(grad.python_function))"
   ]
  }
 ],
 "metadata": {
  "kernelspec": {
   "display_name": "Python 3",
   "language": "python",
   "name": "python3"
  },
  "language_info": {
   "codemirror_mode": {
    "name": "ipython",
    "version": 3
   },
   "file_extension": ".py",
   "mimetype": "text/x-python",
   "name": "python",
   "nbconvert_exporter": "python",
   "pygments_lexer": "ipython3",
   "version": "3.7.1"
  }
 },
 "nbformat": 4,
 "nbformat_minor": 2
}
