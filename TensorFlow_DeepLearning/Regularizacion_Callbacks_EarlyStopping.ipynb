{
  "cells": [
    {
      "cell_type": "code",
      "execution_count": 1,
      "metadata": {
        "scrolled": true,
        "colab": {
          "base_uri": "https://localhost:8080/"
        },
        "id": "dk5ZL102GcxA",
        "outputId": "c10b8479-d08c-4b8a-9f57-cc9b388b1cc4"
      },
      "outputs": [
        {
          "output_type": "stream",
          "name": "stdout",
          "text": [
            "2.11.0\n"
          ]
        }
      ],
      "source": [
        "import tensorflow as tf\n",
        "print(tf.__version__)"
      ]
    },
    {
      "cell_type": "markdown",
      "metadata": {
        "id": "bSEJ0LoOGcxH"
      },
      "source": [
        "# Validation, regularisation and callbacks"
      ]
    },
    {
      "cell_type": "markdown",
      "metadata": {
        "id": "nj8SDqgUGcxP"
      },
      "source": [
        " ## Coding tutorials\n",
        " #### [1. Validation sets](#coding_tutorial_1)\n",
        " #### [2. Model regularisation](#coding_tutorial_2)\n",
        " #### [3. Introduction to callbacks](#coding_tutorial_3)\n",
        " #### [4. Early stopping / patience](#coding_tutorial_4)"
      ]
    },
    {
      "cell_type": "markdown",
      "metadata": {
        "id": "7sl3uu0pGcxU"
      },
      "source": [
        "***\n",
        "<a id=\"coding_tutorial_1\"></a>\n",
        "## Validation sets"
      ]
    },
    {
      "cell_type": "markdown",
      "source": [
        "Conjunto de validacion sirve para ver que tan bien se dezempeña el modelo fuera del set de entrenamiento, el modelo nunca lo usa para entrenar pero se ocupa durante el entrenamiento para validar ahora el history tambien gaurda desempeño de cada metrica en el conjunto de validacion"
      ],
      "metadata": {
        "id": "7TRLE-9XGo3p"
      }
    },
    {
      "cell_type": "markdown",
      "metadata": {
        "id": "TUdof3mlGcxZ"
      },
      "source": [
        "#### Load the data"
      ]
    },
    {
      "cell_type": "code",
      "execution_count": 2,
      "metadata": {
        "colab": {
          "base_uri": "https://localhost:8080/"
        },
        "id": "ncAvavOpGcxb",
        "outputId": "013bb2f4-e18f-476b-eadf-4b1f9b514598"
      },
      "outputs": [
        {
          "output_type": "stream",
          "name": "stdout",
          "text": [
            ".. _diabetes_dataset:\n",
            "\n",
            "Diabetes dataset\n",
            "----------------\n",
            "\n",
            "Ten baseline variables, age, sex, body mass index, average blood\n",
            "pressure, and six blood serum measurements were obtained for each of n =\n",
            "442 diabetes patients, as well as the response of interest, a\n",
            "quantitative measure of disease progression one year after baseline.\n",
            "\n",
            "**Data Set Characteristics:**\n",
            "\n",
            "  :Number of Instances: 442\n",
            "\n",
            "  :Number of Attributes: First 10 columns are numeric predictive values\n",
            "\n",
            "  :Target: Column 11 is a quantitative measure of disease progression one year after baseline\n",
            "\n",
            "  :Attribute Information:\n",
            "      - age     age in years\n",
            "      - sex\n",
            "      - bmi     body mass index\n",
            "      - bp      average blood pressure\n",
            "      - s1      tc, total serum cholesterol\n",
            "      - s2      ldl, low-density lipoproteins\n",
            "      - s3      hdl, high-density lipoproteins\n",
            "      - s4      tch, total cholesterol / HDL\n",
            "      - s5      ltg, possibly log of serum triglycerides level\n",
            "      - s6      glu, blood sugar level\n",
            "\n",
            "Note: Each of these 10 feature variables have been mean centered and scaled by the standard deviation times the square root of `n_samples` (i.e. the sum of squares of each column totals 1).\n",
            "\n",
            "Source URL:\n",
            "https://www4.stat.ncsu.edu/~boos/var.select/diabetes.html\n",
            "\n",
            "For more information see:\n",
            "Bradley Efron, Trevor Hastie, Iain Johnstone and Robert Tibshirani (2004) \"Least Angle Regression,\" Annals of Statistics (with discussion), 407-499.\n",
            "(https://web.stanford.edu/~hastie/Papers/LARS/LeastAngle_2002.pdf)\n",
            "\n"
          ]
        }
      ],
      "source": [
        "# Load the diabetes dataset\n",
        "from sklearn.datasets import load_diabetes\n",
        "\n",
        "#bajamos set de datos\n",
        "diabetes_dataset=load_diabetes()\n",
        "#vemos su descripcion\n",
        "print(diabetes_dataset['DESCR'])\n"
      ]
    },
    {
      "cell_type": "code",
      "execution_count": 8,
      "metadata": {
        "colab": {
          "base_uri": "https://localhost:8080/"
        },
        "id": "8Zp6SlFKGcxe",
        "outputId": "8d8b0882-f359-451d-bdda-fb516e3e90c0"
      },
      "outputs": [
        {
          "output_type": "stream",
          "name": "stdout",
          "text": [
            "dict_keys(['data', 'target', 'frame', 'DESCR', 'feature_names', 'data_filename', 'target_filename', 'data_module'])\n",
            "----------------datos-----------------\n",
            "[[ 0.03807591  0.05068012  0.06169621 ... -0.00259226  0.01990749\n",
            "  -0.01764613]\n",
            " [-0.00188202 -0.04464164 -0.05147406 ... -0.03949338 -0.06833155\n",
            "  -0.09220405]\n",
            " [ 0.08529891  0.05068012  0.04445121 ... -0.00259226  0.00286131\n",
            "  -0.02593034]\n",
            " ...\n",
            " [ 0.04170844  0.05068012 -0.01590626 ... -0.01107952 -0.04688253\n",
            "   0.01549073]\n",
            " [-0.04547248 -0.04464164  0.03906215 ...  0.02655962  0.04452873\n",
            "  -0.02593034]\n",
            " [-0.04547248 -0.04464164 -0.0730303  ... -0.03949338 -0.00422151\n",
            "   0.00306441]]\n",
            "--------------targets-----------------\n",
            "[151.  75. 141. 206. 135.  97. 138.  63. 110. 310. 101.  69. 179. 185.\n",
            " 118. 171. 166. 144.  97. 168.  68.  49.  68. 245. 184. 202. 137.  85.\n",
            " 131. 283. 129.  59. 341.  87.  65. 102. 265. 276. 252.  90. 100.  55.\n",
            "  61.  92. 259.  53. 190. 142.  75. 142. 155. 225.  59. 104. 182. 128.\n",
            "  52.  37. 170. 170.  61. 144.  52. 128.  71. 163. 150.  97. 160. 178.\n",
            "  48. 270. 202. 111.  85.  42. 170. 200. 252. 113. 143.  51.  52. 210.\n",
            "  65. 141.  55. 134.  42. 111.  98. 164.  48.  96.  90. 162. 150. 279.\n",
            "  92.  83. 128. 102. 302. 198.  95.  53. 134. 144. 232.  81. 104.  59.\n",
            " 246. 297. 258. 229. 275. 281. 179. 200. 200. 173. 180.  84. 121. 161.\n",
            "  99. 109. 115. 268. 274. 158. 107.  83. 103. 272.  85. 280. 336. 281.\n",
            " 118. 317. 235.  60. 174. 259. 178. 128.  96. 126. 288.  88. 292.  71.\n",
            " 197. 186.  25.  84.  96. 195.  53. 217. 172. 131. 214.  59.  70. 220.\n",
            " 268. 152.  47.  74. 295. 101. 151. 127. 237. 225.  81. 151. 107.  64.\n",
            " 138. 185. 265. 101. 137. 143. 141.  79. 292. 178.  91. 116.  86. 122.\n",
            "  72. 129. 142.  90. 158.  39. 196. 222. 277.  99. 196. 202. 155.  77.\n",
            " 191.  70.  73.  49.  65. 263. 248. 296. 214. 185.  78.  93. 252. 150.\n",
            "  77. 208.  77. 108. 160.  53. 220. 154. 259.  90. 246. 124.  67.  72.\n",
            " 257. 262. 275. 177.  71.  47. 187. 125.  78.  51. 258. 215. 303. 243.\n",
            "  91. 150. 310. 153. 346.  63.  89.  50.  39. 103. 308. 116. 145.  74.\n",
            "  45. 115. 264.  87. 202. 127. 182. 241.  66.  94. 283.  64. 102. 200.\n",
            " 265.  94. 230. 181. 156. 233.  60. 219.  80.  68. 332. 248.  84. 200.\n",
            "  55.  85.  89.  31. 129.  83. 275.  65. 198. 236. 253. 124.  44. 172.\n",
            " 114. 142. 109. 180. 144. 163. 147.  97. 220. 190. 109. 191. 122. 230.\n",
            " 242. 248. 249. 192. 131. 237.  78. 135. 244. 199. 270. 164.  72.  96.\n",
            " 306.  91. 214.  95. 216. 263. 178. 113. 200. 139. 139.  88. 148.  88.\n",
            " 243.  71.  77. 109. 272.  60.  54. 221.  90. 311. 281. 182. 321.  58.\n",
            " 262. 206. 233. 242. 123. 167.  63. 197.  71. 168. 140. 217. 121. 235.\n",
            " 245.  40.  52. 104. 132.  88.  69. 219.  72. 201. 110.  51. 277.  63.\n",
            " 118.  69. 273. 258.  43. 198. 242. 232. 175.  93. 168. 275. 293. 281.\n",
            "  72. 140. 189. 181. 209. 136. 261. 113. 131. 174. 257.  55.  84.  42.\n",
            " 146. 212. 233.  91. 111. 152. 120.  67. 310.  94. 183.  66. 173.  72.\n",
            "  49.  64.  48. 178. 104. 132. 220.  57.]\n"
          ]
        }
      ],
      "source": [
        "# Save the input and target variables\n",
        "\n",
        "#ver palabras clave del diccionario  cabecera para ver que contiene\n",
        "print(diabetes_dataset.keys())\n",
        "\n",
        "data=diabetes_dataset['data']\n",
        "targets=diabetes_dataset['target']\n",
        "\n",
        "#visualizando\n",
        "print(\"----------------datos-----------------\")\n",
        "print(data)\n",
        "print(\"--------------targets-----------------\")\n",
        "print(targets)"
      ]
    },
    {
      "cell_type": "code",
      "execution_count": 10,
      "metadata": {
        "colab": {
          "base_uri": "https://localhost:8080/"
        },
        "id": "gQ4qBNQVGcxh",
        "outputId": "716f46c5-9f2d-42ab-da55-460aff619d3c"
      },
      "outputs": [
        {
          "output_type": "execute_result",
          "data": {
            "text/plain": [
              "array([-1.47194752e-02, -1.00165882e+00, -1.44579915e-01,  6.99512942e-01,\n",
              "       -2.22496178e-01, -7.15965848e-01, -1.83538046e-01, -1.15749134e+00,\n",
              "       -5.47147277e-01,  2.05006151e+00, -6.64021672e-01, -1.07957508e+00,\n",
              "        3.48889755e-01,  4.26806019e-01, -4.43258925e-01,  2.45001404e-01,\n",
              "        1.80071184e-01, -1.05621783e-01, -7.15965848e-01,  2.06043272e-01,\n",
              "       -1.09256112e+00, -1.33929596e+00, -1.09256112e+00,  1.20596866e+00,\n",
              "        4.13819975e-01,  6.47568766e-01, -1.96524090e-01, -8.71798376e-01,\n",
              "       -2.74440354e-01,  1.69943833e+00, -3.00412442e-01, -1.20943552e+00,\n",
              "        2.45262887e+00, -8.45826288e-01, -1.13151925e+00, -6.51035629e-01,\n",
              "        1.46568953e+00,  1.60853602e+00,  1.29687096e+00, -8.06868156e-01,\n",
              "       -6.77007716e-01, -1.26137969e+00, -1.18346343e+00, -7.80896068e-01,\n",
              "        1.38777327e+00, -1.28735178e+00,  4.91736239e-01, -1.31593871e-01,\n",
              "       -1.00165882e+00, -1.31593871e-01,  3.72247006e-02,  9.46247777e-01,\n",
              "       -1.20943552e+00, -6.25063541e-01,  3.87847887e-01, -3.13398486e-01,\n",
              "       -1.30033783e+00, -1.49512849e+00,  2.32015360e-01,  2.32015360e-01,\n",
              "       -1.18346343e+00, -1.05621783e-01, -1.30033783e+00, -3.13398486e-01,\n",
              "       -1.05360299e+00,  1.41113052e-01, -2.77055191e-02, -7.15965848e-01,\n",
              "        1.02154920e-01,  3.35903711e-01, -1.35228200e+00,  1.53061975e+00,\n",
              "        6.47568766e-01, -5.34161233e-01, -8.71798376e-01, -1.43019827e+00,\n",
              "        2.32015360e-01,  6.21596678e-01,  1.29687096e+00, -5.08189145e-01,\n",
              "       -1.18607827e-01, -1.31332387e+00, -1.30033783e+00,  7.51457118e-01,\n",
              "       -1.13151925e+00, -1.44579915e-01, -1.26137969e+00, -2.35482222e-01,\n",
              "       -1.43019827e+00, -5.34161233e-01, -7.02979804e-01,  1.54099096e-01,\n",
              "       -1.35228200e+00, -7.28951892e-01, -8.06868156e-01,  1.28127008e-01,\n",
              "       -2.77055191e-02,  1.64749415e+00, -7.80896068e-01, -8.97770464e-01,\n",
              "       -3.13398486e-01, -6.51035629e-01,  1.94617316e+00,  5.95624590e-01,\n",
              "       -7.41937936e-01, -1.28735178e+00, -2.35482222e-01, -1.05621783e-01,\n",
              "        1.03715008e+00, -9.23742551e-01, -6.25063541e-01, -1.20943552e+00,\n",
              "        1.21895470e+00,  1.88124294e+00,  1.37478723e+00,  9.98191953e-01,\n",
              "        1.59554997e+00,  1.67346624e+00,  3.48889755e-01,  6.21596678e-01,\n",
              "        6.21596678e-01,  2.70973492e-01,  3.61875799e-01, -8.84784420e-01,\n",
              "       -4.04300794e-01,  1.15140964e-01, -6.89993760e-01, -5.60133321e-01,\n",
              "       -4.82217057e-01,  1.50464767e+00,  1.58256393e+00,  7.61828325e-02,\n",
              "       -5.86105409e-01, -8.97770464e-01, -6.38049585e-01,  1.55659184e+00,\n",
              "       -8.71798376e-01,  1.66048019e+00,  2.38769865e+00,  1.67346624e+00,\n",
              "       -4.43258925e-01,  2.14096382e+00,  1.07610822e+00, -1.19644947e+00,\n",
              "        2.83959536e-01,  1.38777327e+00,  3.35903711e-01, -3.13398486e-01,\n",
              "       -7.28951892e-01, -3.39370574e-01,  1.76436855e+00, -8.32840244e-01,\n",
              "        1.81631272e+00, -1.05360299e+00,  5.82638546e-01,  4.39792063e-01,\n",
              "       -1.65096101e+00, -8.84784420e-01, -7.28951892e-01,  5.56666458e-01,\n",
              "       -1.28735178e+00,  8.42359425e-01,  2.57987448e-01, -2.74440354e-01,\n",
              "        8.03401293e-01, -1.20943552e+00, -1.06658903e+00,  8.81317557e-01,\n",
              "        1.50464767e+00, -1.73343121e-03, -1.36526805e+00, -1.01464486e+00,\n",
              "        1.85527085e+00, -6.64021672e-01, -1.47194752e-02, -3.26384530e-01,\n",
              "        1.10208030e+00,  9.46247777e-01, -9.23742551e-01, -1.47194752e-02,\n",
              "       -5.86105409e-01, -1.14450530e+00, -1.83538046e-01,  4.26806019e-01,\n",
              "        1.46568953e+00, -6.64021672e-01, -1.96524090e-01, -1.18607827e-01,\n",
              "       -1.44579915e-01, -9.49714639e-01,  1.81631272e+00,  3.35903711e-01,\n",
              "       -7.93882112e-01, -4.69231013e-01, -8.58812332e-01, -3.91314750e-01,\n",
              "       -1.04061695e+00, -3.00412442e-01, -1.31593871e-01, -8.06868156e-01,\n",
              "        7.61828325e-02, -1.46915640e+00,  5.69652502e-01,  9.07289645e-01,\n",
              "        1.62152206e+00, -6.89993760e-01,  5.69652502e-01,  6.47568766e-01,\n",
              "        3.72247006e-02, -9.75686727e-01,  5.04722283e-01, -1.06658903e+00,\n",
              "       -1.02763090e+00, -1.33929596e+00, -1.13151925e+00,  1.43971745e+00,\n",
              "        1.24492679e+00,  1.86825690e+00,  8.03401293e-01,  4.26806019e-01,\n",
              "       -9.62700683e-01, -7.67910024e-01,  1.29687096e+00, -2.77055191e-02,\n",
              "       -9.75686727e-01,  7.25485030e-01, -9.75686727e-01, -5.73119365e-01,\n",
              "        1.02154920e-01, -1.28735178e+00,  8.81317557e-01,  2.42386567e-02,\n",
              "        1.38777327e+00, -8.06868156e-01,  1.21895470e+00, -3.65342662e-01,\n",
              "       -1.10554717e+00, -1.04061695e+00,  1.36180118e+00,  1.42673140e+00,\n",
              "        1.59554997e+00,  3.22917667e-01, -1.05360299e+00, -1.36526805e+00,\n",
              "        4.52778107e-01, -3.52356618e-01, -9.62700683e-01, -1.31332387e+00,\n",
              "        1.37478723e+00,  8.16387337e-01,  1.95915920e+00,  1.17999657e+00,\n",
              "       -7.93882112e-01, -2.77055191e-02,  2.05006151e+00,  1.12526127e-02,\n",
              "        2.51755909e+00, -1.15749134e+00, -8.19854200e-01, -1.32630991e+00,\n",
              "       -1.46915640e+00, -6.38049585e-01,  2.02408942e+00, -4.69231013e-01,\n",
              "       -9.26357388e-02, -1.01464486e+00, -1.39124013e+00, -4.82217057e-01,\n",
              "        1.45270349e+00, -8.45826288e-01,  6.47568766e-01, -3.26384530e-01,\n",
              "        3.87847887e-01,  1.15402448e+00, -1.11853321e+00, -7.54923980e-01,\n",
              "        1.69943833e+00, -1.14450530e+00, -6.51035629e-01,  6.21596678e-01,\n",
              "        1.46568953e+00, -7.54923980e-01,  1.01117800e+00,  3.74861843e-01,\n",
              "        5.02107446e-02,  1.05013613e+00, -1.19644947e+00,  8.68331513e-01,\n",
              "       -9.36728595e-01, -1.09256112e+00,  2.33575448e+00,  1.24492679e+00,\n",
              "       -8.84784420e-01,  6.21596678e-01, -1.26137969e+00, -8.71798376e-01,\n",
              "       -8.19854200e-01, -1.57304475e+00, -3.00412442e-01, -8.97770464e-01,\n",
              "        1.59554997e+00, -1.13151925e+00,  5.95624590e-01,  1.08909426e+00,\n",
              "        1.30985701e+00, -3.65342662e-01, -1.40422618e+00,  2.57987448e-01,\n",
              "       -4.95203101e-01, -1.31593871e-01, -5.60133321e-01,  3.61875799e-01,\n",
              "       -1.05621783e-01,  1.41113052e-01, -6.66636509e-02, -7.15965848e-01,\n",
              "        8.81317557e-01,  4.91736239e-01, -5.60133321e-01,  5.04722283e-01,\n",
              "       -3.91314750e-01,  1.01117800e+00,  1.16701052e+00,  1.24492679e+00,\n",
              "        1.25791283e+00,  5.17708327e-01, -2.74440354e-01,  1.10208030e+00,\n",
              "       -9.62700683e-01, -2.22496178e-01,  1.19298261e+00,  6.08610634e-01,\n",
              "        1.53061975e+00,  1.54099096e-01, -1.04061695e+00, -7.28951892e-01,\n",
              "        1.99811734e+00, -7.93882112e-01,  8.03401293e-01, -7.41937936e-01,\n",
              "        8.29373381e-01,  1.43971745e+00,  3.35903711e-01, -5.08189145e-01,\n",
              "        6.21596678e-01, -1.70552003e-01, -1.70552003e-01, -8.32840244e-01,\n",
              "       -5.36776070e-02, -8.32840244e-01,  1.17999657e+00, -1.05360299e+00,\n",
              "       -9.75686727e-01, -5.60133321e-01,  1.55659184e+00, -1.19644947e+00,\n",
              "       -1.27436574e+00,  8.94303601e-01, -8.06868156e-01,  2.06304756e+00,\n",
              "        1.67346624e+00,  3.87847887e-01,  2.19290800e+00, -1.22242156e+00,\n",
              "        1.42673140e+00,  6.99512942e-01,  1.05013613e+00,  1.16701052e+00,\n",
              "       -3.78328706e-01,  1.93057228e-01, -1.15749134e+00,  5.82638546e-01,\n",
              "       -1.05360299e+00,  2.06043272e-01, -1.57565959e-01,  8.42359425e-01,\n",
              "       -4.04300794e-01,  1.07610822e+00,  1.20596866e+00, -1.45617035e+00,\n",
              "       -1.30033783e+00, -6.25063541e-01, -2.61454310e-01, -8.32840244e-01,\n",
              "       -1.07957508e+00,  8.68331513e-01, -1.04061695e+00,  6.34582722e-01,\n",
              "       -5.47147277e-01, -1.31332387e+00,  1.62152206e+00, -1.15749134e+00,\n",
              "       -4.43258925e-01, -1.07957508e+00,  1.56957789e+00,  1.37478723e+00,\n",
              "       -1.41721222e+00,  5.95624590e-01,  1.16701052e+00,  1.03715008e+00,\n",
              "        2.96945580e-01, -7.67910024e-01,  2.06043272e-01,  1.59554997e+00,\n",
              "        1.82929877e+00,  1.67346624e+00, -1.04061695e+00, -1.57565959e-01,\n",
              "        4.78750195e-01,  3.74861843e-01,  7.38471074e-01, -2.09510134e-01,\n",
              "        1.41374536e+00, -5.08189145e-01, -2.74440354e-01,  2.83959536e-01,\n",
              "        1.36180118e+00, -1.26137969e+00, -8.84784420e-01, -1.43019827e+00,\n",
              "       -7.96496949e-02,  7.77429206e-01,  1.05013613e+00, -7.93882112e-01,\n",
              "       -5.34161233e-01, -1.73343121e-03, -4.17286837e-01, -1.10554717e+00,\n",
              "        2.05006151e+00, -7.54923980e-01,  4.00833931e-01, -1.11853321e+00,\n",
              "        2.70973492e-01, -1.04061695e+00, -1.33929596e+00, -1.14450530e+00,\n",
              "       -1.35228200e+00,  3.35903711e-01, -6.25063541e-01, -2.61454310e-01,\n",
              "        8.81317557e-01, -1.23540761e+00])"
            ]
          },
          "metadata": {},
          "execution_count": 10
        }
      ],
      "source": [
        "# Normalise the target data (this will make clearer training curves)\n",
        "#restamos promedio y dividimos entre desviacion estandar\n",
        "targets=(targets-targets.mean(axis=0))/targets.std()\n",
        "targets"
      ]
    },
    {
      "cell_type": "code",
      "execution_count": 12,
      "metadata": {
        "colab": {
          "base_uri": "https://localhost:8080/"
        },
        "id": "bmgvx70RGcxk",
        "outputId": "3b43d686-7287-4400-a671-1ffe508c5d56"
      },
      "outputs": [
        {
          "output_type": "stream",
          "name": "stdout",
          "text": [
            "(397, 10)\n",
            "(45, 10)\n",
            "(397,)\n",
            "(45,)\n"
          ]
        }
      ],
      "source": [
        "# Split the data into train and test sets\n",
        "from sklearn.model_selection import train_test_split\n",
        "\n",
        "train_data, test_data, train_targets, test_targets=train_test_split(data,targets,test_size=0.1)\n",
        "\n",
        "print(train_data.shape)\n",
        "print(test_data.shape)\n",
        "print(train_targets.shape)\n",
        "print(test_targets.shape)"
      ]
    },
    {
      "cell_type": "markdown",
      "metadata": {
        "id": "zcRGjsufGcxo"
      },
      "source": [
        "#### Train a feedforward neural network model"
      ]
    },
    {
      "cell_type": "code",
      "execution_count": 13,
      "metadata": {
        "id": "94JIZ7f9Gcxr"
      },
      "outputs": [],
      "source": [
        "# Build the model\n",
        "\n",
        "from tensorflow.keras.models import Sequential\n",
        "from tensorflow.keras.layers import Dense\n",
        "\n",
        "#definiendo fincion que devuelve modelo\n",
        "\n",
        "def get_model():\n",
        "  model=Sequential([\n",
        "      Dense(128,activation='relu',input_shape=(train_data.shape[1],)),\n",
        "      Dense(128,activation='relu'),\n",
        "      Dense(128,activation='relu'),\n",
        "      Dense(128,activation='relu'),\n",
        "      Dense(128,activation='relu'),\n",
        "      Dense(128,activation='relu'),\n",
        "      Dense(1)\n",
        "\n",
        "  ])\n",
        "  return model\n",
        "\n",
        "#instanciando un modelo\n",
        "model=get_model()  "
      ]
    },
    {
      "cell_type": "code",
      "execution_count": 14,
      "metadata": {
        "colab": {
          "base_uri": "https://localhost:8080/"
        },
        "id": "PnC0Klx9Gcxu",
        "outputId": "40e232fc-cdd2-474b-d738-96d2659b3c3e"
      },
      "outputs": [
        {
          "output_type": "stream",
          "name": "stdout",
          "text": [
            "Model: \"sequential\"\n",
            "_________________________________________________________________\n",
            " Layer (type)                Output Shape              Param #   \n",
            "=================================================================\n",
            " dense (Dense)               (None, 128)               1408      \n",
            "                                                                 \n",
            " dense_1 (Dense)             (None, 128)               16512     \n",
            "                                                                 \n",
            " dense_2 (Dense)             (None, 128)               16512     \n",
            "                                                                 \n",
            " dense_3 (Dense)             (None, 128)               16512     \n",
            "                                                                 \n",
            " dense_4 (Dense)             (None, 128)               16512     \n",
            "                                                                 \n",
            " dense_5 (Dense)             (None, 128)               16512     \n",
            "                                                                 \n",
            " dense_6 (Dense)             (None, 1)                 129       \n",
            "                                                                 \n",
            "=================================================================\n",
            "Total params: 84,097\n",
            "Trainable params: 84,097\n",
            "Non-trainable params: 0\n",
            "_________________________________________________________________\n"
          ]
        }
      ],
      "source": [
        "# Print the model summary\n",
        "\n",
        "model.summary()"
      ]
    },
    {
      "cell_type": "code",
      "execution_count": 18,
      "metadata": {
        "id": "9gP11xfPGcxv"
      },
      "outputs": [],
      "source": [
        "# Compile the model\n",
        "model.compile(optimizer='adam',loss='mse',metrics=['mae'])"
      ]
    },
    {
      "cell_type": "code",
      "execution_count": null,
      "metadata": {
        "id": "8AT1nysiGcxx"
      },
      "outputs": [],
      "source": [
        "# Train the model, with some of the data reserved for validation\n",
        "#tomamos porcentanje de datos de entrenamiento como validacion en este caso el 15%\n",
        "history=model.fit(train_data,train_targets,epochs=100,validation_split=0.15,batch_size=64)\n",
        "\n",
        "#si tenemos conjunto de vaidacion destinado podemos asignarlo como \n",
        "#history=model.fit(train_data,train_targets,epochs=100,validation_data=(x_valida,y_valida),batch_size=64)"
      ]
    },
    {
      "cell_type": "code",
      "execution_count": 20,
      "metadata": {
        "colab": {
          "base_uri": "https://localhost:8080/"
        },
        "id": "ZosG0yOeGcxy",
        "outputId": "3b136736-f5b6-4201-9cf9-cb1160d90b09"
      },
      "outputs": [
        {
          "output_type": "stream",
          "name": "stdout",
          "text": [
            "2/2 - 0s - loss: 0.7220 - mae: 0.6374 - 26ms/epoch - 13ms/step\n"
          ]
        },
        {
          "output_type": "execute_result",
          "data": {
            "text/plain": [
              "[0.7219711542129517, 0.6374067664146423]"
            ]
          },
          "metadata": {},
          "execution_count": 20
        }
      ],
      "source": [
        "# Evaluate the model on the test set\n",
        "\n",
        "model.evaluate(test_data,test_targets,verbose=2)"
      ]
    },
    {
      "cell_type": "markdown",
      "metadata": {
        "id": "8tkdpqk_Gcx1"
      },
      "source": [
        "#### Plot the learning curves"
      ]
    },
    {
      "cell_type": "code",
      "execution_count": 21,
      "metadata": {
        "id": "tLPqjb7lGcx3"
      },
      "outputs": [],
      "source": [
        "import matplotlib.pyplot as plt\n",
        "%matplotlib inline"
      ]
    },
    {
      "cell_type": "code",
      "execution_count": 22,
      "metadata": {
        "colab": {
          "base_uri": "https://localhost:8080/",
          "height": 295
        },
        "id": "ERsf8OZPGcx6",
        "outputId": "fc476862-6acf-49db-ca56-b75c3c4d5b5e"
      },
      "outputs": [
        {
          "output_type": "display_data",
          "data": {
            "text/plain": [
              "<Figure size 432x288 with 1 Axes>"
            ],
            "image/png": "[encoded data removed]"
          },
          "metadata": {
            "needs_background": "light"
          }
        }
      ],
      "source": [
        "# Plot the training and validation loss\n",
        "#perdida\n",
        "plt.plot(history.history['loss'])\n",
        "#perdida en el conjunto de validacion\n",
        "plt.plot(history.history['val_loss'])\n",
        "plt.title('Loss vs. epochs')\n",
        "plt.ylabel('Loss')\n",
        "plt.xlabel('Epoch')\n",
        "plt.legend(['Training', 'Validation'], loc='upper right')\n",
        "plt.show()"
      ]
    },
    {
      "cell_type": "markdown",
      "metadata": {
        "id": "q1h2nNj_Gcx8"
      },
      "source": [
        "***\n",
        "<a id=\"coding_tutorial_2\"></a>\n",
        "## Model regularisation"
      ]
    },
    {
      "cell_type": "markdown",
      "source": [
        "Son tecnicas que se ocupan para prevenir el sobre ajuste en los modelos, se puede usar regularizacion l1 o l2 conocido como decaida de pesos que consta en agregar una penalizacion a la funcion de costo para evitar que sobre ajuste o el \"dropout\" que consta en la desactivacion aleatoria de neuronas durante el entrenamiento pero no durante la predicción.\n",
        "\n",
        "$\\displaystyle L(\\overline{x})+\\lambda\\sum \\beta_i ^2\\text{ L2}$\n",
        "\n",
        "$\\displaystyle L(\\overline{x})+\\lambda\\sum |\\beta_i| \\text{ L1}$"
      ],
      "metadata": {
        "id": "eypKxwsBTFw_"
      }
    },
    {
      "cell_type": "markdown",
      "metadata": {
        "id": "Q1yyaNSOGcx9"
      },
      "source": [
        "#### Adding regularisation with weight decay and dropout"
      ]
    },
    {
      "cell_type": "code",
      "execution_count": 23,
      "metadata": {
        "id": "dRZ3HvcIGcx_"
      },
      "outputs": [],
      "source": [
        "#capa que agrega dropout\n",
        "from tensorflow.keras.layers import Dropout\n",
        "#importando los regularizadores \n",
        "from tensorflow.keras import regularizers"
      ]
    },
    {
      "cell_type": "code",
      "execution_count": 24,
      "metadata": {
        "id": "EEXgZebZGcyC"
      },
      "outputs": [],
      "source": [
        "#agregar regularizacion se hace en el modelo y automaticamente se agrega a la funcion de perdida:\n",
        "\n",
        "#agregando l1\n",
        "#Dense(128,kernel_regularizer=regularizers.l1(0.001), activation=\"relu\")\n",
        "\n",
        "#agregando l2\n",
        "#Dense(128,kernel_regularizer=regularizers.l2(0.001), activation=\"relu\")\n",
        "\n",
        "#agregando l1 y l2\n",
        "#Dense(128,kernel_regularizer=regularizers.l1_l2(0.001), activation=\"relu\")\n",
        "\n",
        "#agregando dropout con probabilidad p de desactivarse conexion de capas, dropout es otra capa que se agrega al modelo\n",
        "#automaticamente se activa al entrenar y se desactiva al predecir\n",
        "#Dropout(p)\n",
        "\n",
        "#funcion que da modelo regularizado\n",
        "def get_regularised_model(wd, rate):\n",
        "    model = Sequential([\n",
        "        Dense(128, activation=\"relu\",kernel_regularizer=regularizers.l2(wd), input_shape=(train_data.shape[1],)),\n",
        "        Dropout(rate),\n",
        "        Dense(128, activation=\"relu\",kernel_regularizer=regularizers.l2(wd)),\n",
        "        Dropout(rate),\n",
        "        Dense(128, activation=\"relu\",kernel_regularizer=regularizers.l2(wd)),\n",
        "        Dropout(rate),\n",
        "        Dense(128, activation=\"relu\",kernel_regularizer=regularizers.l2(wd)),\n",
        "        Dropout(rate),\n",
        "        Dense(128, activation=\"relu\",kernel_regularizer=regularizers.l2(wd)),\n",
        "        Dropout(rate),\n",
        "        Dense(128, activation=\"relu\",kernel_regularizer=regularizers.l2(wd)),\n",
        "        Dropout(rate),\n",
        "        Dense(1)\n",
        "    ])\n",
        "    return model"
      ]
    },
    {
      "cell_type": "code",
      "execution_count": 25,
      "metadata": {
        "colab": {
          "base_uri": "https://localhost:8080/"
        },
        "id": "e1uPvhm2GcyD",
        "outputId": "beccc69b-4804-4643-a397-588c3bc5171c"
      },
      "outputs": [
        {
          "output_type": "stream",
          "name": "stdout",
          "text": [
            "Model: \"sequential_1\"\n",
            "_________________________________________________________________\n",
            " Layer (type)                Output Shape              Param #   \n",
            "=================================================================\n",
            " dense_7 (Dense)             (None, 128)               1408      \n",
            "                                                                 \n",
            " dropout (Dropout)           (None, 128)               0         \n",
            "                                                                 \n",
            " dense_8 (Dense)             (None, 128)               16512     \n",
            "                                                                 \n",
            " dropout_1 (Dropout)         (None, 128)               0         \n",
            "                                                                 \n",
            " dense_9 (Dense)             (None, 128)               16512     \n",
            "                                                                 \n",
            " dropout_2 (Dropout)         (None, 128)               0         \n",
            "                                                                 \n",
            " dense_10 (Dense)            (None, 128)               16512     \n",
            "                                                                 \n",
            " dropout_3 (Dropout)         (None, 128)               0         \n",
            "                                                                 \n",
            " dense_11 (Dense)            (None, 128)               16512     \n",
            "                                                                 \n",
            " dropout_4 (Dropout)         (None, 128)               0         \n",
            "                                                                 \n",
            " dense_12 (Dense)            (None, 128)               16512     \n",
            "                                                                 \n",
            " dropout_5 (Dropout)         (None, 128)               0         \n",
            "                                                                 \n",
            " dense_13 (Dense)            (None, 1)                 129       \n",
            "                                                                 \n",
            "=================================================================\n",
            "Total params: 84,097\n",
            "Trainable params: 84,097\n",
            "Non-trainable params: 0\n",
            "_________________________________________________________________\n"
          ]
        }
      ],
      "source": [
        "# Re-build the model with weight decay and dropout layers\n",
        "model=get_regularised_model(1e-5,0.3)\n",
        "model.summary()"
      ]
    },
    {
      "cell_type": "code",
      "execution_count": 26,
      "metadata": {
        "id": "ZWJ9Ab7IGcyF"
      },
      "outputs": [],
      "source": [
        "# Compile the model\n",
        "model.compile(optimizer='adam',loss='mse',metrics=['mae'])"
      ]
    },
    {
      "cell_type": "code",
      "execution_count": 27,
      "metadata": {
        "colab": {
          "base_uri": "https://localhost:8080/"
        },
        "id": "raKlF1H5GcyH",
        "outputId": "88d4e0fd-199b-4334-b76c-1e5697404edb"
      },
      "outputs": [
        {
          "output_type": "stream",
          "name": "stdout",
          "text": [
            "Epoch 1/100\n",
            "6/6 - 2s - loss: 1.0647 - mae: 0.8751 - val_loss: 0.6681 - val_mae: 0.7074 - 2s/epoch - 390ms/step\n",
            "Epoch 2/100\n",
            "6/6 - 0s - loss: 1.0515 - mae: 0.8705 - val_loss: 0.6425 - val_mae: 0.6906 - 80ms/epoch - 13ms/step\n",
            "Epoch 3/100\n",
            "6/6 - 0s - loss: 1.0023 - mae: 0.8505 - val_loss: 0.5721 - val_mae: 0.6361 - 88ms/epoch - 15ms/step\n",
            "Epoch 4/100\n",
            "6/6 - 0s - loss: 0.8676 - mae: 0.7826 - val_loss: 0.4988 - val_mae: 0.5642 - 85ms/epoch - 14ms/step\n",
            "Epoch 5/100\n",
            "6/6 - 0s - loss: 0.7748 - mae: 0.7198 - val_loss: 0.4832 - val_mae: 0.5748 - 75ms/epoch - 12ms/step\n",
            "Epoch 6/100\n",
            "6/6 - 0s - loss: 0.6851 - mae: 0.6889 - val_loss: 0.5623 - val_mae: 0.5909 - 115ms/epoch - 19ms/step\n",
            "Epoch 7/100\n",
            "6/6 - 0s - loss: 0.6450 - mae: 0.6417 - val_loss: 0.5184 - val_mae: 0.5513 - 89ms/epoch - 15ms/step\n",
            "Epoch 8/100\n",
            "6/6 - 0s - loss: 0.5707 - mae: 0.6174 - val_loss: 0.5238 - val_mae: 0.5399 - 79ms/epoch - 13ms/step\n",
            "Epoch 9/100\n",
            "6/6 - 0s - loss: 0.6217 - mae: 0.6447 - val_loss: 0.5218 - val_mae: 0.5429 - 88ms/epoch - 15ms/step\n",
            "Epoch 10/100\n",
            "6/6 - 0s - loss: 0.5691 - mae: 0.6205 - val_loss: 0.5088 - val_mae: 0.5380 - 95ms/epoch - 16ms/step\n",
            "Epoch 11/100\n",
            "6/6 - 0s - loss: 0.5657 - mae: 0.6073 - val_loss: 0.5209 - val_mae: 0.5381 - 98ms/epoch - 16ms/step\n",
            "Epoch 12/100\n",
            "6/6 - 0s - loss: 0.5454 - mae: 0.6021 - val_loss: 0.4714 - val_mae: 0.5316 - 113ms/epoch - 19ms/step\n",
            "Epoch 13/100\n",
            "6/6 - 0s - loss: 0.5480 - mae: 0.6230 - val_loss: 0.4724 - val_mae: 0.5275 - 84ms/epoch - 14ms/step\n",
            "Epoch 14/100\n",
            "6/6 - 0s - loss: 0.5518 - mae: 0.5930 - val_loss: 0.5042 - val_mae: 0.5361 - 96ms/epoch - 16ms/step\n",
            "Epoch 15/100\n",
            "6/6 - 0s - loss: 0.5379 - mae: 0.5911 - val_loss: 0.4891 - val_mae: 0.5361 - 85ms/epoch - 14ms/step\n",
            "Epoch 16/100\n",
            "6/6 - 0s - loss: 0.5535 - mae: 0.6114 - val_loss: 0.4634 - val_mae: 0.5196 - 99ms/epoch - 16ms/step\n",
            "Epoch 17/100\n",
            "6/6 - 0s - loss: 0.5532 - mae: 0.6149 - val_loss: 0.4674 - val_mae: 0.5216 - 100ms/epoch - 17ms/step\n",
            "Epoch 18/100\n",
            "6/6 - 0s - loss: 0.5320 - mae: 0.5958 - val_loss: 0.4853 - val_mae: 0.5276 - 87ms/epoch - 14ms/step\n",
            "Epoch 19/100\n",
            "6/6 - 0s - loss: 0.5030 - mae: 0.5757 - val_loss: 0.4885 - val_mae: 0.5298 - 81ms/epoch - 14ms/step\n",
            "Epoch 20/100\n",
            "6/6 - 0s - loss: 0.5090 - mae: 0.5782 - val_loss: 0.4912 - val_mae: 0.5307 - 78ms/epoch - 13ms/step\n",
            "Epoch 21/100\n",
            "6/6 - 0s - loss: 0.5018 - mae: 0.5774 - val_loss: 0.4881 - val_mae: 0.5280 - 79ms/epoch - 13ms/step\n",
            "Epoch 22/100\n",
            "6/6 - 0s - loss: 0.5069 - mae: 0.5740 - val_loss: 0.4893 - val_mae: 0.5298 - 79ms/epoch - 13ms/step\n",
            "Epoch 23/100\n",
            "6/6 - 0s - loss: 0.4867 - mae: 0.5585 - val_loss: 0.4948 - val_mae: 0.5326 - 83ms/epoch - 14ms/step\n",
            "Epoch 24/100\n",
            "6/6 - 0s - loss: 0.5044 - mae: 0.5871 - val_loss: 0.4739 - val_mae: 0.5247 - 82ms/epoch - 14ms/step\n",
            "Epoch 25/100\n",
            "6/6 - 0s - loss: 0.4754 - mae: 0.5563 - val_loss: 0.5180 - val_mae: 0.5467 - 108ms/epoch - 18ms/step\n",
            "Epoch 26/100\n",
            "6/6 - 0s - loss: 0.4886 - mae: 0.5724 - val_loss: 0.5070 - val_mae: 0.5397 - 87ms/epoch - 15ms/step\n",
            "Epoch 27/100\n",
            "6/6 - 0s - loss: 0.4708 - mae: 0.5444 - val_loss: 0.4811 - val_mae: 0.5330 - 75ms/epoch - 12ms/step\n",
            "Epoch 28/100\n",
            "6/6 - 0s - loss: 0.5029 - mae: 0.5801 - val_loss: 0.4775 - val_mae: 0.5326 - 85ms/epoch - 14ms/step\n",
            "Epoch 29/100\n",
            "6/6 - 0s - loss: 0.4961 - mae: 0.5794 - val_loss: 0.4913 - val_mae: 0.5353 - 95ms/epoch - 16ms/step\n",
            "Epoch 30/100\n",
            "6/6 - 0s - loss: 0.4866 - mae: 0.5635 - val_loss: 0.4883 - val_mae: 0.5300 - 65ms/epoch - 11ms/step\n",
            "Epoch 31/100\n",
            "6/6 - 0s - loss: 0.4810 - mae: 0.5673 - val_loss: 0.4901 - val_mae: 0.5312 - 64ms/epoch - 11ms/step\n",
            "Epoch 32/100\n",
            "6/6 - 0s - loss: 0.4894 - mae: 0.5594 - val_loss: 0.5095 - val_mae: 0.5399 - 55ms/epoch - 9ms/step\n",
            "Epoch 33/100\n",
            "6/6 - 0s - loss: 0.4809 - mae: 0.5576 - val_loss: 0.5008 - val_mae: 0.5335 - 57ms/epoch - 10ms/step\n",
            "Epoch 34/100\n",
            "6/6 - 0s - loss: 0.4636 - mae: 0.5522 - val_loss: 0.4526 - val_mae: 0.5144 - 59ms/epoch - 10ms/step\n",
            "Epoch 35/100\n",
            "6/6 - 0s - loss: 0.4764 - mae: 0.5644 - val_loss: 0.4923 - val_mae: 0.5331 - 55ms/epoch - 9ms/step\n",
            "Epoch 36/100\n",
            "6/6 - 0s - loss: 0.4383 - mae: 0.5367 - val_loss: 0.4560 - val_mae: 0.5157 - 52ms/epoch - 9ms/step\n",
            "Epoch 37/100\n",
            "6/6 - 0s - loss: 0.4699 - mae: 0.5545 - val_loss: 0.4709 - val_mae: 0.5245 - 80ms/epoch - 13ms/step\n",
            "Epoch 38/100\n",
            "6/6 - 0s - loss: 0.4599 - mae: 0.5411 - val_loss: 0.4505 - val_mae: 0.5134 - 53ms/epoch - 9ms/step\n",
            "Epoch 39/100\n",
            "6/6 - 0s - loss: 0.4643 - mae: 0.5621 - val_loss: 0.4832 - val_mae: 0.5288 - 52ms/epoch - 9ms/step\n",
            "Epoch 40/100\n",
            "6/6 - 0s - loss: 0.4792 - mae: 0.5390 - val_loss: 0.4908 - val_mae: 0.5287 - 62ms/epoch - 10ms/step\n",
            "Epoch 41/100\n",
            "6/6 - 0s - loss: 0.4880 - mae: 0.5638 - val_loss: 0.4753 - val_mae: 0.5178 - 53ms/epoch - 9ms/step\n",
            "Epoch 42/100\n",
            "6/6 - 0s - loss: 0.4475 - mae: 0.5408 - val_loss: 0.4939 - val_mae: 0.5318 - 54ms/epoch - 9ms/step\n",
            "Epoch 43/100\n",
            "6/6 - 0s - loss: 0.4483 - mae: 0.5159 - val_loss: 0.4652 - val_mae: 0.5185 - 63ms/epoch - 10ms/step\n",
            "Epoch 44/100\n",
            "6/6 - 0s - loss: 0.4328 - mae: 0.5302 - val_loss: 0.4478 - val_mae: 0.5083 - 63ms/epoch - 11ms/step\n",
            "Epoch 45/100\n",
            "6/6 - 0s - loss: 0.4150 - mae: 0.5209 - val_loss: 0.4582 - val_mae: 0.5122 - 56ms/epoch - 9ms/step\n",
            "Epoch 46/100\n",
            "6/6 - 0s - loss: 0.4881 - mae: 0.5663 - val_loss: 0.4915 - val_mae: 0.5315 - 55ms/epoch - 9ms/step\n",
            "Epoch 47/100\n",
            "6/6 - 0s - loss: 0.4168 - mae: 0.5209 - val_loss: 0.4772 - val_mae: 0.5200 - 56ms/epoch - 9ms/step\n",
            "Epoch 48/100\n",
            "6/6 - 0s - loss: 0.4446 - mae: 0.5386 - val_loss: 0.4884 - val_mae: 0.5248 - 60ms/epoch - 10ms/step\n",
            "Epoch 49/100\n",
            "6/6 - 0s - loss: 0.4387 - mae: 0.5345 - val_loss: 0.5064 - val_mae: 0.5429 - 56ms/epoch - 9ms/step\n",
            "Epoch 50/100\n",
            "6/6 - 0s - loss: 0.4319 - mae: 0.5302 - val_loss: 0.4966 - val_mae: 0.5340 - 53ms/epoch - 9ms/step\n",
            "Epoch 51/100\n",
            "6/6 - 0s - loss: 0.4319 - mae: 0.5340 - val_loss: 0.4536 - val_mae: 0.5156 - 56ms/epoch - 9ms/step\n",
            "Epoch 52/100\n",
            "6/6 - 0s - loss: 0.4082 - mae: 0.5129 - val_loss: 0.4743 - val_mae: 0.5275 - 63ms/epoch - 10ms/step\n",
            "Epoch 53/100\n",
            "6/6 - 0s - loss: 0.3998 - mae: 0.4994 - val_loss: 0.5068 - val_mae: 0.5320 - 53ms/epoch - 9ms/step\n",
            "Epoch 54/100\n",
            "6/6 - 0s - loss: 0.4464 - mae: 0.5270 - val_loss: 0.4767 - val_mae: 0.5123 - 54ms/epoch - 9ms/step\n",
            "Epoch 55/100\n",
            "6/6 - 0s - loss: 0.4301 - mae: 0.5362 - val_loss: 0.4501 - val_mae: 0.5075 - 62ms/epoch - 10ms/step\n",
            "Epoch 56/100\n",
            "6/6 - 0s - loss: 0.4055 - mae: 0.5141 - val_loss: 0.4706 - val_mae: 0.5191 - 54ms/epoch - 9ms/step\n",
            "Epoch 57/100\n",
            "6/6 - 0s - loss: 0.4430 - mae: 0.5340 - val_loss: 0.5053 - val_mae: 0.5365 - 53ms/epoch - 9ms/step\n",
            "Epoch 58/100\n",
            "6/6 - 0s - loss: 0.4204 - mae: 0.5295 - val_loss: 0.4719 - val_mae: 0.5227 - 58ms/epoch - 10ms/step\n",
            "Epoch 59/100\n",
            "6/6 - 0s - loss: 0.4303 - mae: 0.5291 - val_loss: 0.4599 - val_mae: 0.5167 - 52ms/epoch - 9ms/step\n",
            "Epoch 60/100\n",
            "6/6 - 0s - loss: 0.4437 - mae: 0.5371 - val_loss: 0.4677 - val_mae: 0.5158 - 64ms/epoch - 11ms/step\n",
            "Epoch 61/100\n",
            "6/6 - 0s - loss: 0.4243 - mae: 0.5210 - val_loss: 0.4560 - val_mae: 0.5092 - 59ms/epoch - 10ms/step\n",
            "Epoch 62/100\n",
            "6/6 - 0s - loss: 0.4352 - mae: 0.5356 - val_loss: 0.4373 - val_mae: 0.5084 - 53ms/epoch - 9ms/step\n",
            "Epoch 63/100\n",
            "6/6 - 0s - loss: 0.4342 - mae: 0.5307 - val_loss: 0.4921 - val_mae: 0.5324 - 54ms/epoch - 9ms/step\n",
            "Epoch 64/100\n",
            "6/6 - 0s - loss: 0.4446 - mae: 0.5283 - val_loss: 0.4470 - val_mae: 0.5104 - 64ms/epoch - 11ms/step\n",
            "Epoch 65/100\n",
            "6/6 - 0s - loss: 0.4308 - mae: 0.5379 - val_loss: 0.4337 - val_mae: 0.5028 - 59ms/epoch - 10ms/step\n",
            "Epoch 66/100\n",
            "6/6 - 0s - loss: 0.4087 - mae: 0.5180 - val_loss: 0.5063 - val_mae: 0.5390 - 55ms/epoch - 9ms/step\n",
            "Epoch 67/100\n",
            "6/6 - 0s - loss: 0.4082 - mae: 0.4948 - val_loss: 0.4809 - val_mae: 0.5181 - 65ms/epoch - 11ms/step\n",
            "Epoch 68/100\n",
            "6/6 - 0s - loss: 0.4078 - mae: 0.5040 - val_loss: 0.4660 - val_mae: 0.5155 - 56ms/epoch - 9ms/step\n",
            "Epoch 69/100\n",
            "6/6 - 0s - loss: 0.4119 - mae: 0.5125 - val_loss: 0.4419 - val_mae: 0.5034 - 53ms/epoch - 9ms/step\n",
            "Epoch 70/100\n",
            "6/6 - 0s - loss: 0.3972 - mae: 0.5087 - val_loss: 0.4768 - val_mae: 0.5158 - 66ms/epoch - 11ms/step\n",
            "Epoch 71/100\n",
            "6/6 - 0s - loss: 0.4030 - mae: 0.5089 - val_loss: 0.4753 - val_mae: 0.5126 - 72ms/epoch - 12ms/step\n",
            "Epoch 72/100\n",
            "6/6 - 0s - loss: 0.3921 - mae: 0.4989 - val_loss: 0.4472 - val_mae: 0.4990 - 61ms/epoch - 10ms/step\n",
            "Epoch 73/100\n",
            "6/6 - 0s - loss: 0.3960 - mae: 0.5125 - val_loss: 0.4643 - val_mae: 0.5032 - 71ms/epoch - 12ms/step\n",
            "Epoch 74/100\n",
            "6/6 - 0s - loss: 0.3896 - mae: 0.4941 - val_loss: 0.4496 - val_mae: 0.5034 - 53ms/epoch - 9ms/step\n",
            "Epoch 75/100\n",
            "6/6 - 0s - loss: 0.4429 - mae: 0.5314 - val_loss: 0.4454 - val_mae: 0.5050 - 60ms/epoch - 10ms/step\n",
            "Epoch 76/100\n",
            "6/6 - 0s - loss: 0.4029 - mae: 0.5232 - val_loss: 0.4383 - val_mae: 0.4988 - 83ms/epoch - 14ms/step\n",
            "Epoch 77/100\n",
            "6/6 - 0s - loss: 0.3914 - mae: 0.4984 - val_loss: 0.4396 - val_mae: 0.4997 - 54ms/epoch - 9ms/step\n",
            "Epoch 78/100\n",
            "6/6 - 0s - loss: 0.3964 - mae: 0.5020 - val_loss: 0.4589 - val_mae: 0.5079 - 64ms/epoch - 11ms/step\n",
            "Epoch 79/100\n",
            "6/6 - 0s - loss: 0.3910 - mae: 0.4962 - val_loss: 0.4476 - val_mae: 0.4988 - 56ms/epoch - 9ms/step\n",
            "Epoch 80/100\n",
            "6/6 - 0s - loss: 0.3960 - mae: 0.4991 - val_loss: 0.4771 - val_mae: 0.5210 - 56ms/epoch - 9ms/step\n",
            "Epoch 81/100\n",
            "6/6 - 0s - loss: 0.4057 - mae: 0.5044 - val_loss: 0.4306 - val_mae: 0.4947 - 62ms/epoch - 10ms/step\n",
            "Epoch 82/100\n",
            "6/6 - 0s - loss: 0.3789 - mae: 0.4943 - val_loss: 0.4318 - val_mae: 0.5006 - 54ms/epoch - 9ms/step\n",
            "Epoch 83/100\n",
            "6/6 - 0s - loss: 0.3705 - mae: 0.4915 - val_loss: 0.4646 - val_mae: 0.5104 - 54ms/epoch - 9ms/step\n",
            "Epoch 84/100\n",
            "6/6 - 0s - loss: 0.3897 - mae: 0.4918 - val_loss: 0.4522 - val_mae: 0.5014 - 56ms/epoch - 9ms/step\n",
            "Epoch 85/100\n",
            "6/6 - 0s - loss: 0.3797 - mae: 0.4997 - val_loss: 0.4211 - val_mae: 0.4906 - 78ms/epoch - 13ms/step\n",
            "Epoch 86/100\n",
            "6/6 - 0s - loss: 0.3552 - mae: 0.4748 - val_loss: 0.4558 - val_mae: 0.5040 - 53ms/epoch - 9ms/step\n",
            "Epoch 87/100\n",
            "6/6 - 0s - loss: 0.3712 - mae: 0.4843 - val_loss: 0.4881 - val_mae: 0.5246 - 65ms/epoch - 11ms/step\n",
            "Epoch 88/100\n",
            "6/6 - 0s - loss: 0.3834 - mae: 0.4779 - val_loss: 0.4341 - val_mae: 0.5079 - 53ms/epoch - 9ms/step\n",
            "Epoch 89/100\n",
            "6/6 - 0s - loss: 0.3914 - mae: 0.5118 - val_loss: 0.4639 - val_mae: 0.5169 - 54ms/epoch - 9ms/step\n",
            "Epoch 90/100\n",
            "6/6 - 0s - loss: 0.3990 - mae: 0.4977 - val_loss: 0.4728 - val_mae: 0.5180 - 57ms/epoch - 10ms/step\n",
            "Epoch 91/100\n",
            "6/6 - 0s - loss: 0.3400 - mae: 0.4652 - val_loss: 0.4399 - val_mae: 0.5001 - 57ms/epoch - 9ms/step\n",
            "Epoch 92/100\n",
            "6/6 - 0s - loss: 0.3827 - mae: 0.4897 - val_loss: 0.4723 - val_mae: 0.5226 - 62ms/epoch - 10ms/step\n",
            "Epoch 93/100\n",
            "6/6 - 0s - loss: 0.3587 - mae: 0.4673 - val_loss: 0.4687 - val_mae: 0.5163 - 56ms/epoch - 9ms/step\n",
            "Epoch 94/100\n",
            "6/6 - 0s - loss: 0.3547 - mae: 0.4783 - val_loss: 0.4584 - val_mae: 0.5076 - 53ms/epoch - 9ms/step\n",
            "Epoch 95/100\n",
            "6/6 - 0s - loss: 0.3583 - mae: 0.4799 - val_loss: 0.4369 - val_mae: 0.4966 - 67ms/epoch - 11ms/step\n",
            "Epoch 96/100\n",
            "6/6 - 0s - loss: 0.3872 - mae: 0.4958 - val_loss: 0.4543 - val_mae: 0.5051 - 75ms/epoch - 13ms/step\n",
            "Epoch 97/100\n",
            "6/6 - 0s - loss: 0.3916 - mae: 0.4920 - val_loss: 0.4652 - val_mae: 0.5090 - 55ms/epoch - 9ms/step\n",
            "Epoch 98/100\n",
            "6/6 - 0s - loss: 0.3429 - mae: 0.4613 - val_loss: 0.4511 - val_mae: 0.4969 - 64ms/epoch - 11ms/step\n",
            "Epoch 99/100\n",
            "6/6 - 0s - loss: 0.3459 - mae: 0.4685 - val_loss: 0.4243 - val_mae: 0.4814 - 66ms/epoch - 11ms/step\n",
            "Epoch 100/100\n",
            "6/6 - 0s - loss: 0.3544 - mae: 0.4809 - val_loss: 0.4650 - val_mae: 0.5042 - 54ms/epoch - 9ms/step\n"
          ]
        }
      ],
      "source": [
        "# Train the model, with some of the data reserved for validation\n",
        "history=model.fit(train_data,train_targets,epochs=100,validation_split=0.15,batch_size=64,verbose=2)"
      ]
    },
    {
      "cell_type": "code",
      "execution_count": 28,
      "metadata": {
        "colab": {
          "base_uri": "https://localhost:8080/"
        },
        "id": "1Gna0nRKGcyI",
        "outputId": "81b36d08-c2a6-40f5-8d22-62d0ba7da068"
      },
      "outputs": [
        {
          "output_type": "stream",
          "name": "stdout",
          "text": [
            "2/2 - 0s - loss: 0.6184 - mae: 0.5677 - 105ms/epoch - 53ms/step\n"
          ]
        },
        {
          "output_type": "execute_result",
          "data": {
            "text/plain": [
              "[0.6184144616127014, 0.5676753520965576]"
            ]
          },
          "metadata": {},
          "execution_count": 28
        }
      ],
      "source": [
        "# Evaluate the model on the test set\n",
        "model.evaluate(test_data,test_targets,verbose=2)"
      ]
    },
    {
      "cell_type": "markdown",
      "metadata": {
        "id": "a8ydfEiPGcyJ"
      },
      "source": [
        "#### Plot the learning curves"
      ]
    },
    {
      "cell_type": "code",
      "execution_count": 29,
      "metadata": {
        "colab": {
          "base_uri": "https://localhost:8080/",
          "height": 295
        },
        "id": "RO9au1pwGcyJ",
        "outputId": "27095d1e-2d8a-4d96-9617-b867756bbb61"
      },
      "outputs": [
        {
          "output_type": "display_data",
          "data": {
            "text/plain": [
              "<Figure size 432x288 with 1 Axes>"
            ],
            "image/png": "[encoded data removed]"
          },
          "metadata": {
            "needs_background": "light"
          }
        }
      ],
      "source": [
        "# Plot the training and validation loss\n",
        "\n",
        "#note como las curvas en el conjunto de validacion se comporta mejor con regularizacion\n",
        "import matplotlib.pyplot as plt\n",
        "\n",
        "plt.plot(history.history['loss'])\n",
        "plt.plot(history.history['val_loss'])\n",
        "plt.title('Loss vs. epochs')\n",
        "plt.ylabel('Loss')\n",
        "plt.xlabel('Epoch')\n",
        "plt.legend(['Training', 'Validation'], loc='upper right')\n",
        "plt.show()"
      ]
    },
    {
      "cell_type": "markdown",
      "metadata": {
        "id": "u4G9-KTnGcyK"
      },
      "source": [
        "***\n",
        "<a id=\"coding_tutorial_3\"></a>\n",
        "## Introduction to callbacks"
      ]
    },
    {
      "cell_type": "markdown",
      "source": [
        "Sirven para dar cierta funcionalidad al entrenamiento, test(evaluacion) y prediccion del modelo de acuerdo a su desempeño durante este mismo, de acuerdo al desempeño de la funcion de perdida y de las metricas medidas durante el entrenamiento, tiene metodos que se pueden ejecutar:\n",
        "\n",
        " al inicio del entrenamiento\n",
        "\n",
        " al inicio de cada iteracion sobre el lote\n",
        "\n",
        " al final de la epoca\n",
        "\n",
        " etc\n",
        "\n",
        " se agregan a la hora de entrenar el modelo, history es un ejemplo de callback que se llama en cada iteracion y registra las metricas"
      ],
      "metadata": {
        "id": "WD6hfY7EyaeD"
      }
    },
    {
      "cell_type": "markdown",
      "metadata": {
        "id": "to4dxPnnGcyK"
      },
      "source": [
        "#### Example training callback"
      ]
    },
    {
      "cell_type": "code",
      "execution_count": 37,
      "metadata": {
        "id": "ynpVawPkGcyL"
      },
      "outputs": [],
      "source": [
        "# Write a custom callback\n",
        "\n",
        "#importamos de keras callback que usaremos para sonbreescribir la clase\n",
        "from tensorflow.keras.callbacks import Callback\n",
        "\n",
        "#sobre cargamos la clase para darle la funcionalidad que deseamos( pasamos la clase Callback como argumento)\n",
        "#así hereda la estructura y metodos\n",
        "\n",
        "#Callback de entrenamiento\n",
        "class TrainingCallback(Callback):\n",
        "  \n",
        "  #funcion que se ejecuta al inicio del entrenamiento\n",
        "  def on_train_begin(self,logs=None):\n",
        "    #solo imprimiremos algo pero se puede hacer lo que sea\n",
        "    print('empieza entrenamiento')\n",
        "\n",
        "  #funcion que se ejecuta al inicio de la epoca\n",
        "  def on_epoch_begin(self,epoch,logs=None):\n",
        "    #solo imprimiremos algo pero se puede hacer lo que sea\n",
        "    print(f\"empieza la epoca {epoch}\")\n",
        "\n",
        "  #funcion que se ejecuta al inicio de la iteracion sobre cada lote\n",
        "  def on_train_batch_begin(self,batch,logs=None):\n",
        "    #solo imprimiremos algo pero se puede hacer lo que sea\n",
        "    print(f\"comienza entrenamiento en el lote {batch}\")\n",
        "\n",
        "\n",
        "  #funcion que se ejecuta al final de la iteracion sobre cada lote\n",
        "  def on_train_batch_end(self,batch,logs=None):\n",
        "    #solo imprimiremos algo pero se puede hacer lo que sea\n",
        "    print(f\"finaliza entrenamiento en el lote {batch}\")\n",
        "\n",
        "\n",
        "  #funcion que se ejecuta al final de la epoca\n",
        "  def on_epoch_end(self,epoch,logs=None):\n",
        "    #solo imprimiremos algo pero se puede hacer lo que sea\n",
        "    print(f\"finaliza la epoca {epoch}\")\n",
        "\n",
        "  #funcion que se ejecuta al final del entrenamiento\n",
        "  def on_train_end(self,logs=None):\n",
        "    #solo imprimiremos algo pero se puede hacer lo que sea\n",
        "    print(f\"finalizo el entrenamiento\")              \n",
        "\n",
        "#Callback de test\n",
        "class TestCallback(Callback):\n",
        "  \n",
        "  #funcion que se ejecuta al inicio del entrenamiento\n",
        "  def on_test_begin(self,logs=None):\n",
        "    #solo imprimiremos algo pero se puede hacer lo que sea\n",
        "    print('empieza test')\n",
        "\n",
        "\n",
        "  #funcion que se ejecuta al inicio de la iteracion sobre cada lote\n",
        "  def on_test_batch_begin(self,batch,logs=None):\n",
        "    #solo imprimiremos algo pero se puede hacer lo que sea\n",
        "    print(f\"comienza test en el lote {batch}\")\n",
        "\n",
        "\n",
        "  #funcion que se ejecuta al final de la iteracion sobre cada lote\n",
        "  def on_test_batch_end(self,batch,logs=None):\n",
        "    #solo imprimiremos algo pero se puede hacer lo que sea\n",
        "    print(f\"finaliza test en el lote {batch}\")\n",
        "\n",
        "\n",
        "  #funcion que se ejecuta al final del entrenamiento\n",
        "  def on_test_end(self,logs=None):\n",
        "    #solo imprimiremos algo pero se puede hacer lo que sea\n",
        "    print(f\"finalizo el test\")\n",
        "\n",
        "#calback de prediccion\n",
        "class PredictionCallback(Callback):\n",
        "  \n",
        "  #funcion que se ejecuta al inicio del entrenamiento\n",
        "  def on_predict_begin(self,logs=None):\n",
        "    #solo imprimiremos algo pero se puede hacer lo que sea\n",
        "    print('empieza prediccion')\n",
        "\n",
        "\n",
        "  #funcion que se ejecuta al inicio de la iteracion sobre cada lote\n",
        "  def on_predict_batch_begin(self,batch,logs=None):\n",
        "    #solo imprimiremos algo pero se puede hacer lo que sea\n",
        "    print(f\"comienza prediccion en el lote {batch}\")\n",
        "\n",
        "\n",
        "  #funcion que se ejecuta al final de la iteracion sobre cada lote\n",
        "  def on_predict_batch_end(self,batch,logs=None):\n",
        "    #solo imprimiremos algo pero se puede hacer lo que sea\n",
        "    print(f\"finaliza prediccion en el lote {batch}\")\n",
        "\n",
        "\n",
        "  #funcion que se ejecuta al final del entrenamiento\n",
        "  def on_predict_end(self,logs=None):\n",
        "    #solo imprimiremos algo pero se puede hacer lo que sea\n",
        "    print(f\"finalizo la prediccion\")\n",
        "\n"
      ]
    },
    {
      "cell_type": "code",
      "execution_count": 31,
      "metadata": {
        "id": "_6jUM42VGcyM"
      },
      "outputs": [],
      "source": [
        "# Re-build the model\n",
        "#obtenemos modelo regularizado\n",
        "model=get_regularised_model(1e-5,0.3)"
      ]
    },
    {
      "cell_type": "code",
      "execution_count": 33,
      "metadata": {
        "id": "ADjthFHKGcyN"
      },
      "outputs": [],
      "source": [
        "# Compile the model\n",
        "model.compile(optimizer='adam',loss='mse')"
      ]
    },
    {
      "cell_type": "markdown",
      "metadata": {
        "id": "TY4hwt2-GcyO"
      },
      "source": [
        "#### Train the model with the callback"
      ]
    },
    {
      "cell_type": "code",
      "execution_count": 34,
      "metadata": {
        "colab": {
          "base_uri": "https://localhost:8080/"
        },
        "id": "UtpZV0cVGcyP",
        "outputId": "71209005-daf0-4c4c-a813-a2c67618a3ac"
      },
      "outputs": [
        {
          "output_type": "stream",
          "name": "stdout",
          "text": [
            "empieza entrenamiento\n",
            "empieza la epoca 0\n",
            "comienza entrenamiento en el lote 0\n",
            "finaliza entrenamiento en el lote 0\n",
            "comienza entrenamiento en el lote 1\n",
            "finaliza entrenamiento en el lote 1\n",
            "comienza entrenamiento en el lote 2\n",
            "finaliza entrenamiento en el lote 2\n",
            "comienza entrenamiento en el lote 3\n",
            "finaliza entrenamiento en el lote 3\n",
            "finaliza la epoca 0\n",
            "empieza la epoca 1\n",
            "comienza entrenamiento en el lote 0\n",
            "finaliza entrenamiento en el lote 0\n",
            "comienza entrenamiento en el lote 1\n",
            "finaliza entrenamiento en el lote 1\n",
            "comienza entrenamiento en el lote 2\n",
            "finaliza entrenamiento en el lote 2\n",
            "comienza entrenamiento en el lote 3\n",
            "finaliza entrenamiento en el lote 3\n",
            "finaliza la epoca 1\n",
            "empieza la epoca 2\n",
            "comienza entrenamiento en el lote 0\n",
            "finaliza entrenamiento en el lote 0\n",
            "comienza entrenamiento en el lote 1\n",
            "finaliza entrenamiento en el lote 1\n",
            "comienza entrenamiento en el lote 2\n",
            "finaliza entrenamiento en el lote 2\n",
            "comienza entrenamiento en el lote 3\n",
            "finaliza entrenamiento en el lote 3\n",
            "finaliza la epoca 2\n",
            "finalizo el entrenamiento\n"
          ]
        },
        {
          "output_type": "execute_result",
          "data": {
            "text/plain": [
              "<keras.callbacks.History at 0x7ff4eab256d0>"
            ]
          },
          "metadata": {},
          "execution_count": 34
        }
      ],
      "source": [
        "# Train the model, with some of the data reserved for validation\n",
        "\n",
        "#note que el verbose no manda salida pues se puso False pero el callback imprime lo que definimos\n",
        "model.fit(train_data,train_targets,epochs=3,batch_size=128,verbose=False,callbacks=[TrainingCallback()])"
      ]
    },
    {
      "cell_type": "code",
      "execution_count": 36,
      "metadata": {
        "colab": {
          "base_uri": "https://localhost:8080/"
        },
        "id": "EMsLGhU1GcyQ",
        "outputId": "6bc8e258-86a6-4c42-d7ae-592df429a7b9"
      },
      "outputs": [
        {
          "output_type": "stream",
          "name": "stdout",
          "text": [
            "empieza test\n",
            "comienza test en el lote 0\n",
            "finaliza test en el lote 0\n",
            "comienza test en el lote 1\n",
            "finaliza test en el lote 1\n",
            "finalizo el test\n"
          ]
        },
        {
          "output_type": "execute_result",
          "data": {
            "text/plain": [
              "0.9758965373039246"
            ]
          },
          "metadata": {},
          "execution_count": 36
        }
      ],
      "source": [
        "# Evaluate the model\n",
        "#evaluanbdo con callback de entrenamiento\n",
        "\n",
        "model.evaluate(test_data,test_targets,verbose=False,callbacks=[TestCallback()])\n"
      ]
    },
    {
      "cell_type": "code",
      "execution_count": 38,
      "metadata": {
        "colab": {
          "base_uri": "https://localhost:8080/"
        },
        "id": "nndFQ0ynGcyR",
        "outputId": "1252ced5-bae4-487d-c911-031049d33490"
      },
      "outputs": [
        {
          "output_type": "stream",
          "name": "stdout",
          "text": [
            "empieza prediccion\n",
            "comienza prediccion en el lote 0\n",
            "finaliza prediccion en el lote 0\n",
            "comienza prediccion en el lote 1\n",
            "finaliza prediccion en el lote 1\n",
            "finalizo la prediccion\n"
          ]
        },
        {
          "output_type": "execute_result",
          "data": {
            "text/plain": [
              "array([[-0.01075752],\n",
              "       [-0.04985408],\n",
              "       [-0.10133607],\n",
              "       [-0.05510217],\n",
              "       [-0.05833812],\n",
              "       [-0.11395031],\n",
              "       [-0.03783433],\n",
              "       [-0.04979789],\n",
              "       [-0.12958126],\n",
              "       [-0.09767538],\n",
              "       [-0.13220651],\n",
              "       [-0.07666146],\n",
              "       [-0.04385507],\n",
              "       [-0.03889723],\n",
              "       [-0.08003017],\n",
              "       [-0.05589852],\n",
              "       [-0.04498643],\n",
              "       [-0.03772731],\n",
              "       [-0.03187882],\n",
              "       [-0.02763584],\n",
              "       [-0.03256601],\n",
              "       [-0.11549018],\n",
              "       [-0.08397663],\n",
              "       [-0.03691632],\n",
              "       [-0.08402083],\n",
              "       [-0.03797193],\n",
              "       [-0.09462085],\n",
              "       [-0.03419841],\n",
              "       [-0.12326195],\n",
              "       [-0.10358194],\n",
              "       [-0.12976   ],\n",
              "       [-0.09624372],\n",
              "       [-0.01958506],\n",
              "       [-0.0188796 ],\n",
              "       [-0.05048439],\n",
              "       [-0.01931782],\n",
              "       [-0.10559785],\n",
              "       [-0.12429866],\n",
              "       [-0.09495418],\n",
              "       [-0.1306786 ],\n",
              "       [-0.03887771],\n",
              "       [-0.07978716],\n",
              "       [-0.04822635],\n",
              "       [-0.12210131],\n",
              "       [-0.0216683 ]], dtype=float32)"
            ]
          },
          "metadata": {},
          "execution_count": 38
        }
      ],
      "source": [
        "# Make predictions with the model\n",
        "model.predict(test_data,verbose=False,callbacks=[PredictionCallback()])"
      ]
    },
    {
      "cell_type": "markdown",
      "metadata": {
        "id": "93Dt1nMAGcyS"
      },
      "source": [
        "***\n",
        "<a id=\"coding_tutorial_4\"></a>\n",
        "## Early stopping / patience"
      ]
    },
    {
      "cell_type": "markdown",
      "source": [
        "Es un tipo de callback especial para generar regularizacion en los modelos early stopping monitorea el rendimiento del modelo en cada epoca apoyandose en el conjunto de validacion y vijilando una metrica dada en este mismo, a la hora del entrenamiento, y termina el entrenamiento de aceurdo al desempeño en el conjunto de entrenamiento mientra mejore la metrica continua entrenando cuando disminuye la mejora de la metrica entonces para el entrenamiento.\n",
        "\n",
        "Como el mejoramiento y desmejoramiento no es continuo ie puede mejorar durante 2 epocas luego desmojorar 3 y volver a mejorar patience es un argumento de early sttoping que ayuda a dar un rango de epocas para ver si el desempeño mejora por ejemplo si patience=3 el rendimiento desmejora y calcula otras 3 epocas para ver si mejora si no es asi detiene el entrenamiento.\n",
        "\n",
        "Otro parametro es min_delta que define el incremento minimo que early sttoping considera como una mejora en la metrica monitoreada.\n",
        "\n",
        "También tiene el argumento mode que puede ser 'max', 'min' que indica si se esta buscando maximizar o minimizar la metrica."
      ],
      "metadata": {
        "id": "s2zDEi-47n0y"
      }
    },
    {
      "cell_type": "markdown",
      "metadata": {
        "id": "MKkNoJspGcyT"
      },
      "source": [
        "#### Re-train the models with early stopping"
      ]
    },
    {
      "cell_type": "code",
      "execution_count": 39,
      "metadata": {
        "colab": {
          "base_uri": "https://localhost:8080/"
        },
        "id": "zwtJu5pdGcyU",
        "outputId": "f0633fde-8396-47e0-87ef-371cd50beb33"
      },
      "outputs": [
        {
          "output_type": "stream",
          "name": "stdout",
          "text": [
            "Model: \"sequential_2\"\n",
            "_________________________________________________________________\n",
            " Layer (type)                Output Shape              Param #   \n",
            "=================================================================\n",
            " dense_14 (Dense)            (None, 128)               1408      \n",
            "                                                                 \n",
            " dropout_6 (Dropout)         (None, 128)               0         \n",
            "                                                                 \n",
            " dense_15 (Dense)            (None, 128)               16512     \n",
            "                                                                 \n",
            " dropout_7 (Dropout)         (None, 128)               0         \n",
            "                                                                 \n",
            " dense_16 (Dense)            (None, 128)               16512     \n",
            "                                                                 \n",
            " dropout_8 (Dropout)         (None, 128)               0         \n",
            "                                                                 \n",
            " dense_17 (Dense)            (None, 128)               16512     \n",
            "                                                                 \n",
            " dropout_9 (Dropout)         (None, 128)               0         \n",
            "                                                                 \n",
            " dense_18 (Dense)            (None, 128)               16512     \n",
            "                                                                 \n",
            " dropout_10 (Dropout)        (None, 128)               0         \n",
            "                                                                 \n",
            " dense_19 (Dense)            (None, 128)               16512     \n",
            "                                                                 \n",
            " dropout_11 (Dropout)        (None, 128)               0         \n",
            "                                                                 \n",
            " dense_20 (Dense)            (None, 1)                 129       \n",
            "                                                                 \n",
            "=================================================================\n",
            "Total params: 84,097\n",
            "Trainable params: 84,097\n",
            "Non-trainable params: 0\n",
            "_________________________________________________________________\n"
          ]
        }
      ],
      "source": [
        "# Re-train the unregularised model\n",
        "unregularised_model=get_model()\n",
        "model.summary()"
      ]
    },
    {
      "cell_type": "code",
      "source": [
        "unregularised_model.compile(optimizer='adam',loss='mse')\n",
        "unreg_history=model.fit(train_data,train_targets,epochs=100,validation_split=0.15,batch_size=64,verbose=False,\n",
        "                        callbacks=[tf.keras.callbacks.EarlyStopping(patience=10)])"
      ],
      "metadata": {
        "id": "HiNcRPie-QZR"
      },
      "execution_count": 48,
      "outputs": []
    },
    {
      "cell_type": "code",
      "execution_count": 49,
      "metadata": {
        "colab": {
          "base_uri": "https://localhost:8080/"
        },
        "id": "PU94gS8ZGcyV",
        "outputId": "ef025cc2-4f51-45a0-8260-ec9581ea06db"
      },
      "outputs": [
        {
          "output_type": "stream",
          "name": "stdout",
          "text": [
            "2/2 - 0s - loss: 0.9983 - 123ms/epoch - 61ms/step\n"
          ]
        },
        {
          "output_type": "execute_result",
          "data": {
            "text/plain": [
              "0.9983423948287964"
            ]
          },
          "metadata": {},
          "execution_count": 49
        }
      ],
      "source": [
        "# Evaluate the model on the test set\n",
        "unregularised_model.evaluate(test_data,test_targets,verbose=2)"
      ]
    },
    {
      "cell_type": "code",
      "execution_count": 50,
      "metadata": {
        "id": "D_WG8ctBGcyV"
      },
      "outputs": [],
      "source": [
        "# Re-train the regularised model\n",
        "regularised_model=get_regularised_model(1e-8,0.2)\n",
        "regularised_model.compile(optimizer='adam',loss='mse')\n",
        "reg_history=model.fit(train_data,train_targets,epochs=100,validation_split=0.15,batch_size=64,verbose=False,\n",
        "                        callbacks=[tf.keras.callbacks.EarlyStopping(patience=10)])\n"
      ]
    },
    {
      "cell_type": "code",
      "execution_count": 51,
      "metadata": {
        "colab": {
          "base_uri": "https://localhost:8080/"
        },
        "id": "pauPGWznGcyW",
        "outputId": "ad4df824-b3d8-4901-943a-b417d0372797"
      },
      "outputs": [
        {
          "output_type": "stream",
          "name": "stdout",
          "text": [
            "2/2 - 0s - loss: 0.9972 - 212ms/epoch - 106ms/step\n"
          ]
        },
        {
          "output_type": "execute_result",
          "data": {
            "text/plain": [
              "0.997225284576416"
            ]
          },
          "metadata": {},
          "execution_count": 51
        }
      ],
      "source": [
        "# Evaluate the model on the test set\n",
        "regularised_model.evaluate(test_data,test_targets,verbose=2)"
      ]
    },
    {
      "cell_type": "markdown",
      "metadata": {
        "id": "qOd8h7zvGcyW"
      },
      "source": [
        "#### Plot the learning curves"
      ]
    },
    {
      "cell_type": "code",
      "execution_count": 52,
      "metadata": {
        "colab": {
          "base_uri": "https://localhost:8080/",
          "height": 350
        },
        "id": "LwtswFHjGcyX",
        "outputId": "d6679ca9-c618-439d-d8ba-0bea323f0572"
      },
      "outputs": [
        {
          "output_type": "display_data",
          "data": {
            "text/plain": [
              "<Figure size 864x360 with 2 Axes>"
            ],
            "image/png": "[encoded data removed]"
          },
          "metadata": {
            "needs_background": "light"
          }
        }
      ],
      "source": [
        "# Plot the training and validation loss\n",
        "\n",
        "import matplotlib.pyplot as plt\n",
        "\n",
        "fig = plt.figure(figsize=(12, 5))\n",
        "\n",
        "fig.add_subplot(121)\n",
        "\n",
        "plt.plot(unreg_history.history['loss'])\n",
        "plt.plot(unreg_history.history['val_loss'])\n",
        "plt.title('Unregularised model: loss vs. epochs')\n",
        "plt.ylabel('Loss')\n",
        "plt.xlabel('Epoch')\n",
        "plt.legend(['Training', 'Validation'], loc='upper right')\n",
        "\n",
        "fig.add_subplot(122)\n",
        "\n",
        "plt.plot(reg_history.history['loss'])\n",
        "plt.plot(reg_history.history['val_loss'])\n",
        "plt.title('Regularised model: loss vs. epochs')\n",
        "plt.ylabel('Loss')\n",
        "plt.xlabel('Epoch')\n",
        "plt.legend(['Training', 'Validation'], loc='upper right')\n",
        "\n",
        "plt.show()"
      ]
    }
  ],
  "metadata": {
    "kernelspec": {
      "display_name": "Python 3",
      "language": "python",
      "name": "python3"
    },
    "language_info": {
      "codemirror_mode": {
        "name": "ipython",
        "version": 3
      },
      "file_extension": ".py",
      "mimetype": "text/x-python",
      "name": "python",
      "nbconvert_exporter": "python",
      "pygments_lexer": "ipython3",
      "version": "3.7.1"
    },
    "colab": {
      "provenance": []
    }
  },
  "nbformat": 4,
  "nbformat_minor": 0
}