{
  "cells": [
    {
      "cell_type": "markdown",
      "metadata": {
        "id": "AyYaroWfELFo"
      },
      "source": [
        "# Building your Recurrent Neural Network - Step by Step\n",
        "\n",
        "\n",
        "**Notation**:\n",
        "- Superscript $[l]$ denotes an object associated with the $l^{th}$ layer. \n",
        "\n",
        "- Superscript $(i)$ denotes an object associated with the $i^{th}$ example. \n",
        "\n",
        "- Superscript $\\langle t \\rangle$ denotes an object at the $t^{th}$ time \n",
        "step. \n",
        "    \n",
        "- Subscript $i$ denotes the $i^{th}$ entry of a vector.\n",
        "\n",
        "**Example**:  \n",
        "- $a^{(2)[3]<4>}_5$ denotes the activation of the 2nd training example (2), 3rd layer [3], 4th time step <4>, and 5th entry in the vector.\n"
      ]
    },
    {
      "cell_type": "code",
      "execution_count": null,
      "metadata": {
        "id": "fXWmy3GdELFr"
      },
      "outputs": [],
      "source": [
        "import numpy as np\n",
        "from rnn_utils import *\n",
        "from public_tests import *"
      ]
    },
    {
      "cell_type": "markdown",
      "metadata": {
        "id": "03kGDM_sELFv"
      },
      "source": [
        "<a name='1'></a>\n",
        "## 1 - Forward Propagation for the Basic Recurrent Neural Network\n",
        "\n",
        "Later this week, you'll get a chance to generate music using an RNN! The basic RNN that you'll implement has the following structure: \n",
        "\n",
        "In this example, $T_x = T_y$. "
      ]
    },
    {
      "cell_type": "markdown",
      "metadata": {
        "id": "jFNRtAP_ELFw"
      },
      "source": [
        "### Dimensions of input $x$\n",
        "\n",
        "#### Input with $n_x$ number of units\n",
        "* For a single time step of a single input example, $x^{(i) \\langle t \\rangle }$ is a one-dimensional input vector\n",
        "* Using language as an example, a language with a 5000-word vocabulary could be one-hot encoded into a vector that has 5000 units.  So $x^{(i)\\langle t \\rangle}$ would have the shape (5000,)  \n",
        "* The notation $n_x$ is used here to denote the number of units in a single time step of a single training example"
      ]
    },
    {
      "cell_type": "markdown",
      "metadata": {
        "id": "EnYGy4L-ELFx"
      },
      "source": [
        "#### Time steps of size $T_{x}$\n",
        "* A recurrent neural network has multiple time steps, which you'll index with $t$.\n",
        "* In the lessons, you saw a single training example $x^{(i)}$ consisting of multiple time steps $T_x$. In this notebook, $T_{x}$ will denote the number of timesteps in the longest sequence."
      ]
    },
    {
      "cell_type": "markdown",
      "metadata": {
        "id": "Azzhk7jCELFx"
      },
      "source": [
        "#### Batches of size $m$\n",
        "* Let's say we have mini-batches, each with 20 training examples  \n",
        "* To benefit from vectorization, you'll stack 20 columns of $x^{(i)}$ examples\n",
        "* For example, this tensor has the shape (5000,20,10) \n",
        "* You'll use $m$ to denote the number of training examples  \n",
        "* So, the shape of a mini-batch is $(n_x,m,T_x)$"
      ]
    },
    {
      "cell_type": "markdown",
      "metadata": {
        "id": "qNR7VozOELFy"
      },
      "source": [
        "#### 3D Tensor of shape $(n_{x},m,T_{x})$\n",
        "* The 3-dimensional tensor $x$ of shape $(n_x,m,T_x)$ represents the input $x$ that is fed into the RNN\n",
        "\n",
        "#### Taking a 2D slice for each time step: $x^{\\langle t \\rangle}$\n",
        "* At each time step, you'll use a mini-batch of training examples (not just a single example)\n",
        "* So, for each time step $t$, you'll use a 2D slice of shape $(n_x,m)$\n",
        "* This 2D slice is referred to as $x^{\\langle t \\rangle}$.  The variable name in the code is `xt`."
      ]
    },
    {
      "cell_type": "markdown",
      "metadata": {
        "id": "VOzhhTj4ELFy"
      },
      "source": [
        "### Definition of hidden state $a$\n",
        "\n",
        "* The activation $a^{\\langle t \\rangle}$ that is passed to the RNN from one time step to another is called a \"hidden state.\"\n",
        "\n",
        "### Dimensions of hidden state $a$\n",
        "\n",
        "* Similar to the input tensor $x$, the hidden state for a single training example is a vector of length $n_{a}$\n",
        "* If you include a mini-batch of $m$ training examples, the shape of a mini-batch is $(n_{a},m)$\n",
        "* When you include the time step dimension, the shape of the hidden state is $(n_{a}, m, T_x)$\n",
        "* You'll loop through the time steps with index $t$, and work with a 2D slice of the 3D tensor  \n",
        "* This 2D slice is referred to as $a^{\\langle t \\rangle}$\n",
        "* In the code, the variable names used are either `a_prev` or `a_next`, depending on the function being implemented\n",
        "* The shape of this 2D slice is $(n_{a}, m)$"
      ]
    },
    {
      "cell_type": "markdown",
      "metadata": {
        "id": "67vYjIRTELFz"
      },
      "source": [
        "### Dimensions of prediction $\\hat{y}$\n",
        "* Similar to the inputs and hidden states, $\\hat{y}$ is a 3D tensor of shape $(n_{y}, m, T_{y})$\n",
        "    * $n_{y}$: number of units in the vector representing the prediction\n",
        "    * $m$: number of examples in a mini-batch\n",
        "    * $T_{y}$: number of time steps in the prediction\n",
        "* For a single time step $t$, a 2D slice $\\hat{y}^{\\langle t \\rangle}$ has shape $(n_{y}, m)$\n",
        "* In the code, the variable names are:\n",
        "    - `y_pred`: $\\hat{y}$ \n",
        "    - `yt_pred`: $\\hat{y}^{\\langle t \\rangle}$"
      ]
    },
    {
      "cell_type": "markdown",
      "metadata": {
        "id": "9ZrlQ4X8ELFz"
      },
      "source": [
        "Here's how you can implement an RNN: \n",
        "\n",
        "### Steps:\n",
        "1. Implement the calculations needed for one time step of the RNN.\n",
        "2. Implement a loop over $T_x$ time steps in order to process all the inputs, one at a time. "
      ]
    },
    {
      "cell_type": "markdown",
      "metadata": {
        "id": "6oXWAKeTELF0"
      },
      "source": [
        "<a name='1-1'></a>\n",
        "### 1.1 - RNN Cell\n",
        "\n",
        "You can think of the recurrent neural network as the repeated use of a single cell. First, you'll implement the computations for a single time step. The following figure describes the operations for a single time step of an RNN cell: \n",
        "\n",
        "\n",
        "**`RNN cell` versus `RNN_cell_forward`**:\n",
        "* Note that an RNN cell outputs the hidden state $a^{\\langle t \\rangle}$.  \n",
        "    * `RNN cell` is shown in the figure as the inner box with solid lines  \n",
        "* The function that you'll implement, `rnn_cell_forward`, also calculates the prediction $\\hat{y}^{\\langle t \\rangle}$\n",
        "    * `RNN_cell_forward` is shown in the figure as the outer box with dashed lines"
      ]
    },
    {
      "cell_type": "code",
      "execution_count": null,
      "metadata": {
        "id": "fxI-F0HWELF1"
      },
      "outputs": [],
      "source": [
        "\n",
        "def rnn_cell_forward(xt, a_prev, parameters):\n",
        "    \"\"\"\n",
        "    Implements a single forward step of the RNN-cell as described in Figure (2)\n",
        "\n",
        "    Arguments:\n",
        "    xt -- your input data at timestep \"t\", numpy array of shape (n_x, m).\n",
        "    a_prev -- Hidden state at timestep \"t-1\", numpy array of shape (n_a, m)\n",
        "    parameters -- python dictionary containing:\n",
        "                        Wax -- Weight matrix multiplying the input, numpy array of shape (n_a, n_x)\n",
        "                        Waa -- Weight matrix multiplying the hidden state, numpy array of shape (n_a, n_a)\n",
        "                        Wya -- Weight matrix relating the hidden-state to the output, numpy array of shape (n_y, n_a)\n",
        "                        ba --  Bias, numpy array of shape (n_a, 1)\n",
        "                        by -- Bias relating the hidden-state to the output, numpy array of shape (n_y, 1)\n",
        "    Returns:\n",
        "    a_next -- next hidden state, of shape (n_a, m)\n",
        "    yt_pred -- prediction at timestep \"t\", numpy array of shape (n_y, m)\n",
        "    cache -- tuple of values needed for the backward pass, contains (a_next, a_prev, xt, parameters)\n",
        "    \"\"\"\n",
        "    \n",
        "    # Retrieve parameters from \"parameters\"\n",
        "    Wax = parameters[\"Wax\"]\n",
        "    Waa = parameters[\"Waa\"]\n",
        "    Wya = parameters[\"Wya\"]\n",
        "    ba = parameters[\"ba\"]\n",
        "    by = parameters[\"by\"]\n",
        "    \n",
        "   \n",
        "    # compute next activation state using the formula given above\n",
        "    a_next = np.tanh(np.dot(Waa,a_prev) + np.dot(Wax,xt) + ba)\n",
        "    # compute output of the current cell using the formula given above\n",
        "    yt_pred = softmax( np.dot(Wya,a_next) + by)\n",
        "\n",
        "    \n",
        "    # store values you need for backward propagation in cache\n",
        "    cache = (a_next, a_prev, xt, parameters)\n",
        "    \n",
        "    return a_next, yt_pred, cache"
      ]
    },
    {
      "cell_type": "markdown",
      "metadata": {
        "id": "rjz378-tELF7"
      },
      "source": [
        "<a name='1-2'></a>\n",
        "### 1.2 - RNN Forward Pass \n",
        "\n",
        "- A recurrent neural network (RNN) is a repetition of the RNN cell that you've just built. \n",
        "    - If your input sequence of data is 10 time steps long, then you will re-use the RNN cell 10 times \n",
        "- Each cell takes two inputs at each time step:\n",
        "    - $a^{\\langle t-1 \\rangle}$: The hidden state from the previous cell\n",
        "    - $x^{\\langle t \\rangle}$: The current time step's input data\n",
        "- It has two outputs at each time step:\n",
        "    - A hidden state ($a^{\\langle t \\rangle}$)\n",
        "    - A prediction ($y^{\\langle t \\rangle}$)\n",
        "- The weights and biases $(W_{aa}, b_{a}, W_{ax}, b_{x})$ are re-used each time step \n",
        "    - They are maintained between calls to `rnn_cell_forward` in the 'parameters' dictionary\n",
        "\n",
        "\n",
        "\n"
      ]
    },
    {
      "cell_type": "markdown",
      "metadata": {
        "id": "r104TTL-ELF8"
      },
      "source": [
        "\n",
        "* Create a 3D array of zeros, $a$ of shape $(n_{a}, m, T_{x})$ that will store all the hidden states computed by the RNN\n",
        "* Create a 3D array of zeros, $\\hat{y}$, of shape $(n_{y}, m, T_{x})$ that will store the predictions  \n",
        "    - Note that in this case, $T_{y} = T_{x}$ (the prediction and input have the same number of time steps)\n",
        "* Initialize the 2D hidden state `a_next` by setting it equal to the initial hidden state, $a_{0}$\n",
        "* At each time step $t$:\n",
        "    - Get $x^{\\langle t \\rangle}$, which is a 2D slice of $x$ for a single time step $t$\n",
        "        - $x^{\\langle t \\rangle}$ has shape $(n_{x}, m)$\n",
        "        - $x$ has shape $(n_{x}, m, T_{x})$\n",
        "    - Update the 2D hidden state $a^{\\langle t \\rangle}$ (variable name `a_next`), the prediction $\\hat{y}^{\\langle t \\rangle}$ and the cache by running `rnn_cell_forward`\n",
        "        - $a^{\\langle t \\rangle}$ has shape $(n_{a}, m)$\n",
        "    - Store the 2D hidden state in the 3D tensor $a$, at the $t^{th}$ position\n",
        "        - $a$ has shape $(n_{a}, m, T_{x})$\n",
        "    - Store the 2D $\\hat{y}^{\\langle t \\rangle}$ prediction (variable name `yt_pred`) in the 3D tensor $\\hat{y}_{pred}$ at the $t^{th}$ position\n",
        "        - $\\hat{y}^{\\langle t \\rangle}$ has shape $(n_{y}, m)$\n",
        "        - $\\hat{y}$ has shape $(n_{y}, m, T_x)$\n",
        "    - Append the cache to the list of caches\n",
        "* Return the 3D tensor $a$ and $\\hat{y}$, as well as the list of caches\n"
      ]
    },
    {
      "cell_type": "code",
      "execution_count": null,
      "metadata": {
        "id": "VmeprGJpELF9"
      },
      "outputs": [],
      "source": [
        "\n",
        "def rnn_forward(x, a0, parameters):\n",
        "    \"\"\"\n",
        "    Implement the forward propagation of the recurrent neural network described in Figure (3).\n",
        "\n",
        "    Arguments:\n",
        "    x -- Input data for every time-step, of shape (n_x, m, T_x).\n",
        "    a0 -- Initial hidden state, of shape (n_a, m)\n",
        "    parameters -- python dictionary containing:\n",
        "                        Waa -- Weight matrix multiplying the hidden state, numpy array of shape (n_a, n_a)\n",
        "                        Wax -- Weight matrix multiplying the input, numpy array of shape (n_a, n_x)\n",
        "                        Wya -- Weight matrix relating the hidden-state to the output, numpy array of shape (n_y, n_a)\n",
        "                        ba --  Bias numpy array of shape (n_a, 1)\n",
        "                        by -- Bias relating the hidden-state to the output, numpy array of shape (n_y, 1)\n",
        "\n",
        "    Returns:\n",
        "    a -- Hidden states for every time-step, numpy array of shape (n_a, m, T_x)\n",
        "    y_pred -- Predictions for every time-step, numpy array of shape (n_y, m, T_x)\n",
        "    caches -- tuple of values needed for the backward pass, contains (list of caches, x)\n",
        "    \"\"\"\n",
        "    \n",
        "    # Initialize \"caches\" which will contain the list of all caches\n",
        "    caches = []\n",
        "    \n",
        "    # Retrieve dimensions from shapes of x and parameters[\"Wya\"]\n",
        "    n_x, m, T_x = x.shape\n",
        "    n_y, n_a = parameters[\"Wya\"].shape\n",
        "    \n",
        " \n",
        "    \n",
        "    # initialize \"a\" and \"y_pred\" with zeros \n",
        "    a = np.zeros((n_a, m, T_x))\n",
        "    y_pred = np.zeros((n_y, m, T_x))\n",
        "    \n",
        "    # Initialize a_next \n",
        "    a_next = a0\n",
        "    \n",
        "    # loop over all time-steps\n",
        "    for t in range(T_x):\n",
        "        # Update next hidden state, compute the prediction, get the cache \n",
        "        a_next, yt_pred, cache = rnn_cell_forward(x[:,:,t], a_next, parameters)\n",
        "        # Save the value of the new \"next\" hidden state in a \n",
        "        a[:,:,t] = a_next\n",
        "        # Save the value of the prediction in y \n",
        "        y_pred[:,:,t] = yt_pred\n",
        "        # Append \"cache\" to \"caches\" \n",
        "        caches.append(cache)\n",
        " \n",
        "    \n",
        "    # store values needed for backward propagation in cache\n",
        "    caches = (caches, x)\n",
        "    \n",
        "    return a, y_pred, caches"
      ]
    },
    {
      "cell_type": "markdown",
      "metadata": {
        "id": "x2QbsWFzELGD"
      },
      "source": [
        "<a name='2'></a>\n",
        "## 2 - Long Short-Term Memory (LSTM) Network\n",
        "\n",
        "The following figure shows the operations of an LSTM cell:\n",
        "\n",
        " LSTM cell. This tracks and updates a \"cell state,\" or memory variable $c^{\\langle t \\rangle}$ at every time step, which can be different from $a^{\\langle t \\rangle}$.  \n",
        "Note, the $softmax^{}$ includes a dense layer and softmax.</center></caption>\n",
        "\n",
        "Similar to the RNN example above, you'll begin by implementing the LSTM cell for a single time step. Then, you'll iteratively call it from inside a \"for loop\" to have it process an input with $T_x$ time steps. "
      ]
    },
    {
      "cell_type": "markdown",
      "metadata": {
        "id": "fyUcxGCJELGD"
      },
      "source": [
        "### Overview of gates and states\n",
        "\n",
        "#### Forget gate $\\mathbf{\\Gamma}_{f}$\n",
        "\n",
        "* Let's assume you are reading words in a piece of text, and plan to use an LSTM to keep track of grammatical structures, such as whether the subject is singular (\"puppy\") or plural (\"puppies\"). \n",
        "* If the subject changes its state (from a singular word to a plural word), the memory of the previous state becomes outdated, so you'll \"forget\" that outdated state.\n",
        "* The \"forget gate\" is a tensor containing values between 0 and 1.\n",
        "    * If a unit in the forget gate has a value close to 0, the LSTM will \"forget\" the stored state in the corresponding unit of the previous cell state.\n",
        "    * If a unit in the forget gate has a value close to 1, the LSTM will mostly remember the corresponding value in the stored state.\n",
        "\n",
        "##### Equation\n",
        "\n",
        "$$\\mathbf{\\Gamma}_f^{\\langle t \\rangle} = \\sigma(\\mathbf{W}_f[\\mathbf{a}^{\\langle t-1 \\rangle}, \\mathbf{x}^{\\langle t \\rangle}] + \\mathbf{b}_f)\\tag{1} $$\n",
        "\n",
        "##### Explanation of the equation:\n",
        "\n",
        "* $\\mathbf{W_{f}}$ contains weights that govern the forget gate's behavior. \n",
        "* The previous time step's hidden state $[a^{\\langle t-1 \\rangle}$ and current time step's input $x^{\\langle t \\rangle}]$ are concatenated together and multiplied by $\\mathbf{W_{f}}$. \n",
        "* A sigmoid function is used to make each of the gate tensor's values $\\mathbf{\\Gamma}_f^{\\langle t \\rangle}$ range from 0 to 1.\n",
        "* The forget gate  $\\mathbf{\\Gamma}_f^{\\langle t \\rangle}$ has the same dimensions as the previous cell state $c^{\\langle t-1 \\rangle}$. \n",
        "* This means that the two can be multiplied together, element-wise.\n",
        "* Multiplying the tensors $\\mathbf{\\Gamma}_f^{\\langle t \\rangle} * \\mathbf{c}^{\\langle t-1 \\rangle}$ is like applying a mask over the previous cell state.\n",
        "* If a single value in $\\mathbf{\\Gamma}_f^{\\langle t \\rangle}$ is 0 or close to 0, then the product is close to 0.\n",
        "    * This keeps the information stored in the corresponding unit in $\\mathbf{c}^{\\langle t-1 \\rangle}$ from being remembered for the next time step.\n",
        "* Similarly, if one value is close to 1, the product is close to the original value in the previous cell state.\n",
        "    * The LSTM will keep the information from the corresponding unit of $\\mathbf{c}^{\\langle t-1 \\rangle}$, to be used in the next time step.\n",
        "    \n",
        "##### Variable names in the code\n",
        "The variable names in the code are similar to the equations, with slight differences.  \n",
        "* `Wf`: forget gate weight $\\mathbf{W}_{f}$\n",
        "* `bf`: forget gate bias $\\mathbf{b}_{f}$\n",
        "* `ft`: forget gate $\\Gamma_f^{\\langle t \\rangle}$"
      ]
    },
    {
      "cell_type": "markdown",
      "metadata": {
        "id": "HHeiRiqKELGE"
      },
      "source": [
        "#### Candidate value $\\tilde{\\mathbf{c}}^{\\langle t \\rangle}$\n",
        "* The candidate value is a tensor containing information from the current time step that **may** be stored in the current cell state $\\mathbf{c}^{\\langle t \\rangle}$.\n",
        "* The parts of the candidate value that get passed on depend on the update gate.\n",
        "* The candidate value is a tensor containing values that range from -1 to 1.\n",
        "* The tilde \"~\" is used to differentiate the candidate $\\tilde{\\mathbf{c}}^{\\langle t \\rangle}$ from the cell state $\\mathbf{c}^{\\langle t \\rangle}$.\n",
        "\n",
        "##### Equation\n",
        "$$\\mathbf{\\tilde{c}}^{\\langle t \\rangle} = \\tanh\\left( \\mathbf{W}_{c} [\\mathbf{a}^{\\langle t - 1 \\rangle}, \\mathbf{x}^{\\langle t \\rangle}] + \\mathbf{b}_{c} \\right) \\tag{3}$$\n",
        "\n",
        "##### Explanation of the equation\n",
        "* The *tanh* function produces values between -1 and 1.\n",
        "\n",
        "\n",
        "##### Variable names in the code\n",
        "* `cct`: candidate value $\\mathbf{\\tilde{c}}^{\\langle t \\rangle}$"
      ]
    },
    {
      "cell_type": "markdown",
      "metadata": {
        "id": "xewEj_FuELGF"
      },
      "source": [
        "#### Update gate $\\mathbf{\\Gamma}_{i}$\n",
        "\n",
        "* You use the update gate to decide what aspects of the candidate $\\tilde{\\mathbf{c}}^{\\langle t \\rangle}$ to add to the cell state $c^{\\langle t \\rangle}$.\n",
        "* The update gate decides what parts of a \"candidate\" tensor $\\tilde{\\mathbf{c}}^{\\langle t \\rangle}$ are passed onto the cell state $\\mathbf{c}^{\\langle t \\rangle}$.\n",
        "* The update gate is a tensor containing values between 0 and 1.\n",
        "    * When a unit in the update gate is close to 1, it allows the value of the candidate $\\tilde{\\mathbf{c}}^{\\langle t \\rangle}$ to be passed onto the hidden state $\\mathbf{c}^{\\langle t \\rangle}$\n",
        "    * When a unit in the update gate is close to 0, it prevents the corresponding value in the candidate from being passed onto the hidden state.\n",
        "* Notice that the subscript \"i\" is used and not \"u\", to follow the convention used in the literature.\n",
        "\n",
        "##### Equation\n",
        "\n",
        "$$\\mathbf{\\Gamma}_i^{\\langle t \\rangle} = \\sigma(\\mathbf{W}_i[a^{\\langle t-1 \\rangle}, \\mathbf{x}^{\\langle t \\rangle}] + \\mathbf{b}_i)\\tag{2} $$ \n",
        "\n",
        "##### Explanation of the equation\n",
        "\n",
        "* Similar to the forget gate, here $\\mathbf{\\Gamma}_i^{\\langle t \\rangle}$, the sigmoid produces values between 0 and 1.\n",
        "* The update gate is multiplied element-wise with the candidate, and this product ($\\mathbf{\\Gamma}_{i}^{\\langle t \\rangle} * \\tilde{c}^{\\langle t \\rangle}$) is used in determining the cell state $\\mathbf{c}^{\\langle t \\rangle}$.\n",
        "\n",
        "##### Variable names in code (Please note that they're different than the equations)\n",
        "In the code, you'll use the variable names found in the academic literature.  These variables don't use \"u\" to denote \"update\".\n",
        "* `Wi` is the update gate weight $\\mathbf{W}_i$ (not \"Wu\") \n",
        "* `bi` is the update gate bias $\\mathbf{b}_i$ (not \"bu\")\n",
        "* `it` is the update gate $\\mathbf{\\Gamma}_i^{\\langle t \\rangle}$ (not \"ut\")"
      ]
    },
    {
      "cell_type": "markdown",
      "metadata": {
        "id": "yvxVv83-ELGF"
      },
      "source": [
        "#### Cell state $\\mathbf{c}^{\\langle t \\rangle}$\n",
        "\n",
        "* The cell state is the \"memory\" that gets passed onto future time steps.\n",
        "* The new cell state $\\mathbf{c}^{\\langle t \\rangle}$ is a combination of the previous cell state and the candidate value.\n",
        "\n",
        "##### Equation\n",
        "\n",
        "$$ \\mathbf{c}^{\\langle t \\rangle} = \\mathbf{\\Gamma}_f^{\\langle t \\rangle}* \\mathbf{c}^{\\langle t-1 \\rangle} + \\mathbf{\\Gamma}_{i}^{\\langle t \\rangle} *\\mathbf{\\tilde{c}}^{\\langle t \\rangle} \\tag{4} $$\n",
        "\n",
        "##### Explanation of equation\n",
        "* The previous cell state $\\mathbf{c}^{\\langle t-1 \\rangle}$ is adjusted (weighted) by the forget gate $\\mathbf{\\Gamma}_{f}^{\\langle t \\rangle}$\n",
        "* and the candidate value $\\tilde{\\mathbf{c}}^{\\langle t \\rangle}$, adjusted (weighted) by the update gate $\\mathbf{\\Gamma}_{i}^{\\langle t \\rangle}$\n",
        "\n",
        "##### Variable names and shapes in the code\n",
        "* `c`: cell state, including all time steps, $\\mathbf{c}$ shape $(n_{a}, m, T_x)$\n",
        "* `c_next`: new (next) cell state, $\\mathbf{c}^{\\langle t \\rangle}$ shape $(n_{a}, m)$\n",
        "* `c_prev`: previous cell state, $\\mathbf{c}^{\\langle t-1 \\rangle}$, shape $(n_{a}, m)$"
      ]
    },
    {
      "cell_type": "markdown",
      "metadata": {
        "id": "XHVgaJxiELGG"
      },
      "source": [
        "#### Output gate $\\mathbf{\\Gamma}_{o}$\n",
        "\n",
        "* The output gate decides what gets sent as the prediction (output) of the time step.\n",
        "* The output gate is like the other gates, in that it contains values that range from 0 to 1.\n",
        "\n",
        "##### Equation\n",
        "\n",
        "$$ \\mathbf{\\Gamma}_o^{\\langle t \\rangle}=  \\sigma(\\mathbf{W}_o[\\mathbf{a}^{\\langle t-1 \\rangle}, \\mathbf{x}^{\\langle t \\rangle}] + \\mathbf{b}_{o})\\tag{5}$$ \n",
        "\n",
        "##### Explanation of the equation\n",
        "* The output gate is determined by the previous hidden state $\\mathbf{a}^{\\langle t-1 \\rangle}$ and the current input $\\mathbf{x}^{\\langle t \\rangle}$\n",
        "* The sigmoid makes the gate range from 0 to 1.\n",
        "\n",
        "\n",
        "##### Variable names in the code\n",
        "* `Wo`: output gate weight, $\\mathbf{W_o}$\n",
        "* `bo`: output gate bias, $\\mathbf{b_o}$\n",
        "* `ot`: output gate, $\\mathbf{\\Gamma}_{o}^{\\langle t \\rangle}$"
      ]
    },
    {
      "cell_type": "markdown",
      "metadata": {
        "id": "fWkiZ0M-ELGG"
      },
      "source": [
        "#### Hidden state $\\mathbf{a}^{\\langle t \\rangle}$\n",
        "\n",
        "* The hidden state gets passed to the LSTM cell's next time step.\n",
        "* It is used to determine the three gates ($\\mathbf{\\Gamma}_{f}, \\mathbf{\\Gamma}_{u}, \\mathbf{\\Gamma}_{o}$) of the next time step.\n",
        "* The hidden state is also used for the prediction $y^{\\langle t \\rangle}$.\n",
        "\n",
        "##### Equation\n",
        "\n",
        "$$ \\mathbf{a}^{\\langle t \\rangle} = \\mathbf{\\Gamma}_o^{\\langle t \\rangle} * \\tanh(\\mathbf{c}^{\\langle t \\rangle})\\tag{6} $$\n",
        "\n",
        "##### Explanation of equation\n",
        "* The hidden state $\\mathbf{a}^{\\langle t \\rangle}$ is determined by the cell state $\\mathbf{c}^{\\langle t \\rangle}$ in combination with the output gate $\\mathbf{\\Gamma}_{o}$.\n",
        "* The cell state state is passed through the `tanh` function to rescale values between -1 and 1.\n",
        "* The output gate acts like a \"mask\" that either preserves the values of $\\tanh(\\mathbf{c}^{\\langle t \\rangle})$ or keeps those values from being included in the hidden state $\\mathbf{a}^{\\langle t \\rangle}$\n",
        "\n",
        "##### Variable names  and shapes in the code\n",
        "* `a`: hidden state, including time steps.  $\\mathbf{a}$ has shape $(n_{a}, m, T_{x})$\n",
        "* `a_prev`: hidden state from previous time step. $\\mathbf{a}^{\\langle t-1 \\rangle}$ has shape $(n_{a}, m)$\n",
        "* `a_next`: hidden state for next time step.  $\\mathbf{a}^{\\langle t \\rangle}$ has shape $(n_{a}, m)$ "
      ]
    },
    {
      "cell_type": "markdown",
      "metadata": {
        "id": "7OYaNPNPELGH"
      },
      "source": [
        "#### Prediction $\\mathbf{y}^{\\langle t \\rangle}_{pred}$\n",
        "* The prediction in this use case is a classification, so you'll use a softmax.\n",
        "\n",
        "The equation is:\n",
        "$$\\mathbf{y}^{\\langle t \\rangle}_{pred} = \\textrm{softmax}(\\mathbf{W}_{y} \\mathbf{a}^{\\langle t \\rangle} + \\mathbf{b}_{y})$$\n",
        "\n",
        "##### Variable names and shapes in the code\n",
        "* `y_pred`: prediction, including all time steps. $\\mathbf{y}_{pred}$ has shape $(n_{y}, m, T_{x})$.  Note that $(T_{y} = T_{x})$ for this example.\n",
        "* `yt_pred`: prediction for the current time step $t$. $\\mathbf{y}^{\\langle t \\rangle}_{pred}$ has shape $(n_{y}, m)$"
      ]
    },
    {
      "cell_type": "markdown",
      "metadata": {
        "id": "G49sqmnoELGI"
      },
      "source": [
        "<a name='2-1'></a>\n",
        "### 2.1 - LSTM Cell\n",
        "\n",
        "<a name='ex-3'></a>\n",
        "### Exercise 3 - lstm_cell_forward\n",
        "\n",
        "Implement the LSTM cell described in Figure 4.\n",
        "\n",
        "**Instructions**:\n",
        "1. Concatenate the hidden state $a^{\\langle t-1 \\rangle}$ and input $x^{\\langle t \\rangle}$ into a single matrix:  \n",
        "\n",
        "$$concat = \\begin{bmatrix} a^{\\langle t-1 \\rangle} \\\\ x^{\\langle t \\rangle} \\end{bmatrix}$$  \n",
        "\n",
        "2. Compute all formulas (1 through 6) for the gates, hidden state, and cell state.\n",
        "3. Compute the prediction $y^{\\langle t \\rangle}$.\n"
      ]
    },
    {
      "cell_type": "code",
      "execution_count": null,
      "metadata": {
        "id": "JU3tUxvmELGJ"
      },
      "outputs": [],
      "source": [
        "\n",
        "def lstm_cell_forward(xt, a_prev, c_prev, parameters):\n",
        "    \"\"\"\n",
        "    Implement a single forward step of the LSTM-cell as described in Figure (4)\n",
        "\n",
        "    Arguments:\n",
        "    xt -- your input data at timestep \"t\", numpy array of shape (n_x, m).\n",
        "    a_prev -- Hidden state at timestep \"t-1\", numpy array of shape (n_a, m)\n",
        "    c_prev -- Memory state at timestep \"t-1\", numpy array of shape (n_a, m)\n",
        "    parameters -- python dictionary containing:\n",
        "                        Wf -- Weight matrix of the forget gate, numpy array of shape (n_a, n_a + n_x)\n",
        "                        bf -- Bias of the forget gate, numpy array of shape (n_a, 1)\n",
        "                        Wi -- Weight matrix of the update gate, numpy array of shape (n_a, n_a + n_x)\n",
        "                        bi -- Bias of the update gate, numpy array of shape (n_a, 1)\n",
        "                        Wc -- Weight matrix of the first \"tanh\", numpy array of shape (n_a, n_a + n_x)\n",
        "                        bc --  Bias of the first \"tanh\", numpy array of shape (n_a, 1)\n",
        "                        Wo -- Weight matrix of the output gate, numpy array of shape (n_a, n_a + n_x)\n",
        "                        bo --  Bias of the output gate, numpy array of shape (n_a, 1)\n",
        "                        Wy -- Weight matrix relating the hidden-state to the output, numpy array of shape (n_y, n_a)\n",
        "                        by -- Bias relating the hidden-state to the output, numpy array of shape (n_y, 1)\n",
        "                        \n",
        "    Returns:\n",
        "    a_next -- next hidden state, of shape (n_a, m)\n",
        "    c_next -- next memory state, of shape (n_a, m)\n",
        "    yt_pred -- prediction at timestep \"t\", numpy array of shape (n_y, m)\n",
        "    cache -- tuple of values needed for the backward pass, contains (a_next, c_next, a_prev, c_prev, xt, parameters)\n",
        "    \n",
        "    Note: ft/it/ot stand for the forget/update/output gates, cct stands for the candidate value (c tilde),\n",
        "          c stands for the cell state (memory)\n",
        "    \"\"\"\n",
        "\n",
        "    # Retrieve parameters from \"parameters\"\n",
        "    Wf = parameters[\"Wf\"] # forget gate weight\n",
        "    bf = parameters[\"bf\"]\n",
        "    Wi = parameters[\"Wi\"] # update gate weight (notice the variable name)\n",
        "    bi = parameters[\"bi\"] # (notice the variable name)\n",
        "    Wc = parameters[\"Wc\"] # candidate value weight\n",
        "    bc = parameters[\"bc\"]\n",
        "    Wo = parameters[\"Wo\"] # output gate weight\n",
        "    bo = parameters[\"bo\"]\n",
        "    Wy = parameters[\"Wy\"] # prediction weight\n",
        "    by = parameters[\"by\"]\n",
        "    \n",
        "    # Retrieve dimensions from shapes of xt and Wy\n",
        "    n_x, m = xt.shape\n",
        "    n_y, n_a = Wy.shape\n",
        "\n",
        " \n",
        "    # Concatenate a_prev and xt \n",
        "    concat = np.concatenate([a_prev,xt])\n",
        "\n",
        "    # Compute values for ft, it, cct, c_next, ot, a_next using the formulas given figure (4) )\n",
        "    ft = sigmoid(np.dot(Wf,concat) + bf) # Forget Gate\n",
        "    it = sigmoid(np.dot(Wi,concat) + bi) # Update Gate\n",
        "    cct = np.tanh(np.dot(Wc,concat) + bc) # Candidate Value\n",
        "    c_next = c_prev*ft + cct*it # C_t\n",
        "    ot = sigmoid(np.dot(Wo,concat) + bo) # output gate\n",
        "    a_next = ot*(np.tanh(c_next)) #a_t\n",
        "    \n",
        "    # Compute prediction of the LSTM cell \n",
        "    yt_pred = softmax(np.dot(Wy,a_next) + by)\n",
        "\n",
        "\n",
        "    # store values needed for backward propagation in cache\n",
        "    cache = (a_next, c_next, a_prev, c_prev, ft, it, cct, ot, xt, parameters)\n",
        "\n",
        "    return a_next, c_next, yt_pred, cache"
      ]
    },
    {
      "cell_type": "markdown",
      "metadata": {
        "id": "tb-4WWn4ELGQ"
      },
      "source": [
        "<a name='2-2'></a>\n",
        "### 2.2 - Forward Pass for LSTM\n",
        "\n",
        "Now that you have implemented one step of an LSTM, you can iterate this over it using a for loop to process a sequence of $T_x$ inputs. \n",
        "\n"
      ]
    },
    {
      "cell_type": "code",
      "execution_count": null,
      "metadata": {
        "id": "XMmJrPSdELGQ"
      },
      "outputs": [],
      "source": [
        "\n",
        "def lstm_forward(x, a0, parameters):\n",
        "    \"\"\"\n",
        "    Implement the forward propagation of the recurrent neural network using an LSTM-cell described in Figure (4).\n",
        "\n",
        "    Arguments:\n",
        "    x -- Input data for every time-step, of shape (n_x, m, T_x).\n",
        "    a0 -- Initial hidden state, of shape (n_a, m)\n",
        "    parameters -- python dictionary containing:\n",
        "                        Wf -- Weight matrix of the forget gate, numpy array of shape (n_a, n_a + n_x)\n",
        "                        bf -- Bias of the forget gate, numpy array of shape (n_a, 1)\n",
        "                        Wi -- Weight matrix of the update gate, numpy array of shape (n_a, n_a + n_x)\n",
        "                        bi -- Bias of the update gate, numpy array of shape (n_a, 1)\n",
        "                        Wc -- Weight matrix of the first \"tanh\", numpy array of shape (n_a, n_a + n_x)\n",
        "                        bc -- Bias of the first \"tanh\", numpy array of shape (n_a, 1)\n",
        "                        Wo -- Weight matrix of the output gate, numpy array of shape (n_a, n_a + n_x)\n",
        "                        bo -- Bias of the output gate, numpy array of shape (n_a, 1)\n",
        "                        Wy -- Weight matrix relating the hidden-state to the output, numpy array of shape (n_y, n_a)\n",
        "                        by -- Bias relating the hidden-state to the output, numpy array of shape (n_y, 1)\n",
        "                        \n",
        "    Returns:\n",
        "    a -- Hidden states for every time-step, numpy array of shape (n_a, m, T_x)\n",
        "    y -- Predictions for every time-step, numpy array of shape (n_y, m, T_x)\n",
        "    c -- The value of the cell state, numpy array of shape (n_a, m, T_x)\n",
        "    caches -- tuple of values needed for the backward pass, contains (list of all the caches, x)\n",
        "    \"\"\"\n",
        "\n",
        "    # Initialize \"caches\", which will track the list of all the caches\n",
        "    caches = []\n",
        "    \n",
        "    \n",
        "    Wy = parameters['Wy'] # saving parameters['Wy'] in a local variable in case students use Wy instead of parameters['Wy']\n",
        "    # Retrieve dimensions from shapes of x and parameters['Wy'] \n",
        "    n_x, m, T_x = x.shape\n",
        "    n_y, n_a = parameters['Wy'].shape\n",
        "    \n",
        "    # initialize \"a\", \"c\" and \"y\" with zeros\n",
        "    a = np.zeros((n_a,m,T_x))\n",
        "    c = np.zeros((n_a,m,T_x))\n",
        "    y = np.zeros((n_y,m,T_x))\n",
        "    \n",
        "    # Initialize a_next and c_next \n",
        "    a_next = a0\n",
        "    c_next = np.zeros((n_a,m))\n",
        "    \n",
        "    # loop over all time-steps\n",
        "    for t in range(T_x):\n",
        "        # Get the 2D slice 'xt' from the 3D input 'x' at time step 't'\n",
        "        xt = x[:,:,t]\n",
        "        # Update next hidden state, next memory state, compute the prediction, get the cache \n",
        "        a_next, c_next, yt, cache = lstm_cell_forward(xt, a_next, c_next, parameters)\n",
        "        # Save the value of the new \"next\" hidden state in a \n",
        "        a[:,:,t] = a_next\n",
        "        # Save the value of the next cell stat\n",
        "        c[:,:,t]  = c_next\n",
        "        # Save the value of the prediction in y \n",
        "        y[:,:,t] = yt\n",
        "        # Append the cache into caches \n",
        "        caches.append(cache)\n",
        "        \n",
        "  \n",
        "    \n",
        "    # store values needed for backward propagation in cache\n",
        "    caches = (caches, x)\n",
        "\n",
        "    return a, y, c, caches"
      ]
    },
    {
      "cell_type": "markdown",
      "metadata": {
        "id": "hRg4ba60ELGW"
      },
      "source": [
        "<a name='3'></a>    \n",
        "## 3 - Backpropagation in Recurrent Neural Networks \n",
        "\n",
        "In modern deep learning frameworks, you only have to implement the forward pass, and the framework takes care of the backward pass, so most deep learning engineers do not need to bother with the details of the backward pass. If, however, you are an expert in calculus (or are just curious) and want to see the details of backprop in RNNs, you can work through this optional portion of the notebook. \n"
      ]
    },
    {
      "cell_type": "markdown",
      "metadata": {
        "id": "7TnuUyMPELGX"
      },
      "source": [
        "Note that this notebook does not implement the backward path from the Loss 'J' backwards to 'a'. This would have included the dense layer and softmax, which are a part of the forward path. This is assumed to be calculated elsewhere and the result passed to `rnn_backward` in 'da'. It is further assumed that loss has been adjusted for batch size (m) and division by the number of examples is not required here."
      ]
    },
    {
      "cell_type": "markdown",
      "metadata": {
        "id": "CYPUrRdXELGX"
      },
      "source": [
        "This section is optional and ungraded, because it's more difficult and has fewer details regarding its implementation. Note that this section only implements key elements of the full path! \n",
        "\n",
        "Onward, brave one: "
      ]
    },
    {
      "cell_type": "markdown",
      "metadata": {
        "id": "eN4Hc8P4ELGX"
      },
      "source": [
        "<a name='3-1'></a>    \n",
        "### 3.1 - Basic RNN  Backward Pass\n",
        "\n",
        "Begin by computing the backward pass for the basic RNN cell. Then, in the following sections, iterate through the cells.\n",
        "\n",
        " The RNN cell's backward pass. Just like in a fully-connected neural network, the derivative of the cost function $J$ backpropagates through the time steps of the RNN by following the chain rule from calculus. Internal to the cell, the chain rule is also used to calculate $(\\frac{\\partial J}{\\partial W_{ax}},\\frac{\\partial J}{\\partial W_{aa}},\\frac{\\partial J}{\\partial b})$ to update the parameters $(W_{ax}, W_{aa}, b_a)$. The operation can utilize the cached results from the forward path. </center></caption>"
      ]
    },
    {
      "cell_type": "markdown",
      "metadata": {
        "id": "nZb7R-V8ELGY"
      },
      "source": [
        "Recall from lecture that the shorthand for the partial derivative of cost relative to a variable is `dVariable`. For example, $\\frac{\\partial J}{\\partial W_{ax}}$ is $dW_{ax}$. This will be used throughout the remaining sections."
      ]
    },
    {
      "cell_type": "markdown",
      "metadata": {
        "id": "cyh9i4bFELGZ"
      },
      "source": [
        "\n",
        "<img src=\"images/rnn_cell_backward_3a_c.png\" style=\"width:800;height:500px;\"> <br>\n",
        "  \n",
        "\n",
        "$da_{next}$ is $\\frac{\\partial{J}}{\\partial a^{\\langle t \\rangle}}$ and includes loss from previous stages and current stage output logic. The addition shown in green will be part of your implementation of `rnn_backward`.  </center></caption>"
      ]
    },
    {
      "cell_type": "markdown",
      "metadata": {
        "id": "PeVJfrjkELGa"
      },
      "source": [
        "##### Equations\n",
        "To compute `rnn_cell_backward`, you can use the following equations. It's a good exercise to derive them by hand. Here, $*$ denotes element-wise multiplication while the absence of a symbol indicates matrix multiplication.\n",
        "\n",
        "\\begin{align}\n",
        "\\displaystyle a^{\\langle t \\rangle} &= \\tanh(W_{ax} x^{\\langle t \\rangle} + W_{aa} a^{\\langle t-1 \\rangle} + b_{a})\\tag{-} \\\\[8pt]\n",
        "\\displaystyle \\frac{\\partial \\tanh(x)} {\\partial x} &= 1 - \\tanh^2(x) \\tag{-} \\\\[8pt]\n",
        "\\displaystyle {dtanh} &= da_{next} * ( 1 - \\tanh^2(W_{ax}x^{\\langle t \\rangle}+W_{aa} a^{\\langle t-1 \\rangle} + b_{a})) \\tag{0} \\\\[8pt]\n",
        "\\displaystyle  {dW_{ax}} &= dtanh \\cdot x^{\\langle t \\rangle T}\\tag{1} \\\\[8pt]\n",
        "\\displaystyle dW_{aa} &= dtanh \\cdot a^{\\langle t-1 \\rangle T}\\tag{2} \\\\[8pt]\n",
        "\\displaystyle db_a& = \\sum_{batch}dtanh\\tag{3} \\\\[8pt]\n",
        "\\displaystyle dx^{\\langle t \\rangle} &= { W_{ax}}^T \\cdot dtanh\\tag{4} \\\\[8pt]\n",
        "\\displaystyle da_{prev} &= { W_{aa}}^T \\cdot dtanh\\tag{5}\n",
        "\\end{align}\n",
        "\n"
      ]
    },
    {
      "cell_type": "code",
      "execution_count": null,
      "metadata": {
        "id": "BmbWomYOELGb"
      },
      "outputs": [],
      "source": [
        "\n",
        "def rnn_cell_backward(da_next, cache):\n",
        "    \"\"\"\n",
        "    Implements the backward pass for the RNN-cell (single time-step).\n",
        "\n",
        "    Arguments:\n",
        "    da_next -- Gradient of loss with respect to next hidden state\n",
        "    cache -- python dictionary containing useful values (output of rnn_cell_forward())\n",
        "\n",
        "    Returns:\n",
        "    gradients -- python dictionary containing:\n",
        "                        dx -- Gradients of input data, of shape (n_x, m)\n",
        "                        da_prev -- Gradients of previous hidden state, of shape (n_a, m)\n",
        "                        dWax -- Gradients of input-to-hidden weights, of shape (n_a, n_x)\n",
        "                        dWaa -- Gradients of hidden-to-hidden weights, of shape (n_a, n_a)\n",
        "                        dba -- Gradients of bias vector, of shape (n_a, 1)\n",
        "    \"\"\"\n",
        "    \n",
        "    # Retrieve values from cache\n",
        "    (a_next, a_prev, xt, parameters) = cache\n",
        "    \n",
        "    # Retrieve values from parameters\n",
        "    Wax = parameters[\"Wax\"]\n",
        "    Waa = parameters[\"Waa\"]\n",
        "    Wya = parameters[\"Wya\"]\n",
        "    ba = parameters[\"ba\"]\n",
        "    by = parameters[\"by\"]\n",
        "\n",
        "   \n",
        "    # compute the gradient of dtanh term using a_next and da_next\n",
        "\n",
        "    # compute the gradient of the loss with respect to Wax \n",
        "    dxt = np.dot(Wax.T, dtanh) \n",
        "    dWax = np.dot(dtanh, xt.T)\n",
        "\n",
        "    # compute the gradient with respect to Waa \n",
        "    da_prev = np.dot(Waa.T, dtanh)\n",
        "    dWaa = np.dot(dtanh, a_prev.T)\n",
        "\n",
        "    # compute the gradient with respect to b \n",
        "    dba = np.sum(dtanh, axis = 1,keepdims=1)\n",
        "\n",
        "   \n",
        "    \n",
        "    # Store the gradients in a python dictionary\n",
        "    gradients = {\"dxt\": dxt, \"da_prev\": da_prev, \"dWax\": dWax, \"dWaa\": dWaa, \"dba\": dba}\n",
        "    \n",
        "    return gradients"
      ]
    },
    {
      "cell_type": "code",
      "execution_count": null,
      "metadata": {
        "id": "G38ecvUDELGg"
      },
      "outputs": [],
      "source": [
        "\n",
        "def rnn_backward(da, caches):\n",
        "    \"\"\"\n",
        "    Implement the backward pass for a RNN over an entire sequence of input data.\n",
        "\n",
        "    Arguments:\n",
        "    da -- Upstream gradients of all hidden states, of shape (n_a, m, T_x)\n",
        "    caches -- tuple containing information from the forward pass (rnn_forward)\n",
        "    \n",
        "    Returns:\n",
        "    gradients -- python dictionary containing:\n",
        "                        dx -- Gradient w.r.t. the input data, numpy-array of shape (n_x, m, T_x)\n",
        "                        da0 -- Gradient w.r.t the initial hidden state, numpy-array of shape (n_a, m)\n",
        "                        dWax -- Gradient w.r.t the input's weight matrix, numpy-array of shape (n_a, n_x)\n",
        "                        dWaa -- Gradient w.r.t the hidden state's weight matrix, numpy-arrayof shape (n_a, n_a)\n",
        "                        dba -- Gradient w.r.t the bias, of shape (n_a, 1)\n",
        "    \"\"\"\n",
        "        \n",
        "\n",
        "    \n",
        "    # Retrieve values from the first cache (t=1) of caches\n",
        "    (caches, x) = caches\n",
        "    (a1, a0, x1, parameters) = caches[0]\n",
        "    \n",
        "    # Retrieve dimensions from da's and x1's shapes \n",
        "    n_a, m, T_x = da.shape\n",
        "    n_x, m = x1.shape \n",
        "    \n",
        "    # initialize the gradients with the right sizes\n",
        "    dx = np.zeros((n_x, m, T_x))\n",
        "    dWax = np.zeros((n_a, n_x))\n",
        "    dWaa = np.zeros((n_a, n_a))\n",
        "    dba = np.zeros((n_a, 1))\n",
        "    da0 = np.zeros((n_a, m))\n",
        "    da_prevt = np.zeros((n_a, m))\n",
        "        \n",
        "    \n",
        "    # Loop through all the time steps\n",
        "    for t in reversed(range(T_x)):\n",
        "        # Compute gradients at time step t. Choose wisely the \"da_next\" and the \"cache\" to use in the backward propagation step. (≈1 line)\n",
        "        gradients = rnn_cell_backward(da[:,:,t] + da_prevt, caches[t])\n",
        "        # Retrieve derivatives from gradients (≈ 1 line)\n",
        "        dxt, da_prevt, dWaxt, dWaat, dbat = gradients[\"dxt\"], gradients[\"da_prev\"], gradients[\"dWax\"], gradients[\"dWaa\"], gradients[\"dba\"]\n",
        "        # Increment global derivatives w.r.t parameters by adding their derivative at time-step t (≈4 lines)\n",
        "        dx[:, :, t] = dxt\n",
        "        dWax += dWaxt\n",
        "        dWaa += dWaat\n",
        "        dba += dbat\n",
        "        \n",
        "    # Set da0 to the gradient of a which has been backpropagated through all time-steps (≈1 line) \n",
        "    da0 = da_prevt\n",
        "    \n",
        "\n",
        "    # Store the gradients in a python dictionary\n",
        "    gradients = {\"dx\": dx, \"da0\": da0, \"dWax\": dWax, \"dWaa\": dWaa,\"dba\": dba}\n",
        "    \n",
        "    return gradients"
      ]
    },
    {
      "cell_type": "code",
      "execution_count": null,
      "metadata": {
        "id": "oZXl_w5pELGj",
        "outputId": "e93413f8-ec07-4e2a-87a5-2d8c76f661f2"
      },
      "outputs": [
        {
          "name": "stdout",
          "output_type": "stream",
          "text": [
            "gradients[\"dx\"][1][2] = [-2.07101689 -0.59255627  0.02466855  0.01483317]\n",
            "gradients[\"dx\"].shape = (3, 10, 4)\n",
            "gradients[\"da0\"][2][3] = -0.31494237512664996\n",
            "gradients[\"da0\"].shape = (5, 10)\n",
            "gradients[\"dWax\"][3][1] = 11.264104496527777\n",
            "gradients[\"dWax\"].shape = (5, 3)\n",
            "gradients[\"dWaa\"][1][2] = 2.303333126579893\n",
            "gradients[\"dWaa\"].shape = (5, 5)\n",
            "gradients[\"dba\"][4] = [-0.74747722]\n",
            "gradients[\"dba\"].shape = (5, 1)\n"
          ]
        }
      ],
      "source": [
        "np.random.seed(1)\n",
        "x_tmp = np.random.randn(3,10,4)\n",
        "a0_tmp = np.random.randn(5,10)\n",
        "parameters_tmp = {}\n",
        "parameters_tmp['Wax'] = np.random.randn(5,3)\n",
        "parameters_tmp['Waa'] = np.random.randn(5,5)\n",
        "parameters_tmp['Wya'] = np.random.randn(2,5)\n",
        "parameters_tmp['ba'] = np.random.randn(5,1)\n",
        "parameters_tmp['by'] = np.random.randn(2,1)\n",
        "\n",
        "a_tmp, y_tmp, caches_tmp = rnn_forward(x_tmp, a0_tmp, parameters_tmp)\n",
        "da_tmp = np.random.randn(5, 10, 4)\n",
        "gradients_tmp = rnn_backward(da_tmp, caches_tmp)\n",
        "\n",
        "print(\"gradients[\\\"dx\\\"][1][2] =\", gradients_tmp[\"dx\"][1][2])\n",
        "print(\"gradients[\\\"dx\\\"].shape =\", gradients_tmp[\"dx\"].shape)\n",
        "print(\"gradients[\\\"da0\\\"][2][3] =\", gradients_tmp[\"da0\"][2][3])\n",
        "print(\"gradients[\\\"da0\\\"].shape =\", gradients_tmp[\"da0\"].shape)\n",
        "print(\"gradients[\\\"dWax\\\"][3][1] =\", gradients_tmp[\"dWax\"][3][1])\n",
        "print(\"gradients[\\\"dWax\\\"].shape =\", gradients_tmp[\"dWax\"].shape)\n",
        "print(\"gradients[\\\"dWaa\\\"][1][2] =\", gradients_tmp[\"dWaa\"][1][2])\n",
        "print(\"gradients[\\\"dWaa\\\"].shape =\", gradients_tmp[\"dWaa\"].shape)\n",
        "print(\"gradients[\\\"dba\\\"][4] =\", gradients_tmp[\"dba\"][4])\n",
        "print(\"gradients[\\\"dba\\\"].shape =\", gradients_tmp[\"dba\"].shape)"
      ]
    },
    {
      "cell_type": "markdown",
      "metadata": {
        "id": "L8N3p4gTELGm"
      },
      "source": [
        "<a name='3-2'></a>\n",
        "### 3.2 - LSTM Backward Pass"
      ]
    },
    {
      "cell_type": "markdown",
      "metadata": {
        "id": "QYZwnAEGELGo"
      },
      "source": [
        "#### 2. Gate Derivatives\n",
        "Note the location of the gate derivatives ($\\gamma$..) between the dense layer and the activation function (see graphic above). This is convenient for computing parameter derivatives in the next step. \n",
        "\\begin{align}\n",
        "d\\gamma_o^{\\langle t \\rangle} &= da_{next}*\\tanh(c_{next}) * \\Gamma_o^{\\langle t \\rangle}*\\left(1-\\Gamma_o^{\\langle t \\rangle}\\right)\\tag{7} \\\\[8pt]\n",
        "dp\\widetilde{c}^{\\langle t \\rangle} &= \\left(dc_{next}*\\Gamma_u^{\\langle t \\rangle}+ \\Gamma_o^{\\langle t \\rangle}* (1-\\tanh^2(c_{next})) * \\Gamma_u^{\\langle t \\rangle} * da_{next} \\right) * \\left(1-\\left(\\widetilde c^{\\langle t \\rangle}\\right)^2\\right) \\tag{8} \\\\[8pt]\n",
        "d\\gamma_u^{\\langle t \\rangle} &= \\left(dc_{next}*\\widetilde{c}^{\\langle t \\rangle} + \\Gamma_o^{\\langle t \\rangle}* (1-\\tanh^2(c_{next})) * \\widetilde{c}^{\\langle t \\rangle} * da_{next}\\right)*\\Gamma_u^{\\langle t \\rangle}*\\left(1-\\Gamma_u^{\\langle t \\rangle}\\right)\\tag{9} \\\\[8pt]\n",
        "d\\gamma_f^{\\langle t \\rangle} &= \\left(dc_{next}* c_{prev} + \\Gamma_o^{\\langle t \\rangle} * (1-\\tanh^2(c_{next})) * c_{prev} * da_{next}\\right)*\\Gamma_f^{\\langle t \\rangle}*\\left(1-\\Gamma_f^{\\langle t \\rangle}\\right)\\tag{10}\n",
        "\\end{align}\n",
        "\n",
        "#### 3. Parameter Derivatives \n",
        "\n",
        "$ dW_f = d\\gamma_f^{\\langle t \\rangle} \\begin{bmatrix} a_{prev} \\\\ x_t\\end{bmatrix}^T \\tag{11} $\n",
        "$ dW_u = d\\gamma_u^{\\langle t \\rangle} \\begin{bmatrix} a_{prev} \\\\ x_t\\end{bmatrix}^T \\tag{12} $\n",
        "$ dW_c = dp\\widetilde c^{\\langle t \\rangle} \\begin{bmatrix} a_{prev} \\\\ x_t\\end{bmatrix}^T \\tag{13} $\n",
        "$ dW_o = d\\gamma_o^{\\langle t \\rangle} \\begin{bmatrix} a_{prev} \\\\ x_t\\end{bmatrix}^T \\tag{14}$\n",
        "\n",
        "To calculate $db_f, db_u, db_c, db_o$ you just need to sum across all 'm' examples (axis= 1) on $d\\gamma_f^{\\langle t \\rangle}, d\\gamma_u^{\\langle t \\rangle}, dp\\widetilde c^{\\langle t \\rangle}, d\\gamma_o^{\\langle t \\rangle}$ respectively. Note that you should have the `keepdims = True` option.\n",
        "\n",
        "$\\displaystyle db_f = \\sum_{batch}d\\gamma_f^{\\langle t \\rangle}\\tag{15}$\n",
        "$\\displaystyle db_u = \\sum_{batch}d\\gamma_u^{\\langle t \\rangle}\\tag{16}$\n",
        "$\\displaystyle db_c = \\sum_{batch}d\\gamma_c^{\\langle t \\rangle}\\tag{17}$\n",
        "$\\displaystyle db_o = \\sum_{batch}d\\gamma_o^{\\langle t \\rangle}\\tag{18}$\n",
        "\n",
        "Finally, you will compute the derivative with respect to the previous hidden state, previous memory state, and input.\n",
        "\n",
        "$ da_{prev} = W_f^T d\\gamma_f^{\\langle t \\rangle} + W_u^T   d\\gamma_u^{\\langle t \\rangle}+ W_c^T dp\\widetilde c^{\\langle t \\rangle} + W_o^T d\\gamma_o^{\\langle t \\rangle} \\tag{19}$\n",
        "\n",
        "Here, to account for concatenation, the weights for equations 19 are the first n_a, (i.e. $W_f = W_f[:,:n_a]$ etc...)\n",
        "\n",
        "$ dc_{prev} = dc_{next}*\\Gamma_f^{\\langle t \\rangle} + \\Gamma_o^{\\langle t \\rangle} * (1- \\tanh^2(c_{next}))*\\Gamma_f^{\\langle t \\rangle}*da_{next} \\tag{20}$\n",
        "\n",
        "$ dx^{\\langle t \\rangle} = W_f^T d\\gamma_f^{\\langle t \\rangle} + W_u^T  d\\gamma_u^{\\langle t \\rangle}+ W_c^T dp\\widetilde c^{\\langle t \\rangle} + W_o^T d\\gamma_o^{\\langle t \\rangle}\\tag{21} $\n",
        "\n",
        "where the weights for equation 21 are from n_a to the end, (i.e. $W_f = W_f[:,n_a:]$ etc...)\n"
      ]
    },
    {
      "cell_type": "code",
      "execution_count": null,
      "metadata": {
        "id": "2C_nFC_qELGo"
      },
      "outputs": [],
      "source": [
        "\n",
        "\n",
        "def lstm_cell_backward(da_next, dc_next, cache):\n",
        "    \"\"\"\n",
        "    Implement the backward pass for the LSTM-cell (single time-step).\n",
        "\n",
        "    Arguments:\n",
        "    da_next -- Gradients of next hidden state, of shape (n_a, m)\n",
        "    dc_next -- Gradients of next cell state, of shape (n_a, m)\n",
        "    cache -- cache storing information from the forward pass\n",
        "\n",
        "    Returns:\n",
        "    gradients -- python dictionary containing:\n",
        "                        dxt -- Gradient of input data at time-step t, of shape (n_x, m)\n",
        "                        da_prev -- Gradient w.r.t. the previous hidden state, numpy array of shape (n_a, m)\n",
        "                        dc_prev -- Gradient w.r.t. the previous memory state, of shape (n_a, m, T_x)\n",
        "                        dWf -- Gradient w.r.t. the weight matrix of the forget gate, numpy array of shape (n_a, n_a + n_x)\n",
        "                        dWi -- Gradient w.r.t. the weight matrix of the update gate, numpy array of shape (n_a, n_a + n_x)\n",
        "                        dWc -- Gradient w.r.t. the weight matrix of the memory gate, numpy array of shape (n_a, n_a + n_x)\n",
        "                        dWo -- Gradient w.r.t. the weight matrix of the output gate, numpy array of shape (n_a, n_a + n_x)\n",
        "                        dbf -- Gradient w.r.t. biases of the forget gate, of shape (n_a, 1)\n",
        "                        dbi -- Gradient w.r.t. biases of the update gate, of shape (n_a, 1)\n",
        "                        dbc -- Gradient w.r.t. biases of the memory gate, of shape (n_a, 1)\n",
        "                        dbo -- Gradient w.r.t. biases of the output gate, of shape (n_a, 1)\n",
        "    \"\"\"\n",
        "\n",
        "    # Retrieve information from \"cache\"\n",
        "    (a_next, c_next, a_prev, c_prev, ft, it, cct, ot, xt, parameters) = cache\n",
        "    Wf=parameters_tmp['Wf'] \n",
        "    Wi=parameters_tmp['Wi'] \n",
        "    Wo=parameters_tmp['Wo'] \n",
        "    Wc=parameters_tmp['Wc'] \n",
        "\n",
        "    \n",
        "   \n",
        "    # Retrieve dimensions from xt's and a_next's shape \n",
        "    n_x, m = xt.shape\n",
        "    n_a, m = a_next.shape\n",
        "    \n",
        "    # Compute gates related derivatives, you can find their values can be found by looking carefully at equations (7) to (10) \n",
        "    dot = da_next * np.tanh(c_next) * ot * (1 - ot)\n",
        "    dcct = (da_next * ot * (1 - np.tanh(c_next) ** 2) + dc_next) * it * (1 - cct ** 2)\n",
        "    dit = (da_next * ot * (1 - np.tanh(c_next) ** 2) + dc_next) * cct * (1 - it) * it\n",
        "    dft = (da_next * ot * (1 - np.tanh(c_next) ** 2) + dc_next) * c_prev * ft * (1 - ft)\n",
        "\n",
        "    # Compute parameters related derivatives. Use equations (11)-(14) \n",
        "    \n",
        "    dWf = np.dot(dft, np.hstack([a_prev.T, xt.T]))\n",
        "    dWi = np.dot(dit, np.hstack([a_prev.T, xt.T]))\n",
        "    dWc = np.dot(dcct, np.hstack([a_prev.T, xt.T]))\n",
        "    dWo = np.dot(dot, np.hstack([a_prev.T, xt.T]))\n",
        "    dbf = np.sum(dft, axis=1, keepdims=True)\n",
        "    dbi = np.sum(dit, axis=1, keepdims=True)\n",
        "    dbc = np.sum(dcct, axis=1, keepdims=True)\n",
        "    dbo = np.sum(dot, axis=1, keepdims=True)\n",
        "\n",
        "    # Compute derivatives w.r.t previous hidden state, previous memory state and input. Use equations (15)-(17).     \n",
        "    da_prev = np.dot(Wf[:, :n_a].T, dft) + np.dot(Wc[:, :n_a].T, dcct) + np.dot(Wi[:, :n_a].T, dit) + np.dot(Wo[:, :n_a].T, dot)\n",
        "    dc_prev = (da_next * ot * (1 - np.tanh(c_next) ** 2) + dc_next) * ft\n",
        "    dxt = np.dot(Wf[:, n_a:].T, dft) + np.dot(Wc[:, n_a:].T, dcct) + np.dot(Wi[:, n_a:].T, dit) + np.dot(Wo[:, n_a:].T, dot)\n",
        "    \n",
        "    \n",
        "    \n",
        "    \n",
        "    # Save gradients in dictionary\n",
        "    gradients = {\"dxt\": dxt, \"da_prev\": da_prev, \"dc_prev\": dc_prev, \"dWf\": dWf,\"dbf\": dbf, \"dWi\": dWi,\"dbi\": dbi,\n",
        "                \"dWc\": dWc,\"dbc\": dbc, \"dWo\": dWo,\"dbo\": dbo}\n",
        "\n",
        "    return gradients"
      ]
    },
    {
      "cell_type": "code",
      "execution_count": null,
      "metadata": {
        "id": "pggjdThtELGs",
        "scrolled": false,
        "outputId": "e49e5327-0e28-49e9-8d9d-4e51cf108f8c"
      },
      "outputs": [
        {
          "name": "stdout",
          "output_type": "stream",
          "text": [
            "gradients[\"dxt\"][1][2] = 3.230559115109188\n",
            "gradients[\"dxt\"].shape = (3, 10)\n",
            "gradients[\"da_prev\"][2][3] = -0.06396214197109233\n",
            "gradients[\"da_prev\"].shape = (5, 10)\n",
            "gradients[\"dc_prev\"][2][3] = 0.7975220387970015\n",
            "gradients[\"dc_prev\"].shape = (5, 10)\n",
            "gradients[\"dWf\"][3][1] = -0.14795483816449675\n",
            "gradients[\"dWf\"].shape = (5, 8)\n",
            "gradients[\"dWi\"][1][2] = 1.0574980552259903\n",
            "gradients[\"dWi\"].shape = (5, 8)\n",
            "gradients[\"dWc\"][3][1] = 2.304562163687667\n",
            "gradients[\"dWc\"].shape = (5, 8)\n",
            "gradients[\"dWo\"][1][2] = 0.3313115952892109\n",
            "gradients[\"dWo\"].shape = (5, 8)\n",
            "gradients[\"dbf\"][4] = [0.18864637]\n",
            "gradients[\"dbf\"].shape = (5, 1)\n",
            "gradients[\"dbi\"][4] = [-0.40142491]\n",
            "gradients[\"dbi\"].shape = (5, 1)\n",
            "gradients[\"dbc\"][4] = [0.25587763]\n",
            "gradients[\"dbc\"].shape = (5, 1)\n",
            "gradients[\"dbo\"][4] = [0.13893342]\n",
            "gradients[\"dbo\"].shape = (5, 1)\n"
          ]
        }
      ],
      "source": [
        "np.random.seed(1)\n",
        "xt_tmp = np.random.randn(3,10)\n",
        "a_prev_tmp = np.random.randn(5,10)\n",
        "c_prev_tmp = np.random.randn(5,10)\n",
        "parameters_tmp = {}\n",
        "parameters_tmp['Wf'] = np.random.randn(5, 5+3)\n",
        "parameters_tmp['bf'] = np.random.randn(5,1)\n",
        "parameters_tmp['Wi'] = np.random.randn(5, 5+3)\n",
        "parameters_tmp['bi'] = np.random.randn(5,1)\n",
        "parameters_tmp['Wo'] = np.random.randn(5, 5+3)\n",
        "parameters_tmp['bo'] = np.random.randn(5,1)\n",
        "parameters_tmp['Wc'] = np.random.randn(5, 5+3)\n",
        "parameters_tmp['bc'] = np.random.randn(5,1)\n",
        "parameters_tmp['Wy'] = np.random.randn(2,5)\n",
        "parameters_tmp['by'] = np.random.randn(2,1)\n",
        "\n",
        "a_next_tmp, c_next_tmp, yt_tmp, cache_tmp = lstm_cell_forward(xt_tmp, a_prev_tmp, c_prev_tmp, parameters_tmp)\n",
        "\n",
        "da_next_tmp = np.random.randn(5,10)\n",
        "dc_next_tmp = np.random.randn(5,10)\n",
        "gradients_tmp = lstm_cell_backward(da_next_tmp, dc_next_tmp, cache_tmp)\n",
        "print(\"gradients[\\\"dxt\\\"][1][2] =\", gradients_tmp[\"dxt\"][1][2])\n",
        "print(\"gradients[\\\"dxt\\\"].shape =\", gradients_tmp[\"dxt\"].shape)\n",
        "print(\"gradients[\\\"da_prev\\\"][2][3] =\", gradients_tmp[\"da_prev\"][2][3])\n",
        "print(\"gradients[\\\"da_prev\\\"].shape =\", gradients_tmp[\"da_prev\"].shape)\n",
        "print(\"gradients[\\\"dc_prev\\\"][2][3] =\", gradients_tmp[\"dc_prev\"][2][3])\n",
        "print(\"gradients[\\\"dc_prev\\\"].shape =\", gradients_tmp[\"dc_prev\"].shape)\n",
        "print(\"gradients[\\\"dWf\\\"][3][1] =\", gradients_tmp[\"dWf\"][3][1])\n",
        "print(\"gradients[\\\"dWf\\\"].shape =\", gradients_tmp[\"dWf\"].shape)\n",
        "print(\"gradients[\\\"dWi\\\"][1][2] =\", gradients_tmp[\"dWi\"][1][2])\n",
        "print(\"gradients[\\\"dWi\\\"].shape =\", gradients_tmp[\"dWi\"].shape)\n",
        "print(\"gradients[\\\"dWc\\\"][3][1] =\", gradients_tmp[\"dWc\"][3][1])\n",
        "print(\"gradients[\\\"dWc\\\"].shape =\", gradients_tmp[\"dWc\"].shape)\n",
        "print(\"gradients[\\\"dWo\\\"][1][2] =\", gradients_tmp[\"dWo\"][1][2])\n",
        "print(\"gradients[\\\"dWo\\\"].shape =\", gradients_tmp[\"dWo\"].shape)\n",
        "print(\"gradients[\\\"dbf\\\"][4] =\", gradients_tmp[\"dbf\"][4])\n",
        "print(\"gradients[\\\"dbf\\\"].shape =\", gradients_tmp[\"dbf\"].shape)\n",
        "print(\"gradients[\\\"dbi\\\"][4] =\", gradients_tmp[\"dbi\"][4])\n",
        "print(\"gradients[\\\"dbi\\\"].shape =\", gradients_tmp[\"dbi\"].shape)\n",
        "print(\"gradients[\\\"dbc\\\"][4] =\", gradients_tmp[\"dbc\"][4])\n",
        "print(\"gradients[\\\"dbc\\\"].shape =\", gradients_tmp[\"dbc\"].shape)\n",
        "print(\"gradients[\\\"dbo\\\"][4] =\", gradients_tmp[\"dbo\"][4])\n",
        "print(\"gradients[\\\"dbo\\\"].shape =\", gradients_tmp[\"dbo\"].shape)"
      ]
    },
    {
      "cell_type": "markdown",
      "metadata": {
        "id": "PceNMxTDELGv"
      },
      "source": [
        "<a name='3-3'></a>\n",
        "### 3.3 Backward Pass through the LSTM RNN\n",
        "\n",
        "This part is very similar to the `rnn_backward` function you implemented above. You will first create variables of the same dimension as your return variables. You will then iterate over all the time steps starting from the end and call the one step function you implemented for LSTM at each iteration. You will then update the parameters by summing them individually. Finally return a dictionary with the new gradients. \n"
      ]
    },
    {
      "cell_type": "code",
      "execution_count": null,
      "metadata": {
        "id": "nK0kSO1yELGw"
      },
      "outputs": [],
      "source": [
        "\n",
        "def lstm_backward(da, caches):\n",
        "    \n",
        "    \"\"\"\n",
        "    Implement the backward pass for the RNN with LSTM-cell (over a whole sequence).\n",
        "\n",
        "    Arguments:\n",
        "    da -- Gradients w.r.t the hidden states, numpy-array of shape (n_a, m, T_x)\n",
        "    caches -- cache storing information from the forward pass (lstm_forward)\n",
        "\n",
        "    Returns:\n",
        "    gradients -- python dictionary containing:\n",
        "                        dx -- Gradient of inputs, of shape (n_x, m, T_x)\n",
        "                        da0 -- Gradient w.r.t. the previous hidden state, numpy array of shape (n_a, m)\n",
        "                        dWf -- Gradient w.r.t. the weight matrix of the forget gate, numpy array of shape (n_a, n_a + n_x)\n",
        "                        dWi -- Gradient w.r.t. the weight matrix of the update gate, numpy array of shape (n_a, n_a + n_x)\n",
        "                        dWc -- Gradient w.r.t. the weight matrix of the memory gate, numpy array of shape (n_a, n_a + n_x)\n",
        "                        dWo -- Gradient w.r.t. the weight matrix of the output gate, numpy array of shape (n_a, n_a + n_x)\n",
        "                        dbf -- Gradient w.r.t. biases of the forget gate, of shape (n_a, 1)\n",
        "                        dbi -- Gradient w.r.t. biases of the update gate, of shape (n_a, 1)\n",
        "                        dbc -- Gradient w.r.t. biases of the memory gate, of shape (n_a, 1)\n",
        "                        dbo -- Gradient w.r.t. biases of the output gate, of shape (n_a, 1)\n",
        "    \"\"\"\n",
        "\n",
        "    # Retrieve values from the first cache (t=1) of caches.\n",
        "    (caches, x) = caches\n",
        "    (a1, c1, a0, c0, f1, i1, cc1, o1, x1, parameters) = caches[0]\n",
        "    \n",
        "    \n",
        "    # Retrieve dimensions from da's and x1's shapes \n",
        "    n_a, m, T_x = da.shape\n",
        "    n_x, m = x1.shape\n",
        "    \n",
        "    # initialize the gradients with the right sizes \n",
        "    dx = np.zeros((n_x, m, T_x))\n",
        "    da0 = np.zeros((n_a, m))\n",
        "    da_prevt = np.zeros((n_a, m))\n",
        "    dc_prevt = np.zeros((n_a, m))\n",
        "    dWf = np.zeros((n_a, n_a + n_x))\n",
        "    dWi = np.zeros((n_a, n_a + n_x))\n",
        "    dWc = np.zeros((n_a, n_a + n_x))\n",
        "    dWo = np.zeros((n_a, n_a + n_x))\n",
        "    dbf = np.zeros((n_a, 1))\n",
        "    dbi = np.zeros((n_a, 1))\n",
        "    dbc = np.zeros((n_a, 1))\n",
        "    dbo = np.zeros((n_a, 1))\n",
        "    \n",
        "    # loop back over the whole sequence\n",
        "    for t in reversed(range(T_x)):\n",
        "        # Compute all gradients using lstm_cell_backward\n",
        "        gradients = lstm_cell_backward(da[:,:,t] + da_prevt, dc_prevt, caches[t])\n",
        "        # Store or add the gradient to the parameters' previous step's gradient\n",
        "        dx[:,:,t] = gradients[\"dxt\"]\n",
        "        dWf += gradients[\"dWf\"]\n",
        "        dWi += gradients[\"dWi\"]\n",
        "        dWc += gradients[\"dWc\"]\n",
        "        dWo += gradients[\"dWo\"]\n",
        "        dbf += gradients[\"dbf\"]\n",
        "        dbi += gradients[\"dbi\"]\n",
        "        dbc += gradients[\"dbc\"]\n",
        "        dbo += gradients[\"dbo\"]\n",
        "    # Set the first activation's gradient to the backpropagated gradient da_prev.\n",
        "    da0 = gradients[\"da_prev\"]\n",
        "    \n",
        "    \n",
        "    # Store the gradients in a python dictionary\n",
        "    gradients = {\"dx\": dx, \"da0\": da0, \"dWf\": dWf,\"dbf\": dbf, \"dWi\": dWi,\"dbi\": dbi,\n",
        "                \"dWc\": dWc,\"dbc\": dbc, \"dWo\": dWo,\"dbo\": dbo}\n",
        "    \n",
        "    return gradients"
      ]
    }
  ],
  "metadata": {
    "coursera": {
      "schema_names": [
        "DLSC5W1-A1"
      ]
    },
    "kernelspec": {
      "display_name": "Python 3",
      "language": "python",
      "name": "python3"
    },
    "language_info": {
      "codemirror_mode": {
        "name": "ipython",
        "version": 3
      },
      "file_extension": ".py",
      "mimetype": "text/x-python",
      "name": "python",
      "nbconvert_exporter": "python",
      "pygments_lexer": "ipython3",
      "version": "3.7.6"
    },
    "colab": {
      "provenance": []
    }
  },
  "nbformat": 4,
  "nbformat_minor": 0
}