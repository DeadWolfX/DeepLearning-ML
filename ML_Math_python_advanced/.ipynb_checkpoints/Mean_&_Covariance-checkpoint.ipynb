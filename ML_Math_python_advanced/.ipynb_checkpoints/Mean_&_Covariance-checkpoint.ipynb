{
  "cells": [
    {
      "cell_type": "markdown",
      "metadata": {
        "id": "Nj4WtCd5hlZh"
      },
      "source": [
        "# Mean/Covariance of a data set and effect of a linear transformation\n",
        "\n"
      ]
    },
    {
      "cell_type": "code",
      "execution_count": null,
      "metadata": {
        "nbgrader": {
          "grade": false,
          "grade_id": "cell-ba51e43914fcac0f",
          "locked": true,
          "schema_version": 3,
          "solution": false,
          "task": false
        },
        "id": "yZ6UZO7NhlZz"
      },
      "outputs": [],
      "source": [
        "\n",
        "import numpy as np\n",
        "import matplotlib\n",
        "matplotlib.use('Agg')\n",
        "import matplotlib.pyplot as plt\n",
        "matplotlib.style.use('fivethirtyeight')\n",
        "from sklearn.datasets import fetch_lfw_people, fetch_olivetti_faces\n",
        "import time\n",
        "import timeit"
      ]
    },
    {
      "cell_type": "code",
      "execution_count": null,
      "metadata": {
        "id": "jLb7Nj0nhlZ5",
        "outputId": "1910ff8b-f122-458b-d322-ff6696694e6d"
      },
      "outputs": [
        {
          "name": "stdout",
          "output_type": "stream",
          "text": [
            "Shape of the faces dataset: (400, 4096)\n",
            "400 data points\n"
          ]
        }
      ],
      "source": [
        "image_shape = (64, 64)\n",
        "# Load faces data\n",
        "dataset = fetch_olivetti_faces(data_home='./')\n",
        "faces = dataset.data\n",
        "\n",
        "print('Shape of the faces dataset: {}'.format(faces.shape))\n",
        "print('{} data points'.format(faces.shape[0]))"
      ]
    },
    {
      "cell_type": "code",
      "execution_count": null,
      "metadata": {
        "nbgrader": {
          "grade": false,
          "grade_id": "cell-5d4286bace914619",
          "locked": true,
          "schema_version": 3,
          "solution": false,
          "task": false
        },
        "id": "H3aXAFSehlaA"
      },
      "outputs": [],
      "source": [
        "\n",
        "from ipywidgets import interact"
      ]
    },
    {
      "cell_type": "code",
      "execution_count": null,
      "metadata": {
        "id": "Eoi8cC23hlaD"
      },
      "outputs": [],
      "source": [
        "def show_face(face):\n",
        "    plt.figure()\n",
        "    plt.imshow(face.reshape((64, 64)), cmap='gray')\n",
        "    plt.show()"
      ]
    },
    {
      "cell_type": "code",
      "execution_count": null,
      "metadata": {
        "colab": {
          "referenced_widgets": [
            "8a8ee987b39a4224b9e8f0a3be093fb1"
          ]
        },
        "id": "AszMqrtthlaI",
        "outputId": "f3712377-6525-4b8e-e125-115f049cccde"
      },
      "outputs": [
        {
          "data": {
            "application/vnd.jupyter.widget-view+json": {
              "model_id": "8a8ee987b39a4224b9e8f0a3be093fb1",
              "version_major": 2,
              "version_minor": 0
            },
            "text/plain": [
              "interactive(children=(IntSlider(value=0, description='n', max=399), Output()), _dom_classes=('widget-interact'…"
            ]
          },
          "metadata": {},
          "output_type": "display_data"
        }
      ],
      "source": [
        "@interact(n=(0, len(faces)-1))\n",
        "def display_faces(n=0):\n",
        "    plt.figure()\n",
        "    plt.imshow(faces[n].reshape((64, 64)), cmap='gray')\n",
        "    plt.show()"
      ]
    },
    {
      "cell_type": "markdown",
      "metadata": {
        "id": "48QRvCEMhlaO"
      },
      "source": [
        "## 1. Mean and Covariance of a Dataset"
      ]
    },
    {
      "cell_type": "code",
      "execution_count": null,
      "metadata": {
        "nbgrader": {
          "grade": false,
          "grade_id": "cell-728bc0ba59095b9d",
          "locked": false,
          "schema_version": 3,
          "solution": true,
          "task": false
        },
        "id": "IzTYOIkYhlaP"
      },
      "outputs": [],
      "source": [
        "def mean_naive(X):\n",
        "    \"Compute the mean for a dataset X nby iterating over the data points\"\n",
        "    # X is of size (D,N) where D is the dimensionality and N the number of data points\n",
        "    N, D = X.shape\n",
        "    mean = np.zeros(D)\n",
        "    for n in range(N):\n",
        "        mean += X[n, :]\n",
        "    mean = mean / N\n",
        "    return mean"
      ]
    },
    {
      "cell_type": "code",
      "execution_count": null,
      "metadata": {
        "nbgrader": {
          "grade": true,
          "grade_id": "cell-614e7065499b92ad",
          "locked": true,
          "points": 0,
          "schema_version": 3,
          "solution": false,
          "task": false
        },
        "id": "M9SK7IEAhlaR"
      },
      "outputs": [],
      "source": [
        "from numpy.testing import assert_allclose\n",
        "\n",
        "\n",
        "# Test case 1\n",
        "X = np.array([[0., 1., 1.], \n",
        "              [1., 2., 1.]])\n",
        "expected_mean = np.array([0.5, 1.5, 1.])\n",
        "assert_allclose(mean_naive(X), expected_mean, rtol=1e-5)\n",
        "\n",
        "# Test case 2\n",
        "X = np.array([[0., 1., 0.], \n",
        "              [2., 3., 1.]])\n",
        "expected_mean = np.array([1., 2., 0.5])\n",
        "assert_allclose(mean_naive(X), expected_mean, rtol=1e-5)\n",
        "\n",
        "# Test covariance is zero\n",
        "X = np.array([[0., 1.], \n",
        "              [0., 1.]])\n",
        "expected_mean = np.array([0., 1.])\n",
        "assert_allclose(mean_naive(X), expected_mean, rtol=1e-5)"
      ]
    },
    {
      "cell_type": "code",
      "execution_count": null,
      "metadata": {
        "nbgrader": {
          "grade": false,
          "grade_id": "cell-2e726e77148b84dc",
          "locked": false,
          "schema_version": 3,
          "solution": true,
          "task": false
        },
        "id": "4jrgePwjhlaT"
      },
      "outputs": [],
      "source": [
        "def mean(X):\n",
        "    \"Compute the mean for a dataset of size (D,N) where D is the dimension and N is the number of data points\"\n",
        "    # given a dataset of size (D, N), the mean should be an array of size (D,)\n",
        "    mean = np.mean(X, axis=0) \n",
        "    return mean"
      ]
    },
    {
      "cell_type": "code",
      "execution_count": null,
      "metadata": {
        "nbgrader": {
          "grade": true,
          "grade_id": "cell-5e92c4f560e0a5b2",
          "locked": true,
          "points": 1,
          "schema_version": 3,
          "solution": false,
          "task": false
        },
        "id": "ejd5DNKChlaU"
      },
      "outputs": [],
      "source": [
        "from numpy.testing import assert_allclose\n",
        "\n",
        "# Test case 1\n",
        "X = np.array([[0., 1., 1.], \n",
        "              [1., 2., 1.]])\n",
        "expected_mean = np.array([0.5, 1.5, 1.])\n",
        "assert_allclose(mean(X), expected_mean, rtol=1e-5)\n",
        "\n",
        "# Test case 2\n",
        "X = np.array([[0., 1., 0.], \n",
        "              [2., 3., 1.]])\n",
        "expected_mean = np.array([1., 2., 0.5])\n",
        "assert_allclose(mean(X), expected_mean, rtol=1e-5)\n",
        "\n",
        "# Test covariance is zero\n",
        "X = np.array([[0., 1.], \n",
        "              [0., 1.]])\n",
        "expected_mean = np.array([0., 1.])\n",
        "assert_allclose(mean(X), expected_mean, rtol=1e-5)\n",
        "\n"
      ]
    },
    {
      "cell_type": "code",
      "execution_count": null,
      "metadata": {
        "nbgrader": {
          "grade": false,
          "grade_id": "cell-5bd3777835b3016d",
          "locked": false,
          "schema_version": 3,
          "solution": true,
          "task": false
        },
        "id": "ex3lnH1chlaW"
      },
      "outputs": [],
      "source": [
        "def cov_naive(X):\n",
        "    \"\"\"Compute the covariance for a dataset of size (D,N) \n",
        "    where D is the dimension and N is the number of data points\"\"\"\n",
        "    # 1/N * \\sum (x_i - m)(x_i - m)^T (where m is the mean)\n",
        "    N, D = X.shape\n",
        "    covariance = np.zeros((D, D))\n",
        "    mat = np.zeros((N, D))\n",
        "    mean = mean_naive(X)\n",
        "    for i in range(N):\n",
        "        mat[i] = X[i,:] - mean\n",
        "    for i in range(D):\n",
        "        for j in range(D):\n",
        "            covariance[i, j] = covariance[i, j] + mat[:,i]@mat[:,j]\n",
        "    return covariance/N"
      ]
    },
    {
      "cell_type": "code",
      "execution_count": null,
      "metadata": {
        "nbgrader": {
          "grade": true,
          "grade_id": "cell-5552656e84b6ac65",
          "locked": true,
          "points": 0,
          "schema_version": 3,
          "solution": false,
          "task": false
        },
        "id": "3Bc8KVjPhlaX"
      },
      "outputs": [],
      "source": [
        "from numpy.testing import assert_allclose\n",
        "\n",
        "# Test case 1\n",
        "X = np.array([[0., 1.], \n",
        "              [1., 2.],\n",
        "     [0., 1.], \n",
        "     [1., 2.]])\n",
        "expected_cov = np.array(\n",
        "    [[0.25, 0.25],\n",
        "    [0.25, 0.25]])\n",
        "\n",
        "assert_allclose(cov_naive(X), expected_cov, rtol=1e-5)\n",
        "\n",
        "# Test case 2\n",
        "X = np.array([[0., 1.], \n",
        "              [2., 3.]])\n",
        "expected_cov = np.array(\n",
        "    [[1., 1.],\n",
        "    [1., 1.]])\n",
        "\n",
        "assert_allclose(cov_naive(X), expected_cov, rtol=1e-5)\n",
        "\n",
        "# Test covariance is zero\n",
        "X = np.array([[0., 1.], \n",
        "              [0., 1.],\n",
        "              [0., 1.]])\n",
        "expected_cov = np.zeros((2, 2))\n",
        "\n",
        "assert_allclose(cov_naive(X), expected_cov, rtol=1e-5)"
      ]
    },
    {
      "cell_type": "code",
      "execution_count": null,
      "metadata": {
        "nbgrader": {
          "grade": false,
          "grade_id": "cell-b8bc03c0194550b3",
          "locked": false,
          "schema_version": 3,
          "solution": true,
          "task": false
        },
        "id": "-6mlc1iihlaZ"
      },
      "outputs": [],
      "source": [
        "def cov(X):\n",
        "    \"Compute the covariance for a dataset\"\n",
        "   \n",
        "    D, N = X.shape\n",
        "    ###compute the covariance matrix\n",
        "    covariance_matrix = np.zeros((D, D))\n",
        "   \n",
        "    covariance_matrix = np.cov(X, rowvar=False, bias=True) \n",
        "    return covariance_matrix"
      ]
    },
    {
      "cell_type": "code",
      "execution_count": null,
      "metadata": {
        "nbgrader": {
          "grade": true,
          "grade_id": "cell-b8863e42cc6ca615",
          "locked": true,
          "points": 1,
          "schema_version": 3,
          "solution": false,
          "task": false
        },
        "id": "zESMZaR2hlaa"
      },
      "outputs": [],
      "source": [
        "from numpy.testing import assert_allclose\n",
        "\n",
        "# Test case 1\n",
        "X = np.array([[0., 1.], \n",
        "              [1., 2.],\n",
        "     [0., 1.], \n",
        "     [1., 2.]])\n",
        "expected_cov = np.array(\n",
        "    [[0.25, 0.25],\n",
        "    [0.25, 0.25]])\n",
        "\n",
        "assert_allclose(cov(X), expected_cov, rtol=1e-5)\n",
        "\n",
        "# Test case 2\n",
        "X = np.array([[0., 1.], \n",
        "              [2., 3.]])\n",
        "expected_cov = np.array(\n",
        "    [[1., 1.],\n",
        "    [1., 1.]])\n",
        "\n",
        "assert_allclose(cov(X), expected_cov, rtol=1e-5)\n",
        "\n",
        "# Test covariance is zero\n",
        "X = np.array([[0., 1.], \n",
        "              [0., 1.],\n",
        "              [0., 1.]])\n",
        "expected_cov = np.zeros((2, 2))\n",
        "\n",
        "assert_allclose(cov(X), expected_cov, rtol=1e-5)\n",
        "\n"
      ]
    },
    {
      "cell_type": "code",
      "execution_count": null,
      "metadata": {
        "id": "aj7fDNM-hlab"
      },
      "outputs": [],
      "source": [
        "def mean_face(faces):\n",
        "    return faces.mean(axis=1).reshape((64, 64))\n",
        "\n",
        "plt.imshow(mean_face(faces), cmap='gray');"
      ]
    },
    {
      "cell_type": "markdown",
      "metadata": {
        "id": "JJjhoZr3hlac"
      },
      "source": [
        "One of the advantage of writing vectorized code is speedup gained when working on larger dataset. Loops in Python\n",
        "are slow, and most of the time you want to utilise the fast native code provided by Numpy without explicitly using\n",
        "for loops. To put things into perspective, we can benchmark the two different implementation with the `%time` function\n",
        "in the following way:"
      ]
    },
    {
      "cell_type": "code",
      "execution_count": null,
      "metadata": {
        "id": "1y1CLdJDhlad",
        "outputId": "5fab5797-975f-4bc8-cffa-db70d6628b77"
      },
      "outputs": [
        {
          "name": "stdout",
          "output_type": "stream",
          "text": [
            "CPU times: user 1.06 ms, sys: 0 ns, total: 1.06 ms\n",
            "Wall time: 1.07 ms\n",
            "CPU times: user 362 µs, sys: 0 ns, total: 362 µs\n",
            "Wall time: 268 µs\n"
          ]
        }
      ],
      "source": [
        "# We have some HUUUGE data matrix which we want to compute its mean\n",
        "X = np.random.randn(1000, 20)\n",
        "# Benchmarking time for computing mean\n",
        "%time mean_naive(X)\n",
        "%time mean(X)\n",
        "pass"
      ]
    },
    {
      "cell_type": "code",
      "execution_count": null,
      "metadata": {
        "id": "bqtanPL8hlaf",
        "outputId": "624aec71-8661-4b4c-aed6-7473bfa51b19"
      },
      "outputs": [
        {
          "name": "stdout",
          "output_type": "stream",
          "text": [
            "CPU times: user 4.73 ms, sys: 0 ns, total: 4.73 ms\n",
            "Wall time: 3.97 ms\n",
            "CPU times: user 709 µs, sys: 0 ns, total: 709 µs\n",
            "Wall time: 609 µs\n"
          ]
        }
      ],
      "source": [
        "# Benchmarking time for computing covariance\n",
        "%time cov_naive(X)\n",
        "%time cov(X)\n",
        "pass"
      ]
    },
    {
      "cell_type": "markdown",
      "metadata": {
        "id": "wFEVMF-Shlag"
      },
      "source": [
        "## 2. Affine Transformation of Dataset\n",
        "In this week we are also going to verify a few properties about the mean and\n",
        "covariance of affine transformation of random variables.\n",
        "\n",
        "Consider a data matrix $X$ of size (N, D). We would like to know\n",
        "what is the covariance when we apply affine transformation $Ax_i + b$ for each datapoint $x_i$ in $X$. i.e.\n",
        "we would like to know what happens to the mean and covariance for the new dataset if we apply affine transformation."
      ]
    },
    {
      "cell_type": "code",
      "execution_count": null,
      "metadata": {
        "nbgrader": {
          "grade": false,
          "grade_id": "cell-7d7b94efbb31d292",
          "locked": false,
          "schema_version": 3,
          "solution": true,
          "task": false
        },
        "id": "TG6IesX8hlag"
      },
      "outputs": [],
      "source": [
        "def affine_mean(mean, A, b):\n",
        "    \"\"\"Compute the mean after affine transformation\n",
        "    Args:\n",
        "        x: ndarray, the mean vector\n",
        "        A, b: affine transformation applied to x\n",
        "    Returns:\n",
        "        mean vector after affine transformation\n",
        "    \"\"\"\n",
        "    affine_m = A @ mean + b \n",
        "    return affine_m"
      ]
    },
    {
      "cell_type": "code",
      "execution_count": null,
      "metadata": {
        "nbgrader": {
          "grade": false,
          "grade_id": "cell-dca2c9932c499a71",
          "locked": false,
          "schema_version": 3,
          "solution": true,
          "task": false
        },
        "id": "an3i5KZFhlah"
      },
      "outputs": [],
      "source": [
        "def affine_covariance(S, A, b):\n",
        "    \"\"\"Compute the covariance matrix after affine transformation\n",
        "    Args:\n",
        "        S: ndarray, the covariance matrix\n",
        "        A, b: affine transformation applied to each element in X        \n",
        "    Returns:\n",
        "        covariance matrix after the transformation\n",
        "    \"\"\"\n",
        "    affine_cov = A @ S @ A.T \n",
        "    return affine_cov"
      ]
    },
    {
      "cell_type": "code",
      "execution_count": null,
      "metadata": {
        "nbgrader": {
          "grade": true,
          "grade_id": "cell-16cbecd7814fc682",
          "locked": true,
          "points": 1,
          "schema_version": 3,
          "solution": false,
          "task": false
        },
        "id": "RjYXeIpVhlah"
      },
      "outputs": [],
      "source": [
        "from numpy.testing import assert_allclose\n",
        "\n",
        "A = np.array([[0, 1], [2, 3]])\n",
        "b = np.ones(2)\n",
        "m = np.full((2,), 2)\n",
        "S = np.eye(2)*2\n",
        "\n",
        "expected_affine_mean = np.array([ 3., 11.])\n",
        "expected_affine_cov = np.array(\n",
        "    [[ 2.,  6.],\n",
        "    [ 6., 26.]])\n",
        "\n",
        "assert_allclose(affine_mean(m, A, b), expected_affine_mean, rtol=1e-4)\n"
      ]
    },
    {
      "cell_type": "code",
      "execution_count": null,
      "metadata": {
        "nbgrader": {
          "grade": true,
          "grade_id": "cell-7cea45ab7c99c90a",
          "locked": true,
          "points": 1,
          "schema_version": 3,
          "solution": false,
          "task": false
        },
        "id": "xRQym6E-hlai"
      },
      "outputs": [],
      "source": [
        "from numpy.testing import assert_allclose\n",
        "\n",
        "A = np.array([[0, 1], [2, 3]])\n",
        "b = np.ones(2)\n",
        "m = np.full((2,), 2)\n",
        "S = np.eye(2)*2\n",
        "\n",
        "expected_affine_cov = np.array(\n",
        "    [[ 2.,  6.],\n",
        "    [ 6., 26.]])\n",
        "\n",
        "assert_allclose(affine_covariance(S, A, b), \n",
        "                expected_affine_cov, rtol=1e-4)\n",
        "\n"
      ]
    },
    {
      "cell_type": "code",
      "execution_count": null,
      "metadata": {
        "id": "FNrdqMsuhlak"
      },
      "outputs": [],
      "source": [
        "random = np.random.RandomState(42)\n",
        "A = random.randn(4,4)\n",
        "b = random.randn(4)"
      ]
    },
    {
      "cell_type": "code",
      "execution_count": null,
      "metadata": {
        "id": "gIEqmDtmhlal"
      },
      "outputs": [],
      "source": [
        "X = random.randn(100, 4)"
      ]
    },
    {
      "cell_type": "markdown",
      "metadata": {
        "id": "v71wCLHJhlam"
      },
      "source": [
        "Assuming that for some dataset $X$, the mean and covariance are $m$, $S$, and for the new dataset after affine transformation $X'$, the mean and covariance are $m'$ and $S'$, then we would have the following identity:\n",
        "\n",
        "$$m' = \\text{affine_mean}(m, A, b)$$\n",
        "\n",
        "$$S' = \\text{affine_covariance}(S, A, b)$$"
      ]
    },
    {
      "cell_type": "code",
      "execution_count": null,
      "metadata": {
        "id": "l_qX6wf0hlan"
      },
      "outputs": [],
      "source": [
        "X1 = ((A @ (X.T)).T + b)  # applying affine transformation once\n",
        "X2 = ((A @ (X1.T)).T + b) # twice"
      ]
    },
    {
      "cell_type": "markdown",
      "metadata": {
        "id": "HALP-8y1hlan"
      },
      "source": [
        "One very useful way to compare whether arrays are equal/similar is use the helper functions\n",
        "in `numpy.testing`.\n",
        "\n",
        "Check the Numpy [documentation](https://docs.scipy.org/doc/numpy-1.13.0/reference/routines.testing.html)\n",
        "for details.\n",
        "\n",
        "If you are interested in learning more about floating point arithmetic, here is a good [paper](http://citeseerx.ist.psu.edu/viewdoc/summary?doi=10.1.1.22.6768)."
      ]
    },
    {
      "cell_type": "code",
      "execution_count": null,
      "metadata": {
        "id": "KHl3ORHDhlao"
      },
      "outputs": [],
      "source": [
        "np.testing.assert_allclose(mean(X1), affine_mean(mean(X), A, b))\n",
        "np.testing.assert_allclose(cov(X1),  affine_covariance(cov(X), A, b))"
      ]
    },
    {
      "cell_type": "code",
      "execution_count": null,
      "metadata": {
        "id": "XBGsEaSahlap"
      },
      "outputs": [],
      "source": [
        "np.testing.assert_allclose(mean(X2), affine_mean(mean(X1), A, b))\n",
        "np.testing.assert_allclose(cov(X2),  affine_covariance(cov(X1), A, b))"
      ]
    }
  ],
  "metadata": {
    "coursera": {
      "course_slug": "mathematics-machine-learning-pca",
      "graded_item_id": "YoDq1",
      "launcher_item_id": "vCPZ0"
    },
    "interpreter": {
      "hash": "fa15421863e696996c586a7125639c86e606c31109b5cdd4c487ad3c1cbbc756"
    },
    "kernelspec": {
      "display_name": "Python 3",
      "language": "python",
      "name": "python3"
    },
    "language_info": {
      "codemirror_mode": {
        "name": "ipython",
        "version": 3
      },
      "file_extension": ".py",
      "mimetype": "text/x-python",
      "name": "python",
      "nbconvert_exporter": "python",
      "pygments_lexer": "ipython3",
      "version": "3.7.6"
    },
    "toc": {
      "base_numbering": 1,
      "nav_menu": {},
      "number_sections": true,
      "sideBar": true,
      "skip_h1_title": false,
      "title_cell": "Table of Contents",
      "title_sidebar": "Contents",
      "toc_cell": false,
      "toc_position": {},
      "toc_section_display": true,
      "toc_window_display": false
    },
    "colab": {
      "provenance": []
    }
  },
  "nbformat": 4,
  "nbformat_minor": 0
}